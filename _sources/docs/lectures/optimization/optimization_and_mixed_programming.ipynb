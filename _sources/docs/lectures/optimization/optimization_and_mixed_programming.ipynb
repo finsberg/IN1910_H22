{
 "cells": [
  {
   "cell_type": "markdown",
   "id": "051530d6",
   "metadata": {},
   "source": [
    "# Optimization and Mixed Programming\n",
    "\n",
    "In the previous lecture we started to discuss *optimization*, which is the process of trying to make our programs more efficient. Recall that you should not try to optimize your code as you are developing it for the first time, instead, first focus on getting a working solution, and make sure that is tidy. Put simply:\n",
    "1. First make it work\n",
    "2. Then make it elegant\n",
    "3. Then make it fast\n",
    "\n",
    "Also recall that when you start the process of making your code fast, it is important to *profile* your code, to identify the bottle-necks of your program, i.e., the actually slow parts. That way you can focus your valuable time on the parts of the code that actually matter, and leave the rest alone.\n",
    "\n",
    "In this lecture we will show example of how we can actually optimize a program. As discusses, optimization isn't always with a focus on making things faster, it could for example be to reduce the memory usage of a program. In this lecture however, we focus solely on speed.\n",
    "\n",
    "We will now go through and show examples of how different programs and algorithms can be made faster. These will only be some examples however, as optimization is a big and challenging topic. At the same time, optimization will always be problem-specific, so there is no universal general rules. The takeaway shouldn't be the specific examples we show, but more how we can think about the process of optimization as a structured approach.\n",
    "\n",
    "\n",
    "## Choosing a different Algorithm\n",
    "\n",
    "One major way to optimize a code is to choose a different way to solve the problem, i.e., a different algorithm altogether. Changing the entire algorithm can, depending on the code, be quite a drastic change and is referred to as a \"high level\" optimization."
   ]
  },
  {
   "cell_type": "code",
   "execution_count": 1,
   "id": "fa3444d3",
   "metadata": {},
   "outputs": [],
   "source": [
    "import numpy as np\n",
    "import matplotlib.pyplot as plt\n",
    "\n",
    "np.random.seed(12345)"
   ]
  },
  {
   "cell_type": "code",
   "execution_count": 2,
   "id": "0add0c2b",
   "metadata": {},
   "outputs": [],
   "source": [
    "%matplotlib inline\n",
    "plt.rcParams['figure.figsize'] = (12, 6)\n",
    "plt.rcParams['xtick.labelsize'] = 14\n",
    "plt.rcParams['ytick.labelsize'] = 14\n",
    "plt.rcParams['axes.titlesize'] = 16\n",
    "plt.rcParams['axes.labelsize'] = 16\n",
    "plt.rcParams['lines.linewidth'] = 2"
   ]
  },
  {
   "cell_type": "markdown",
   "id": "ab0f20d6",
   "metadata": {},
   "source": [
    "### Example: Sorting\n",
    "\n",
    "Say that we are writing data to read in data from sensors in some experimental setup and do analysis and visualization of these. After writing our code and verifying that it works, we think that it is impractically slow, and so we want to optimize it. Profiling shows that 40% of our programs time is consumed by sorting data. In our code, we have implemented this using a simple bubble sort algorithm."
   ]
  },
  {
   "cell_type": "code",
   "execution_count": 3,
   "id": "71be93bb",
   "metadata": {},
   "outputs": [],
   "source": [
    "def bubblesort(data):\n",
    "    \"\"\"Return copy of data sorted in increasing order.\"\"\"\n",
    "    sdata = data[:]\n",
    "    for end in reversed(range(len(sdata))):\n",
    "        for i in range(end):\n",
    "            if sdata[i] > sdata[i+1]:\n",
    "                sdata[i], sdata[i+1] = sdata[i+1], sdata[i]\n",
    "    return sdata"
   ]
  },
  {
   "cell_type": "markdown",
   "id": "b3927a56",
   "metadata": {},
   "source": [
    "Perhaps we could speed up our code by choosing a better sorting algorithm?\n",
    "\n",
    "In IN1910, we have analyzed sorting algorithms with algorithm analysis, and showed that bubble sort was a $\\mathcal{O}(n^2)$ algorithm, i.e., it scales quadratically with the length of the data to be sorted. For a code that does not do much sorting, this is probably not a major concern, for our example however, profiling shows that clearly, sorting is a big bottleneck.\n",
    "\n",
    "\n",
    "To improve and optimize our code, we can therefore choose to change to a different sorting algorithm altogether. A popular choice is the aptly named \"quicksort\" algorithm. We can look up some [pseudocode](https://en.wikipedia.org/wiki/Quicksort#Lomuto_partition_scheme) for the algorithm on Wikipedia for example, and write it out in Python. If you are not familiar with the quicksort algorithm from before, you don't need to understand it to get the coming points. But if you *want* to understand it, you can take the time to read a bit about it, and then watch the [AlgoRythmics video on quicksort](https://www.youtube.com/watch?v=ywWBy6J5gz8).\n",
    "\n",
    "Here is our implementation of quicksort, feel free to skip it."
   ]
  },
  {
   "cell_type": "code",
   "execution_count": 4,
   "id": "084ea22f",
   "metadata": {},
   "outputs": [],
   "source": [
    "def quicksort(data):\n",
    "    \"\"\"Return a copy of data sorted in increasing order.\"\"\"\n",
    "    sdata = data[:]\n",
    "    qsort(sdata, 0, len(data))\n",
    "    return sdata\n",
    "\n",
    "def qsort(data, low, high):\n",
    "    \"\"\"Recursively sort data[low:high] in place.\"\"\"\n",
    "    if high - low < 2:\n",
    "        # Single or no element, no sorting needed\n",
    "        return\n",
    "\n",
    "    pivot = partition(data, low, high)\n",
    "    qsort(data, low, pivot)\n",
    "    qsort(data, pivot+1, high)\n",
    "\n",
    "def partition(data, low, high):\n",
    "    \"\"\"Partition data[low:high]\"\"\"\n",
    "    pivot = data[high-1]\n",
    "    i = low - 1\n",
    "    for j in range(low, high-1):\n",
    "        if data[j] < pivot:\n",
    "            if i != j:\n",
    "                i = i + 1\n",
    "                data[i], data[j] = data[j], data[i]\n",
    "    i += 1\n",
    "    data[i], data[high-1] = data[high-1], data[i]\n",
    "    return i"
   ]
  },
  {
   "cell_type": "markdown",
   "id": "6372f593",
   "metadata": {},
   "source": [
    "The point here is not how quicksort works or how it is implemented, the goal is simply to show how we can change and algorithm to speed up a code.\n",
    "\n",
    "Before we move on, let us verify that both methods work. We sort some random numbers in-place, verifying that they become sorted."
   ]
  },
  {
   "cell_type": "code",
   "execution_count": 5,
   "id": "3ab98011",
   "metadata": {},
   "outputs": [],
   "source": [
    "numbers = np.random.randint(100, size=100)\n",
    "\n",
    "s = sorted(numbers)\n",
    "b = bubblesort(numbers)\n",
    "q = quicksort(numbers)\n",
    "\n",
    "\n",
    "assert np.all(s == b)\n",
    "assert np.all(s == q)\n",
    "assert np.all(b == q)"
   ]
  },
  {
   "cell_type": "markdown",
   "id": "56446bf3",
   "metadata": {},
   "source": [
    "Now, we have implemented quicksort as an alternative to bubble sort, which should have an average-case of $\\mathcal{O}(n\\log n)$, i.e., it should scale better than bubble sort. But is it actually better? Let us check if this is the case with some timing experiments.\n",
    "\n",
    "Let us take the time of both bubblesort and quicksort for lists of increasing size. We can do this with a for-loop, and then use `-o` to get the result of the timeit experiment as a variable. This variable will be a `TimeitResult` object, which has attributes like `best`, `average` and `worst`.\n",
    "\n",
    "Because we will be performing a large number of experiments, we force timeit to do a 10 experiments for each time, this isn't perfect, but it's good enough for now. We do this by specifying `-r 10 -n 1` which means performing 10 runs (experiments), with 1 loop each time."
   ]
  },
  {
   "cell_type": "code",
   "execution_count": 6,
   "id": "d3ebc86f",
   "metadata": {},
   "outputs": [
    {
     "name": "stdout",
     "output_type": "stream",
     "text": [
      "27.7 µs ± 1.46 µs per loop (mean ± std. dev. of 10 runs, 1 loop each)\n",
      "12.5 µs ± 1.72 µs per loop (mean ± std. dev. of 10 runs, 1 loop each)\n",
      "140 µs ± 29.2 µs per loop (mean ± std. dev. of 10 runs, 1 loop each)\n",
      "69.7 µs ± 1.49 µs per loop (mean ± std. dev. of 10 runs, 1 loop each)\n",
      "The slowest run took 11.66 times longer than the fastest. This could mean that an intermediate result is being cached.\n",
      "1.99 ms ± 602 µs per loop (mean ± std. dev. of 10 runs, 1 loop each)\n",
      "1.08 ms ± 6.08 µs per loop (mean ± std. dev. of 10 runs, 1 loop each)\n",
      "The slowest run took 18.07 times longer than the fastest. This could mean that an intermediate result is being cached.\n",
      "10.5 ms ± 3.3 ms per loop (mean ± std. dev. of 10 runs, 1 loop each)\n",
      "6.69 ms ± 13.9 µs per loop (mean ± std. dev. of 10 runs, 1 loop each)\n"
     ]
    },
    {
     "name": "stdout",
     "output_type": "stream",
     "text": [
      "The slowest run took 30.10 times longer than the fastest. This could mean that an intermediate result is being cached.\n",
      "38.7 ms ± 12.4 ms per loop (mean ± std. dev. of 10 runs, 1 loop each)\n"
     ]
    },
    {
     "name": "stdout",
     "output_type": "stream",
     "text": [
      "25.5 ms ± 227 µs per loop (mean ± std. dev. of 10 runs, 1 loop each)\n"
     ]
    },
    {
     "name": "stdout",
     "output_type": "stream",
     "text": [
      "The slowest run took 42.25 times longer than the fastest. This could mean that an intermediate result is being cached.\n",
      "125 ms ± 40.6 ms per loop (mean ± std. dev. of 10 runs, 1 loop each)\n"
     ]
    },
    {
     "name": "stdout",
     "output_type": "stream",
     "text": [
      "97.8 ms ± 290 µs per loop (mean ± std. dev. of 10 runs, 1 loop each)\n"
     ]
    },
    {
     "data": {
      "image/png": "[encoded data removed]",
      "text/plain": [
       "<Figure size 864x432 with 1 Axes>"
      ]
     },
     "metadata": {
      "filenames": {
       "image/png": "/__w/IN1910_H22/IN1910_H22/book/_build/jupyter_execute/docs/lectures/optimization/optimization_and_mixed_programming_10_5.png"
      },
      "needs_background": "light"
     },
     "output_type": "display_data"
    }
   ],
   "source": [
    "bs_times = []\n",
    "qs_times = []\n",
    "\n",
    "sizes = [10, 25, 100, 250, 500, 1000]\n",
    "\n",
    "for n in sizes:\n",
    "    numbers = np.random.randint(1000, size=n)\n",
    "    qs = %timeit -r 10 -n 1 -o quicksort(numbers)\n",
    "    qs_times.append(qs.average)\n",
    "\n",
    "    bs = %timeit -r 10 -n 1 -o bubblesort(numbers)\n",
    "    bs_times.append(bs.average)\n",
    "\n",
    "fig, ax = plt.subplots()\n",
    "ax.plot(sizes, bs_times, 'o--', label='Bubble Sort')\n",
    "ax.plot(sizes, qs_times, 'o--', label='Quick Sort')\n",
    "ax.set_xlabel('Length of list, n')\n",
    "ax.set_ylabel('Time to sort (s)')\n",
    "ax.legend()\n",
    "plt.show()"
   ]
  },
  {
   "cell_type": "markdown",
   "id": "51fc6d34",
   "metadata": {},
   "source": [
    "So we see that for $n$ less than 1000, our bubble sort actually beats our quicksort! If our code is only sorting lists that are $\\leq 1000$ elements long, then swapping bubble sort with quicksort in our code will actually make it slower! This emphasizes how important timing experiments can be sometimes.\n",
    "\n",
    "Let us see how this changes for larger lists:"
   ]
  },
  {
   "cell_type": "code",
   "execution_count": 7,
   "id": "d31cff1a",
   "metadata": {},
   "outputs": [],
   "source": [
    "import sys\n",
    "sys.setrecursionlimit(max(sys.getrecursionlimit(), 25000))"
   ]
  },
  {
   "cell_type": "code",
   "execution_count": 8,
   "id": "9118e144",
   "metadata": {},
   "outputs": [
    {
     "name": "stdout",
     "output_type": "stream",
     "text": [
      "skipping\n"
     ]
    }
   ],
   "source": [
    "%%script echo skipping\n",
    "# This code takes a long time to run\n",
    "large_sizes = [1000, 2000, 5000, 10000, 25000]\n",
    "\n",
    "for n in large_sizes:\n",
    "    numbers = np.random.randint(1000, size=n)\n",
    "    bs = %timeit -r 1 -n 1 -o bubblesort(numbers)\n",
    "    bs_times.append(bs.average)\n",
    "\n",
    "    qs = %timeit -r 1 -n 1 -o quicksort(numbers)\n",
    "    qs_times.append(qs.average)\n",
    "\n",
    "fig, ax = plt.subplots()\n",
    "ax.plot(sizes + large_sizes, bs_times, 'o--', label='Bubble Sort')\n",
    "ax.plot(sizes + large_sizes, qs_times, 'o--', label='Quick Sort')\n",
    "ax.set_xlabel('Length of list, n')\n",
    "ax.set_ylabel('Time to sort (s)')\n",
    "ax.legend()\n",
    "fig.savefig(\"../../figures/sorting_long.png\")"
   ]
  },
  {
   "cell_type": "markdown",
   "id": "18afbc90",
   "metadata": {},
   "source": [
    "```{figure} ../../figures/sorting_long.png\n",
    "---\n",
    "width: 600px\n",
    "name: sorting_long\n",
    "alt: sorting_long\n",
    "---\n",
    "```\n",
    "\n",
    "\n",
    "\n",
    "So for bigger lists, the quicksort algorithm scales *much better* than bubble sort. If we are sorting lists like these in our code, then swapping bubble sort with quicksort should give a considerable speed up. This is because quicksort's $\\mathcal{O}(n\\log n)$ scaling is close to linear, while bubble sorts quadratic $\\mathcal{O}(n^2)$ is simply unsustainable.\n",
    "\n",
    "\n",
    "An alternative to implementing our own quicksort is of course simply to use the built-in `sorted`, which does what we want. Or alternatively `np.sort`. Let us perform another experiment to see which is fastest. This time we add the `-q` flag to run timeit in \"quiet\"-mode."
   ]
  },
  {
   "cell_type": "code",
   "execution_count": 9,
   "id": "1dc77f6a",
   "metadata": {},
   "outputs": [
    {
     "data": {
      "image/png": "[encoded data removed]",
      "text/plain": [
       "<Figure size 864x432 with 1 Axes>"
      ]
     },
     "metadata": {
      "filenames": {
       "image/png": "/__w/IN1910_H22/IN1910_H22/book/_build/jupyter_execute/docs/lectures/optimization/optimization_and_mixed_programming_15_0.png"
      },
      "needs_background": "light"
     },
     "output_type": "display_data"
    }
   ],
   "source": [
    "sorting_functions = [bubblesort, quicksort, sorted, np.sort]\n",
    "times = [[], [], [], []]\n",
    "\n",
    "sizes = [10, 25, 100, 250, 500, 1000, 2500, 5000]\n",
    "\n",
    "for n in sizes:\n",
    "    numbers = np.random.randint(1000, size=n)\n",
    "\n",
    "    for i, sort in enumerate(sorting_functions):\n",
    "        tr = %timeit -q -r 1 -n 1 -o sort(numbers);\n",
    "        times[i].append(tr.average)\n",
    "\n",
    "for t in times:\n",
    "    plt.plot(sizes, t, 'o--')\n",
    "\n",
    "plt.xlabel('Length of list, n')\n",
    "plt.ylabel('Time to sort (s)')\n",
    "plt.legend(['bubblesort', 'quicksort', 'sorted', 'np.sort'])\n",
    "plt.show()"
   ]
  },
  {
   "cell_type": "markdown",
   "id": "92d1831a",
   "metadata": {},
   "source": [
    "So we see that the built-in sorting functions outperforms ours, at least for large numbers. This is often the case, because built-ins will often be optimized by other experts, people who might be better than us. However, it is important to note that built-ins don't *always* outperform us.\n",
    "\n",
    "We cannot see both built-ins, because they overlap. If we zoom in we can compare the two:"
   ]
  },
  {
   "cell_type": "code",
   "execution_count": 10,
   "id": "00d88fe4",
   "metadata": {},
   "outputs": [
    {
     "data": {
      "image/png": "[encoded data removed]",
      "text/plain": [
       "<Figure size 864x432 with 1 Axes>"
      ]
     },
     "metadata": {
      "filenames": {
       "image/png": "/__w/IN1910_H22/IN1910_H22/book/_build/jupyter_execute/docs/lectures/optimization/optimization_and_mixed_programming_17_0.png"
      },
      "needs_background": "light"
     },
     "output_type": "display_data"
    }
   ],
   "source": [
    "plt.plot(sizes, times[2], 'o--', color='C2')\n",
    "plt.plot(sizes, times[3], 'o--', color='C3')\n",
    "plt.legend(['sorted', 'np.sort'])\n",
    "plt.xlabel('Length of list, n')\n",
    "plt.ylabel('Time to sort (s)')\n",
    "plt.show()"
   ]
  },
  {
   "cell_type": "markdown",
   "id": "108dbc69",
   "metadata": {},
   "source": [
    "So if we are sorting large lists, then swapping our own bubblesort with `np.sort` looks like a good bet.\n",
    "\n",
    "### Takeaways from this example:\n",
    "\n",
    "* Choosing a different algorithm altogether can give a better scaling, and a very good run time\n",
    "* Which algorithm is best depends on the problem itself. Are you sorting small or large lists?\n",
    "* Using built-ins can be a better option than developing our own functions (but not always!)\n",
    "\n",
    "### Making a choice with weighted probabilities.\n",
    "\n",
    "As a demonstration of the last point. Let us look at something you need to do in Project 3, selecting an element from a list, but not uniformly, but with weighted probabilities.\n",
    "\n",
    "Say we have a list of objects that is $n$ long, and a vector $\\bar{p}$, where $p_i$ denotes the probability of picking element $i$ from the list. Then we know that $\\sum_i p_i = 1.$.\n",
    "\n",
    "If we want to pick an element from the list with probabilities $\\bar{p}$, we can do this with `np.random.choice`:"
   ]
  },
  {
   "cell_type": "code",
   "execution_count": 11,
   "id": "18ac3034",
   "metadata": {},
   "outputs": [
    {
     "name": "stdout",
     "output_type": "stream",
     "text": [
      "b\n"
     ]
    }
   ],
   "source": [
    "elements = ['a', 'b', 'c', 'd']\n",
    "p = (0.1, 0.55, 0.25, 0.1)\n",
    "\n",
    "print(np.random.choice(elements, p=p))"
   ]
  },
  {
   "cell_type": "markdown",
   "id": "621f6ca6",
   "metadata": {},
   "source": [
    "We can also make the same choice by picking a random number in the interval $[0, 1)$, and comparing it to the cumulative probability, as described in the project description:"
   ]
  },
  {
   "cell_type": "code",
   "execution_count": 12,
   "id": "6c792d2a",
   "metadata": {},
   "outputs": [],
   "source": [
    "cp = np.cumsum(p)\n",
    "\n",
    "def pick_element(elements, cp):\n",
    "    r = np.random.random()\n",
    "    for i, cpi in enumerate(cp):\n",
    "        if r < cpi:\n",
    "            return elements[i]"
   ]
  },
  {
   "cell_type": "code",
   "execution_count": 13,
   "id": "a18583d2",
   "metadata": {},
   "outputs": [
    {
     "name": "stdout",
     "output_type": "stream",
     "text": [
      "17.4 µs ± 111 ns per loop (mean ± std. dev. of 7 runs, 1,000 loops each)\n",
      "1.05 µs ± 69.1 ns per loop (mean ± std. dev. of 7 runs, 1,000 loops each)\n"
     ]
    }
   ],
   "source": [
    "%timeit -n 1000 np.random.choice(elements)\n",
    "%timeit -n 1000 pick_element(elements, cp)"
   ]
  },
  {
   "cell_type": "markdown",
   "id": "e19e9ead",
   "metadata": {},
   "source": [
    "While not a huge difference, using our own code instead of the built-in in this is more than 4 times faster. If the process of picking random elements is a major bottle-neck, this would mean replacing `np.random.choice` with our own function would reduce the total runtime by 75%.\n",
    "\n",
    "Perhaps we could go further and somehow vectorize `np.random.choice` to be faster than our solution again? Perhaps, but this would require more work. If we were looking for a quick and easy solution, then our simple function is the way to go.\n",
    "\n",
    "## Vectorization\n",
    "\n",
    "For our next example, let us look at *vectorization* with NumPy. This is a large category of problems that can speed up numerical Python code significantly, especially if you are solving partial differential equations.\n",
    "\n",
    "As an example, let us look at precisely that, a partial differential equation. As in the previous example, the problem itself is not the interesting part, and so if you don't understand the algorithm itself, that is not that important, the key point is understanding *how to make it faster*.\n",
    "\n",
    "We choose the 1D diffusion equation, which we derived from 1D uniform random walker last week. The equation itself is\n",
    "\n",
    "$$\\frac{\\partial u}{\\partial t} = D \\frac{\\partial^2 u}{\\partial x^2}.$$\n",
    "\n",
    "Let us write a simple function that solves this PDE and then optimize it. To optimize our function, we will need to have some *benchmark* we can use to time it.\n",
    "\n",
    "We decide on a Sawtooth function. Mathematically it can be written:\n",
    "$$u(x, 0) = \\frac{A}{2} - \\frac{A}{\\pi}\\sum_{i}^\\infty \\frac{\\sin(2\\pi kft)}{k}$$\n",
    "\n",
    "To generate it in our code however, we will use `scipy.signal.sawtooth`.\n",
    "\n",
    "To solve our problem we will also need to set some boundary conditions. We therefore decide that we will solve the pde for the interval $x\\in(0, 8\\pi)$. With the boundary conditions $u(0, t) = u(0, 0)$ and $u(8\\pi, t) = u(8\\pi, 0)$, meaning the two endpoints won't change.\n",
    "\n",
    "We can now plot out our initial condition in our benchmark."
   ]
  },
  {
   "cell_type": "code",
   "execution_count": 14,
   "id": "897a306b",
   "metadata": {},
   "outputs": [
    {
     "data": {
      "image/png": "[encoded data removed]",
      "text/plain": [
       "<Figure size 864x432 with 1 Axes>"
      ]
     },
     "metadata": {
      "filenames": {
       "image/png": "/__w/IN1910_H22/IN1910_H22/book/_build/jupyter_execute/docs/lectures/optimization/optimization_and_mixed_programming_24_0.png"
      },
      "needs_background": "light"
     },
     "output_type": "display_data"
    }
   ],
   "source": [
    "import scipy.signal\n",
    "\n",
    "dt = 0.0001\n",
    "\n",
    "x = np.linspace(0, 8*np.pi, 512)\n",
    "u0 = scipy.signal.sawtooth(x)\n",
    "\n",
    "plt.plot(x, u0)\n",
    "plt.show()"
   ]
  },
  {
   "cell_type": "markdown",
   "id": "5dec995a",
   "metadata": {},
   "source": [
    "Now we need to solve this equation over time. Replacing the derivatives with finite difference approximations gives:\n",
    "\n",
    "$$\\frac{u_{i, j+1} - u_{i, j}}{\\Delta t} = D \\frac{u_{i+1, j} - 2 u_{i, j} + u_{i-1, j}}{\\Delta x^2}.$$\n",
    "\n",
    "Which we can simplify to\n",
    "\n",
    "$$u_{i, j+1} = u_{i, j} + D\\frac{\\Delta t}{\\Delta x^2} \\big( u_{i+1, j} - 2 u_{i, j} + u_{i-1, j} \\big).$$\n",
    "\n",
    "To simplify our benchmark, let us say we pick $D$ and $\\Delta t$ so that $D \\Delta t/\\Delta x^2$ = 1/4. So we have\n",
    "\n",
    "$$u_{i, j+1} = u_{i, j} + 0.25\\big( u_{i+1, j} - 2 u_{i, j} + u_{i-1, j} \\big),$$\n",
    "and\n",
    "$$u_{i, j+1} = \\frac{u_{i+1, j} + 2 u_{i, j} + u_{i-1, j}}{4}.$$\n",
    "\n",
    "We can now write our solver function:"
   ]
  },
  {
   "cell_type": "code",
   "execution_count": 15,
   "id": "bd513bdc",
   "metadata": {},
   "outputs": [],
   "source": [
    "def diffuse_signal(u0, steps=1024):\n",
    "    \"\"\"Solve the diffusion equation forward in time.\n",
    "\n",
    "    Take a given signal in, and iterate forward in time\n",
    "    using the diffusion equation. Return an array of\n",
    "    the full solution.\n",
    "\n",
    "    Parameters\n",
    "    ----------\n",
    "    u0 : np.ndarray\n",
    "        The initial condition, u(x, 0)\n",
    "    steps : int, optional\n",
    "        The number of steps to take forward in time\n",
    "    \"\"\"\n",
    "    # Create empty matrix\n",
    "    N = len(u0)\n",
    "    u = np.empty((steps+1, N))\n",
    "\n",
    "\n",
    "    # Copy in initial condition\n",
    "    u[0, :] = u0\n",
    "\n",
    "    # Set boundaries\n",
    "    u[:, 0] = u[0, 0]\n",
    "    u[:, -1] = u[0, -1]\n",
    "\n",
    "    # Iterate forward in time\n",
    "    for i in range(steps):\n",
    "        for j in range(1, N-1):\n",
    "            u[i+1, j] = (u[i, j+1] + 2*u[i, j] + u[i, j-1])/4\n",
    "\n",
    "    return u"
   ]
  },
  {
   "cell_type": "markdown",
   "id": "45b1d1a6",
   "metadata": {},
   "source": [
    "Let us run the function on our Sawtooth pattern. Because the result $u(x, t)$ is a two-dimensional array, plotting out the signal over time is tricky, so instead we only plot out the last signal, $u(x, T)$."
   ]
  },
  {
   "cell_type": "code",
   "execution_count": 16,
   "id": "e6db7d9e",
   "metadata": {},
   "outputs": [
    {
     "data": {
      "image/png": "[encoded data removed]",
      "text/plain": [
       "<Figure size 864x432 with 1 Axes>"
      ]
     },
     "metadata": {
      "filenames": {
       "image/png": "/__w/IN1910_H22/IN1910_H22/book/_build/jupyter_execute/docs/lectures/optimization/optimization_and_mixed_programming_28_0.png"
      },
      "needs_background": "light"
     },
     "output_type": "display_data"
    }
   ],
   "source": [
    "u = diffuse_signal(u0)\n",
    "\n",
    "plt.plot(x, u[-1])\n",
    "plt.plot(x, u0, '--')\n",
    "plt.xlabel('x')\n",
    "plt.ylabel('u(x, T)')\n",
    "plt.title('Solutions at time 0 and time T')\n",
    "plt.show()"
   ]
  },
  {
   "cell_type": "markdown",
   "id": "1a12ae44",
   "metadata": {},
   "source": [
    "## Optimizing our function\n",
    "\n",
    "Now let us optimize our function. First we time our first implementation"
   ]
  },
  {
   "cell_type": "code",
   "execution_count": 17,
   "id": "d0aaa8a9",
   "metadata": {},
   "outputs": [
    {
     "name": "stdout",
     "output_type": "stream",
     "text": [
      "894 ms ± 0 ns per loop (mean ± std. dev. of 1 run, 1 loop each)\n"
     ]
    }
   ],
   "source": [
    "ref_run = %timeit -r 1 -n 1 -o y = diffuse_signal(x, 2048)\n",
    "t_ref = ref_run.best\n",
    "\n",
    "times = [t_ref]\n",
    "labels = ['python']"
   ]
  },
  {
   "cell_type": "markdown",
   "id": "9dd92869",
   "metadata": {},
   "source": [
    "So it takes about one second. We have purposely made our benchmark quite simple, so that it will be faster to time it. For an actual scientific application of our function, the run time might be hours, due to using smaller time steps and grid sizes for higher precision.\n",
    "\n",
    "If we profile our function with line profiler, we can see where we should focus our time"
   ]
  },
  {
   "cell_type": "code",
   "execution_count": 18,
   "id": "59279ead",
   "metadata": {},
   "outputs": [],
   "source": [
    "# Install line_profiler (conda install line_profiler)\n",
    "%load_ext line_profiler"
   ]
  },
  {
   "cell_type": "code",
   "execution_count": 19,
   "id": "5d7ddf28",
   "metadata": {},
   "outputs": [
    {
     "name": "stdout",
     "output_type": "stream",
     "text": [
      "skipping\n"
     ]
    }
   ],
   "source": [
    "%%script echo skipping\n",
    "%lprun -f diffuse_signal diffuse_signal(x, 2048)"
   ]
  },
  {
   "cell_type": "markdown",
   "id": "9e0ff750",
   "metadata": {},
   "source": [
    "```\n",
    "Total time: 1.74107 s\n",
    "File: <ipython-input-82-3a70541fd83b>\n",
    "Function: diffuse_signal at line 1\n",
    "\n",
    "Line #      Hits         Time  Per Hit   % Time  Line Contents\n",
    "==============================================================\n",
    "     1                                           def diffuse_signal(u0, steps=1024):\n",
    "     2                                               \"\"\"Solve the diffusion equation forward in time.\n",
    "     3\n",
    "     4                                               Take a given signal in, and iterate forward in time\n",
    "     5                                               using the diffusion equation. Return an array of\n",
    "     6                                               the full solution.\n",
    "     7\n",
    "     8                                               Parameters\n",
    "     9                                               ----------\n",
    "    10                                               u0 : np.ndarray\n",
    "    11                                                   The initial condition, u(x, 0)\n",
    "    12                                               steps : int, optional\n",
    "    13                                                   The number of steps to take forward in time\n",
    "    14                                               \"\"\"\n",
    "    15                                               # Create empty matrix\n",
    "    16         1         23.0     23.0      0.0      u = np.empty((steps+1, len(u0)))\n",
    "    17\n",
    "    18                                               # Copy in initial condition\n",
    "    19         1         31.0     31.0      0.0      u[0, :] = u0\n",
    "    20\n",
    "    21                                               # Set boundaries\n",
    "    22         1        532.0    532.0      0.0      u[:, 0] = u[0, 0]\n",
    "    23         1        213.0    213.0      0.0      u[:, -1] = u[0, -1]\n",
    "    24\n",
    "    25                                               # Iterate forward in time\n",
    "    26      2049        756.0      0.4      0.0      for i in range(steps):\n",
    "    27   1046528     362883.0      0.3     20.8          for j in range(1, len(u0)-1):\n",
    "    28   1044480    1376630.0      1.3     79.1              u[i+1, j] = (u[i, j+1] + 2*u[i, j] + u[i, j-1])/4\n",
    "    29\n",
    "    30         1          0.0      0.0      0.0      return u\n",
    "```\n",
    "\n",
    "\n",
    "We see that it the inner loop that spends most of the running time, with 79.1%, while the inner loop itself takes 20.8%. Combined, line 27 and 28 therefore takes a total of 99.9% of the running time! If we want to improve our function, this is definitely where we should focus on.\n",
    "\n",
    "\n",
    "Vectorizing with numpy means we avoid using loops, which saves time. It will also mean the computer can do several computations at once, which is where the huge speed-up comes into play.\n",
    "\n",
    "In this case it is quite easy to vectorize with numpy. We combine line 27 and 28 into a single line. Other than that, we change nothing. (We remove the docstring and comments for brevity)"
   ]
  },
  {
   "cell_type": "code",
   "execution_count": 20,
   "id": "aae40d97",
   "metadata": {},
   "outputs": [],
   "source": [
    "def diffuse_signal_numpy(u0, steps=1024):\n",
    "    \"\"\"Vectorized version of diffuse_signal\"\"\"\n",
    "    N = len(u0)\n",
    "    u = np.empty((steps+1, N))\n",
    "    u[0, :] = u0\n",
    "    u[:, 0] = u[0, 0]\n",
    "    u[:, -1] = u[0, -1]\n",
    "\n",
    "    for i in range(steps):\n",
    "        u[i+1, 1:-1] = (u[i, :-2] + 2*u[i, 1:-1] + u[i, 2:])/4\n",
    "\n",
    "    return u"
   ]
  },
  {
   "cell_type": "markdown",
   "id": "93c2595b",
   "metadata": {},
   "source": [
    "Let us time our vectorized function and compare it to our original one:"
   ]
  },
  {
   "cell_type": "code",
   "execution_count": 21,
   "id": "0e24155f",
   "metadata": {},
   "outputs": [
    {
     "name": "stdout",
     "output_type": "stream",
     "text": [
      "10.8 ms ± 117 µs per loop (mean ± std. dev. of 7 runs, 10 loops each)\n"
     ]
    }
   ],
   "source": [
    "np_r = %timeit -n 10 -o diffuse_signal_numpy(x, 2048)\n",
    "t_np = np_r.best\n",
    "\n",
    "times.append(t_np)\n",
    "labels.append('numpy')"
   ]
  },
  {
   "cell_type": "markdown",
   "id": "2d6673d0",
   "metadata": {},
   "source": [
    "So vectorizing the inner loop brings us from roughly 1 second, to roughly 10 milliseconds, that's quite a considerable speedup! Let us print out the exact speed up"
   ]
  },
  {
   "cell_type": "code",
   "execution_count": 22,
   "id": "89db0b13",
   "metadata": {},
   "outputs": [
    {
     "name": "stdout",
     "output_type": "stream",
     "text": [
      "Speedup:  83.75511853321636\n",
      "Running time: 1.2%\n"
     ]
    }
   ],
   "source": [
    "print(\"Speedup: \", t_ref/t_np)\n",
    "print(\"Running time: {:.1%}\".format(t_np/t_ref))"
   ]
  },
  {
   "cell_type": "markdown",
   "id": "77bf59f7",
   "metadata": {},
   "source": [
    "Meaning our vectorized code is 75 times faster! This means that the vectorized version uses 1.3% the time of the original. That is good speed up for very little investment.\n",
    "\n",
    "\n",
    "To emphasize how big the speedup is, let us plot it out as a bar-plot. Note that we use logarithmic axis:"
   ]
  },
  {
   "cell_type": "code",
   "execution_count": 23,
   "id": "09775def",
   "metadata": {},
   "outputs": [
    {
     "data": {
      "image/png": "[encoded data removed]",
      "text/plain": [
       "<Figure size 864x432 with 1 Axes>"
      ]
     },
     "metadata": {
      "filenames": {
       "image/png": "/__w/IN1910_H22/IN1910_H22/book/_build/jupyter_execute/docs/lectures/optimization/optimization_and_mixed_programming_41_0.png"
      },
      "needs_background": "light"
     },
     "output_type": "display_data"
    }
   ],
   "source": [
    "def plot_times():\n",
    "    ind = np.arange(len(times))\n",
    "    plt.bar(ind, times, log=True)\n",
    "    plt.xticks(ind + 0.3, labels, rotation=30)\n",
    "    plt.ylim(.1 * min(times), times[0])\n",
    "\n",
    "plot_times()"
   ]
  },
  {
   "cell_type": "markdown",
   "id": "41fa085e",
   "metadata": {},
   "source": [
    "### Why is NumPy vectorization so fast?\n",
    "\n",
    "When we run things vectorized in numpy, the actual computations are happening in C, because NumPy is written in C to give better speed. Using NumPy properly is therefore a good example of *mixed programming*, where we combine code written in different languages. The goal of mixed programming is to be able to write most of our code in a high-level language, where things are fairly straight forward and clear. But to keep the parts of the code that require speed to be kept in a lower-level language for speed.\n",
    "\n",
    "\n",
    "## Mixed Programming with Cython\n",
    "\n",
    "If we wrote the whole function in a low-level language with C++, it would probably be a lot faster than with numpy vectorization. But as you have experienced, working in a low-level language is slightly tricky. While you might be able to write the solver function itself, the rest of the code would be tricky. Say for instance you want to plot your function out, then you would need to write your results to a file, then load that file into Python, and then plot it.\n",
    "\n",
    "With mixed programming, the goal is to write only the parts that need to be fast in low-level code, and then *use* it from your high level code. With Python and C/C++, there are many tools developed to make this process easier. With some of these, you write actual C/C++ code first, and then you *wrap it* in Python. Meaning you find ways to call the C/C++ functions from Python. Tools that do this are for example *swig* and *PyBind*.\n",
    "\n",
    "Another option is to write C-code into your Python script, and this is what we will focus on now. One tool to do this is [Cython](http://cython.org/). You can think of Cython like a C-compiler that also knows Python. After writing your Python script, you can compile it, which converts everything into C code that you can run from the rest of your Python code.\n",
    "\n",
    "To use Cython, you need to install it. You can do so through pip:\n",
    "* `pip3 install cython`\n",
    "or if you are using Anaconda:\n",
    "* `conda install cython`\n",
    "\n",
    "Note that the UiO Jupyterhub has Cython installed. So you can use it there if you are having trouble installing it locally.\n",
    "\n",
    "\n",
    "### Compiling Cython and Jupyter\n",
    "\n",
    "When writing Cython code, you will need to compile it before it can be run. You can read more about that in [this guide](https://cython.readthedocs.io/en/latest/src/quickstart/build.html). However, there is also an IPython extension which makes the whole process a lot easier, and we can use this extension inside Jupyter.\n",
    "\n",
    "To import the extension, you simply write:"
   ]
  },
  {
   "cell_type": "code",
   "execution_count": 24,
   "id": "33f7be90",
   "metadata": {},
   "outputs": [],
   "source": [
    "%load_ext Cython"
   ]
  },
  {
   "cell_type": "markdown",
   "id": "1a88b9ac",
   "metadata": {},
   "source": [
    "Now, if you write `%%cython` at the top of a cell where you define a function, that cell is automatically compiled to C code for us. Let us look at an example, a function to compute a triangle number, i.e., the sum\n",
    "$$T_n = \\sum_{i=1}^n i.$$\n",
    "First we make a normal python function that does this:"
   ]
  },
  {
   "cell_type": "code",
   "execution_count": 25,
   "id": "c1fd4107",
   "metadata": {},
   "outputs": [],
   "source": [
    "def triangle(n):\n",
    "    total = 0\n",
    "    for i in range(1, n+1):\n",
    "        total += i\n",
    "    return total"
   ]
  },
  {
   "cell_type": "markdown",
   "id": "7cc4feaf",
   "metadata": {},
   "source": [
    "Next we use Cython to compile the same function for us:"
   ]
  },
  {
   "cell_type": "code",
   "execution_count": 26,
   "id": "7a013434",
   "metadata": {},
   "outputs": [],
   "source": [
    "%%cython\n",
    "\n",
    "def ctriangle(n):\n",
    "    total = 0\n",
    "    for i in range(1, n+1):\n",
    "        total += i\n",
    "    return total"
   ]
  },
  {
   "cell_type": "markdown",
   "id": "f3d2d001",
   "metadata": {},
   "source": [
    "Let us compare them based on speed:"
   ]
  },
  {
   "cell_type": "code",
   "execution_count": 27,
   "id": "af65b41f",
   "metadata": {},
   "outputs": [
    {
     "name": "stdout",
     "output_type": "stream",
     "text": [
      "39.1 µs ± 464 ns per loop (mean ± std. dev. of 7 runs, 1,000 loops each)\n"
     ]
    }
   ],
   "source": [
    "%timeit -n 1000 triangle(1000)"
   ]
  },
  {
   "cell_type": "code",
   "execution_count": 28,
   "id": "bc773f66",
   "metadata": {},
   "outputs": [
    {
     "name": "stdout",
     "output_type": "stream",
     "text": [
      "29.7 µs ± 378 ns per loop (mean ± std. dev. of 7 runs, 1,000 loops each)\n"
     ]
    }
   ],
   "source": [
    "%timeit -n 1000 ctriangle(1000)"
   ]
  },
  {
   "cell_type": "markdown",
   "id": "04599eb5",
   "metadata": {},
   "source": [
    "So we see that simply writing `%%cython` lets us compile our Python code, making it about twice as fast.\n",
    "\n",
    "However, the main goal of Cython isn't to simply compile Python code, but to write C-like code inside Python. This allows the Cython compiler to optimize things for us. The main thing we need to do to optimize Cython code is to inform it about the types of our variables. We therefore go from the dynamic typing of Python, to a more C++-like typing:"
   ]
  },
  {
   "cell_type": "code",
   "execution_count": 29,
   "id": "ee6d9d2b",
   "metadata": {},
   "outputs": [],
   "source": [
    "%%cython\n",
    "\n",
    "def ctriangle_v2(int n):\n",
    "    cdef int i\n",
    "    cdef int total = 0\n",
    "    for i in range(1, n+1):\n",
    "        total += i\n",
    "    return total"
   ]
  },
  {
   "cell_type": "markdown",
   "id": "e5a509a1",
   "metadata": {},
   "source": [
    "Here we have changed our original function to specify that `n`, `i` and `total` are integer variables. We have done this with the keyword `cdef` to define C variables. The most important part here is that we have defined the loop variable `i` to be an integer, this lets Cython optimize the loop to be a much more efficient C-loop."
   ]
  },
  {
   "cell_type": "code",
   "execution_count": 30,
   "id": "7ba60bd8",
   "metadata": {},
   "outputs": [
    {
     "name": "stdout",
     "output_type": "stream",
     "text": [
      "741 ns ± 51.2 ns per loop (mean ± std. dev. of 7 runs, 1,000 loops each)\n"
     ]
    }
   ],
   "source": [
    "%timeit -n 1000 ctriangle_v2(1000)"
   ]
  },
  {
   "cell_type": "markdown",
   "id": "f0f122be",
   "metadata": {},
   "source": [
    "So simply compiling our pure python code with Cython gave us a speedup of around 2 (twice as fast), but when declaring the variable types in addition, we get an additional factor of 60! This means our function is a total of 120 times faster, more than two order of magnitude.\n",
    "\n",
    "\n",
    "When compiling with Cython, the goal is to get the compiler to make efficient C code, which it needs some help to do. Luckily, the compiler can actually tell us where it needs help. If you run Cython with `%%cython -a`, it *annotates* your code. You can a write out where lines that it found hard to optimize har highlighted in yellow:"
   ]
  },
  {
   "cell_type": "code",
   "execution_count": 31,
   "id": "5d4a2de5",
   "metadata": {},
   "outputs": [
    {
     "data": {
      "text/html": [
       "<!DOCTYPE html>\n",
       "<!-- Generated by Cython 0.29.30 -->\n",
       "<html>\n",
       "<head>\n",
       "    <meta http-equiv=\"Content-Type\" content=\"text/html; charset=utf-8\" />\n",
       "    <title>Cython: _cython_magic_1456cd28ea1a34953fdebcb62d432400.pyx</title>\n",
       "    <style type=\"text/css\">\n",
       "\n",
       "body.cython { font-family: courier; font-size: 12; }\n",
       "\n",
       ".cython.tag  {  }\n",
       ".cython.line { margin: 0em }\n",
       ".cython.code { font-size: 9; color: #444444; display: none; margin: 0px 0px 0px 8px; border-left: 8px none; }\n",
       "\n",
       ".cython.line .run { background-color: #B0FFB0; }\n",
       ".cython.line .mis { background-color: #FFB0B0; }\n",
       ".cython.code.run  { border-left: 8px solid #B0FFB0; }\n",
       ".cython.code.mis  { border-left: 8px solid #FFB0B0; }\n",
       "\n",
       ".cython.code .py_c_api  { color: red; }\n",
       ".cython.code .py_macro_api  { color: #FF7000; }\n",
       ".cython.code .pyx_c_api  { color: #FF3000; }\n",
       ".cython.code .pyx_macro_api  { color: #FF7000; }\n",
       ".cython.code .refnanny  { color: #FFA000; }\n",
       ".cython.code .trace  { color: #FFA000; }\n",
       ".cython.code .error_goto  { color: #FFA000; }\n",
       "\n",
       ".cython.code .coerce  { color: #008000; border: 1px dotted #008000 }\n",
       ".cython.code .py_attr { color: #FF0000; font-weight: bold; }\n",
       ".cython.code .c_attr  { color: #0000FF; }\n",
       ".cython.code .py_call { color: #FF0000; font-weight: bold; }\n",
       ".cython.code .c_call  { color: #0000FF; }\n",
       "\n",
       ".cython.score-0 {background-color: #FFFFff;}\n",
       ".cython.score-1 {background-color: #FFFFe7;}\n",
       ".cython.score-2 {background-color: #FFFFd4;}\n",
       ".cython.score-3 {background-color: #FFFFc4;}\n",
       ".cython.score-4 {background-color: #FFFFb6;}\n",
       ".cython.score-5 {background-color: #FFFFaa;}\n",
       ".cython.score-6 {background-color: #FFFF9f;}\n",
       ".cython.score-7 {background-color: #FFFF96;}\n",
       ".cython.score-8 {background-color: #FFFF8d;}\n",
       ".cython.score-9 {background-color: #FFFF86;}\n",
       ".cython.score-10 {background-color: #FFFF7f;}\n",
       ".cython.score-11 {background-color: #FFFF79;}\n",
       ".cython.score-12 {background-color: #FFFF73;}\n",
       ".cython.score-13 {background-color: #FFFF6e;}\n",
       ".cython.score-14 {background-color: #FFFF6a;}\n",
       ".cython.score-15 {background-color: #FFFF66;}\n",
       ".cython.score-16 {background-color: #FFFF62;}\n",
       ".cython.score-17 {background-color: #FFFF5e;}\n",
       ".cython.score-18 {background-color: #FFFF5b;}\n",
       ".cython.score-19 {background-color: #FFFF57;}\n",
       ".cython.score-20 {background-color: #FFFF55;}\n",
       ".cython.score-21 {background-color: #FFFF52;}\n",
       ".cython.score-22 {background-color: #FFFF4f;}\n",
       ".cython.score-23 {background-color: #FFFF4d;}\n",
       ".cython.score-24 {background-color: #FFFF4b;}\n",
       ".cython.score-25 {background-color: #FFFF48;}\n",
       ".cython.score-26 {background-color: #FFFF46;}\n",
       ".cython.score-27 {background-color: #FFFF44;}\n",
       ".cython.score-28 {background-color: #FFFF43;}\n",
       ".cython.score-29 {background-color: #FFFF41;}\n",
       ".cython.score-30 {background-color: #FFFF3f;}\n",
       ".cython.score-31 {background-color: #FFFF3e;}\n",
       ".cython.score-32 {background-color: #FFFF3c;}\n",
       ".cython.score-33 {background-color: #FFFF3b;}\n",
       ".cython.score-34 {background-color: #FFFF39;}\n",
       ".cython.score-35 {background-color: #FFFF38;}\n",
       ".cython.score-36 {background-color: #FFFF37;}\n",
       ".cython.score-37 {background-color: #FFFF36;}\n",
       ".cython.score-38 {background-color: #FFFF35;}\n",
       ".cython.score-39 {background-color: #FFFF34;}\n",
       ".cython.score-40 {background-color: #FFFF33;}\n",
       ".cython.score-41 {background-color: #FFFF32;}\n",
       ".cython.score-42 {background-color: #FFFF31;}\n",
       ".cython.score-43 {background-color: #FFFF30;}\n",
       ".cython.score-44 {background-color: #FFFF2f;}\n",
       ".cython.score-45 {background-color: #FFFF2e;}\n",
       ".cython.score-46 {background-color: #FFFF2d;}\n",
       ".cython.score-47 {background-color: #FFFF2c;}\n",
       ".cython.score-48 {background-color: #FFFF2b;}\n",
       ".cython.score-49 {background-color: #FFFF2b;}\n",
       ".cython.score-50 {background-color: #FFFF2a;}\n",
       ".cython.score-51 {background-color: #FFFF29;}\n",
       ".cython.score-52 {background-color: #FFFF29;}\n",
       ".cython.score-53 {background-color: #FFFF28;}\n",
       ".cython.score-54 {background-color: #FFFF27;}\n",
       ".cython.score-55 {background-color: #FFFF27;}\n",
       ".cython.score-56 {background-color: #FFFF26;}\n",
       ".cython.score-57 {background-color: #FFFF26;}\n",
       ".cython.score-58 {background-color: #FFFF25;}\n",
       ".cython.score-59 {background-color: #FFFF24;}\n",
       ".cython.score-60 {background-color: #FFFF24;}\n",
       ".cython.score-61 {background-color: #FFFF23;}\n",
       ".cython.score-62 {background-color: #FFFF23;}\n",
       ".cython.score-63 {background-color: #FFFF22;}\n",
       ".cython.score-64 {background-color: #FFFF22;}\n",
       ".cython.score-65 {background-color: #FFFF22;}\n",
       ".cython.score-66 {background-color: #FFFF21;}\n",
       ".cython.score-67 {background-color: #FFFF21;}\n",
       ".cython.score-68 {background-color: #FFFF20;}\n",
       ".cython.score-69 {background-color: #FFFF20;}\n",
       ".cython.score-70 {background-color: #FFFF1f;}\n",
       ".cython.score-71 {background-color: #FFFF1f;}\n",
       ".cython.score-72 {background-color: #FFFF1f;}\n",
       ".cython.score-73 {background-color: #FFFF1e;}\n",
       ".cython.score-74 {background-color: #FFFF1e;}\n",
       ".cython.score-75 {background-color: #FFFF1e;}\n",
       ".cython.score-76 {background-color: #FFFF1d;}\n",
       ".cython.score-77 {background-color: #FFFF1d;}\n",
       ".cython.score-78 {background-color: #FFFF1c;}\n",
       ".cython.score-79 {background-color: #FFFF1c;}\n",
       ".cython.score-80 {background-color: #FFFF1c;}\n",
       ".cython.score-81 {background-color: #FFFF1c;}\n",
       ".cython.score-82 {background-color: #FFFF1b;}\n",
       ".cython.score-83 {background-color: #FFFF1b;}\n",
       ".cython.score-84 {background-color: #FFFF1b;}\n",
       ".cython.score-85 {background-color: #FFFF1a;}\n",
       ".cython.score-86 {background-color: #FFFF1a;}\n",
       ".cython.score-87 {background-color: #FFFF1a;}\n",
       ".cython.score-88 {background-color: #FFFF1a;}\n",
       ".cython.score-89 {background-color: #FFFF19;}\n",
       ".cython.score-90 {background-color: #FFFF19;}\n",
       ".cython.score-91 {background-color: #FFFF19;}\n",
       ".cython.score-92 {background-color: #FFFF19;}\n",
       ".cython.score-93 {background-color: #FFFF18;}\n",
       ".cython.score-94 {background-color: #FFFF18;}\n",
       ".cython.score-95 {background-color: #FFFF18;}\n",
       ".cython.score-96 {background-color: #FFFF18;}\n",
       ".cython.score-97 {background-color: #FFFF17;}\n",
       ".cython.score-98 {background-color: #FFFF17;}\n",
       ".cython.score-99 {background-color: #FFFF17;}\n",
       ".cython.score-100 {background-color: #FFFF17;}\n",
       ".cython.score-101 {background-color: #FFFF16;}\n",
       ".cython.score-102 {background-color: #FFFF16;}\n",
       ".cython.score-103 {background-color: #FFFF16;}\n",
       ".cython.score-104 {background-color: #FFFF16;}\n",
       ".cython.score-105 {background-color: #FFFF16;}\n",
       ".cython.score-106 {background-color: #FFFF15;}\n",
       ".cython.score-107 {background-color: #FFFF15;}\n",
       ".cython.score-108 {background-color: #FFFF15;}\n",
       ".cython.score-109 {background-color: #FFFF15;}\n",
       ".cython.score-110 {background-color: #FFFF15;}\n",
       ".cython.score-111 {background-color: #FFFF15;}\n",
       ".cython.score-112 {background-color: #FFFF14;}\n",
       ".cython.score-113 {background-color: #FFFF14;}\n",
       ".cython.score-114 {background-color: #FFFF14;}\n",
       ".cython.score-115 {background-color: #FFFF14;}\n",
       ".cython.score-116 {background-color: #FFFF14;}\n",
       ".cython.score-117 {background-color: #FFFF14;}\n",
       ".cython.score-118 {background-color: #FFFF13;}\n",
       ".cython.score-119 {background-color: #FFFF13;}\n",
       ".cython.score-120 {background-color: #FFFF13;}\n",
       ".cython.score-121 {background-color: #FFFF13;}\n",
       ".cython.score-122 {background-color: #FFFF13;}\n",
       ".cython.score-123 {background-color: #FFFF13;}\n",
       ".cython.score-124 {background-color: #FFFF13;}\n",
       ".cython.score-125 {background-color: #FFFF12;}\n",
       ".cython.score-126 {background-color: #FFFF12;}\n",
       ".cython.score-127 {background-color: #FFFF12;}\n",
       ".cython.score-128 {background-color: #FFFF12;}\n",
       ".cython.score-129 {background-color: #FFFF12;}\n",
       ".cython.score-130 {background-color: #FFFF12;}\n",
       ".cython.score-131 {background-color: #FFFF12;}\n",
       ".cython.score-132 {background-color: #FFFF11;}\n",
       ".cython.score-133 {background-color: #FFFF11;}\n",
       ".cython.score-134 {background-color: #FFFF11;}\n",
       ".cython.score-135 {background-color: #FFFF11;}\n",
       ".cython.score-136 {background-color: #FFFF11;}\n",
       ".cython.score-137 {background-color: #FFFF11;}\n",
       ".cython.score-138 {background-color: #FFFF11;}\n",
       ".cython.score-139 {background-color: #FFFF11;}\n",
       ".cython.score-140 {background-color: #FFFF11;}\n",
       ".cython.score-141 {background-color: #FFFF10;}\n",
       ".cython.score-142 {background-color: #FFFF10;}\n",
       ".cython.score-143 {background-color: #FFFF10;}\n",
       ".cython.score-144 {background-color: #FFFF10;}\n",
       ".cython.score-145 {background-color: #FFFF10;}\n",
       ".cython.score-146 {background-color: #FFFF10;}\n",
       ".cython.score-147 {background-color: #FFFF10;}\n",
       ".cython.score-148 {background-color: #FFFF10;}\n",
       ".cython.score-149 {background-color: #FFFF10;}\n",
       ".cython.score-150 {background-color: #FFFF0f;}\n",
       ".cython.score-151 {background-color: #FFFF0f;}\n",
       ".cython.score-152 {background-color: #FFFF0f;}\n",
       ".cython.score-153 {background-color: #FFFF0f;}\n",
       ".cython.score-154 {background-color: #FFFF0f;}\n",
       ".cython.score-155 {background-color: #FFFF0f;}\n",
       ".cython.score-156 {background-color: #FFFF0f;}\n",
       ".cython.score-157 {background-color: #FFFF0f;}\n",
       ".cython.score-158 {background-color: #FFFF0f;}\n",
       ".cython.score-159 {background-color: #FFFF0f;}\n",
       ".cython.score-160 {background-color: #FFFF0f;}\n",
       ".cython.score-161 {background-color: #FFFF0e;}\n",
       ".cython.score-162 {background-color: #FFFF0e;}\n",
       ".cython.score-163 {background-color: #FFFF0e;}\n",
       ".cython.score-164 {background-color: #FFFF0e;}\n",
       ".cython.score-165 {background-color: #FFFF0e;}\n",
       ".cython.score-166 {background-color: #FFFF0e;}\n",
       ".cython.score-167 {background-color: #FFFF0e;}\n",
       ".cython.score-168 {background-color: #FFFF0e;}\n",
       ".cython.score-169 {background-color: #FFFF0e;}\n",
       ".cython.score-170 {background-color: #FFFF0e;}\n",
       ".cython.score-171 {background-color: #FFFF0e;}\n",
       ".cython.score-172 {background-color: #FFFF0e;}\n",
       ".cython.score-173 {background-color: #FFFF0d;}\n",
       ".cython.score-174 {background-color: #FFFF0d;}\n",
       ".cython.score-175 {background-color: #FFFF0d;}\n",
       ".cython.score-176 {background-color: #FFFF0d;}\n",
       ".cython.score-177 {background-color: #FFFF0d;}\n",
       ".cython.score-178 {background-color: #FFFF0d;}\n",
       ".cython.score-179 {background-color: #FFFF0d;}\n",
       ".cython.score-180 {background-color: #FFFF0d;}\n",
       ".cython.score-181 {background-color: #FFFF0d;}\n",
       ".cython.score-182 {background-color: #FFFF0d;}\n",
       ".cython.score-183 {background-color: #FFFF0d;}\n",
       ".cython.score-184 {background-color: #FFFF0d;}\n",
       ".cython.score-185 {background-color: #FFFF0d;}\n",
       ".cython.score-186 {background-color: #FFFF0d;}\n",
       ".cython.score-187 {background-color: #FFFF0c;}\n",
       ".cython.score-188 {background-color: #FFFF0c;}\n",
       ".cython.score-189 {background-color: #FFFF0c;}\n",
       ".cython.score-190 {background-color: #FFFF0c;}\n",
       ".cython.score-191 {background-color: #FFFF0c;}\n",
       ".cython.score-192 {background-color: #FFFF0c;}\n",
       ".cython.score-193 {background-color: #FFFF0c;}\n",
       ".cython.score-194 {background-color: #FFFF0c;}\n",
       ".cython.score-195 {background-color: #FFFF0c;}\n",
       ".cython.score-196 {background-color: #FFFF0c;}\n",
       ".cython.score-197 {background-color: #FFFF0c;}\n",
       ".cython.score-198 {background-color: #FFFF0c;}\n",
       ".cython.score-199 {background-color: #FFFF0c;}\n",
       ".cython.score-200 {background-color: #FFFF0c;}\n",
       ".cython.score-201 {background-color: #FFFF0c;}\n",
       ".cython.score-202 {background-color: #FFFF0c;}\n",
       ".cython.score-203 {background-color: #FFFF0b;}\n",
       ".cython.score-204 {background-color: #FFFF0b;}\n",
       ".cython.score-205 {background-color: #FFFF0b;}\n",
       ".cython.score-206 {background-color: #FFFF0b;}\n",
       ".cython.score-207 {background-color: #FFFF0b;}\n",
       ".cython.score-208 {background-color: #FFFF0b;}\n",
       ".cython.score-209 {background-color: #FFFF0b;}\n",
       ".cython.score-210 {background-color: #FFFF0b;}\n",
       ".cython.score-211 {background-color: #FFFF0b;}\n",
       ".cython.score-212 {background-color: #FFFF0b;}\n",
       ".cython.score-213 {background-color: #FFFF0b;}\n",
       ".cython.score-214 {background-color: #FFFF0b;}\n",
       ".cython.score-215 {background-color: #FFFF0b;}\n",
       ".cython.score-216 {background-color: #FFFF0b;}\n",
       ".cython.score-217 {background-color: #FFFF0b;}\n",
       ".cython.score-218 {background-color: #FFFF0b;}\n",
       ".cython.score-219 {background-color: #FFFF0b;}\n",
       ".cython.score-220 {background-color: #FFFF0b;}\n",
       ".cython.score-221 {background-color: #FFFF0b;}\n",
       ".cython.score-222 {background-color: #FFFF0a;}\n",
       ".cython.score-223 {background-color: #FFFF0a;}\n",
       ".cython.score-224 {background-color: #FFFF0a;}\n",
       ".cython.score-225 {background-color: #FFFF0a;}\n",
       ".cython.score-226 {background-color: #FFFF0a;}\n",
       ".cython.score-227 {background-color: #FFFF0a;}\n",
       ".cython.score-228 {background-color: #FFFF0a;}\n",
       ".cython.score-229 {background-color: #FFFF0a;}\n",
       ".cython.score-230 {background-color: #FFFF0a;}\n",
       ".cython.score-231 {background-color: #FFFF0a;}\n",
       ".cython.score-232 {background-color: #FFFF0a;}\n",
       ".cython.score-233 {background-color: #FFFF0a;}\n",
       ".cython.score-234 {background-color: #FFFF0a;}\n",
       ".cython.score-235 {background-color: #FFFF0a;}\n",
       ".cython.score-236 {background-color: #FFFF0a;}\n",
       ".cython.score-237 {background-color: #FFFF0a;}\n",
       ".cython.score-238 {background-color: #FFFF0a;}\n",
       ".cython.score-239 {background-color: #FFFF0a;}\n",
       ".cython.score-240 {background-color: #FFFF0a;}\n",
       ".cython.score-241 {background-color: #FFFF0a;}\n",
       ".cython.score-242 {background-color: #FFFF0a;}\n",
       ".cython.score-243 {background-color: #FFFF0a;}\n",
       ".cython.score-244 {background-color: #FFFF0a;}\n",
       ".cython.score-245 {background-color: #FFFF0a;}\n",
       ".cython.score-246 {background-color: #FFFF09;}\n",
       ".cython.score-247 {background-color: #FFFF09;}\n",
       ".cython.score-248 {background-color: #FFFF09;}\n",
       ".cython.score-249 {background-color: #FFFF09;}\n",
       ".cython.score-250 {background-color: #FFFF09;}\n",
       ".cython.score-251 {background-color: #FFFF09;}\n",
       ".cython.score-252 {background-color: #FFFF09;}\n",
       ".cython.score-253 {background-color: #FFFF09;}\n",
       ".cython.score-254 {background-color: #FFFF09;}\n",
       "pre { line-height: 125%; }\n",
       "td.linenos .normal { color: inherit; background-color: transparent; padding-left: 5px; padding-right: 5px; }\n",
       "span.linenos { color: inherit; background-color: transparent; padding-left: 5px; padding-right: 5px; }\n",
       "td.linenos .special { color: #000000; background-color: #ffffc0; padding-left: 5px; padding-right: 5px; }\n",
       "span.linenos.special { color: #000000; background-color: #ffffc0; padding-left: 5px; padding-right: 5px; }\n",
       ".cython .hll { background-color: #ffffcc }\n",
       ".cython { background: #f8f8f8; }\n",
       ".cython .c { color: #3D7B7B; font-style: italic } /* Comment */\n",
       ".cython .err { border: 1px solid #FF0000 } /* Error */\n",
       ".cython .k { color: #008000; font-weight: bold } /* Keyword */\n",
       ".cython .o { color: #666666 } /* Operator */\n",
       ".cython .ch { color: #3D7B7B; font-style: italic } /* Comment.Hashbang */\n",
       ".cython .cm { color: #3D7B7B; font-style: italic } /* Comment.Multiline */\n",
       ".cython .cp { color: #9C6500 } /* Comment.Preproc */\n",
       ".cython .cpf { color: #3D7B7B; font-style: italic } /* Comment.PreprocFile */\n",
       ".cython .c1 { color: #3D7B7B; font-style: italic } /* Comment.Single */\n",
       ".cython .cs { color: #3D7B7B; font-style: italic } /* Comment.Special */\n",
       ".cython .gd { color: #A00000 } /* Generic.Deleted */\n",
       ".cython .ge { font-style: italic } /* Generic.Emph */\n",
       ".cython .gr { color: #E40000 } /* Generic.Error */\n",
       ".cython .gh { color: #000080; font-weight: bold } /* Generic.Heading */\n",
       ".cython .gi { color: #008400 } /* Generic.Inserted */\n",
       ".cython .go { color: #717171 } /* Generic.Output */\n",
       ".cython .gp { color: #000080; font-weight: bold } /* Generic.Prompt */\n",
       ".cython .gs { font-weight: bold } /* Generic.Strong */\n",
       ".cython .gu { color: #800080; font-weight: bold } /* Generic.Subheading */\n",
       ".cython .gt { color: #0044DD } /* Generic.Traceback */\n",
       ".cython .kc { color: #008000; font-weight: bold } /* Keyword.Constant */\n",
       ".cython .kd { color: #008000; font-weight: bold } /* Keyword.Declaration */\n",
       ".cython .kn { color: #008000; font-weight: bold } /* Keyword.Namespace */\n",
       ".cython .kp { color: #008000 } /* Keyword.Pseudo */\n",
       ".cython .kr { color: #008000; font-weight: bold } /* Keyword.Reserved */\n",
       ".cython .kt { color: #B00040 } /* Keyword.Type */\n",
       ".cython .m { color: #666666 } /* Literal.Number */\n",
       ".cython .s { color: #BA2121 } /* Literal.String */\n",
       ".cython .na { color: #687822 } /* Name.Attribute */\n",
       ".cython .nb { color: #008000 } /* Name.Builtin */\n",
       ".cython .nc { color: #0000FF; font-weight: bold } /* Name.Class */\n",
       ".cython .no { color: #880000 } /* Name.Constant */\n",
       ".cython .nd { color: #AA22FF } /* Name.Decorator */\n",
       ".cython .ni { color: #717171; font-weight: bold } /* Name.Entity */\n",
       ".cython .ne { color: #CB3F38; font-weight: bold } /* Name.Exception */\n",
       ".cython .nf { color: #0000FF } /* Name.Function */\n",
       ".cython .nl { color: #767600 } /* Name.Label */\n",
       ".cython .nn { color: #0000FF; font-weight: bold } /* Name.Namespace */\n",
       ".cython .nt { color: #008000; font-weight: bold } /* Name.Tag */\n",
       ".cython .nv { color: #19177C } /* Name.Variable */\n",
       ".cython .ow { color: #AA22FF; font-weight: bold } /* Operator.Word */\n",
       ".cython .w { color: #bbbbbb } /* Text.Whitespace */\n",
       ".cython .mb { color: #666666 } /* Literal.Number.Bin */\n",
       ".cython .mf { color: #666666 } /* Literal.Number.Float */\n",
       ".cython .mh { color: #666666 } /* Literal.Number.Hex */\n",
       ".cython .mi { color: #666666 } /* Literal.Number.Integer */\n",
       ".cython .mo { color: #666666 } /* Literal.Number.Oct */\n",
       ".cython .sa { color: #BA2121 } /* Literal.String.Affix */\n",
       ".cython .sb { color: #BA2121 } /* Literal.String.Backtick */\n",
       ".cython .sc { color: #BA2121 } /* Literal.String.Char */\n",
       ".cython .dl { color: #BA2121 } /* Literal.String.Delimiter */\n",
       ".cython .sd { color: #BA2121; font-style: italic } /* Literal.String.Doc */\n",
       ".cython .s2 { color: #BA2121 } /* Literal.String.Double */\n",
       ".cython .se { color: #AA5D1F; font-weight: bold } /* Literal.String.Escape */\n",
       ".cython .sh { color: #BA2121 } /* Literal.String.Heredoc */\n",
       ".cython .si { color: #A45A77; font-weight: bold } /* Literal.String.Interpol */\n",
       ".cython .sx { color: #008000 } /* Literal.String.Other */\n",
       ".cython .sr { color: #A45A77 } /* Literal.String.Regex */\n",
       ".cython .s1 { color: #BA2121 } /* Literal.String.Single */\n",
       ".cython .ss { color: #19177C } /* Literal.String.Symbol */\n",
       ".cython .bp { color: #008000 } /* Name.Builtin.Pseudo */\n",
       ".cython .fm { color: #0000FF } /* Name.Function.Magic */\n",
       ".cython .vc { color: #19177C } /* Name.Variable.Class */\n",
       ".cython .vg { color: #19177C } /* Name.Variable.Global */\n",
       ".cython .vi { color: #19177C } /* Name.Variable.Instance */\n",
       ".cython .vm { color: #19177C } /* Name.Variable.Magic */\n",
       ".cython .il { color: #666666 } /* Literal.Number.Integer.Long */\n",
       "    </style>\n",
       "</head>\n",
       "<body class=\"cython\">\n",
       "<p><span style=\"border-bottom: solid 1px grey;\">Generated by Cython 0.29.30</span></p>\n",
       "<p>\n",
       "    <span style=\"background-color: #FFFF00\">Yellow lines</span> hint at Python interaction.<br />\n",
       "    Click on a line that starts with a \"<code>+</code>\" to see the C code that Cython generated for it.\n",
       "</p>\n",
       "<div class=\"cython\"><pre class=\"cython line score-0\">&#xA0;<span class=\"\">1</span>: </pre>\n",
       "<pre class=\"cython line score-23\" onclick=\"(function(s){s.display=s.display==='block'?'none':'block'})(this.nextElementSibling.style)\">+<span class=\"\">2</span>: <span class=\"k\">def</span> <span class=\"nf\">ctriangle_v2</span><span class=\"p\">(</span><span class=\"nb\">int</span> <span class=\"n\">n</span><span class=\"p\">):</span></pre>\n",
       "<pre class='cython code score-23 '>/* Python wrapper */\n",
       "static PyObject *__pyx_pw_46_cython_magic_1456cd28ea1a34953fdebcb62d432400_1ctriangle_v2(PyObject *__pyx_self, PyObject *__pyx_arg_n); /*proto*/\n",
       "static PyMethodDef __pyx_mdef_46_cython_magic_1456cd28ea1a34953fdebcb62d432400_1ctriangle_v2 = {\"ctriangle_v2\", (PyCFunction)__pyx_pw_46_cython_magic_1456cd28ea1a34953fdebcb62d432400_1ctriangle_v2, METH_O, 0};\n",
       "static PyObject *__pyx_pw_46_cython_magic_1456cd28ea1a34953fdebcb62d432400_1ctriangle_v2(PyObject *__pyx_self, PyObject *__pyx_arg_n) {\n",
       "  int __pyx_v_n;\n",
       "  PyObject *__pyx_r = 0;\n",
       "  <span class='refnanny'>__Pyx_RefNannyDeclarations</span>\n",
       "  <span class='refnanny'>__Pyx_RefNannySetupContext</span>(\"ctriangle_v2 (wrapper)\", 0);\n",
       "  assert(__pyx_arg_n); {\n",
       "    __pyx_v_n = <span class='pyx_c_api'>__Pyx_PyInt_As_int</span>(__pyx_arg_n); if (unlikely((__pyx_v_n == (int)-1) &amp;&amp; <span class='py_c_api'>PyErr_Occurred</span>())) <span class='error_goto'>__PYX_ERR(0, 2, __pyx_L3_error)</span>\n",
       "  }\n",
       "  goto __pyx_L4_argument_unpacking_done;\n",
       "  __pyx_L3_error:;\n",
       "  <span class='pyx_c_api'>__Pyx_AddTraceback</span>(\"_cython_magic_1456cd28ea1a34953fdebcb62d432400.ctriangle_v2\", __pyx_clineno, __pyx_lineno, __pyx_filename);\n",
       "  <span class='refnanny'>__Pyx_RefNannyFinishContext</span>();\n",
       "  return NULL;\n",
       "  __pyx_L4_argument_unpacking_done:;\n",
       "  __pyx_r = __pyx_pf_46_cython_magic_1456cd28ea1a34953fdebcb62d432400_ctriangle_v2(__pyx_self, ((int)__pyx_v_n));\n",
       "  int __pyx_lineno = 0;\n",
       "  const char *__pyx_filename = NULL;\n",
       "  int __pyx_clineno = 0;\n",
       "\n",
       "  /* function exit code */\n",
       "  <span class='refnanny'>__Pyx_RefNannyFinishContext</span>();\n",
       "  return __pyx_r;\n",
       "}\n",
       "\n",
       "static PyObject *__pyx_pf_46_cython_magic_1456cd28ea1a34953fdebcb62d432400_ctriangle_v2(CYTHON_UNUSED PyObject *__pyx_self, int __pyx_v_n) {\n",
       "  int __pyx_v_i;\n",
       "  int __pyx_v_total;\n",
       "  PyObject *__pyx_r = NULL;\n",
       "  <span class='refnanny'>__Pyx_RefNannyDeclarations</span>\n",
       "  <span class='refnanny'>__Pyx_RefNannySetupContext</span>(\"ctriangle_v2\", 0);\n",
       "/* … */\n",
       "  /* function exit code */\n",
       "  __pyx_L1_error:;\n",
       "  <span class='pyx_macro_api'>__Pyx_XDECREF</span>(__pyx_t_4);\n",
       "  <span class='pyx_c_api'>__Pyx_AddTraceback</span>(\"_cython_magic_1456cd28ea1a34953fdebcb62d432400.ctriangle_v2\", __pyx_clineno, __pyx_lineno, __pyx_filename);\n",
       "  __pyx_r = NULL;\n",
       "  __pyx_L0:;\n",
       "  <span class='refnanny'>__Pyx_XGIVEREF</span>(__pyx_r);\n",
       "  <span class='refnanny'>__Pyx_RefNannyFinishContext</span>();\n",
       "  return __pyx_r;\n",
       "}\n",
       "/* … */\n",
       "  __pyx_tuple_ = <span class='py_c_api'>PyTuple_Pack</span>(4, __pyx_n_s_n, __pyx_n_s_n, __pyx_n_s_i, __pyx_n_s_total);<span class='error_goto'> if (unlikely(!__pyx_tuple_)) __PYX_ERR(0, 2, __pyx_L1_error)</span>\n",
       "  <span class='refnanny'>__Pyx_GOTREF</span>(__pyx_tuple_);\n",
       "  <span class='refnanny'>__Pyx_GIVEREF</span>(__pyx_tuple_);\n",
       "/* … */\n",
       "  __pyx_t_1 = PyCFunction_NewEx(&amp;__pyx_mdef_46_cython_magic_1456cd28ea1a34953fdebcb62d432400_1ctriangle_v2, NULL, __pyx_n_s_cython_magic_1456cd28ea1a34953f);<span class='error_goto'> if (unlikely(!__pyx_t_1)) __PYX_ERR(0, 2, __pyx_L1_error)</span>\n",
       "  <span class='refnanny'>__Pyx_GOTREF</span>(__pyx_t_1);\n",
       "  if (<span class='py_c_api'>PyDict_SetItem</span>(__pyx_d, __pyx_n_s_ctriangle_v2, __pyx_t_1) &lt; 0) <span class='error_goto'>__PYX_ERR(0, 2, __pyx_L1_error)</span>\n",
       "  <span class='pyx_macro_api'>__Pyx_DECREF</span>(__pyx_t_1); __pyx_t_1 = 0;\n",
       "</pre><pre class=\"cython line score-0\">&#xA0;<span class=\"\">3</span>:     <span class=\"k\">cdef</span> <span class=\"kt\">int</span> <span class=\"nf\">i</span></pre>\n",
       "<pre class=\"cython line score-0\" onclick=\"(function(s){s.display=s.display==='block'?'none':'block'})(this.nextElementSibling.style)\">+<span class=\"\">4</span>:     <span class=\"k\">cdef</span> <span class=\"kt\">int</span> <span class=\"nf\">total</span> <span class=\"o\">=</span> <span class=\"mf\">0</span></pre>\n",
       "<pre class='cython code score-0 '>  __pyx_v_total = 0;\n",
       "</pre><pre class=\"cython line score-0\" onclick=\"(function(s){s.display=s.display==='block'?'none':'block'})(this.nextElementSibling.style)\">+<span class=\"\">5</span>:     <span class=\"k\">for</span> <span class=\"n\">i</span> <span class=\"ow\">in</span> <span class=\"nb\">range</span><span class=\"p\">(</span><span class=\"mf\">1</span><span class=\"p\">,</span> <span class=\"n\">n</span><span class=\"o\">+</span><span class=\"mf\">1</span><span class=\"p\">):</span></pre>\n",
       "<pre class='cython code score-0 '>  __pyx_t_1 = (__pyx_v_n + 1);\n",
       "  __pyx_t_2 = __pyx_t_1;\n",
       "  for (__pyx_t_3 = 1; __pyx_t_3 &lt; __pyx_t_2; __pyx_t_3+=1) {\n",
       "    __pyx_v_i = __pyx_t_3;\n",
       "</pre><pre class=\"cython line score-0\" onclick=\"(function(s){s.display=s.display==='block'?'none':'block'})(this.nextElementSibling.style)\">+<span class=\"\">6</span>:         <span class=\"n\">total</span> <span class=\"o\">+=</span> <span class=\"n\">i</span></pre>\n",
       "<pre class='cython code score-0 '>    __pyx_v_total = (__pyx_v_total + __pyx_v_i);\n",
       "  }\n",
       "</pre><pre class=\"cython line score-3\" onclick=\"(function(s){s.display=s.display==='block'?'none':'block'})(this.nextElementSibling.style)\">+<span class=\"\">7</span>:     <span class=\"k\">return</span> <span class=\"n\">total</span></pre>\n",
       "<pre class='cython code score-3 '>  <span class='pyx_macro_api'>__Pyx_XDECREF</span>(__pyx_r);\n",
       "  __pyx_t_4 = <span class='pyx_c_api'>__Pyx_PyInt_From_int</span>(__pyx_v_total);<span class='error_goto'> if (unlikely(!__pyx_t_4)) __PYX_ERR(0, 7, __pyx_L1_error)</span>\n",
       "  <span class='refnanny'>__Pyx_GOTREF</span>(__pyx_t_4);\n",
       "  __pyx_r = __pyx_t_4;\n",
       "  __pyx_t_4 = 0;\n",
       "  goto __pyx_L0;\n",
       "</pre></div></body></html>"
      ],
      "text/plain": [
       "<IPython.core.display.HTML object>"
      ]
     },
     "execution_count": 31,
     "metadata": {},
     "output_type": "execute_result"
    }
   ],
   "source": [
    "%%cython -a\n",
    "\n",
    "def ctriangle_v2(int n):\n",
    "    cdef int i\n",
    "    cdef int total = 0\n",
    "    for i in range(1, n+1):\n",
    "        total += i\n",
    "    return total"
   ]
  },
  {
   "cell_type": "markdown",
   "id": "f02a72f6",
   "metadata": {},
   "source": [
    "Put simply, yellow highlighting hints at Python interaction, and will slow down our code. We are nearly perfect now, because nothing in our function is yellow, except for the return. We can fix the return by defining the return type in our function declaration:"
   ]
  },
  {
   "cell_type": "code",
   "execution_count": 32,
   "id": "c39f82a0",
   "metadata": {},
   "outputs": [
    {
     "data": {
      "text/html": [
       "<!DOCTYPE html>\n",
       "<!-- Generated by Cython 0.29.30 -->\n",
       "<html>\n",
       "<head>\n",
       "    <meta http-equiv=\"Content-Type\" content=\"text/html; charset=utf-8\" />\n",
       "    <title>Cython: _cython_magic_7182ce533b9cf9d878112f196f7b14cf.pyx</title>\n",
       "    <style type=\"text/css\">\n",
       "\n",
       "body.cython { font-family: courier; font-size: 12; }\n",
       "\n",
       ".cython.tag  {  }\n",
       ".cython.line { margin: 0em }\n",
       ".cython.code { font-size: 9; color: #444444; display: none; margin: 0px 0px 0px 8px; border-left: 8px none; }\n",
       "\n",
       ".cython.line .run { background-color: #B0FFB0; }\n",
       ".cython.line .mis { background-color: #FFB0B0; }\n",
       ".cython.code.run  { border-left: 8px solid #B0FFB0; }\n",
       ".cython.code.mis  { border-left: 8px solid #FFB0B0; }\n",
       "\n",
       ".cython.code .py_c_api  { color: red; }\n",
       ".cython.code .py_macro_api  { color: #FF7000; }\n",
       ".cython.code .pyx_c_api  { color: #FF3000; }\n",
       ".cython.code .pyx_macro_api  { color: #FF7000; }\n",
       ".cython.code .refnanny  { color: #FFA000; }\n",
       ".cython.code .trace  { color: #FFA000; }\n",
       ".cython.code .error_goto  { color: #FFA000; }\n",
       "\n",
       ".cython.code .coerce  { color: #008000; border: 1px dotted #008000 }\n",
       ".cython.code .py_attr { color: #FF0000; font-weight: bold; }\n",
       ".cython.code .c_attr  { color: #0000FF; }\n",
       ".cython.code .py_call { color: #FF0000; font-weight: bold; }\n",
       ".cython.code .c_call  { color: #0000FF; }\n",
       "\n",
       ".cython.score-0 {background-color: #FFFFff;}\n",
       ".cython.score-1 {background-color: #FFFFe7;}\n",
       ".cython.score-2 {background-color: #FFFFd4;}\n",
       ".cython.score-3 {background-color: #FFFFc4;}\n",
       ".cython.score-4 {background-color: #FFFFb6;}\n",
       ".cython.score-5 {background-color: #FFFFaa;}\n",
       ".cython.score-6 {background-color: #FFFF9f;}\n",
       ".cython.score-7 {background-color: #FFFF96;}\n",
       ".cython.score-8 {background-color: #FFFF8d;}\n",
       ".cython.score-9 {background-color: #FFFF86;}\n",
       ".cython.score-10 {background-color: #FFFF7f;}\n",
       ".cython.score-11 {background-color: #FFFF79;}\n",
       ".cython.score-12 {background-color: #FFFF73;}\n",
       ".cython.score-13 {background-color: #FFFF6e;}\n",
       ".cython.score-14 {background-color: #FFFF6a;}\n",
       ".cython.score-15 {background-color: #FFFF66;}\n",
       ".cython.score-16 {background-color: #FFFF62;}\n",
       ".cython.score-17 {background-color: #FFFF5e;}\n",
       ".cython.score-18 {background-color: #FFFF5b;}\n",
       ".cython.score-19 {background-color: #FFFF57;}\n",
       ".cython.score-20 {background-color: #FFFF55;}\n",
       ".cython.score-21 {background-color: #FFFF52;}\n",
       ".cython.score-22 {background-color: #FFFF4f;}\n",
       ".cython.score-23 {background-color: #FFFF4d;}\n",
       ".cython.score-24 {background-color: #FFFF4b;}\n",
       ".cython.score-25 {background-color: #FFFF48;}\n",
       ".cython.score-26 {background-color: #FFFF46;}\n",
       ".cython.score-27 {background-color: #FFFF44;}\n",
       ".cython.score-28 {background-color: #FFFF43;}\n",
       ".cython.score-29 {background-color: #FFFF41;}\n",
       ".cython.score-30 {background-color: #FFFF3f;}\n",
       ".cython.score-31 {background-color: #FFFF3e;}\n",
       ".cython.score-32 {background-color: #FFFF3c;}\n",
       ".cython.score-33 {background-color: #FFFF3b;}\n",
       ".cython.score-34 {background-color: #FFFF39;}\n",
       ".cython.score-35 {background-color: #FFFF38;}\n",
       ".cython.score-36 {background-color: #FFFF37;}\n",
       ".cython.score-37 {background-color: #FFFF36;}\n",
       ".cython.score-38 {background-color: #FFFF35;}\n",
       ".cython.score-39 {background-color: #FFFF34;}\n",
       ".cython.score-40 {background-color: #FFFF33;}\n",
       ".cython.score-41 {background-color: #FFFF32;}\n",
       ".cython.score-42 {background-color: #FFFF31;}\n",
       ".cython.score-43 {background-color: #FFFF30;}\n",
       ".cython.score-44 {background-color: #FFFF2f;}\n",
       ".cython.score-45 {background-color: #FFFF2e;}\n",
       ".cython.score-46 {background-color: #FFFF2d;}\n",
       ".cython.score-47 {background-color: #FFFF2c;}\n",
       ".cython.score-48 {background-color: #FFFF2b;}\n",
       ".cython.score-49 {background-color: #FFFF2b;}\n",
       ".cython.score-50 {background-color: #FFFF2a;}\n",
       ".cython.score-51 {background-color: #FFFF29;}\n",
       ".cython.score-52 {background-color: #FFFF29;}\n",
       ".cython.score-53 {background-color: #FFFF28;}\n",
       ".cython.score-54 {background-color: #FFFF27;}\n",
       ".cython.score-55 {background-color: #FFFF27;}\n",
       ".cython.score-56 {background-color: #FFFF26;}\n",
       ".cython.score-57 {background-color: #FFFF26;}\n",
       ".cython.score-58 {background-color: #FFFF25;}\n",
       ".cython.score-59 {background-color: #FFFF24;}\n",
       ".cython.score-60 {background-color: #FFFF24;}\n",
       ".cython.score-61 {background-color: #FFFF23;}\n",
       ".cython.score-62 {background-color: #FFFF23;}\n",
       ".cython.score-63 {background-color: #FFFF22;}\n",
       ".cython.score-64 {background-color: #FFFF22;}\n",
       ".cython.score-65 {background-color: #FFFF22;}\n",
       ".cython.score-66 {background-color: #FFFF21;}\n",
       ".cython.score-67 {background-color: #FFFF21;}\n",
       ".cython.score-68 {background-color: #FFFF20;}\n",
       ".cython.score-69 {background-color: #FFFF20;}\n",
       ".cython.score-70 {background-color: #FFFF1f;}\n",
       ".cython.score-71 {background-color: #FFFF1f;}\n",
       ".cython.score-72 {background-color: #FFFF1f;}\n",
       ".cython.score-73 {background-color: #FFFF1e;}\n",
       ".cython.score-74 {background-color: #FFFF1e;}\n",
       ".cython.score-75 {background-color: #FFFF1e;}\n",
       ".cython.score-76 {background-color: #FFFF1d;}\n",
       ".cython.score-77 {background-color: #FFFF1d;}\n",
       ".cython.score-78 {background-color: #FFFF1c;}\n",
       ".cython.score-79 {background-color: #FFFF1c;}\n",
       ".cython.score-80 {background-color: #FFFF1c;}\n",
       ".cython.score-81 {background-color: #FFFF1c;}\n",
       ".cython.score-82 {background-color: #FFFF1b;}\n",
       ".cython.score-83 {background-color: #FFFF1b;}\n",
       ".cython.score-84 {background-color: #FFFF1b;}\n",
       ".cython.score-85 {background-color: #FFFF1a;}\n",
       ".cython.score-86 {background-color: #FFFF1a;}\n",
       ".cython.score-87 {background-color: #FFFF1a;}\n",
       ".cython.score-88 {background-color: #FFFF1a;}\n",
       ".cython.score-89 {background-color: #FFFF19;}\n",
       ".cython.score-90 {background-color: #FFFF19;}\n",
       ".cython.score-91 {background-color: #FFFF19;}\n",
       ".cython.score-92 {background-color: #FFFF19;}\n",
       ".cython.score-93 {background-color: #FFFF18;}\n",
       ".cython.score-94 {background-color: #FFFF18;}\n",
       ".cython.score-95 {background-color: #FFFF18;}\n",
       ".cython.score-96 {background-color: #FFFF18;}\n",
       ".cython.score-97 {background-color: #FFFF17;}\n",
       ".cython.score-98 {background-color: #FFFF17;}\n",
       ".cython.score-99 {background-color: #FFFF17;}\n",
       ".cython.score-100 {background-color: #FFFF17;}\n",
       ".cython.score-101 {background-color: #FFFF16;}\n",
       ".cython.score-102 {background-color: #FFFF16;}\n",
       ".cython.score-103 {background-color: #FFFF16;}\n",
       ".cython.score-104 {background-color: #FFFF16;}\n",
       ".cython.score-105 {background-color: #FFFF16;}\n",
       ".cython.score-106 {background-color: #FFFF15;}\n",
       ".cython.score-107 {background-color: #FFFF15;}\n",
       ".cython.score-108 {background-color: #FFFF15;}\n",
       ".cython.score-109 {background-color: #FFFF15;}\n",
       ".cython.score-110 {background-color: #FFFF15;}\n",
       ".cython.score-111 {background-color: #FFFF15;}\n",
       ".cython.score-112 {background-color: #FFFF14;}\n",
       ".cython.score-113 {background-color: #FFFF14;}\n",
       ".cython.score-114 {background-color: #FFFF14;}\n",
       ".cython.score-115 {background-color: #FFFF14;}\n",
       ".cython.score-116 {background-color: #FFFF14;}\n",
       ".cython.score-117 {background-color: #FFFF14;}\n",
       ".cython.score-118 {background-color: #FFFF13;}\n",
       ".cython.score-119 {background-color: #FFFF13;}\n",
       ".cython.score-120 {background-color: #FFFF13;}\n",
       ".cython.score-121 {background-color: #FFFF13;}\n",
       ".cython.score-122 {background-color: #FFFF13;}\n",
       ".cython.score-123 {background-color: #FFFF13;}\n",
       ".cython.score-124 {background-color: #FFFF13;}\n",
       ".cython.score-125 {background-color: #FFFF12;}\n",
       ".cython.score-126 {background-color: #FFFF12;}\n",
       ".cython.score-127 {background-color: #FFFF12;}\n",
       ".cython.score-128 {background-color: #FFFF12;}\n",
       ".cython.score-129 {background-color: #FFFF12;}\n",
       ".cython.score-130 {background-color: #FFFF12;}\n",
       ".cython.score-131 {background-color: #FFFF12;}\n",
       ".cython.score-132 {background-color: #FFFF11;}\n",
       ".cython.score-133 {background-color: #FFFF11;}\n",
       ".cython.score-134 {background-color: #FFFF11;}\n",
       ".cython.score-135 {background-color: #FFFF11;}\n",
       ".cython.score-136 {background-color: #FFFF11;}\n",
       ".cython.score-137 {background-color: #FFFF11;}\n",
       ".cython.score-138 {background-color: #FFFF11;}\n",
       ".cython.score-139 {background-color: #FFFF11;}\n",
       ".cython.score-140 {background-color: #FFFF11;}\n",
       ".cython.score-141 {background-color: #FFFF10;}\n",
       ".cython.score-142 {background-color: #FFFF10;}\n",
       ".cython.score-143 {background-color: #FFFF10;}\n",
       ".cython.score-144 {background-color: #FFFF10;}\n",
       ".cython.score-145 {background-color: #FFFF10;}\n",
       ".cython.score-146 {background-color: #FFFF10;}\n",
       ".cython.score-147 {background-color: #FFFF10;}\n",
       ".cython.score-148 {background-color: #FFFF10;}\n",
       ".cython.score-149 {background-color: #FFFF10;}\n",
       ".cython.score-150 {background-color: #FFFF0f;}\n",
       ".cython.score-151 {background-color: #FFFF0f;}\n",
       ".cython.score-152 {background-color: #FFFF0f;}\n",
       ".cython.score-153 {background-color: #FFFF0f;}\n",
       ".cython.score-154 {background-color: #FFFF0f;}\n",
       ".cython.score-155 {background-color: #FFFF0f;}\n",
       ".cython.score-156 {background-color: #FFFF0f;}\n",
       ".cython.score-157 {background-color: #FFFF0f;}\n",
       ".cython.score-158 {background-color: #FFFF0f;}\n",
       ".cython.score-159 {background-color: #FFFF0f;}\n",
       ".cython.score-160 {background-color: #FFFF0f;}\n",
       ".cython.score-161 {background-color: #FFFF0e;}\n",
       ".cython.score-162 {background-color: #FFFF0e;}\n",
       ".cython.score-163 {background-color: #FFFF0e;}\n",
       ".cython.score-164 {background-color: #FFFF0e;}\n",
       ".cython.score-165 {background-color: #FFFF0e;}\n",
       ".cython.score-166 {background-color: #FFFF0e;}\n",
       ".cython.score-167 {background-color: #FFFF0e;}\n",
       ".cython.score-168 {background-color: #FFFF0e;}\n",
       ".cython.score-169 {background-color: #FFFF0e;}\n",
       ".cython.score-170 {background-color: #FFFF0e;}\n",
       ".cython.score-171 {background-color: #FFFF0e;}\n",
       ".cython.score-172 {background-color: #FFFF0e;}\n",
       ".cython.score-173 {background-color: #FFFF0d;}\n",
       ".cython.score-174 {background-color: #FFFF0d;}\n",
       ".cython.score-175 {background-color: #FFFF0d;}\n",
       ".cython.score-176 {background-color: #FFFF0d;}\n",
       ".cython.score-177 {background-color: #FFFF0d;}\n",
       ".cython.score-178 {background-color: #FFFF0d;}\n",
       ".cython.score-179 {background-color: #FFFF0d;}\n",
       ".cython.score-180 {background-color: #FFFF0d;}\n",
       ".cython.score-181 {background-color: #FFFF0d;}\n",
       ".cython.score-182 {background-color: #FFFF0d;}\n",
       ".cython.score-183 {background-color: #FFFF0d;}\n",
       ".cython.score-184 {background-color: #FFFF0d;}\n",
       ".cython.score-185 {background-color: #FFFF0d;}\n",
       ".cython.score-186 {background-color: #FFFF0d;}\n",
       ".cython.score-187 {background-color: #FFFF0c;}\n",
       ".cython.score-188 {background-color: #FFFF0c;}\n",
       ".cython.score-189 {background-color: #FFFF0c;}\n",
       ".cython.score-190 {background-color: #FFFF0c;}\n",
       ".cython.score-191 {background-color: #FFFF0c;}\n",
       ".cython.score-192 {background-color: #FFFF0c;}\n",
       ".cython.score-193 {background-color: #FFFF0c;}\n",
       ".cython.score-194 {background-color: #FFFF0c;}\n",
       ".cython.score-195 {background-color: #FFFF0c;}\n",
       ".cython.score-196 {background-color: #FFFF0c;}\n",
       ".cython.score-197 {background-color: #FFFF0c;}\n",
       ".cython.score-198 {background-color: #FFFF0c;}\n",
       ".cython.score-199 {background-color: #FFFF0c;}\n",
       ".cython.score-200 {background-color: #FFFF0c;}\n",
       ".cython.score-201 {background-color: #FFFF0c;}\n",
       ".cython.score-202 {background-color: #FFFF0c;}\n",
       ".cython.score-203 {background-color: #FFFF0b;}\n",
       ".cython.score-204 {background-color: #FFFF0b;}\n",
       ".cython.score-205 {background-color: #FFFF0b;}\n",
       ".cython.score-206 {background-color: #FFFF0b;}\n",
       ".cython.score-207 {background-color: #FFFF0b;}\n",
       ".cython.score-208 {background-color: #FFFF0b;}\n",
       ".cython.score-209 {background-color: #FFFF0b;}\n",
       ".cython.score-210 {background-color: #FFFF0b;}\n",
       ".cython.score-211 {background-color: #FFFF0b;}\n",
       ".cython.score-212 {background-color: #FFFF0b;}\n",
       ".cython.score-213 {background-color: #FFFF0b;}\n",
       ".cython.score-214 {background-color: #FFFF0b;}\n",
       ".cython.score-215 {background-color: #FFFF0b;}\n",
       ".cython.score-216 {background-color: #FFFF0b;}\n",
       ".cython.score-217 {background-color: #FFFF0b;}\n",
       ".cython.score-218 {background-color: #FFFF0b;}\n",
       ".cython.score-219 {background-color: #FFFF0b;}\n",
       ".cython.score-220 {background-color: #FFFF0b;}\n",
       ".cython.score-221 {background-color: #FFFF0b;}\n",
       ".cython.score-222 {background-color: #FFFF0a;}\n",
       ".cython.score-223 {background-color: #FFFF0a;}\n",
       ".cython.score-224 {background-color: #FFFF0a;}\n",
       ".cython.score-225 {background-color: #FFFF0a;}\n",
       ".cython.score-226 {background-color: #FFFF0a;}\n",
       ".cython.score-227 {background-color: #FFFF0a;}\n",
       ".cython.score-228 {background-color: #FFFF0a;}\n",
       ".cython.score-229 {background-color: #FFFF0a;}\n",
       ".cython.score-230 {background-color: #FFFF0a;}\n",
       ".cython.score-231 {background-color: #FFFF0a;}\n",
       ".cython.score-232 {background-color: #FFFF0a;}\n",
       ".cython.score-233 {background-color: #FFFF0a;}\n",
       ".cython.score-234 {background-color: #FFFF0a;}\n",
       ".cython.score-235 {background-color: #FFFF0a;}\n",
       ".cython.score-236 {background-color: #FFFF0a;}\n",
       ".cython.score-237 {background-color: #FFFF0a;}\n",
       ".cython.score-238 {background-color: #FFFF0a;}\n",
       ".cython.score-239 {background-color: #FFFF0a;}\n",
       ".cython.score-240 {background-color: #FFFF0a;}\n",
       ".cython.score-241 {background-color: #FFFF0a;}\n",
       ".cython.score-242 {background-color: #FFFF0a;}\n",
       ".cython.score-243 {background-color: #FFFF0a;}\n",
       ".cython.score-244 {background-color: #FFFF0a;}\n",
       ".cython.score-245 {background-color: #FFFF0a;}\n",
       ".cython.score-246 {background-color: #FFFF09;}\n",
       ".cython.score-247 {background-color: #FFFF09;}\n",
       ".cython.score-248 {background-color: #FFFF09;}\n",
       ".cython.score-249 {background-color: #FFFF09;}\n",
       ".cython.score-250 {background-color: #FFFF09;}\n",
       ".cython.score-251 {background-color: #FFFF09;}\n",
       ".cython.score-252 {background-color: #FFFF09;}\n",
       ".cython.score-253 {background-color: #FFFF09;}\n",
       ".cython.score-254 {background-color: #FFFF09;}\n",
       "pre { line-height: 125%; }\n",
       "td.linenos .normal { color: inherit; background-color: transparent; padding-left: 5px; padding-right: 5px; }\n",
       "span.linenos { color: inherit; background-color: transparent; padding-left: 5px; padding-right: 5px; }\n",
       "td.linenos .special { color: #000000; background-color: #ffffc0; padding-left: 5px; padding-right: 5px; }\n",
       "span.linenos.special { color: #000000; background-color: #ffffc0; padding-left: 5px; padding-right: 5px; }\n",
       ".cython .hll { background-color: #ffffcc }\n",
       ".cython { background: #f8f8f8; }\n",
       ".cython .c { color: #3D7B7B; font-style: italic } /* Comment */\n",
       ".cython .err { border: 1px solid #FF0000 } /* Error */\n",
       ".cython .k { color: #008000; font-weight: bold } /* Keyword */\n",
       ".cython .o { color: #666666 } /* Operator */\n",
       ".cython .ch { color: #3D7B7B; font-style: italic } /* Comment.Hashbang */\n",
       ".cython .cm { color: #3D7B7B; font-style: italic } /* Comment.Multiline */\n",
       ".cython .cp { color: #9C6500 } /* Comment.Preproc */\n",
       ".cython .cpf { color: #3D7B7B; font-style: italic } /* Comment.PreprocFile */\n",
       ".cython .c1 { color: #3D7B7B; font-style: italic } /* Comment.Single */\n",
       ".cython .cs { color: #3D7B7B; font-style: italic } /* Comment.Special */\n",
       ".cython .gd { color: #A00000 } /* Generic.Deleted */\n",
       ".cython .ge { font-style: italic } /* Generic.Emph */\n",
       ".cython .gr { color: #E40000 } /* Generic.Error */\n",
       ".cython .gh { color: #000080; font-weight: bold } /* Generic.Heading */\n",
       ".cython .gi { color: #008400 } /* Generic.Inserted */\n",
       ".cython .go { color: #717171 } /* Generic.Output */\n",
       ".cython .gp { color: #000080; font-weight: bold } /* Generic.Prompt */\n",
       ".cython .gs { font-weight: bold } /* Generic.Strong */\n",
       ".cython .gu { color: #800080; font-weight: bold } /* Generic.Subheading */\n",
       ".cython .gt { color: #0044DD } /* Generic.Traceback */\n",
       ".cython .kc { color: #008000; font-weight: bold } /* Keyword.Constant */\n",
       ".cython .kd { color: #008000; font-weight: bold } /* Keyword.Declaration */\n",
       ".cython .kn { color: #008000; font-weight: bold } /* Keyword.Namespace */\n",
       ".cython .kp { color: #008000 } /* Keyword.Pseudo */\n",
       ".cython .kr { color: #008000; font-weight: bold } /* Keyword.Reserved */\n",
       ".cython .kt { color: #B00040 } /* Keyword.Type */\n",
       ".cython .m { color: #666666 } /* Literal.Number */\n",
       ".cython .s { color: #BA2121 } /* Literal.String */\n",
       ".cython .na { color: #687822 } /* Name.Attribute */\n",
       ".cython .nb { color: #008000 } /* Name.Builtin */\n",
       ".cython .nc { color: #0000FF; font-weight: bold } /* Name.Class */\n",
       ".cython .no { color: #880000 } /* Name.Constant */\n",
       ".cython .nd { color: #AA22FF } /* Name.Decorator */\n",
       ".cython .ni { color: #717171; font-weight: bold } /* Name.Entity */\n",
       ".cython .ne { color: #CB3F38; font-weight: bold } /* Name.Exception */\n",
       ".cython .nf { color: #0000FF } /* Name.Function */\n",
       ".cython .nl { color: #767600 } /* Name.Label */\n",
       ".cython .nn { color: #0000FF; font-weight: bold } /* Name.Namespace */\n",
       ".cython .nt { color: #008000; font-weight: bold } /* Name.Tag */\n",
       ".cython .nv { color: #19177C } /* Name.Variable */\n",
       ".cython .ow { color: #AA22FF; font-weight: bold } /* Operator.Word */\n",
       ".cython .w { color: #bbbbbb } /* Text.Whitespace */\n",
       ".cython .mb { color: #666666 } /* Literal.Number.Bin */\n",
       ".cython .mf { color: #666666 } /* Literal.Number.Float */\n",
       ".cython .mh { color: #666666 } /* Literal.Number.Hex */\n",
       ".cython .mi { color: #666666 } /* Literal.Number.Integer */\n",
       ".cython .mo { color: #666666 } /* Literal.Number.Oct */\n",
       ".cython .sa { color: #BA2121 } /* Literal.String.Affix */\n",
       ".cython .sb { color: #BA2121 } /* Literal.String.Backtick */\n",
       ".cython .sc { color: #BA2121 } /* Literal.String.Char */\n",
       ".cython .dl { color: #BA2121 } /* Literal.String.Delimiter */\n",
       ".cython .sd { color: #BA2121; font-style: italic } /* Literal.String.Doc */\n",
       ".cython .s2 { color: #BA2121 } /* Literal.String.Double */\n",
       ".cython .se { color: #AA5D1F; font-weight: bold } /* Literal.String.Escape */\n",
       ".cython .sh { color: #BA2121 } /* Literal.String.Heredoc */\n",
       ".cython .si { color: #A45A77; font-weight: bold } /* Literal.String.Interpol */\n",
       ".cython .sx { color: #008000 } /* Literal.String.Other */\n",
       ".cython .sr { color: #A45A77 } /* Literal.String.Regex */\n",
       ".cython .s1 { color: #BA2121 } /* Literal.String.Single */\n",
       ".cython .ss { color: #19177C } /* Literal.String.Symbol */\n",
       ".cython .bp { color: #008000 } /* Name.Builtin.Pseudo */\n",
       ".cython .fm { color: #0000FF } /* Name.Function.Magic */\n",
       ".cython .vc { color: #19177C } /* Name.Variable.Class */\n",
       ".cython .vg { color: #19177C } /* Name.Variable.Global */\n",
       ".cython .vi { color: #19177C } /* Name.Variable.Instance */\n",
       ".cython .vm { color: #19177C } /* Name.Variable.Magic */\n",
       ".cython .il { color: #666666 } /* Literal.Number.Integer.Long */\n",
       "    </style>\n",
       "</head>\n",
       "<body class=\"cython\">\n",
       "<p><span style=\"border-bottom: solid 1px grey;\">Generated by Cython 0.29.30</span></p>\n",
       "<p>\n",
       "    <span style=\"background-color: #FFFF00\">Yellow lines</span> hint at Python interaction.<br />\n",
       "    Click on a line that starts with a \"<code>+</code>\" to see the C code that Cython generated for it.\n",
       "</p>\n",
       "<div class=\"cython\"><pre class=\"cython line score-0\">&#xA0;<span class=\"\">1</span>: </pre>\n",
       "<pre class=\"cython line score-15\" onclick=\"(function(s){s.display=s.display==='block'?'none':'block'})(this.nextElementSibling.style)\">+<span class=\"\">2</span>: <span class=\"k\">cpdef</span> <span class=\"kt\">int</span> <span class=\"nf\">ctriangle_v3</span><span class=\"p\">(</span><span class=\"nb\">int</span> <span class=\"n\">n</span><span class=\"p\">):</span></pre>\n",
       "<pre class='cython code score-15 '>static PyObject *__pyx_pw_46_cython_magic_7182ce533b9cf9d878112f196f7b14cf_1ctriangle_v3(PyObject *__pyx_self, PyObject *__pyx_arg_n); /*proto*/\n",
       "static int __pyx_f_46_cython_magic_7182ce533b9cf9d878112f196f7b14cf_ctriangle_v3(int __pyx_v_n, CYTHON_UNUSED int __pyx_skip_dispatch) {\n",
       "  int __pyx_v_i;\n",
       "  int __pyx_v_total;\n",
       "  int __pyx_r;\n",
       "  <span class='refnanny'>__Pyx_RefNannyDeclarations</span>\n",
       "  <span class='refnanny'>__Pyx_RefNannySetupContext</span>(\"ctriangle_v3\", 0);\n",
       "/* … */\n",
       "  /* function exit code */\n",
       "  __pyx_L0:;\n",
       "  <span class='refnanny'>__Pyx_RefNannyFinishContext</span>();\n",
       "  return __pyx_r;\n",
       "}\n",
       "\n",
       "/* Python wrapper */\n",
       "static PyObject *__pyx_pw_46_cython_magic_7182ce533b9cf9d878112f196f7b14cf_1ctriangle_v3(PyObject *__pyx_self, PyObject *__pyx_arg_n); /*proto*/\n",
       "static PyObject *__pyx_pw_46_cython_magic_7182ce533b9cf9d878112f196f7b14cf_1ctriangle_v3(PyObject *__pyx_self, PyObject *__pyx_arg_n) {\n",
       "  int __pyx_v_n;\n",
       "  PyObject *__pyx_r = 0;\n",
       "  <span class='refnanny'>__Pyx_RefNannyDeclarations</span>\n",
       "  <span class='refnanny'>__Pyx_RefNannySetupContext</span>(\"ctriangle_v3 (wrapper)\", 0);\n",
       "  assert(__pyx_arg_n); {\n",
       "    __pyx_v_n = <span class='pyx_c_api'>__Pyx_PyInt_As_int</span>(__pyx_arg_n); if (unlikely((__pyx_v_n == (int)-1) &amp;&amp; <span class='py_c_api'>PyErr_Occurred</span>())) <span class='error_goto'>__PYX_ERR(0, 2, __pyx_L3_error)</span>\n",
       "  }\n",
       "  goto __pyx_L4_argument_unpacking_done;\n",
       "  __pyx_L3_error:;\n",
       "  <span class='pyx_c_api'>__Pyx_AddTraceback</span>(\"_cython_magic_7182ce533b9cf9d878112f196f7b14cf.ctriangle_v3\", __pyx_clineno, __pyx_lineno, __pyx_filename);\n",
       "  <span class='refnanny'>__Pyx_RefNannyFinishContext</span>();\n",
       "  return NULL;\n",
       "  __pyx_L4_argument_unpacking_done:;\n",
       "  __pyx_r = __pyx_pf_46_cython_magic_7182ce533b9cf9d878112f196f7b14cf_ctriangle_v3(__pyx_self, ((int)__pyx_v_n));\n",
       "  int __pyx_lineno = 0;\n",
       "  const char *__pyx_filename = NULL;\n",
       "  int __pyx_clineno = 0;\n",
       "\n",
       "  /* function exit code */\n",
       "  <span class='refnanny'>__Pyx_RefNannyFinishContext</span>();\n",
       "  return __pyx_r;\n",
       "}\n",
       "\n",
       "static PyObject *__pyx_pf_46_cython_magic_7182ce533b9cf9d878112f196f7b14cf_ctriangle_v3(CYTHON_UNUSED PyObject *__pyx_self, int __pyx_v_n) {\n",
       "  PyObject *__pyx_r = NULL;\n",
       "  <span class='refnanny'>__Pyx_RefNannyDeclarations</span>\n",
       "  <span class='refnanny'>__Pyx_RefNannySetupContext</span>(\"ctriangle_v3\", 0);\n",
       "  <span class='pyx_macro_api'>__Pyx_XDECREF</span>(__pyx_r);\n",
       "  __pyx_t_1 = <span class='pyx_c_api'>__Pyx_PyInt_From_int</span>(__pyx_f_46_cython_magic_7182ce533b9cf9d878112f196f7b14cf_ctriangle_v3(__pyx_v_n, 0));<span class='error_goto'> if (unlikely(!__pyx_t_1)) __PYX_ERR(0, 2, __pyx_L1_error)</span>\n",
       "  <span class='refnanny'>__Pyx_GOTREF</span>(__pyx_t_1);\n",
       "  __pyx_r = __pyx_t_1;\n",
       "  __pyx_t_1 = 0;\n",
       "  goto __pyx_L0;\n",
       "\n",
       "  /* function exit code */\n",
       "  __pyx_L1_error:;\n",
       "  <span class='pyx_macro_api'>__Pyx_XDECREF</span>(__pyx_t_1);\n",
       "  <span class='pyx_c_api'>__Pyx_AddTraceback</span>(\"_cython_magic_7182ce533b9cf9d878112f196f7b14cf.ctriangle_v3\", __pyx_clineno, __pyx_lineno, __pyx_filename);\n",
       "  __pyx_r = NULL;\n",
       "  __pyx_L0:;\n",
       "  <span class='refnanny'>__Pyx_XGIVEREF</span>(__pyx_r);\n",
       "  <span class='refnanny'>__Pyx_RefNannyFinishContext</span>();\n",
       "  return __pyx_r;\n",
       "}\n",
       "</pre><pre class=\"cython line score-0\">&#xA0;<span class=\"\">3</span>:     <span class=\"k\">cdef</span> <span class=\"kt\">int</span> <span class=\"nf\">i</span></pre>\n",
       "<pre class=\"cython line score-0\" onclick=\"(function(s){s.display=s.display==='block'?'none':'block'})(this.nextElementSibling.style)\">+<span class=\"\">4</span>:     <span class=\"k\">cdef</span> <span class=\"kt\">int</span> <span class=\"nf\">total</span> <span class=\"o\">=</span> <span class=\"mf\">0</span></pre>\n",
       "<pre class='cython code score-0 '>  __pyx_v_total = 0;\n",
       "</pre><pre class=\"cython line score-0\" onclick=\"(function(s){s.display=s.display==='block'?'none':'block'})(this.nextElementSibling.style)\">+<span class=\"\">5</span>:     <span class=\"k\">for</span> <span class=\"n\">i</span> <span class=\"ow\">in</span> <span class=\"nb\">range</span><span class=\"p\">(</span><span class=\"mf\">1</span><span class=\"p\">,</span> <span class=\"n\">n</span><span class=\"o\">+</span><span class=\"mf\">1</span><span class=\"p\">):</span></pre>\n",
       "<pre class='cython code score-0 '>  __pyx_t_1 = (__pyx_v_n + 1);\n",
       "  __pyx_t_2 = __pyx_t_1;\n",
       "  for (__pyx_t_3 = 1; __pyx_t_3 &lt; __pyx_t_2; __pyx_t_3+=1) {\n",
       "    __pyx_v_i = __pyx_t_3;\n",
       "</pre><pre class=\"cython line score-0\" onclick=\"(function(s){s.display=s.display==='block'?'none':'block'})(this.nextElementSibling.style)\">+<span class=\"\">6</span>:         <span class=\"n\">total</span> <span class=\"o\">+=</span> <span class=\"n\">i</span></pre>\n",
       "<pre class='cython code score-0 '>    __pyx_v_total = (__pyx_v_total + __pyx_v_i);\n",
       "  }\n",
       "</pre><pre class=\"cython line score-0\" onclick=\"(function(s){s.display=s.display==='block'?'none':'block'})(this.nextElementSibling.style)\">+<span class=\"\">7</span>:     <span class=\"k\">return</span> <span class=\"n\">total</span></pre>\n",
       "<pre class='cython code score-0 '>  __pyx_r = __pyx_v_total;\n",
       "  goto __pyx_L0;\n",
       "</pre></div></body></html>"
      ],
      "text/plain": [
       "<IPython.core.display.HTML object>"
      ]
     },
     "execution_count": 32,
     "metadata": {},
     "output_type": "execute_result"
    }
   ],
   "source": [
    "%%cython -a\n",
    "\n",
    "cpdef int ctriangle_v3(int n):\n",
    "    cdef int i\n",
    "    cdef int total = 0\n",
    "    for i in range(1, n+1):\n",
    "        total += i\n",
    "    return total"
   ]
  },
  {
   "cell_type": "markdown",
   "id": "ad85c12e",
   "metadata": {},
   "source": [
    "Now we only have the function declaration itself which is Python interaction, and we cannot really fix that, because we will always need to use some Python when entering the function."
   ]
  },
  {
   "cell_type": "code",
   "execution_count": 33,
   "id": "790556f1",
   "metadata": {},
   "outputs": [
    {
     "name": "stdout",
     "output_type": "stream",
     "text": [
      "694 ns ± 108 ns per loop (mean ± std. dev. of 7 runs, 1,000 loops each)\n"
     ]
    }
   ],
   "source": [
    "%timeit -n 1000 ctriangle_v3(1000)"
   ]
  },
  {
   "cell_type": "markdown",
   "id": "6df524be",
   "metadata": {},
   "source": [
    "Much better!\n",
    "Now there's only Python when entering the function,\n",
    "which is about as good as we can do.\n",
    "\n",
    "\n",
    "### Diffusion Equation with Cython\n",
    "\n",
    "Now that we have learned about Cython, let us return to the diffusion equation, and see if we can optimize it even further with Cython. Let us first try with no hints, and no vectorization. Note that we can use numpy inside Cython, but we will need to import it inside the cell we compile our Cython code in."
   ]
  },
  {
   "cell_type": "code",
   "execution_count": 34,
   "id": "46a2e264",
   "metadata": {},
   "outputs": [],
   "source": [
    "%%cython\n",
    "\n",
    "import numpy as np\n",
    "\n",
    "def diffuse_signal_cython(u0, steps=1024):\n",
    "    N = len(u0)\n",
    "    u = np.empty((steps+1, N))\n",
    "    u[0, :] = u0\n",
    "    u[:, 0] = u[0, 0]\n",
    "    u[:, -1] = u[0, -1]\n",
    "\n",
    "    for i in range(steps):\n",
    "        for j in range(1, N-1):\n",
    "            u[i+1, j] = (u[i, j+1] + 2*u[i, j] + u[i, j-1])/4\n",
    "\n",
    "    return u"
   ]
  },
  {
   "cell_type": "code",
   "execution_count": 35,
   "id": "683bd2c7",
   "metadata": {},
   "outputs": [
    {
     "name": "stdout",
     "output_type": "stream",
     "text": [
      "922 ms ± 0 ns per loop (mean ± std. dev. of 1 run, 1 loop each)\n"
     ]
    }
   ],
   "source": [
    "c1 = %timeit -r 1 -n 1 -o y = diffuse_signal_cython(x, 2048)\n",
    "t_c1 = c1.best\n",
    "times.append(t_c1)\n",
    "labels.append(\"cython (no hints)\")"
   ]
  },
  {
   "cell_type": "code",
   "execution_count": 36,
   "id": "27b88e97",
   "metadata": {},
   "outputs": [
    {
     "data": {
      "image/png": "[encoded data removed]",
      "text/plain": [
       "<Figure size 864x432 with 1 Axes>"
      ]
     },
     "metadata": {
      "filenames": {
       "image/png": "/__w/IN1910_H22/IN1910_H22/book/_build/jupyter_execute/docs/lectures/optimization/optimization_and_mixed_programming_64_0.png"
      },
      "needs_background": "light"
     },
     "output_type": "display_data"
    }
   ],
   "source": [
    "plot_times()"
   ]
  },
  {
   "cell_type": "markdown",
   "id": "68fc3e42",
   "metadata": {},
   "source": [
    "Without any annotations to Cython, we barely get a speed up of the Pure Python version. Let us start giving Cython some more information to work with. We can also do a `cimport` of numpy. This allows Cython to call directly on Numpy's C code, instead of doing this *through Python*, which would slow things down.\n",
    "\n",
    "\n",
    "Without annotations, we don't get much improvement over the pure Python version.\n",
    "We can note the types of the input arguments, to get some improvements. The argument `steps` is an int, so are the variables `N`, `i`, and `j`. So far so good. But what about `u0` and `u`? Well, these are numpy arrays, which have the datatype `np.ndarray`, but we also need to explain that they contain doubles, and that `u0` is 1D, while `u` is 2D. We can do this with\n",
    "* `np.ndarray[double, ndim=1]`\n",
    "* `np.ndarray[double, ndim=2]`"
   ]
  },
  {
   "cell_type": "code",
   "execution_count": 37,
   "id": "afbd4235",
   "metadata": {},
   "outputs": [
    {
     "name": "stderr",
     "output_type": "stream",
     "text": [
      "In file included from /venv/lib/python3.10/site-packages/numpy/core/include/numpy/ndarraytypes.h:1969,\n",
      "                 from /venv/lib/python3.10/site-packages/numpy/core/include/numpy/ndarrayobject.h:12,\n",
      "                 from /venv/lib/python3.10/site-packages/numpy/core/include/numpy/arrayobject.h:4,\n",
      "                 from /github/home/.cache/ipython/cython/_cython_magic_1b21d954ddceb3e0a8550f870c44670f.c:722:\n",
      "/venv/lib/python3.10/site-packages/numpy/core/include/numpy/npy_1_7_deprecated_api.h:17:2: warning: #warning \"Using deprecated NumPy API, disable it with \" \"#define NPY_NO_DEPRECATED_API NPY_1_7_API_VERSION\" [-Wcpp]\n",
      "   17 | #warning \"Using deprecated NumPy API, disable it with \" \\\n",
      "      |  ^~~~~~~\n",
      "/github/home/.cache/ipython/cython/_cython_magic_1b21d954ddceb3e0a8550f870c44670f.c: In function ‘__pyx_pf_46_cython_magic_1b21d954ddceb3e0a8550f870c44670f_diffuse_signal_cython_v2’:\n",
      "/github/home/.cache/ipython/cython/_cython_magic_1b21d954ddceb3e0a8550f870c44670f.c:2146:37: warning: comparison of integer expressions of different signedness: ‘int’ and ‘size_t’ {aka ‘long unsigned int’} [-Wsign-compare]\n",
      " 2146 |     for (__pyx_t_18 = 1; __pyx_t_18 < __pyx_t_17; __pyx_t_18+=1) {\n",
      "      |                                     ^\n"
     ]
    }
   ],
   "source": [
    "%%cython\n",
    "\n",
    "import numpy as np\n",
    "cimport numpy as np\n",
    "\n",
    "def diffuse_signal_cython_v2(np.ndarray[double, ndim=1] u0, int steps=1024):\n",
    "    cdef size_t N = len(u0)\n",
    "\n",
    "    cdef np.ndarray[double, ndim=2] u\n",
    "    u = np.empty((steps+1, N))\n",
    "    u[0, :] = u0\n",
    "    u[:, 0] = u[0, 0]\n",
    "    u[:, -1] = u[0, -1]\n",
    "\n",
    "    cdef int i, j\n",
    "    for i in range(steps):\n",
    "        for j in range(1, N-1):\n",
    "            u[i+1, j] = (u[i, j+1] + 2*u[i, j] + u[i, j-1])/4\n",
    "\n",
    "    return u"
   ]
  },
  {
   "cell_type": "code",
   "execution_count": 38,
   "id": "4fd9c453",
   "metadata": {},
   "outputs": [
    {
     "name": "stdout",
     "output_type": "stream",
     "text": [
      "4.9 ms ± 22.3 µs per loop (mean ± std. dev. of 7 runs, 10 loops each)\n"
     ]
    },
    {
     "data": {
      "image/png": "[encoded data removed]",
      "text/plain": [
       "<Figure size 864x432 with 1 Axes>"
      ]
     },
     "metadata": {
      "filenames": {
       "image/png": "/__w/IN1910_H22/IN1910_H22/book/_build/jupyter_execute/docs/lectures/optimization/optimization_and_mixed_programming_67_1.png"
      },
      "needs_background": "light"
     },
     "output_type": "display_data"
    }
   ],
   "source": [
    "ct = %timeit -n 10 -o y = diffuse_signal_cython_v2(x, 2048)\n",
    "t_ct = ct.best\n",
    "\n",
    "times.append(t_ct)\n",
    "labels.append(\"cython (types)\")\n",
    "plot_times()"
   ]
  },
  {
   "cell_type": "markdown",
   "id": "458b840f",
   "metadata": {},
   "source": [
    "By compiling with Cython and declaring types, we have gotten a non-vectorized version down to ~3 ms, which is 3-4 times faster than our version vectorized with Numpy.\n",
    "\n",
    "\n",
    "Can we use Cython on our vectorized code?"
   ]
  },
  {
   "cell_type": "code",
   "execution_count": 39,
   "id": "a0c76a0f",
   "metadata": {},
   "outputs": [
    {
     "name": "stderr",
     "output_type": "stream",
     "text": [
      "In file included from /venv/lib/python3.10/site-packages/numpy/core/include/numpy/ndarraytypes.h:1969,\n",
      "                 from /venv/lib/python3.10/site-packages/numpy/core/include/numpy/ndarrayobject.h:12,\n",
      "                 from /venv/lib/python3.10/site-packages/numpy/core/include/numpy/arrayobject.h:4,\n",
      "                 from /github/home/.cache/ipython/cython/_cython_magic_7f6c9056a412bd30c46e3301bd446c5f.c:723:\n",
      "/venv/lib/python3.10/site-packages/numpy/core/include/numpy/npy_1_7_deprecated_api.h:17:2: warning: #warning \"Using deprecated NumPy API, disable it with \" \"#define NPY_NO_DEPRECATED_API NPY_1_7_API_VERSION\" [-Wcpp]\n",
      "   17 | #warning \"Using deprecated NumPy API, disable it with \" \\\n",
      "      |  ^~~~~~~\n"
     ]
    }
   ],
   "source": [
    "%%cython\n",
    "\n",
    "import numpy as np\n",
    "cimport numpy as np\n",
    "\n",
    "def diffuse_signal_cython_v3(np.ndarray[double, ndim=1] u0, int steps=1024):\n",
    "    cdef size_t N = len(u0)\n",
    "\n",
    "    cdef np.ndarray[double, ndim=2] u\n",
    "    u = np.empty((steps+1, N))\n",
    "    u[0, :] = u0\n",
    "    u[:, 0] = u[0, 0]\n",
    "    u[:, -1] = u[0, -1]\n",
    "\n",
    "    cdef int i, j\n",
    "    for i in range(steps):\n",
    "        u[i+1, 1:-1] = (u[i, :-2] + 2*u[i, 1:-1] + u[i, 2:])/4\n",
    "\n",
    "    return u"
   ]
  },
  {
   "cell_type": "code",
   "execution_count": 40,
   "id": "4b4e72e3",
   "metadata": {},
   "outputs": [
    {
     "name": "stdout",
     "output_type": "stream",
     "text": [
      "4.91 ms ± 66.9 µs per loop (mean ± std. dev. of 7 runs, 10 loops each)\n"
     ]
    },
    {
     "data": {
      "image/png": "[encoded data removed]",
      "text/plain": [
       "<Figure size 864x432 with 1 Axes>"
      ]
     },
     "metadata": {
      "filenames": {
       "image/png": "/__w/IN1910_H22/IN1910_H22/book/_build/jupyter_execute/docs/lectures/optimization/optimization_and_mixed_programming_70_1.png"
      },
      "needs_background": "light"
     },
     "output_type": "display_data"
    }
   ],
   "source": [
    "ct = %timeit -n 10 -o y = diffuse_signal_cython_v2(x, 2048)\n",
    "t_ct = ct.best\n",
    "\n",
    "times.append(t_ct)\n",
    "labels.append(\"numpy + cython\")\n",
    "plot_times()"
   ]
  },
  {
   "cell_type": "markdown",
   "id": "92df5b7f",
   "metadata": {},
   "source": [
    "Surprisingly, no! In this case, doing the vectorized computation with the numpy arrays doesn't improve things much. This is because Cython with types have already converted things to C loops, and so the Numpy vectorization is more or less the same thing.\n",
    "\n",
    "\n",
    "However, we can optimize even further with Cython by also using *macros*. Normal computations with Numpy arrays have two nice features that we don't actually need. The first is bounds checking, which is what throws an error if we go out of bounds. And the second is negative indexing. Recall that both of these features are not in C/C++ arrays.\n",
    "\n",
    "While these features are nice, they also take some time from our super optimized solver. So we can *turn them of*. Cython can do this for us:"
   ]
  },
  {
   "cell_type": "code",
   "execution_count": 41,
   "id": "830fa7cf",
   "metadata": {},
   "outputs": [
    {
     "name": "stderr",
     "output_type": "stream",
     "text": [
      "In file included from /venv/lib/python3.10/site-packages/numpy/core/include/numpy/ndarraytypes.h:1969,\n",
      "                 from /venv/lib/python3.10/site-packages/numpy/core/include/numpy/ndarrayobject.h:12,\n",
      "                 from /venv/lib/python3.10/site-packages/numpy/core/include/numpy/arrayobject.h:4,\n",
      "                 from /github/home/.cache/ipython/cython/_cython_magic_29e9d4d3dc128c484177bbbe8efd5384.c:724:\n",
      "/venv/lib/python3.10/site-packages/numpy/core/include/numpy/npy_1_7_deprecated_api.h:17:2: warning: #warning \"Using deprecated NumPy API, disable it with \" \"#define NPY_NO_DEPRECATED_API NPY_1_7_API_VERSION\" [-Wcpp]\n",
      "   17 | #warning \"Using deprecated NumPy API, disable it with \" \\\n",
      "      |  ^~~~~~~\n",
      "/github/home/.cache/ipython/cython/_cython_magic_29e9d4d3dc128c484177bbbe8efd5384.c: In function ‘__pyx_pf_46_cython_magic_29e9d4d3dc128c484177bbbe8efd5384_diffuse_signal_cython_v4’:\n",
      "/github/home/.cache/ipython/cython/_cython_magic_29e9d4d3dc128c484177bbbe8efd5384.c:2118:37: warning: comparison of integer expressions of different signedness: ‘int’ and ‘size_t’ {aka ‘long unsigned int’} [-Wsign-compare]\n",
      " 2118 |     for (__pyx_t_18 = 1; __pyx_t_18 < __pyx_t_17; __pyx_t_18+=1) {\n",
      "      |                                     ^\n"
     ]
    }
   ],
   "source": [
    "%%cython\n",
    "#cython: boundscheck=False\n",
    "#cython: wraparound=False\n",
    "\n",
    "import numpy as np\n",
    "cimport numpy as np\n",
    "\n",
    "def diffuse_signal_cython_v4(np.ndarray[double, ndim=1] u0, int steps=1024):\n",
    "    cdef size_t N = len(u0)\n",
    "\n",
    "    cdef np.ndarray[double, ndim=2] u\n",
    "    u = np.empty((steps+1, N))\n",
    "    u[0, :] = u0\n",
    "    u[:, 0] = u[0, 0]\n",
    "    u[:, -1] = u[0, -1]\n",
    "\n",
    "    cdef int i, j\n",
    "    for i in range(steps):\n",
    "        for j in range(1, N-1):\n",
    "            u[i+1, j] = (u[i, j+1] + 2*u[i, j] + u[i, j-1])/4\n",
    "\n",
    "    return u"
   ]
  },
  {
   "cell_type": "code",
   "execution_count": 42,
   "id": "91172ded",
   "metadata": {},
   "outputs": [
    {
     "name": "stdout",
     "output_type": "stream",
     "text": [
      "1.43 ms ± 9.39 µs per loop (mean ± std. dev. of 7 runs, 100 loops each)\n"
     ]
    },
    {
     "data": {
      "image/png": "[encoded data removed]",
      "text/plain": [
       "<Figure size 864x432 with 1 Axes>"
      ]
     },
     "metadata": {
      "filenames": {
       "image/png": "/__w/IN1910_H22/IN1910_H22/book/_build/jupyter_execute/docs/lectures/optimization/optimization_and_mixed_programming_73_1.png"
      },
      "needs_background": "light"
     },
     "output_type": "display_data"
    }
   ],
   "source": [
    "copt = %timeit -n 100 -o y = diffuse_signal_cython_v4(x, 2048)\n",
    "t_copt = copt.best\n",
    "times.append(t_copt)\n",
    "labels.append(\"cython (optimized)\")\n",
    "plot_times()"
   ]
  },
  {
   "cell_type": "markdown",
   "id": "47e9f972",
   "metadata": {},
   "source": [
    "Note that while the difference between the two last bars seems very small, the axis is logarithmic, and so there is about a factor 2 difference.\n",
    "\n",
    "\n",
    "## JIT Compiling with numba\n",
    "\n",
    "When compiling Python code with Cython, we are performing a step usually referred to as JIT compiling, which stands for \"just-in-time\" compiling. Other JIT compiling tools exists for Python, a popular example is [numba](http://numba.pydata.org/). Numba is a library that attempts to automatically do type-based optimizations like we did with Cython. The nice thing is that numba does this automatically.\n",
    "\n",
    "To use numba, you decorate functions with `@jit`. Let us try it on our vectorized function. We only add the decorator, no other code is changed:"
   ]
  },
  {
   "cell_type": "code",
   "execution_count": 43,
   "id": "e16a97b6",
   "metadata": {},
   "outputs": [],
   "source": [
    "import numba\n",
    "\n",
    "@numba.jit\n",
    "def diffuse_signal_numba(u0, steps=1024):\n",
    "    \"\"\"Vectorized version of diffuse_signal\"\"\"\n",
    "    N = len(u0)\n",
    "    u = np.empty((steps+1, N))\n",
    "    u[0, :] = u0\n",
    "    u[:, 0] = u[0, 0]\n",
    "    u[:, -1] = u[0, -1]\n",
    "\n",
    "    for i in range(steps):\n",
    "        u[i+1, 1:-1] = (u[i, :-2] + 2*u[i, 1:-1] + u[i, 2:])/4\n",
    "\n",
    "    return u"
   ]
  },
  {
   "cell_type": "code",
   "execution_count": 44,
   "id": "f1ea6884",
   "metadata": {},
   "outputs": [
    {
     "name": "stdout",
     "output_type": "stream",
     "text": [
      "The slowest run took 145.99 times longer than the fastest. This could mean that an intermediate result is being cached.\n",
      "41.5 ms ± 96.8 ms per loop (mean ± std. dev. of 7 runs, 3 loops each)\n"
     ]
    },
    {
     "data": {
      "image/png": "[encoded data removed]",
      "text/plain": [
       "<Figure size 864x432 with 1 Axes>"
      ]
     },
     "metadata": {
      "filenames": {
       "image/png": "/__w/IN1910_H22/IN1910_H22/book/_build/jupyter_execute/docs/lectures/optimization/optimization_and_mixed_programming_76_1.png"
      },
      "needs_background": "light"
     },
     "output_type": "display_data"
    }
   ],
   "source": [
    "nb = %timeit -n 3 -o diffuse_signal_numba(x, 2048)\n",
    "t_nb = nb.best\n",
    "times.append(t_nb)\n",
    "labels.append(\"numba\")\n",
    "plot_times()"
   ]
  },
  {
   "cell_type": "markdown",
   "id": "95474fbc",
   "metadata": {},
   "source": [
    "Looking at these results, numba is quite impressive. It has managed to beat all but the most optimized of our implementations, and it did so with zero help or hints from us. Like Cython, numba can do an even better job if you provide it with more information.\n",
    "\n",
    "## Combining C++ with python\n",
    "\n",
    "Throughout this course we have learned about python and C++, and you might wonder if it is possible to combine the speed C++ with the user friendliness of python. Say that you have written some highly optimized code in C++ and you want to call this code from your python project. Is this possible?\n",
    "\n",
    "The answer to this questions is YES!. In fact, this way of creating user friendly code in python, and carry out the heavy lifting in some other programming language such as C, Fortran or C++ is a paradigm that is heavily used in scientific computing. For example a lot of the performant code in scipy is written in Fortran and, as you probably know already, numpy relies heavily on C – extensions.\n",
    "\n",
    "Writing C-extensions has been the traditional way of writing performant code. Since python itself is written in C, we have had C-extension around for quite some time already.\n",
    "However, more recently there has been ongoing work in order to be able to bring in also call C++ code from python, and we will now go through a simple example on how this can be achieved.\n",
    "\n",
    "If you want to learn more about how you can create C-extensions and make calls to C code from python you can check out [this article](https://docs.python-guide.org/scenarios/clibs/) which talks about ctypes and swig.\n",
    "\n",
    "### Creating python binding to C++ using pybind11\n",
    "\n",
    "[pybind11](https://pybind11.readthedocs.io/en/stable/intro.html) is a library that creates a bridge between python and C++. Many larger projects that rely on calling out to C++ code from python has now moved to using pybind11, for example [FEniCs](https://fenicsproject.org).\n",
    "\n",
    "The first thing you need to do is to install pybind11. If you are using anaconda, you can simply to `conda install -c conda-forge pybind11\n",
    " `. If you are not using anaconda, please consult the pybind11 documentation page.\n",
    "\n",
    "The following example is taken from the [pybind11 documentation page]( https://pybind11.readthedocs.io/en/stable/basics.html#creating-bindings-for-a-simple-function)\n",
    "Say that we have a simple add function written in C++ that we want to call from python\n",
    "```C++\n",
    "int add(int i, int j) {\n",
    "    return i + j;\n",
    "}\n",
    "\n",
    "```\n",
    "Now we want to create a binding to python. In the following code we have included pybind11 headers and written a simple binding\n",
    "\n",
    "```C++\n",
    "#include <pybind11/pybind11.h>\n",
    "\n",
    "int add(int i, int j) {\n",
    "    return i + j;\n",
    "}\n",
    "\n",
    "PYBIND11_MODULE(example, m) {\n",
    "    m.doc() = \"pybind11 example plugin\"; // optional module docstring\n",
    "\n",
    "    m.def(\"add\", &add, \"A function which adds two numbers\");\n",
    "}\n",
    "```\n",
    "First argument to `PYBIND11_MODULE`  is the name of the module which we here set to example. The second argument is a variable which we use to create the bindings.\n",
    "`m.doc()` can be used to create a docstring for the module.\n",
    "`m.def()` is used generated the binding code for a function. The first argument is the name of the function as it will appear in the python module. The second argument is a reference to the function, and the third argument is the docstring for the function. Remaining arguments can be used to define names of the argument,\n",
    "so that we can use keyword arguments in python. See example on the pybind11 documentation page for more info.\n",
    "\n",
    "Now we can compile with the following command on linux (or WSL on Windows)\n",
    "```\n",
    "c++ -O3 -Wall -shared -std=c++11 -fPIC `python3 -m pybind11 --includes` example.cpp -o example`python3-config --extension-suffix`\n",
    "```\n",
    "or the following command on Mac OSX\n",
    "```\n",
    "c++ -O3 -Wall -shared -std=c++11 -undefined dynamic_lookup `python3 -m pybind11 --includes` example.cpp -o example`python3-config --extension-suffix`\n",
    "```\n",
    "\n",
    "If you want to compile this on Windows, you need to use [CMake](https://pybind11.readthedocs.io/en/stable/compiling.html#cmake)."
   ]
  },
  {
   "cell_type": "code",
   "execution_count": 45,
   "id": "3fbefd8b",
   "metadata": {},
   "outputs": [
    {
     "name": "stdout",
     "output_type": "stream",
     "text": [
      "make[1]: *** pybind11/add_function: No such file or directory.  Stop.\r\n"
     ]
    }
   ],
   "source": [
    "# Here we just call out to\n",
    "!make -C pybind11/add_function"
   ]
  },
  {
   "cell_type": "markdown",
   "id": "c737fd38",
   "metadata": {},
   "source": [
    "You can now import the module after first adding the compiled shared library file to your python path (if you are running from the same directory as the compiled file you do not need to add it to the path)"
   ]
  },
  {
   "cell_type": "code",
   "execution_count": 46,
   "id": "59a37e5c",
   "metadata": {},
   "outputs": [
    {
     "ename": "ModuleNotFoundError",
     "evalue": "No module named 'example'",
     "output_type": "error",
     "traceback": [
      "\u001b[0;31m---------------------------------------------------------------------------\u001b[0m",
      "\u001b[0;31mModuleNotFoundError\u001b[0m                       Traceback (most recent call last)",
      "Input \u001b[0;32mIn [46]\u001b[0m, in \u001b[0;36m<cell line: 4>\u001b[0;34m()\u001b[0m\n\u001b[1;32m      2\u001b[0m \u001b[38;5;28;01mimport\u001b[39;00m \u001b[38;5;21;01msys\u001b[39;00m\n\u001b[1;32m      3\u001b[0m sys\u001b[38;5;241m.\u001b[39mpath\u001b[38;5;241m.\u001b[39minsert(\u001b[38;5;241m0\u001b[39m, \u001b[38;5;124m\"\u001b[39m\u001b[38;5;124mpybind11/add_function\u001b[39m\u001b[38;5;124m\"\u001b[39m)\n\u001b[0;32m----> 4\u001b[0m \u001b[38;5;28;01mimport\u001b[39;00m \u001b[38;5;21;01mexample\u001b[39;00m\n\u001b[1;32m      5\u001b[0m i \u001b[38;5;241m=\u001b[39m \u001b[38;5;241m2\u001b[39m\n\u001b[1;32m      6\u001b[0m j \u001b[38;5;241m=\u001b[39m \u001b[38;5;241m4\u001b[39m\n",
      "\u001b[0;31mModuleNotFoundError\u001b[0m: No module named 'example'"
     ]
    }
   ],
   "source": [
    "# Add the folder where the compiled code is located\n",
    "import sys\n",
    "sys.path.insert(0, \"pybind11/add_function\")\n",
    "import example\n",
    "i = 2\n",
    "j = 4\n",
    "result = example.add(i, j)\n",
    "print(f\"{i} + {j} = {result}\")"
   ]
  },
  {
   "cell_type": "markdown",
   "id": "0d0006fb",
   "metadata": {},
   "source": [
    "### Performance gain from pybind11\n",
    "\n",
    "You might ask if it worth going through all the work of writing these binding and perform the compilation. Usually you will find a function in `numpy` which implements what you want to do. We can investigate the performance by looking at a very simple benchmark problem, i.e summing all the numbers from 1 to $N$. In python you could to something like this"
   ]
  },
  {
   "cell_type": "code",
   "execution_count": 47,
   "id": "33f3d5d3",
   "metadata": {},
   "outputs": [],
   "source": [
    "# Let us set N to a big number\n",
    "N = 100_000_000"
   ]
  },
  {
   "cell_type": "code",
   "execution_count": 48,
   "id": "853f5bc7",
   "metadata": {},
   "outputs": [
    {
     "name": "stdout",
     "output_type": "stream",
     "text": [
      "Elapsed time: 9.58e+00 seconds\n"
     ]
    }
   ],
   "source": [
    "import time\n",
    "t0 = time.perf_counter()\n",
    "s = 0\n",
    "for i in range(N):\n",
    "    s += i\n",
    "t1 = time.perf_counter()\n",
    "print(f\"Elapsed time: {t1-t0:.2e} seconds\")"
   ]
  },
  {
   "cell_type": "markdown",
   "id": "0d588f69",
   "metadata": {},
   "source": [
    "We can probably improve this by avoiding the `for` loop and using the built-in `sum` function"
   ]
  },
  {
   "cell_type": "code",
   "execution_count": 49,
   "id": "796fade1",
   "metadata": {},
   "outputs": [
    {
     "name": "stdout",
     "output_type": "stream",
     "text": [
      "Elapsed time: 1.82e+00 seconds\n"
     ]
    }
   ],
   "source": [
    "t0 = time.perf_counter()\n",
    "s = sum(range(N))\n",
    "t1 = time.perf_counter()\n",
    "print(f\"Elapsed time: {t1-t0:.2e} seconds\")"
   ]
  },
  {
   "cell_type": "markdown",
   "id": "62493ce7",
   "metadata": {},
   "source": [
    "And we should expect to get an even better speedup by moving to `numpy`"
   ]
  },
  {
   "cell_type": "code",
   "execution_count": 50,
   "id": "334f340a",
   "metadata": {},
   "outputs": [
    {
     "name": "stdout",
     "output_type": "stream",
     "text": [
      "Elapsed time: 3.14e-01 seconds\n"
     ]
    }
   ],
   "source": [
    "t0 = time.perf_counter()\n",
    "s = np.sum(np.arange(N))\n",
    "t1 = time.perf_counter()\n",
    "print(f\"Elapsed time: {t1-t0:.2e} seconds\")"
   ]
  },
  {
   "cell_type": "markdown",
   "id": "bbbc547d",
   "metadata": {},
   "source": [
    "How can we do this in pybind11? Here is one example (note that we use `unsigned long int` instead of `int` to handle very large numbers)\n",
    "\n",
    "```C++\n",
    "#include <pybind11/pybind11.h>\n",
    "\n",
    "namespace py = pybind11;\n",
    "\n",
    "unsigned long int sum(unsigned long int n) {\n",
    "    unsigned long int s = 0;\n",
    "    for (unsigned long int i = 0; i < n; i++) {\n",
    "        s += i;\n",
    "    }\n",
    "    return s;\n",
    "}\n",
    "\n",
    "PYBIND11_MODULE(bigsum, m) {\n",
    "    m.doc() = \"pybind11 bigsum example\";  // optional module docstring\n",
    "\n",
    "    m.def(\"sum\", &sum, \"Sum all elements from 0 to n\", py::arg(\"n\"));\n",
    "}\n",
    "```"
   ]
  },
  {
   "cell_type": "code",
   "execution_count": 51,
   "id": "440f8ba3",
   "metadata": {},
   "outputs": [
    {
     "name": "stdout",
     "output_type": "stream",
     "text": [
      "make[1]: *** pybind11/bigsum: No such file or directory.  Stop.\r\n"
     ]
    }
   ],
   "source": [
    "!make -C pybind11/bigsum"
   ]
  },
  {
   "cell_type": "code",
   "execution_count": 52,
   "id": "330d4e00",
   "metadata": {},
   "outputs": [
    {
     "ename": "ModuleNotFoundError",
     "evalue": "No module named 'bigsum'",
     "output_type": "error",
     "traceback": [
      "\u001b[0;31m---------------------------------------------------------------------------\u001b[0m",
      "\u001b[0;31mModuleNotFoundError\u001b[0m                       Traceback (most recent call last)",
      "Input \u001b[0;32mIn [52]\u001b[0m, in \u001b[0;36m<cell line: 3>\u001b[0;34m()\u001b[0m\n\u001b[1;32m      1\u001b[0m \u001b[38;5;28;01mimport\u001b[39;00m \u001b[38;5;21;01msys\u001b[39;00m\n\u001b[1;32m      2\u001b[0m sys\u001b[38;5;241m.\u001b[39mpath\u001b[38;5;241m.\u001b[39minsert(\u001b[38;5;241m0\u001b[39m, \u001b[38;5;124m\"\u001b[39m\u001b[38;5;124mpybind11/bigsum\u001b[39m\u001b[38;5;124m\"\u001b[39m)\n\u001b[0;32m----> 3\u001b[0m \u001b[38;5;28;01mimport\u001b[39;00m \u001b[38;5;21;01mbigsum\u001b[39;00m\n\u001b[1;32m      4\u001b[0m t0 \u001b[38;5;241m=\u001b[39m time\u001b[38;5;241m.\u001b[39mperf_counter()\n\u001b[1;32m      5\u001b[0m s \u001b[38;5;241m=\u001b[39m bigsum\u001b[38;5;241m.\u001b[39msum(N)\n",
      "\u001b[0;31mModuleNotFoundError\u001b[0m: No module named 'bigsum'"
     ]
    }
   ],
   "source": [
    "import sys\n",
    "sys.path.insert(0, \"pybind11/bigsum\")\n",
    "import bigsum\n",
    "t0 = time.perf_counter()\n",
    "s = bigsum.sum(N)\n",
    "t1 = time.perf_counter()\n",
    "print(f\"Elapsed time: {t1-t0:.2e} seconds\")"
   ]
  },
  {
   "cell_type": "markdown",
   "id": "0d110b22",
   "metadata": {},
   "source": [
    "That is a massive speedup! We can repeat the experiment with different `N` and plot the results"
   ]
  },
  {
   "cell_type": "code",
   "execution_count": 53,
   "id": "57f30500",
   "metadata": {},
   "outputs": [
    {
     "ename": "ModuleNotFoundError",
     "evalue": "No module named 'bigsum'",
     "output_type": "error",
     "traceback": [
      "\u001b[0;31m---------------------------------------------------------------------------\u001b[0m",
      "\u001b[0;31mModuleNotFoundError\u001b[0m                       Traceback (most recent call last)",
      "Input \u001b[0;32mIn [53]\u001b[0m, in \u001b[0;36m<cell line: 5>\u001b[0;34m()\u001b[0m\n\u001b[1;32m      3\u001b[0m \u001b[38;5;28;01mimport\u001b[39;00m \u001b[38;5;21;01mnumpy\u001b[39;00m \u001b[38;5;28;01mas\u001b[39;00m \u001b[38;5;21;01mnp\u001b[39;00m\n\u001b[1;32m      4\u001b[0m \u001b[38;5;28;01mimport\u001b[39;00m \u001b[38;5;21;01mtime\u001b[39;00m\n\u001b[0;32m----> 5\u001b[0m \u001b[38;5;28;01mimport\u001b[39;00m \u001b[38;5;21;01mbigsum\u001b[39;00m\n\u001b[1;32m      8\u001b[0m labels \u001b[38;5;241m=\u001b[39m [\u001b[38;5;124m\"\u001b[39m\u001b[38;5;124mpybind11\u001b[39m\u001b[38;5;124m\"\u001b[39m, \u001b[38;5;124m\"\u001b[39m\u001b[38;5;124mpure python\u001b[39m\u001b[38;5;124m\"\u001b[39m, \u001b[38;5;124m\"\u001b[39m\u001b[38;5;124mpython sum\u001b[39m\u001b[38;5;124m\"\u001b[39m, \u001b[38;5;124m\"\u001b[39m\u001b[38;5;124mnumpy\u001b[39m\u001b[38;5;124m\"\u001b[39m]\n\u001b[1;32m     11\u001b[0m \u001b[38;5;28;01mdef\u001b[39;00m \u001b[38;5;21mrun\u001b[39m(N):\n",
      "\u001b[0;31mModuleNotFoundError\u001b[0m: No module named 'bigsum'"
     ]
    }
   ],
   "source": [
    "%matplotlib inline\n",
    "import matplotlib.pyplot as plt\n",
    "import numpy as np\n",
    "import time\n",
    "import bigsum\n",
    "\n",
    "\n",
    "labels = [\"pybind11\", \"pure python\", \"python sum\", \"numpy\"]\n",
    "\n",
    "\n",
    "def run(N):\n",
    "    t0 = time.perf_counter()\n",
    "    # Pybind11\n",
    "    s1 = bigsum.sum(N)\n",
    "    t1 = time.perf_counter()\n",
    "    # Pure python\n",
    "    s2 = 0\n",
    "    for i in range(N):\n",
    "        s2 += i\n",
    "    t2 = time.perf_counter()\n",
    "    # python sum\n",
    "    s3 = sum(range(N))\n",
    "    t3 = time.perf_counter()\n",
    "    # numpy sum\n",
    "    s4 = np.sum(np.arange(N))\n",
    "    t4 = time.perf_counter()\n",
    "\n",
    "    # Check that all results are the same\n",
    "    assert s1 == s2 == s3 == s4\n",
    "\n",
    "    return dict(zip(labels, [t1 - t0, t2 - t1, t3 - t2, t4 - t3]))\n",
    "\n",
    "\n",
    "if __name__ == \"__main__\":\n",
    "\n",
    "    Ns = [1_000_000, 5_000_000, 10_000_000, 50_000_000, 100_000_000]\n",
    "    timings = {\"pybind11\": [], \"pure python\": [], \"python sum\": [], \"numpy\": []}\n",
    "\n",
    "    for N in Ns:\n",
    "        res = run(N)\n",
    "        for label, timing in res.items():\n",
    "            timings[label].append(timing)\n",
    "\n",
    "    x = np.arange(len(Ns))\n",
    "    width = 0.15\n",
    "    fig, ax = plt.subplots(figsize=(12, 6))\n",
    "\n",
    "    for i, (label, timing) in enumerate(timings.items(), start=-2):\n",
    "        ax.bar(x + i * width, timing, width, label=label)\n",
    "\n",
    "    ax.set_yscale(\"log\")\n",
    "    ax.legend()\n",
    "    ax.set_xticks(x)\n",
    "    ax.set_xticklabels([f\"{N:.1e}\" for N in Ns])\n",
    "    ax.set_ylabel(\"Time (seconds)\")\n",
    "    ax.set_xlabel(\"N\")\n",
    "    plt.show()"
   ]
  },
  {
   "cell_type": "markdown",
   "id": "e0df5922",
   "metadata": {},
   "source": [
    "## Closing Remarks\n",
    "\n",
    "In this lecture we have look at how we can make our code faster. The main goal of the process is to identify bottle-necks in our code, and then replace the slow parts, with faster alternatives.\n",
    "\n",
    "First we looked at how we can change to completely different approaches to the problem. If this is possible, it is often a good idea. Such high level optimizations can change our code to an algorithm better suited for our needs, which can give a considerable speed up and much better scaling. The best case scenario here would be to replace a computational algorithm with an analytic solution, then we could bypass the whole computations. The `triangle` function we covered earlier is a good example of this. For this problem, we know the analytic solution\n",
    "\n",
    "$$T_n = \\frac{n(n+1)}{2}.$$\n",
    "So while messing around in Cython gave us a speed of 120 times. Simply changing our whole approach to the analytic solution would have been even better, as it will be faster, and $\\mathcal{O}(1)$.\n",
    "\n",
    "Lastly we looked at tools for mixed programming with C/C++ and Python: Cython and numba. The nice thing with these tools is that you choose how far you want to go. If you need faster code, you could simply sit down and write the whole thing in C++, but it would take a lot of time before you even had running code, much less working and well tested code.\n",
    "\n",
    "With Cython or numba (or similar tools) you can simply write a functional Python code, and then step by step improve it by JIT compiling and giving more and more hints. This is a much faster and incremental way of doing mixed programming, and works well for smaller projects/solo-work. For large scale projects, such as the development of NumPy, or FEniCS, code is usually developed in C++, and then wrapped for use in Python with tools like PyBind or swig."
   ]
  }
 ],
 "metadata": {
  "jupytext": {
   "formats": "md:myst",
   "text_representation": {
    "extension": ".md",
    "format_name": "myst"
   }
  },
  "kernelspec": {
   "display_name": "Python 3",
   "language": "python",
   "name": "python3"
  },
  "language_info": {
   "codemirror_mode": {
    "name": "ipython",
    "version": 3
   },
   "file_extension": ".py",
   "mimetype": "text/x-python",
   "name": "python",
   "nbconvert_exporter": "python",
   "pygments_lexer": "ipython3",
   "version": "3.10.4"
  },
  "source_map": [
   11,
   31,
   38,
   46,
   52,
   61,
   72,
   101,
   107,
   118,
   126,
   147,
   155,
   160,
   180,
   197,
   217,
   223,
   230,
   248,
   253,
   257,
   267,
   270,
   297,
   307,
   326,
   359,
   363,
   372,
   378,
   384,
   390,
   395,
   398,
   447,
   460,
   464,
   470,
   474,
   477,
   484,
   492,
   521,
   523,
   529,
   535,
   539,
   547,
   551,
   555,
   557,
   563,
   572,
   576,
   578,
   585,
   594,
   598,
   607,
   611,
   613,
   624,
   643,
   650,
   652,
   662,
   685,
   692,
   699,
   721,
   728,
   737,
   762,
   768,
   779,
   797,
   803,
   865,
   868,
   872,
   881,
   887,
   892,
   900,
   904,
   909,
   913,
   918,
   942,
   946,
   954,
   958,
   1016
  ]
 },
 "nbformat": 4,
 "nbformat_minor": 5
}