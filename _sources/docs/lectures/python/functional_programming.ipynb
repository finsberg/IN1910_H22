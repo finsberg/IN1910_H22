{
 "cells": [
  {
   "cell_type": "markdown",
   "id": "b5301584",
   "metadata": {},
   "source": [
    "# Functional programming in python\n",
    "\n",
    "During this course we have talked a lot about object-oriented programming, which is all about making classes. We will now introduce another programming paradigm called functional programming. In this paradigm, functions are the main building block.\n",
    "\n",
    "Many programming languages are considered either object-oriented or functional. However, in python we can use both paradigms. Knowing a little bit about both object-oriented programming and functional programming will make you a better programmer in general because you will have a larger arsenal of tools in your toolbox. We will not argue that one paradigm is better than the other. It is a matter of preference.\n",
    "\n",
    "## Functions as arguments to functions\n",
    "\n",
    "In Python, functions are *first class objects* which means that you can treat functions as variables and pass them to other functions. Consider the following example"
   ]
  },
  {
   "cell_type": "code",
   "execution_count": 1,
   "id": "628f9573",
   "metadata": {},
   "outputs": [
    {
     "name": "stdout",
     "output_type": "stream",
     "text": [
      "y = [1, 2, 3]\n",
      "z = [1, 4, 9]\n"
     ]
    }
   ],
   "source": [
    "def square(x):\n",
    "    return x * x\n",
    "\n",
    "\n",
    "def map_func_over_list(func, lst):\n",
    "    return [func(x) for x in lst]\n",
    "\n",
    "y = [1, 2, 3]\n",
    "z = map_func_over_list(square, y)\n",
    "\n",
    "print(f\"{y = }\")\n",
    "print(f\"{z = }\")"
   ]
  },
  {
   "cell_type": "markdown",
   "id": "5fbb639b",
   "metadata": {},
   "source": [
    "In this example we first create a function called `square` that expects a number and returns the square of it. Next we define another function `map_func_over_list` that takes as a function and a list and returns a new list where the function is applied to each element in the list. Being able to pass functions as arguments to other functions is a very powerful idea! In fact the function `map_func_over_list` is already a built in function in python called `map`"
   ]
  },
  {
   "cell_type": "code",
   "execution_count": 2,
   "id": "d0e28331",
   "metadata": {},
   "outputs": [
    {
     "name": "stdout",
     "output_type": "stream",
     "text": [
      "[1, 4, 9]\n"
     ]
    }
   ],
   "source": [
    "print(list(map(square, y)))"
   ]
  },
  {
   "cell_type": "markdown",
   "id": "e2c351ca",
   "metadata": {},
   "source": [
    "## Higher order functions\n",
    "\n",
    "A higher order function is just a fancy name for a function that takes another function as one of its argument. One example is the `map` function that takes a function as the first argument and an iterable (e.g a list) as the seconds argument and returns a new iterable where the function is applied to each element in that list.\n",
    "\n",
    "\n",
    "## Pure functions\n",
    "\n",
    "A pure function is a function that for a given argument always return the same value. One example is the `square` function we just saw. If we have\n",
    "```python\n",
    "y = square(x)\n",
    "z = square(x)\n",
    "```\n",
    "for some argument `x`, we know that `y` is always going to be equal to `z`. Hence `square` is a pure function.\n",
    "\n",
    "What would be an example of a non-pure function?\n",
    "\n",
    "Any function that depends on the state of the program will not be a pure function. Instance methods on a class are typically not pure (but they can be). Here is a simple example of a function that is not pure\n",
    "\n",
    "```python\n",
    "import datetime\n",
    "\n",
    "\n",
    "def compute_age_this_year_unpure(year_born):\n",
    "    return datetime.datetime.now().year - year_born\n",
    "```\n",
    "If we compute the following\n",
    "```python\n",
    "year_born = 1999\n",
    "y = compute_age_this_year_unpure(year_born)\n",
    "z = compute_age_this_year_unpure(year_born)\n",
    "```\n",
    "Will `y` and `z` be equal? Well, in most cases they will, but if you happen to run this program at new years eve then you might be unlucky. Can we make this function pure? Of course, we just have to pass in the year today as an argument\n",
    "\n",
    "```python\n",
    "def compute_age_this_year_pure(year_born, year_today):\n",
    "    return year_today - year_born\n",
    "\n",
    "\n",
    "year_born = 1999\n",
    "year_today = datetime.datetime.now().year\n",
    "y = compute_age_this_year_pure(year_born, year_today)\n",
    "z = compute_age_this_year_pure(year_born, year_today)\n",
    "```\n",
    "Will `y` and `z` be equal in this case? Yes!\n",
    "\n",
    "### Why are pure functions nice?\n",
    "\n",
    "There are several reasons why we like pure functions. One reason is that they are much easier to test. If we want to test `compute_age_this_year_pure` it would be fairly straight forward, e.g\n",
    "\n",
    "\n",
    "```python\n",
    "def test_compute_age_this_year_pure():\n",
    "    assert compute_age_this_year_pure(2000, 2022) == 22\n",
    "```\n",
    "\n",
    "Testing the unpure function is much more tricky. In fact you would need to apply a a rather advanced technique called [mocking](https://realpython.com/python-mock-library/) in order to do it, which is not covered in this course.\n",
    "\n",
    "Another nice thing about pure functions is that since they are always returning the same value for a given argument we can use something called [*memoization*](https://en.wikipedia.org/wiki/Memoization) to increase the performance. The idea behind memoization is to store the argument and the returned value of the function in some storage and then when the function is called we check is the value is already computed, and if it is we return that. Otherwise we run the function and update the storage. We will look at this a bit later in this section after we have covered {ref}`python-scopes`\n",
    "\n",
    "\n",
    "## Names, Namespaces and Scope\n",
    "\n",
    "* We constantly define new names for variables, functions, classes, etc., and import numerous others from modules and packages.\n",
    "* It would be impossible to keep track of all the names that are used throughout a large program and all its imports.\n",
    "* Potential name conflicts are resolved using the concepts of *namespaces* and *scope*.\n",
    "\n",
    "\n",
    "\n",
    "### Python namespaces\n",
    "A *namespace* is simply a mapping from names to objects. Within a single namespace, names should uniquely define an object, but objects in different namespaces may have the same local name. A real-world analogy is license plate numbers for cars. In Norway, the license plate uniquely identifies a car, but if you go to Denmark a car can have exactly the same number combination. The two countries define different *namespaces*, and to uniquely identify a car you need to know *both the namespace and local name*. An example closer to the world of programming is a directory in a file system. Each directory defines a local namespace, so two files having identical names but stored in different directories are uniquely identified.\n",
    "\n",
    "\n",
    "In Python, namespaces are created dynamically as objects are created. A namespace containing all the builtin Python names is created when Python starts, and is never deleted. Similarly, all variables created in the top level script exist in the global namespace (`__main__`), and each module has its own global namespace, which also normally exist until Python ends. A class definition creates a new namespace local to that class. Since a class definition is usually not deleted, this namespace also exists until we end Python. On the other hand, every time we create an instance of the class we create a new local namespace, which is deleted when the object is deleted, and when a function is called it creates a new local namespace, which exists until the function is done executing.\n",
    "\n",
    "\n",
    "\n",
    "We access names in different namespaces using the standard *dot* notation, as in `math.exp`, `numpy.array`, `Sphere.from_volume`, `p.Name`, etc. If we don't use the dot notation to specify which namespace a variable name belongs to, Python will search for the name according to a predefined set of rules, starting with the local namespace and moving up the hierarchy of more \"global\" namespaces. See the discussion of scope below for a more precise definition.\n",
    "\n",
    "\n",
    "\n",
    "If we understand how Python namespaces work, the difference between the various ways we import module becomes quite clear:"
   ]
  },
  {
   "cell_type": "code",
   "execution_count": 3,
   "id": "eb9cc1e2",
   "metadata": {},
   "outputs": [],
   "source": [
    "import numpy"
   ]
  },
  {
   "cell_type": "markdown",
   "id": "ec483638",
   "metadata": {},
   "source": [
    "will simply create a new namespace with the name `numpy`, containing all the variable and function names defined in the `numpy` module. The statement"
   ]
  },
  {
   "cell_type": "code",
   "execution_count": 4,
   "id": "647f3103",
   "metadata": {},
   "outputs": [],
   "source": [
    "import numpy as np"
   ]
  },
  {
   "cell_type": "markdown",
   "id": "84460d7d",
   "metadata": {},
   "source": [
    "does the same thing, but gives the name `np` to the new namespace we have created. Prefixing with `np.` gives access to all the names defined by the module. On the other hand, the statement\n",
    "```python\n",
    "from numpy import *\n",
    "```\n",
    "will not create a new namespace, but instead imports all the names defined by NumPy into the current, global namespace. This makes the names directly accessible without prefixing, but also creates potential for name conflicts. To clearly see the difference you can call the function `dir()` in an interactive Python window. This function returns a list of names currently available in the local namespace, and the names of all the existing namespaces. After checking the output of `dir()` import NumPy using the different approaches and call the function again.\n",
    "\n",
    "\n",
    "(python-scopes)=\n",
    "### Scope of names and namespaces\n",
    "\n",
    "A *scope* of a variable is defined as the part of the program where a variable name is accessible. When a Python program is running, there are several nested scopes in which the variable names are directly accessible, i.e. whose namespaces are searched automatically (without the need to prefix):\n",
    "* The local (innermost) scope includes the local variables defined inside a function, as well as all parameters passed to a function. This namespace is searched first\n",
    "* The local scope of all enclosing functions, if you have a function definition inside a function definition.\n",
    "* The global scope of the module or program, i.e., variables and function names defined at the top level of the program.\n",
    "* The global namespace of Python builtin names.\n",
    "\n",
    "\n",
    "Variables in Python are local by default. If you define a variable inside a function, the variable does no longer exist when the function is done executing. Technically, the variable name is defined in the local namespace of the function, and this namespace is deleted when the function is done executing:"
   ]
  },
  {
   "cell_type": "code",
   "execution_count": 5,
   "id": "6fbb315d",
   "metadata": {},
   "outputs": [
    {
     "name": "stdout",
     "output_type": "stream",
     "text": [
      "706.85775\n"
     ]
    }
   ],
   "source": [
    "def pancake_area():\n",
    "    pi = 3.14159\n",
    "    r = 15\n",
    "\n",
    "    return pi * r**2\n",
    "\n",
    "\n",
    "print(pancake_area())\n",
    "\n",
    "# print(r)  #Will not work since r does not exist outside function"
   ]
  },
  {
   "cell_type": "markdown",
   "id": "6559e733",
   "metadata": {},
   "source": [
    "If a global variable with the same name exists you can use that variable inside a function"
   ]
  },
  {
   "cell_type": "code",
   "execution_count": 6,
   "id": "5c32a164",
   "metadata": {},
   "outputs": [
    {
     "name": "stdout",
     "output_type": "stream",
     "text": [
      "314.159\n"
     ]
    }
   ],
   "source": [
    "pi = 3.14159\n",
    "r = 10\n",
    "\n",
    "\n",
    "def pancake_area():\n",
    "    return pi * r**2  # here r is local, pi is global\n",
    "\n",
    "\n",
    "print(pancake_area())"
   ]
  },
  {
   "cell_type": "markdown",
   "id": "5c4e48ed",
   "metadata": {},
   "source": [
    "You can also create a new local variable inside the function, and this will overwrite the variable in the global scope."
   ]
  },
  {
   "cell_type": "code",
   "execution_count": 7,
   "id": "b36bee0d",
   "metadata": {},
   "outputs": [
    {
     "name": "stdout",
     "output_type": "stream",
     "text": [
      "706.85775\n",
      "10\n"
     ]
    }
   ],
   "source": [
    "pi = 3.14159\n",
    "r = 10\n",
    "\n",
    "\n",
    "def pancake_area():\n",
    "    r = 15  # creates a new local variable\n",
    "\n",
    "    return pi * r**2  # here r is local, pi is global\n",
    "\n",
    "\n",
    "print(pancake_area())\n",
    "\n",
    "print(r)  # prints the global r"
   ]
  },
  {
   "cell_type": "markdown",
   "id": "48dfb462",
   "metadata": {},
   "source": [
    "Now, here comes a rather mysterious error. Lets try to change the global variable in inside the function, be decrementing it by 5 and then use that value"
   ]
  },
  {
   "cell_type": "code",
   "execution_count": 8,
   "id": "08e0b9c8",
   "metadata": {},
   "outputs": [
    {
     "ename": "UnboundLocalError",
     "evalue": "local variable 'r' referenced before assignment",
     "output_type": "error",
     "traceback": [
      "\u001b[0;31m---------------------------------------------------------------------------\u001b[0m",
      "\u001b[0;31mUnboundLocalError\u001b[0m                         Traceback (most recent call last)",
      "Input \u001b[0;32mIn [8]\u001b[0m, in \u001b[0;36m<cell line: 11>\u001b[0;34m()\u001b[0m\n\u001b[1;32m      6\u001b[0m     r \u001b[38;5;241m-\u001b[39m\u001b[38;5;241m=\u001b[39m \u001b[38;5;241m5\u001b[39m  \u001b[38;5;66;03m# Try to decrement the global variable (DOES NOT WORK!)\u001b[39;00m\n\u001b[1;32m      8\u001b[0m     \u001b[38;5;28;01mreturn\u001b[39;00m pi \u001b[38;5;241m*\u001b[39m r\u001b[38;5;241m*\u001b[39m\u001b[38;5;241m*\u001b[39m\u001b[38;5;241m2\u001b[39m  \u001b[38;5;66;03m# here r is local, pi is global\u001b[39;00m\n\u001b[0;32m---> 11\u001b[0m \u001b[38;5;28mprint\u001b[39m(\u001b[43mpancake_area\u001b[49m\u001b[43m(\u001b[49m\u001b[43m)\u001b[49m)\n",
      "Input \u001b[0;32mIn [8]\u001b[0m, in \u001b[0;36mpancake_area\u001b[0;34m()\u001b[0m\n\u001b[1;32m      5\u001b[0m \u001b[38;5;28;01mdef\u001b[39;00m \u001b[38;5;21mpancake_area\u001b[39m():\n\u001b[0;32m----> 6\u001b[0m     r \u001b[38;5;241m-\u001b[39m\u001b[38;5;241m=\u001b[39m \u001b[38;5;241m5\u001b[39m  \u001b[38;5;66;03m# Try to decrement the global variable (DOES NOT WORK!)\u001b[39;00m\n\u001b[1;32m      8\u001b[0m     \u001b[38;5;28;01mreturn\u001b[39;00m pi \u001b[38;5;241m*\u001b[39m r\u001b[38;5;241m*\u001b[39m\u001b[38;5;241m*\u001b[39m\u001b[38;5;241m2\u001b[39m\n",
      "\u001b[0;31mUnboundLocalError\u001b[0m: local variable 'r' referenced before assignment"
     ]
    }
   ],
   "source": [
    "pi = 3.14159\n",
    "r = 10\n",
    "\n",
    "\n",
    "def pancake_area():\n",
    "    r -= 5  # Try to decrement the global variable (DOES NOT WORK!)\n",
    "\n",
    "    return pi * r**2  # here r is local, pi is global\n",
    "\n",
    "\n",
    "print(pancake_area())"
   ]
  },
  {
   "cell_type": "markdown",
   "id": "e05620be",
   "metadata": {},
   "source": [
    "We get\n",
    "```\n",
    "UnboundLocalError: local variable 'r' referenced before assignment\n",
    "```\n",
    "Why? This is because we are trying to change a value in the local scope but there are no variable with the name `r` defined in the local scope (only in the global scope). The rule of thumb is that changing a value can can only be done in the scope where the variable is defined.\n",
    "\n",
    "\n",
    "### The `locals` and `globals` dictionaries\n",
    "\n",
    "We can access the global and local variables with the built-in functions `globals()` and `locals()`, which return dictionaries of the available names:"
   ]
  },
  {
   "cell_type": "code",
   "execution_count": 9,
   "id": "fcca33ae",
   "metadata": {},
   "outputs": [
    {
     "name": "stdout",
     "output_type": "stream",
     "text": [
      "True\n",
      "<function tiny_function at 0x7f23dcf81000>\n",
      "{'a': 1, 'b': 1.5}\n"
     ]
    },
    {
     "data": {
      "text/plain": [
       "2.5"
      ]
     },
     "execution_count": 9,
     "metadata": {},
     "output_type": "execute_result"
    }
   ],
   "source": [
    "# print(globals()) #gives lots of output (all the names defined so far)\n",
    "# print(locals()) #same output since we are in the global scope\n",
    "\n",
    "print(locals() == globals())  # should return True\n",
    "\n",
    "\n",
    "def tiny_function():\n",
    "    a = 1\n",
    "    b = 1.5\n",
    "    # print the variables in the local scope:\n",
    "    print(locals())\n",
    "    return a + b\n",
    "\n",
    "\n",
    "# look up a name the globals dictionary:\n",
    "print(globals()[\"tiny_function\"])\n",
    "\n",
    "tiny_function()"
   ]
  },
  {
   "cell_type": "markdown",
   "id": "1ee35c28",
   "metadata": {},
   "source": [
    "It is even possible to add variables to the global scope by simply sticking it in the globals dictionary. For example `c` is not defined, so let us put it in the `globals` dictionary"
   ]
  },
  {
   "cell_type": "code",
   "execution_count": 10,
   "id": "10bcd949",
   "metadata": {},
   "outputs": [
    {
     "name": "stdout",
     "output_type": "stream",
     "text": [
      "0\n"
     ]
    }
   ],
   "source": [
    "globals()[\"c\"] = 0\n",
    "print(c)"
   ]
  },
  {
   "cell_type": "markdown",
   "id": "64306790",
   "metadata": {},
   "source": [
    "This is not something you should do, but it is nice to know how it works.\n",
    "\n",
    "The output from `locals()` is similar to that of `dir()`, which when called without arguments will return a list of valid names in the current local scope. However, while `dir` returns a list of names, `locals()` gives a dictionary of variable names and values. As described above there may be several nested scopes, but `locals()` will always return the names of the innermost local scope, and `globals()` returns the names of variables defined in the outermost global scope.\n",
    "\n",
    "\n",
    "\n",
    "### Closure\n",
    "\n",
    "If one sticks to the general coding practice of passing variables as arguments and return values, and avoiding the use of global variable, one rarely needs to think about how Python searches its namespaces or how names are transferred from one namespace to another. However, one particular example worth knowing about is known as *closure*, and is frequently used by Python programmers. Consider the example of a function that uses some parameters, which can be implemented as a class with a `__call__` special method:"
   ]
  },
  {
   "cell_type": "code",
   "execution_count": 11,
   "id": "c3fd4f6b",
   "metadata": {},
   "outputs": [
    {
     "name": "stdout",
     "output_type": "stream",
     "text": [
      "0.00 0.00\n",
      "0.05 0.24\n",
      "0.10 0.45\n",
      "0.15 0.64\n",
      "0.20 0.80\n"
     ]
    }
   ],
   "source": [
    "class ThrowClass:\n",
    "    def __init__(self, v0):\n",
    "        self.v0 = v0\n",
    "        self.g = 9.81\n",
    "\n",
    "    def __call__(self, t):\n",
    "        return self.v0 * t - 0.5 * self.g * t**2\n",
    "\n",
    "\n",
    "throw1 = ThrowClass(v0=5.0)\n",
    "\n",
    "for i in range(5):\n",
    "    t = i * 0.05\n",
    "    print(f\"{t:.2f} {throw1(t):.2f}\")"
   ]
  },
  {
   "cell_type": "markdown",
   "id": "41229cb3",
   "metadata": {},
   "source": [
    "An alternative implementation, which many will consider more \"Pythonic\" avoids the class concept completely:"
   ]
  },
  {
   "cell_type": "code",
   "execution_count": 12,
   "id": "0881bf30",
   "metadata": {},
   "outputs": [
    {
     "name": "stdout",
     "output_type": "stream",
     "text": [
      "0.00 0.00\n",
      "0.05 0.24\n",
      "0.10 0.45\n",
      "0.15 0.64\n",
      "0.20 0.80\n"
     ]
    }
   ],
   "source": [
    "def throw_fun(v0):\n",
    "    g = 9.81\n",
    "\n",
    "    def height(t):\n",
    "        return v0 * t - 0.5 * g * t**2\n",
    "\n",
    "    return height\n",
    "\n",
    "\n",
    "throw2 = throw_fun(5.0)\n",
    "\n",
    "for i in range(5):\n",
    "    t = i * 0.05\n",
    "    print(f\"{t:.2f} {throw2(t):.2f}\")"
   ]
  },
  {
   "cell_type": "markdown",
   "id": "82377198",
   "metadata": {},
   "source": [
    "What happens here is that when the function `throw_fun` is called, it defines a local namespace containing `v0,g`. The function `height` will search this namespace for variable names that it cannot find in its own local namespace. The magic happens when the `throw_fun` function returns a `height` function (note that the function itself is returned, not the result of the function call). Now, the returned function will remember the namespace defined by the outer function, even after `throw_fun` is done executing and the namespace is therefore deleted. This namespace is locked to the function object `throw2` and even if we create a new global `v0` variable all calls to `throw2` will use the value 5.0.\n",
    "\n",
    "There is also a function called `partial` from the `functools` library which returns a partial function which some of the arguments set"
   ]
  },
  {
   "cell_type": "code",
   "execution_count": 13,
   "id": "23b55e87",
   "metadata": {},
   "outputs": [
    {
     "name": "stdout",
     "output_type": "stream",
     "text": [
      "0.00 0.00\n",
      "0.05 0.24\n",
      "0.10 0.45\n",
      "0.15 0.64\n",
      "0.20 0.80\n"
     ]
    }
   ],
   "source": [
    "from functools import partial\n",
    "\n",
    "\n",
    "def throw_fun(v0, t, g=9.81):\n",
    "    return v0 * t - 0.5 * g * t**2\n",
    "\n",
    "\n",
    "# Sets the first argument (i.e v0) to 5.0\n",
    "throw3 = partial(throw_fun, 5.0)\n",
    "\n",
    "for i in range(5):\n",
    "    t = i * 0.05\n",
    "    print(f\"{t:.2f} {throw3(t):.2f}\")"
   ]
  },
  {
   "cell_type": "markdown",
   "id": "76f779b6",
   "metadata": {},
   "source": [
    "### Timing the function\n",
    "\n",
    "One thing you might want to do it so time your function, in order to see how long time it takes to call. For example consider this function which returns the sum of the truncated alternating harmonic sequence\n",
    "\n",
    "$$\n",
    "\\sum_{i=0}^n (-1)^i \\frac{1}{i}\n",
    "$$"
   ]
  },
  {
   "cell_type": "code",
   "execution_count": 14,
   "id": "d29b2502",
   "metadata": {},
   "outputs": [],
   "source": [
    "def alt_h(n):\n",
    "    return sum((-1) ** (i+1) *(1 / i) for i in range(1, n+1))"
   ]
  },
  {
   "cell_type": "markdown",
   "id": "a2fb6993",
   "metadata": {},
   "source": [
    "One way you could time this function is to do the following (we will see better ways of doing this later in the course)"
   ]
  },
  {
   "cell_type": "code",
   "execution_count": 15,
   "id": "b8d43c40",
   "metadata": {},
   "outputs": [
    {
     "name": "stdout",
     "output_type": "stream",
     "text": [
      "Elapsed time 0.04103684425354004\n"
     ]
    }
   ],
   "source": [
    "import time\n",
    "\n",
    "# Take the time right now\n",
    "t0 = time.time()\n",
    "# Call the function\n",
    "alt_h(100_000)\n",
    "# Print the difference between the time now and the time before\n",
    "print(f\"Elapsed time {time.time() - t0}\")"
   ]
  },
  {
   "cell_type": "markdown",
   "id": "da2ddeb6",
   "metadata": {},
   "source": [
    "Now what we can do is to wrap out function inside another function that will simple run the function, but also print the time it took to run it. To do this we will make a function that takes as input the function we want to time, and return a new function that will do the same thing, but also print the elapsed time"
   ]
  },
  {
   "cell_type": "code",
   "execution_count": 16,
   "id": "7b74ed3d",
   "metadata": {},
   "outputs": [],
   "source": [
    "def timed_func(f):\n",
    "    # Takes the function we want to time as input\n",
    "\n",
    "    # Now create a new function (assume it only takes one argument - similar to alt_h)\n",
    "    def new_f(n):\n",
    "        t0 = time.time()\n",
    "        # Call the function\n",
    "        f(100_000)\n",
    "        # Print the difference between the time now and the time before\n",
    "        print(f\"Elapsed time {time.time() - t0}\")\n",
    "\n",
    "    # Return the new timed function\n",
    "    return new_f"
   ]
  },
  {
   "cell_type": "markdown",
   "id": "60065226",
   "metadata": {},
   "source": [
    "Now we can first create a version of the `alt_h` function, and use that in stead"
   ]
  },
  {
   "cell_type": "code",
   "execution_count": 17,
   "id": "6bee0895",
   "metadata": {},
   "outputs": [
    {
     "name": "stdout",
     "output_type": "stream",
     "text": [
      "Elapsed time 0.04063701629638672\n"
     ]
    }
   ],
   "source": [
    "timed_alt_h = timed_func(alt_h)\n",
    "timed_alt_h(100_000)"
   ]
  },
  {
   "cell_type": "markdown",
   "id": "6d51bd0f",
   "metadata": {},
   "source": [
    "That worked like a charm.\n",
    "\n",
    "Actually, we have just created something that you have already seen several times in the course already. Do you know what it is? It's a decorator!\n",
    "\n",
    "A decorator is just a function that takes another function as argument an return a new (decorated) function. In this case the \"decoration\" is to print the time it takes to run the function.\n",
    "\n",
    "We can now actually write the function like this instead"
   ]
  },
  {
   "cell_type": "code",
   "execution_count": 18,
   "id": "a2b264f3",
   "metadata": {},
   "outputs": [],
   "source": [
    "@timed_func\n",
    "def alt_h_v2(n):\n",
    "    return sum((-1) ** (i+1) *(1 / i) for i in range(1, n+1))"
   ]
  },
  {
   "cell_type": "markdown",
   "id": "134beeab",
   "metadata": {},
   "source": [
    "and this should be equivalent to `timed_alt_h` the we created above, but we don't need to go through all the hazel of creating a new function"
   ]
  },
  {
   "cell_type": "code",
   "execution_count": 19,
   "id": "c9334f81",
   "metadata": {},
   "outputs": [
    {
     "name": "stdout",
     "output_type": "stream",
     "text": [
      "Elapsed time 0.04069161415100098\n"
     ]
    }
   ],
   "source": [
    "alt_h_v2(100_000)"
   ]
  },
  {
   "cell_type": "markdown",
   "id": "ffcec4e2",
   "metadata": {},
   "source": [
    "### Memoization\n",
    "\n",
    "Let us go back to the pure functions we discussed in the beginning of this section and see how we can apply memoization to speed up the performance. Let ut consider a classic example of memoization, the recursive fibonacci function (lets also add a little print statement in there)"
   ]
  },
  {
   "cell_type": "code",
   "execution_count": 20,
   "id": "f91095cc",
   "metadata": {},
   "outputs": [],
   "source": [
    "def fib(n):\n",
    "    print(f\"Computing fib({n})\")\n",
    "    if n == 0:\n",
    "        return 0\n",
    "    if n == 1:\n",
    "        return 1\n",
    "    return fib(n-1) + fib(n-2)"
   ]
  },
  {
   "cell_type": "markdown",
   "id": "d88f91ba",
   "metadata": {},
   "source": [
    "This function will be quite expensive to run for large number. Let us try to run this function with `n = 5` and see what is printed."
   ]
  },
  {
   "cell_type": "code",
   "execution_count": 21,
   "id": "17db05f2",
   "metadata": {},
   "outputs": [
    {
     "name": "stdout",
     "output_type": "stream",
     "text": [
      "Computing fib(5)\n",
      "Computing fib(4)\n",
      "Computing fib(3)\n",
      "Computing fib(2)\n",
      "Computing fib(1)\n",
      "Computing fib(0)\n",
      "Computing fib(1)\n",
      "Computing fib(2)\n",
      "Computing fib(1)\n",
      "Computing fib(0)\n",
      "Computing fib(3)\n",
      "Computing fib(2)\n",
      "Computing fib(1)\n",
      "Computing fib(0)\n",
      "Computing fib(1)\n"
     ]
    },
    {
     "data": {
      "text/plain": [
       "5"
      ]
     },
     "execution_count": 21,
     "metadata": {},
     "output_type": "execute_result"
    }
   ],
   "source": [
    "fib(5)"
   ]
  },
  {
   "cell_type": "markdown",
   "id": "44e9f4ab",
   "metadata": {},
   "source": [
    "Wow! That is a lot of function calls. Now each, you can imagine that this will be quite expensive after a while. But, we known that the `fib` function is a pure function, so let's try to memoize it! We will do this by wrapping it into another function where we store the values in a dictionary"
   ]
  },
  {
   "cell_type": "code",
   "execution_count": 22,
   "id": "cb7463f8",
   "metadata": {},
   "outputs": [],
   "source": [
    "def memoize(f):\n",
    "\n",
    "    # Create a dictionary to store the values\n",
    "    storage = {}\n",
    "    def wrap(n):\n",
    "        if n not in storage:\n",
    "            # The value is not been computed yet\n",
    "            # So lets compute it and put it in the storage\n",
    "            storage[n] = f(n)\n",
    "        return storage[n]\n",
    "\n",
    "    return wrap"
   ]
  },
  {
   "cell_type": "markdown",
   "id": "d58425f2",
   "metadata": {},
   "source": [
    "Again we have created a decorator so we could either apply is as a decorator"
   ]
  },
  {
   "cell_type": "code",
   "execution_count": 23,
   "id": "bfb4a617",
   "metadata": {},
   "outputs": [],
   "source": [
    "@memoize\n",
    "def fib(n):\n",
    "    print(f\"Computing fib({n})\")\n",
    "    if n == 0:\n",
    "        return 0\n",
    "    if n == 1:\n",
    "        return 1\n",
    "    return fib(n - 1) + fib(n - 2)"
   ]
  },
  {
   "cell_type": "markdown",
   "id": "cad3bcc8",
   "metadata": {},
   "source": [
    "Let us see now how many times we actually call the `fib` method"
   ]
  },
  {
   "cell_type": "code",
   "execution_count": 24,
   "id": "1b695487",
   "metadata": {},
   "outputs": [
    {
     "name": "stdout",
     "output_type": "stream",
     "text": [
      "Computing fib(5)\n",
      "Computing fib(4)\n",
      "Computing fib(3)\n",
      "Computing fib(2)\n",
      "Computing fib(1)\n",
      "Computing fib(0)\n"
     ]
    },
    {
     "data": {
      "text/plain": [
       "5"
      ]
     },
     "execution_count": 24,
     "metadata": {},
     "output_type": "execute_result"
    }
   ],
   "source": [
    "fib(5)"
   ]
  },
  {
   "cell_type": "markdown",
   "id": "434ef1c2",
   "metadata": {},
   "source": [
    "As expected, we only call the method one time for each argument and use the value in the storage otherwise.\n",
    "\n",
    "\n",
    "\n",
    "### Summary of scopes and namespaces\n",
    "* Python variables are by default local. When a name occurs, Python will first search the local namespace, then successively more \"global\" spaces until it finds a variable with that name.\n",
    "* A variable defined in the global scope can be accessed inside functions, but any attempt to modify it will create a new, local variable.\n",
    "* The keyword `global` can be used to override the default behavior, and modify global variables inside function. However, this is bad practice that should normally be avoided.\n",
    "* To avoid name conflicts, use import statements like `import math` to create a new namespace for the imported module, rather than importing everything into the existing namespace with `from math import *`\n",
    "* The functions `globals(), locals(), dir()` are useful for examining existing namespaces.\n",
    "* When a function is defined inside another function, it remembers the namespace of the outer function. This technique, called closure, can be used to create parameterized function."
   ]
  }
 ],
 "metadata": {
  "jupytext": {
   "formats": "md:myst",
   "text_representation": {
    "extension": ".md",
    "format_name": "myst"
   }
  },
  "kernelspec": {
   "display_name": "Python 3",
   "language": "python",
   "name": "python3"
  },
  "language_info": {
   "codemirror_mode": {
    "name": "ipython",
    "version": 3
   },
   "file_extension": ".py",
   "mimetype": "text/x-python",
   "name": "python",
   "nbconvert_exporter": "python",
   "pygments_lexer": "ipython3",
   "version": "3.10.4"
  },
  "source_map": [
   11,
   24,
   37,
   40,
   42,
   127,
   129,
   131,
   133,
   154,
   165,
   170,
   180,
   185,
   199,
   203,
   215,
   229,
   248,
   252,
   255,
   269,
   284,
   290,
   305,
   313,
   327,
   337,
   340,
   343,
   352,
   355,
   370,
   373,
   376,
   385,
   389,
   392,
   394,
   401,
   409,
   412,
   414,
   417,
   431,
   433,
   442,
   444,
   446
  ]
 },
 "nbformat": 4,
 "nbformat_minor": 5
}