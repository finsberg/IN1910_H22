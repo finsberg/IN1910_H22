{
 "cells": [
  {
   "cell_type": "markdown",
   "id": "90759dc9",
   "metadata": {},
   "source": [
    "# Introduction to Object-Oriented Programming\n",
    "\n",
    "In this section we will start looking at object-oriented programming (OOP). This is one of the major components of IN1910. In this lecture we will start to look at what OOP is, and how to program object-oriented in Python. In later lectures we will cover some more theory of object-oriented programming and also touch on it in C++.\n",
    "\n",
    "\n",
    "## Other references\n",
    "\n",
    "\n",
    "## What is Object-Oriented Programming?\n",
    "\n",
    "Object-oriented programming (OOP for short), is a [*programming paradigm*](https://en.wikipedia.org/wiki/Programming_paradigm). Put simply, a paradigm is a way to think about, organize, and write code. Paradigms are used to classify and describe languages and programming styles. Many other paradigms exists, and you might have heard of some of them. Some examples are: procedural programming, functional programming, imperative programming, and symbolic programming. Most programming languages don't belong to a single, specific paradigm. Instead most languages, including Python and C++, are described as *multi-paradigm*, meaning it is possible to structure and write your code in different ways.\n",
    "\n",
    "Object-oriented programming is a way of solving problems, or building software, by defining data as *objects*, and specifying how those objects behave and interact. It is one of the most popular programming paradigms, and is often used when developing software. When done correctly, OOP leads to code that is usually quite easy to understand, use and extend.\n",
    "\n",
    "### The origins of OOP\n",
    "\n",
    "Object-oriented programming was invented in Norway by Ole-Johan Dahl and Kristen Nygaard in 1967. They made a new programming language, and called the first object-oriented language *Simula*. While Simula was revolutionary and historically an important language, it didn't see widespread adoption. Inspired by Simula, the language *Smalltalk* came on the scene in 1972 and saw a wider use, pushing the use of OOP. Smalltalk still sees some use today, mainly as a means of teaching OOP and introductory programming. In 1983 *C++* arrived on the scene, and can be described as the first \"industrial\" object-oriented language. C++ was invented by Bjarne Stroustrup. He thought Simula had some nice features for large software development, but considered it to be to slow to be practical. He therefore started developing *\"C with classes\"*, which would eventually become C++.\n",
    "\n",
    "\n",
    "```{figure} ../../figures/oop_drake_meme.png\n",
    "---\n",
    "width: 300px\n",
    "name: oop_drake_meme\n",
    "alt: oop_drake_meme\n",
    "---\n",
    "You might have thought the ostehøvel was the greatest Norwegian invention, but Simula is where it's at\n",
    "```\n",
    "\n",
    "\n",
    "### What are objects?\n",
    "\n",
    "So what are *objects*? You probably already have some intuition around what objects are. In Python, all variables are objects. So in a sense an object is similar to a variable. All objects have a few characteristics we can associate with them.\n",
    "\n",
    "1. All objects have a given object *type*. We for example have integers, strings, lists and dictionaries. Objects of these types will behave differently, but they are all examples of objects\n",
    "2. Objects behave in certain pre-defined ways. We can for example perform calculations with numbers, we can sort lists, or we can split a string. The type defines what actions we can perform, and what we can't do. It wouldn't make sense to divide a list by another list for example\n",
    "3. Objects typically have information or data stored in them. For integers and floats this would be their numerical value, for a list it is all the elements and so on. In certain cases however, we define empty lists/dictionaries and so on.\n",
    "\n",
    "One of the reasons OOP is so popular is that it is quite intuitive, because it mirrors real life. To make sense of the world around us when we think or talk we tend to divide everything into specific concepts or *objects*. Cars are objects and so are buildings. People are objects too, in the software sense. It isn't only physical things that are objects either. A given calendar date is an object, defined by its day, month and year. This course is IN1910, which could be described as an abstract object. We can think of a job as an object. In this sense an object is a data abstraction that attempts to capture some important property or feature.\n",
    "\n",
    "**Everything in Python are objects**. When you are programming in Python, you are defining and using objects all the time. Does this mean you are programming object-oriented? Not necessarily. As we mentioned in the introduction the important thing is *thinking* and *solving problems* in an object-oriented manner. Meaning to do OOP properly one should ask what kind of objects are best for organizing a program and solving problems. Probably the most important task of programming object-oriented is therefore to define new data types, and defining how objects of that type should be represented and interact.\n",
    "\n",
    "### Example: A contact list\n",
    "\n",
    "Think about the contact list on your phone. For each contact, you can store information of different types: name, different phone numbers, emails, etc. For some contacts you have many pieces of information about, some you only have a single piece of information.\n",
    "\n",
    "Let us say we want to implement such a contact list for a new phone system we are making. We might start thinking how to solve this problem. It makes sense to think of each individual contact as an individual *object*. Each piece of information belongs to a given contact, so it should be part of that object in the code.\n",
    "\n",
    "To begin with, we only want to store information about each contact, and so dictionaries would be a natural choice for this. We can use key-value pairs to store the information we want, and ignore the pieces of information we don't want. Other parts of the software system can then go in and access information from the contact dictionary as needed"
   ]
  },
  {
   "cell_type": "code",
   "execution_count": 1,
   "id": "bcc662b1",
   "metadata": {},
   "outputs": [
    {
     "name": "stdout",
     "output_type": "stream",
     "text": [
      "lisa@python.org\n"
     ]
    }
   ],
   "source": [
    "contact = {\"name\": \"Lisa\", \"email\": \"lisa@python.org\", \"mobile_number\": \"767828292\"}\n",
    "\n",
    "print(contact[\"email\"])"
   ]
  },
  {
   "cell_type": "markdown",
   "id": "bee59464",
   "metadata": {},
   "source": [
    "However, our dictionary can only store information on the contact, we cannot add new functionality. A more general way to do this would instead be to define a custom Contact-*class*. Classes are way to define new data types. That way we can create variables that are of type *contact*, instead of dictionary. The upside is that we  can choose exactly how our contact datatype should behave."
   ]
  },
  {
   "cell_type": "code",
   "execution_count": 2,
   "id": "659b2f84",
   "metadata": {},
   "outputs": [],
   "source": [
    "class Contact:\n",
    "    def __init__(self, name, email=None, cellphone=None):\n",
    "        self.name = name\n",
    "        self.email = email\n",
    "        self.cellphone = cellphone"
   ]
  },
  {
   "cell_type": "markdown",
   "id": "525aa8ef",
   "metadata": {},
   "source": [
    "With this class defined, we can now create new contact object as follows"
   ]
  },
  {
   "cell_type": "code",
   "execution_count": 3,
   "id": "4b20d1dd",
   "metadata": {},
   "outputs": [
    {
     "name": "stdout",
     "output_type": "stream",
     "text": [
      "lisa@python.org\n"
     ]
    }
   ],
   "source": [
    "contact = Contact(\"Lisa\", email=\"lisa@python.org\", cellphone=\"767828292\")\n",
    "print(contact.email)"
   ]
  },
  {
   "cell_type": "markdown",
   "id": "a9efbb14",
   "metadata": {},
   "source": [
    "Our contact object is no longer a dictionary, but a `Contact`-object, a new data type we defined ourself. We can check this by writing out the type:"
   ]
  },
  {
   "cell_type": "code",
   "execution_count": 4,
   "id": "bdfdb5f9",
   "metadata": {},
   "outputs": [
    {
     "name": "stdout",
     "output_type": "stream",
     "text": [
      "<class '__main__.Contact'>\n"
     ]
    }
   ],
   "source": [
    "print(type(contact))"
   ]
  },
  {
   "cell_type": "markdown",
   "id": "fd9fc073",
   "metadata": {},
   "source": [
    "So far we have only added the same information as the dictionary, but we could now go ahead and change how this object behaves. We could for example add a method that starts a new call to the person, so that we could do `contact.initiate_call()`, or a button to start an email to the person, and so on.\n",
    "\n",
    "\n",
    "## Class vs Instance\n",
    "\n",
    "When we define a class, we are defining a new data type. To actually use it, we have to define a new object of that type, we call this an *instance* of the class. In our contact-list example, the `Contact` class is the general class we defined, then we can implement specific instances of the class, one for \"Lisa\", one for \"Frank\" and so on. The class is thus the abstract *concept* of a contact, and objects are the specific cases of that type. A different example: A Nissan leaf is a given type of car, and can be represented as a class. A specific car with the license plate \"EM93277\" (courtesy of random.org) is an *instance* of the Nissan leaf class. The specific car is an object of the *type* Nissan leaf. In this sense, the class is like the blue-print, it specifies how objects of that type should be built and how they should behave.\n",
    "\n",
    "### Naming Conventions\n",
    "\n",
    "According to the [PEP8](https://www.python.org/dev/peps/pep-0008/?#class-names) style-guide class names should use the CapWords convention (aka PascalCase). This means every word in the class name should be capitalized, and the words should **not** be separated by underscores.\n",
    "\n",
    "Some examples: `Person`, `Polynomial`, `Vector3D`, `BankAccount`, `FileReader`.\n",
    "\n",
    "Specific instances of a class however, should always be lowercase. So when we define a variable of a given class, we would write for example:\n",
    "\n",
    "```python\n",
    "u = Vector3D()\n",
    "poly = Polynomial()\n",
    "acc9302100 = BankAccount()\n",
    "```\n",
    "\n",
    "You should be strict about this rule, as it makes it much easier to differentiate the *classes* themselves (the general datatype) from instances of that class (the specific objects) in your code.\n",
    "\n",
    "\n",
    "### Example: A deck of cards\n",
    "\n",
    "Time for another example. Let us say we are implementing some card games. Now, we can easily represent a deck of cards using lists of strings in Python, no problem. However, for most card games, we need to use the exact same operations: get a new deck, shuffle the deck, draw cards, etc. It would be useful to implement the code to do this one time, and then just use that functionality each time we implement a new card game.\n",
    "\n",
    "We do this by implementing a `Deck` class. After having implemented our class, we can then define an instance of this class (`deck = Deck()`). Our actual game code will then be much simpler, because we can now simply call `deck.shuffle()` or `deck.draw(5)` and so on. This adds a layer of abstraction to our code, and hides away the ugly implementation details \"behind the scenes\". This is called *encapsulation*, and is one of the motivations for using OOP. We can say we hide the implementation, but expose an easy-to-use and easy-to-understand *interface* that is used to manipulate the object"
   ]
  },
  {
   "cell_type": "code",
   "execution_count": 5,
   "id": "44cb6fe2",
   "metadata": {},
   "outputs": [],
   "source": [
    "import random\n",
    "\n",
    "\n",
    "class Deck:\n",
    "    def __init__(self):\n",
    "        \"\"\"Create a standard 52-card deck.\"\"\"\n",
    "        self.cards = []\n",
    "        for s in (\"D\", \"H\", \"C\", \"S\"):\n",
    "            for v in range(1, 14):\n",
    "                self.cards.append((s, v))\n",
    "\n",
    "    def shuffle(self):\n",
    "        random.shuffle(self.cards)\n",
    "\n",
    "    def draw(self, n=1):\n",
    "        return [self.cards.pop() for _ in range(n)]\n",
    "\n",
    "    def shuffle_into_deck(self, cards):\n",
    "        self.cards.extend(cards)\n",
    "        self.shuffle()"
   ]
  },
  {
   "cell_type": "markdown",
   "id": "e807cfbe",
   "metadata": {},
   "source": [
    "Here we implement a class that has four methods. The first method is the constructor (called `__init__`, we explain why later), this is run every time we create a new object of the class. In this case we initialize a deck of cards by adding all the cards in the deck using a double-loop. We also add a `shuffle` method that shuffles the deck, a `draw` method that draws $n$ cards from the deck, and a `shuffle_into_deck` for when we want to shuffle cards back into the deck. These are just simple examples of functionality that makes sense for a deck of cards, and we could add plenty more.\n",
    "\n",
    "Once we have taken the time to build the `Deck`-class, we can easily create decks of cards, and use them, without having to think too much about the underlying details of the implementation. Implementing a class therefore represents adding a new layer of abstraction to our code. For example, we can now create a random 5-card poker hand as follows:"
   ]
  },
  {
   "cell_type": "code",
   "execution_count": 6,
   "id": "6382f251",
   "metadata": {},
   "outputs": [
    {
     "name": "stdout",
     "output_type": "stream",
     "text": [
      "[('S', 5), ('D', 6), ('C', 9), ('D', 3), ('D', 5)]\n"
     ]
    }
   ],
   "source": [
    "deck = Deck()\n",
    "deck.shuffle()\n",
    "\n",
    "hand = deck.draw(5)\n",
    "print(hand)"
   ]
  },
  {
   "cell_type": "markdown",
   "id": "517da1dd",
   "metadata": {},
   "source": [
    "### The use of `self`\n",
    "\n",
    "In our class examples so far, we have simply used the `self`-syntax without explaining it. It is a normal point of confusion for those learning Python, and even those who learn how to define the classes and method using `self` might not really understand *why* it works like it does.\n",
    "\n",
    "When we call a method on a given instance of a class, like for example\n",
    "```\n",
    "deck.shuffle()\n",
    "```\n",
    "This is interpreted behind the scenes by Python as\n",
    "```\n",
    "Deck.shuffle(deck)\n",
    "```\n",
    "And so the method `Deck.shuffle`, even though it is written inside the class, actually just acts like a stand-alone function, the object is simply passed in and manipulated. And so when we define the function we call the first input-argument `self`, because this is the *object itself* (in this case `self = deck`). Note that you can, technically, call this argument something other than `self`, it is just a function argument, like any other. However, it is considered good code style to always use `self` and it will be confusing for others if you use something else. (Most languages use either \"self\" or \"this\".)\n",
    "\n",
    "So for most class methods you define, you both define the method with `self` as the first argument. And you use `self` inside the method to manipulate the data within the object. Let us look back at the `Deck.shuffle` method:"
   ]
  },
  {
   "cell_type": "code",
   "execution_count": 7,
   "id": "8c975cdf",
   "metadata": {},
   "outputs": [],
   "source": [
    "class Deck:\n",
    "    ...\n",
    "\n",
    "    def shuffle(self):\n",
    "        random.shuffle(self.cards)"
   ]
  },
  {
   "cell_type": "markdown",
   "id": "2fad33fe",
   "metadata": {},
   "source": [
    "When we intend to use this on a specific deck we simply write `deck.shuffle()`, i.e., without arguments. We still define the function with a `self` argument, and the method shuffles the internal list attribute of the deck, i.e., `self.cards`.\n",
    "\n",
    "\n",
    "## Interfaces\n",
    "\n",
    "In our deck of cards example, we have specific methods the user can use to interact with the deck of cards, and we can call this the *interface* (På norsk: grensesnitt) of the class. To put it simply, the interface is what is \"visible\" or usable from outside the class. If you build a large and complex class, all anyone really needs to interact with it is a good understanding of its interface. In this sense, the interface itself is an abstraction tool. Take a car for example, the interface used for driving that gar is the steering wheel, the pedals and the gear stick. However, under the hood there is an engine and lots of complicated machinery.\n",
    "\n",
    "The act of hiding dirty implementation or technical details under the hood is called *encapsulation*. Encapsulation is useful for keeping code nice and tidy and user friendly. Also, it means that the details under the hood can change without issue, as long as the external interface remains the same. A mechanic can replace the engine in your car, but you will still be able to drive it as before, because the interface is the same.\n",
    "\n",
    "In some languages, like Java and C++, you can explicitly define interfaces that define what a class must contain.  These are often described as \"contracts\", as they state what a given class that follows that interface must contain.\n",
    "\n",
    "\n",
    "## Polymorphism\n",
    "\n",
    "The fact that we can use callable objects as if they were functions is very useful in Python, and it is an example of [*polymorphism*](https://en.wikipedia.org/wiki/Polymorphism_(computer_science)). Polymorphism is another of the pillars of OOP, but the concept is a bit tricky to define or understand. The term itself comes from greek and means \"many forms\". It is a means of generalizing code, in that we can write different code that behaves the same under given circumstances, and thus we can use those objects as long as they have a given property we need. In this case, we can create objects that acts and feels like functions, and we can use them for any purpose were we need a Python function.\n",
    "\n",
    "This is an example of Python's [*duck typing*](https://en.wikipedia.org/wiki/Duck_typing). This term comes from the saying:\n",
    "\n",
    "* *If it looks like a duck, swims like a duck, and quacks like a duck, then it probably is a duck.*\n",
    "\n",
    "What we mean by this is that what *type* a given object is isn't that important, what is important is how it behaves. In Python we therefore shouldn't check whether a given input is a Python function, instead we should check whether it is *callable*. This can be done with the built-in function:\n",
    "```Python\n",
    "callable(f)\n",
    "```\n",
    "This function returns `True` if the object `f` is callable, and `False` if it is not. It doesn't care whether `f` is a Python function, a custom class or a given class method. It only cares if `f` quacks like a duck.\n",
    "\n",
    "\n",
    "### Example: The derivative class\n",
    "\n",
    "In mathematics, Newton's method is a numerical method for finding the roots of a mathematical function (a root is the point where the function is equal to zero). Normally to use Newtons method you need the function itself ($f(x)$), it's derivative ,$\\frac{\\rm d}{{\\rm d}x} f(x)$. which also is a function, and an initial guess $x_0$.\n",
    "\n",
    "Let us now assume we are given a function `newton(f, x0, dfdx)` that implements Newton's method. The SciPy library for example has the function `scipy.optimize.newton(func, x0, dfdx)`. We want to use this function to find the roots of a function $f(x)$. However, we don't know the derivative $f'(x)$ that must be sent in, and we cannot find it analytically. What do we do?\n",
    "\n",
    "One solution would be to implement the derivative function numerically. We can approximate the derivative function in any point using the central finite difference for example,\n",
    "\n",
    "$$\n",
    "\\frac{\\rm d}{{\\rm d}x} f(x) \\approx \\frac{f(x+\\Delta x) - f(x - \\Delta x)}{2\\Delta x}.\n",
    "$$\n",
    "\n",
    "Typically we compute this for a given array of values or something like that. However, for `newton` to work, we can't send in an array of values, we must send in a callable function. To create such a callable function we can create a `Derivative` class that automatically creates a callable object for $f'(x)$."
   ]
  },
  {
   "cell_type": "code",
   "execution_count": 8,
   "id": "a271718a",
   "metadata": {},
   "outputs": [],
   "source": [
    "class Derivative:\n",
    "    def __init__(self, f, dx=1e-6):\n",
    "        if not callable(f):\n",
    "            raise ValueError(\"Input must be callable.\")\n",
    "\n",
    "        self.f = f\n",
    "        self.dx = dx\n",
    "\n",
    "    def __call__(self, x):\n",
    "        dx = self.dx\n",
    "        return (self.f(x + dx) - self.f(x - dx)) / (2 * dx)"
   ]
  },
  {
   "cell_type": "markdown",
   "id": "0f436fb3",
   "metadata": {},
   "source": [
    "Here we create the class from a given function `f`, which we double check is *callable*. We store the function as an attribute so we can use it later. We also store the step size $\\Delta x$, which defaults to $10^{-6}$ if we do not supply it.\n",
    "\n",
    "We can now implement the derivative of any callable function as its own callable object as follows"
   ]
  },
  {
   "cell_type": "code",
   "execution_count": 9,
   "id": "67da1e69",
   "metadata": {},
   "outputs": [],
   "source": [
    "import numpy as np\n",
    "\n",
    "f = np.sin\n",
    "dfdx = Derivative(f)"
   ]
  },
  {
   "cell_type": "markdown",
   "id": "fd7d2a1f",
   "metadata": {},
   "source": [
    "Here `f` represents the function $f(x) = \\sin(x)$, while `dfdx` will be its derivative. Let us check if it works. As we know the derivative of $\\sin(x)$ is $\\cos(x)$ we can test our implementation as follows"
   ]
  },
  {
   "cell_type": "code",
   "execution_count": 10,
   "id": "d07fd786",
   "metadata": {},
   "outputs": [
    {
     "name": "stdout",
     "output_type": "stream",
     "text": [
      "0.6762766107115681\n",
      "0.6762766106824172\n"
     ]
    }
   ],
   "source": [
    "x = 0.8281\n",
    "\n",
    "print(dfdx(x))\n",
    "print(np.cos(x))"
   ]
  },
  {
   "cell_type": "markdown",
   "id": "fd22509e",
   "metadata": {},
   "source": [
    "With the `Derivative` class implemented, we can now easily use the `newton` method on any function, simply use  the `Derivative`-class to automatically define the derivative function, and then call Newton, as follows"
   ]
  },
  {
   "cell_type": "code",
   "execution_count": 11,
   "id": "6561ab72",
   "metadata": {},
   "outputs": [
    {
     "name": "stdout",
     "output_type": "stream",
     "text": [
      "-1.9999999845691476\n"
     ]
    }
   ],
   "source": [
    "from scipy.optimize import newton\n",
    "\n",
    "\n",
    "def f(x):\n",
    "    return x**2 + 4 * x + 4\n",
    "\n",
    "\n",
    "dfdx = Derivative(f)\n",
    "x0 = 0\n",
    "\n",
    "print(newton(f, x0, dfdx))"
   ]
  },
  {
   "cell_type": "markdown",
   "id": "d72a18ab",
   "metadata": {},
   "source": [
    "Here we simply used Newton's method as an example, and do note that `scipy.optimize.newton` actually doesn't need us to supply the derivative function, because if we do not supply it, it does pretty much the same as we have done behind the scenes automatically."
   ]
  },
  {
   "cell_type": "code",
   "execution_count": 12,
   "id": "c1799ac5",
   "metadata": {},
   "outputs": [
    {
     "data": {
      "text/plain": [
       "-1.9999999803073025"
      ]
     },
     "execution_count": 12,
     "metadata": {},
     "output_type": "execute_result"
    }
   ],
   "source": [
    "newton(f, x0)"
   ]
  },
  {
   "cell_type": "markdown",
   "id": "d69c8819",
   "metadata": {},
   "source": [
    "Implementing the `Derivative` class ourselves does hopefully make it more apparent how SciPy can use Newton's method without having the derivative function - it is also a good example of how OOP can be used in scientific computing.\n",
    "\n",
    "\n",
    "## Properties\n",
    "\n",
    "Another important topic is *properties*, which is a very handy topic to know about when implementing and using your own custom classes. Consider the following class `Sphere` which is a class that takes a radius as the argument in the constructor and stores the area and volume as attributes on the instance."
   ]
  },
  {
   "cell_type": "code",
   "execution_count": 13,
   "id": "b3061439",
   "metadata": {},
   "outputs": [],
   "source": [
    "pi = 3.141592653589793\n",
    "\n",
    "class Sphere:\n",
    "    def __init__(self, radius):\n",
    "        self.radius = radius\n",
    "        self.area = 4 * pi * radius**2\n",
    "        self.volume = 4 * pi * radius**3 / 3\n",
    "\n",
    "    def __str__(self):\n",
    "        return f\"Sphere({self.radius})\""
   ]
  },
  {
   "cell_type": "markdown",
   "id": "80a65ec1",
   "metadata": {},
   "source": [
    "We have also implemented a simple `__str__` method so that the sphere is printed nicely when we try to print it, see {ref}`python-oop-special-print`.\n",
    "Here we set the radius of the sphere once we create the object, and the area and volume are automatically computed. This works quite well, but it has a few issues as well. For one thing, there is nothing that prevents us from changing one of these fields directly. If we do this, the other fields do **not** change automatically"
   ]
  },
  {
   "cell_type": "code",
   "execution_count": 14,
   "id": "2d3c068b",
   "metadata": {},
   "outputs": [
    {
     "name": "stdout",
     "output_type": "stream",
     "text": [
      "Sphere(5) has a volume of 524\n",
      "Sphere(10) has a volume of 524\n"
     ]
    }
   ],
   "source": [
    "ball = Sphere(5)\n",
    "print(f\"{ball} has a volume of {ball.volume:.0f}\")\n",
    "\n",
    "ball.radius += 5\n",
    "print(f\"{ball} has a volume of {ball.volume:.0f}\")"
   ]
  },
  {
   "cell_type": "markdown",
   "id": "6bc3ff5a",
   "metadata": {},
   "source": [
    "So here we create a `Sphere`-object, which we call `ball`. We can update the radius of the ball by changing the `ball.radius` attribute directly. However, when we do this, the volume does not change. This is because the volume is only computed in the constructor (the `__init__` method), which is called only when the object is first created.\n",
    "\n",
    "How big of a problem this is of course dependent on how the code is to be used. But for now, let us say we want to make the code more intuitive, user-friendly and foolproof. Our goal is therefore to make it possible to change the radius attribute directly, and have the area and volume auto-update.\n",
    "\n",
    "A simple solution is to make the `area` and `volume` attributes methods instead of data fields"
   ]
  },
  {
   "cell_type": "code",
   "execution_count": 15,
   "id": "d7ad3f33",
   "metadata": {},
   "outputs": [],
   "source": [
    "class Sphere:\n",
    "    def __init__(self, radius):\n",
    "        self.radius = radius\n",
    "\n",
    "    def area(self):\n",
    "        return 4 * pi * self.radius**2\n",
    "\n",
    "    def volume(self):\n",
    "        return 4 * pi * self.radius**3 / 3\n",
    "\n",
    "    def __str__(self):\n",
    "        return f\"Sphere({self.radius})\""
   ]
  },
  {
   "cell_type": "markdown",
   "id": "e5933834",
   "metadata": {},
   "source": [
    "We can now update the `radius` property, and when we call the `area()` or `volume()` methods, they will recompute using the new radius"
   ]
  },
  {
   "cell_type": "code",
   "execution_count": 16,
   "id": "4147286d",
   "metadata": {},
   "outputs": [
    {
     "name": "stdout",
     "output_type": "stream",
     "text": [
      "Sphere(5) has a volume of 524\n",
      "Sphere(10) has a volume of 4189\n"
     ]
    }
   ],
   "source": [
    "ball = Sphere(5)\n",
    "print(f\"{ball} has a volume of {ball.volume():.0f}\")\n",
    "\n",
    "ball.radius += 5\n",
    "print(f\"{ball} has a volume of {ball.volume():.0f}\")"
   ]
  },
  {
   "cell_type": "markdown",
   "id": "0e174458",
   "metadata": {},
   "source": [
    "By making the `area` and `volume` attributes methods, they will always be recomputed as they are needed, which is nice. It will also make it easier for the user to understand that they are derived quantities from `Sphere.radius` and not independent attributes.\n",
    "\n",
    "However, this implementation can also be a bit confusing. For one, radius, area and volume are simply all different properties of a Sphere, and all represented as numbers - so why should one be a number variable, and the other methods that must be called?"
   ]
  },
  {
   "cell_type": "code",
   "execution_count": 17,
   "id": "0a9dfaee",
   "metadata": {},
   "outputs": [
    {
     "name": "stdout",
     "output_type": "stream",
     "text": [
      "<class 'int'>\n",
      "<class 'method'>\n",
      "<class 'method'>\n"
     ]
    }
   ],
   "source": [
    "print(type(ball.radius))\n",
    "print(type(ball.area))\n",
    "print(type(ball.volume))"
   ]
  },
  {
   "cell_type": "markdown",
   "id": "6dc6bd7b",
   "metadata": {},
   "source": [
    "Let us therefore look at a different way to set up this class using *properties* in Python. To do this, we use the built-in *decorator* `@property`. A decorator is something you place right before a function/method definition, and it will change the functionality of that function/method in some way. You will (or have) see an example of a decorator in Project 0.\n",
    "\n",
    "When we add the `@property` decorator to a method in a class, that method will behave from the outside as if it is a data field, and not a method."
   ]
  },
  {
   "cell_type": "code",
   "execution_count": 18,
   "id": "caf65bf8",
   "metadata": {},
   "outputs": [
    {
     "name": "stdout",
     "output_type": "stream",
     "text": [
      "1520.53084433746\n",
      "<class 'float'>\n"
     ]
    }
   ],
   "source": [
    "class Sphere:\n",
    "    def __init__(self, radius):\n",
    "        self.radius = radius\n",
    "\n",
    "    @property\n",
    "    def area(self):\n",
    "        return 4 * pi * self.radius**2\n",
    "\n",
    "    @property\n",
    "    def volume(self):\n",
    "        return 4 * pi * self.radius**3 / 3\n",
    "\n",
    "    def __str__(self):\n",
    "        return f\"Sphere({self.radius})\"\n",
    "\n",
    "\n",
    "football = Sphere(11)\n",
    "print(football.area)\n",
    "print(type(football.area))"
   ]
  },
  {
   "cell_type": "markdown",
   "id": "0288e7d8",
   "metadata": {},
   "source": [
    "Here, both `Sphere.area` and `Sphere.volume` are defined in the exact same manner as before, but we have added the code `@property` right before the method definitions. By adding this decorator we can now treat `football.area` as if it was a data field, i.e., a number variable. This means we can print it right out, without calling it like a method, and if you print out the type, it confirms that it is indeed a float.\n",
    "\n",
    "Using the property decorator allows us to implement a method that compiles or computes the data behind the scenes in some way, but allows the user to treat that property as a data field on the outside. We can now change the radius, and the `area` and `volume` properties will also change. The user does not have to think about this themselves."
   ]
  },
  {
   "cell_type": "code",
   "execution_count": 19,
   "id": "3262c6e5",
   "metadata": {},
   "outputs": [
    {
     "name": "stdout",
     "output_type": "stream",
     "text": [
      "Sphere(5) has a volume of 524\n",
      "Sphere(10) has a volume of 4189\n"
     ]
    }
   ],
   "source": [
    "ball = Sphere(5)\n",
    "print(f\"{ball} has a volume of {ball.volume:.0f}\")\n",
    "\n",
    "ball.radius += 5\n",
    "print(f\"{ball} has a volume of {ball.volume:.0f}\")"
   ]
  },
  {
   "cell_type": "markdown",
   "id": "a3a173e1",
   "metadata": {},
   "source": [
    "Let us now look at what happens if we try to change the `area` and `volume` properties directly, instead of changing the radius. If you try this yourself, you will get an error as follows\n",
    "```Python\n",
    "football.area = 1200\n",
    "```\n",
    "You would get the following error:\n",
    "```\n",
    "AttributeError: can't set attribute\n",
    "```\n",
    "Thus, by defining an attribute using `@property`, we have effectively made the attribute \"read-only\".\n",
    "\n",
    "\n",
    "### Setters and Getters\n",
    "\n",
    "In Python, we can access class attributes directly using the dot notation, e.g., `ball.radius`, and we can also change these directly if we so desire. This is not considered bad practice if the Class is defined to do this. In many other languages however, one either cannot access attributes directly, or it is considered bad practice to access them directly. In such languages, it is often common to define \"setter\" and \"getter\" methods. Here we would define a `Sphere.get_radius` method, which would return the value of the radius, and we would define a `Sphere.set_radius` to redefine it.\n",
    "\n",
    "In Python, such setters and getters are usually not implement explicitly, but we can use the same logic. In our previous example, we defined"
   ]
  },
  {
   "cell_type": "code",
   "execution_count": 20,
   "id": "94fbc40e",
   "metadata": {},
   "outputs": [],
   "source": [
    "@property\n",
    "def area(self):\n",
    "    return 4 * pi * self.radius**2"
   ]
  },
  {
   "cell_type": "markdown",
   "id": "0c30b898",
   "metadata": {},
   "source": [
    "And this method is effectively a *getter* for the area. It isn't called `get_area`, but that is what the function does.\n",
    "\n",
    "Similarly, we can define a *setter* method for the area property using the decorator `@area.setter`. Let us show with an example"
   ]
  },
  {
   "cell_type": "code",
   "execution_count": 21,
   "id": "98dfb58d",
   "metadata": {},
   "outputs": [],
   "source": [
    "from math import pi, sqrt\n",
    "\n",
    "\n",
    "class Sphere:\n",
    "    def __init__(self, radius):\n",
    "        self.radius = radius\n",
    "\n",
    "    @property\n",
    "    def area(self):\n",
    "        return 4 * pi * self.radius**2\n",
    "\n",
    "    @area.setter\n",
    "    def area(self, area):\n",
    "        if area < 0:\n",
    "            raise ValueError(\"Area cannot be negative\")\n",
    "        self.radius = sqrt(area / (4 * pi))\n",
    "\n",
    "    def __str__(self):\n",
    "        return f\"Sphere({self.radius})\""
   ]
  },
  {
   "cell_type": "markdown",
   "id": "3b5c9833",
   "metadata": {},
   "source": [
    "Here we first define the `Sphere.area` property using `@property` which allows us to access `Sphere.area` as if it were a number variable. After this we also define a setter, which allows us to redefine (or \"set\") the area. To do this we have to use the area formula in reverse to find the equivalent radius and redefine `self.radius`.\n",
    "\n",
    "With the `@area.setter` method defined, we can now both access `Sphere.area` *and* redefine it if we want. For example:"
   ]
  },
  {
   "cell_type": "code",
   "execution_count": 22,
   "id": "560b53dc",
   "metadata": {},
   "outputs": [
    {
     "name": "stdout",
     "output_type": "stream",
     "text": [
      "Sphere(10) has an area of 1257\n",
      "Sphere(5) has an area of 314\n",
      "Sphere(8.920620580763856) has an area of 1000\n"
     ]
    }
   ],
   "source": [
    "ball = Sphere(10)\n",
    "print(f\"{ball} has an area of {ball.area:.0f}\")\n",
    "\n",
    "ball.radius = 5\n",
    "print(f\"{ball} has an area of {ball.area:.0f}\")\n",
    "\n",
    "ball.area = 1000\n",
    "print(f\"{ball} has an area of {ball.area:.0f}\")"
   ]
  },
  {
   "cell_type": "markdown",
   "id": "4539afd8",
   "metadata": {},
   "source": [
    "So we now have a `Sphere`-class that allows us to either set the radius, and have the area automatically update, *or* we can set the surface area, and the radius automatically updates. Hopefully it is apparent why this could be useful. Another nice detail about this is we can build in some controls on the input of the setter function. Note that we in the `@area.setter` method have a check to see if the area is negative. If `Sphere.area` was a simple float attribute, we would have no way of restricting what value it was set to in this manner."
   ]
  },
  {
   "cell_type": "code",
   "execution_count": 23,
   "id": "f6e20cff",
   "metadata": {},
   "outputs": [
    {
     "ename": "ValueError",
     "evalue": "Area cannot be negative",
     "output_type": "error",
     "traceback": [
      "\u001b[0;31m---------------------------------------------------------------------------\u001b[0m",
      "\u001b[0;31mValueError\u001b[0m                                Traceback (most recent call last)",
      "Input \u001b[0;32mIn [23]\u001b[0m, in \u001b[0;36m<cell line: 1>\u001b[0;34m()\u001b[0m\n\u001b[0;32m----> 1\u001b[0m ball\u001b[38;5;241m.\u001b[39marea \u001b[38;5;241m=\u001b[39m \u001b[38;5;241m-\u001b[39m\u001b[38;5;241m1\u001b[39m\n",
      "Input \u001b[0;32mIn [21]\u001b[0m, in \u001b[0;36mSphere.area\u001b[0;34m(self, area)\u001b[0m\n\u001b[1;32m     12\u001b[0m \u001b[38;5;129m@area\u001b[39m\u001b[38;5;241m.\u001b[39msetter\n\u001b[1;32m     13\u001b[0m \u001b[38;5;28;01mdef\u001b[39;00m \u001b[38;5;21marea\u001b[39m(\u001b[38;5;28mself\u001b[39m, area):\n\u001b[1;32m     14\u001b[0m     \u001b[38;5;28;01mif\u001b[39;00m area \u001b[38;5;241m<\u001b[39m \u001b[38;5;241m0\u001b[39m:\n\u001b[0;32m---> 15\u001b[0m         \u001b[38;5;28;01mraise\u001b[39;00m \u001b[38;5;167;01mValueError\u001b[39;00m(\u001b[38;5;124m\"\u001b[39m\u001b[38;5;124mArea cannot be negative\u001b[39m\u001b[38;5;124m\"\u001b[39m)\n\u001b[1;32m     16\u001b[0m     \u001b[38;5;28mself\u001b[39m\u001b[38;5;241m.\u001b[39mradius \u001b[38;5;241m=\u001b[39m sqrt(area \u001b[38;5;241m/\u001b[39m (\u001b[38;5;241m4\u001b[39m \u001b[38;5;241m*\u001b[39m pi))\n",
      "\u001b[0;31mValueError\u001b[0m: Area cannot be negative"
     ]
    }
   ],
   "source": [
    "ball.area = -1"
   ]
  },
  {
   "cell_type": "markdown",
   "id": "8e8ff687",
   "metadata": {},
   "source": [
    "now gives\n",
    "```\n",
    "ValueError: Area cannot be negative\n",
    "```\n",
    "\n",
    "\n",
    "Note that we haven't added the volume method in the last example primarily to save some space in the lecture notes, you can now try to define the `@volume.setter` method yourself.\n",
    "\n",
    "\n",
    "### Avoiding repeated computations\n",
    "\n",
    "Our sphere class now works quite well and is user friendly. We can now the radius, surface area and volume as floats, and can set any of them directly and the others change automatically. However, this implementation might not be that efficient, as every time the user accesses `.area` or `.volume`, the actual values are computed from the radius behind the scenes.\n",
    "\n",
    "For such a simple computation as this, recomputing the area or volume isn't a big deal. But say these computations were more complicated and took something like a minute to complete. It would be annoying an inefficient to repeat such computations again and again.\n",
    "\n",
    "The way we would get around this would be to store the computed values as *internal* data in the class that the user should not interact with from outside the class. Such attributes are typically called *private attributes*. In Python there is no way to implement actual private variables, but you can designate that variables should be considered private by giving them name with a leading underscore.\n",
    "\n",
    "Let us show by an example (again we skip the `volume` property, which you can add yourself)"
   ]
  },
  {
   "cell_type": "code",
   "execution_count": 24,
   "id": "14211b22",
   "metadata": {},
   "outputs": [],
   "source": [
    "class Sphere:\n",
    "    def __init__(self, radius):\n",
    "        self._radius = radius\n",
    "        self._area = 4 * pi * radius**2\n",
    "\n",
    "    @property\n",
    "    def radius(self):\n",
    "        return self._radius\n",
    "\n",
    "    @radius.setter\n",
    "    def radius(self, r):\n",
    "        if r < 0:\n",
    "            raise ValueError(\"Radius cannot be negative\")\n",
    "        self._radius = r\n",
    "        self._area = 4 * pi * self.radius**2\n",
    "\n",
    "    @property\n",
    "    def area(self):\n",
    "        return self._area\n",
    "\n",
    "    @area.setter\n",
    "    def area(self, area):\n",
    "        if area < 0:\n",
    "            raise ValueError(\"Area cannot be negative\")\n",
    "        self._radius = sqrt(area / (4 * pi))\n",
    "        self._area = area"
   ]
  },
  {
   "cell_type": "markdown",
   "id": "4073b93c",
   "metadata": {},
   "source": [
    "We now store the area of the sphere as a private attribute called `sphere._area`. The underscore means this variable should never be accessed from outside the class. In addition we add the property `sphere.area` which can be used from outside.\n",
    "\n",
    "The code will now behave exactly the same as before from outside the class, but by using `sphere._area` we avoid unnecessarily recomputing the area many times.\n",
    "\n",
    "Note that we have also made the radius into a private variable `sphere._radius` and external property `sphere.radius`. We had to do this do ensure that the `sphere._area` attribute is recomputed if the radius is set (using `@radius.setter`).\n",
    "\n",
    "The code is now *a lot* more complex than what we started out with. And in many simple use cases you wouldn't go through the hassle of using private internal attributes like this and make properties and setters for these. For the sphere for example, recomputing the area a few times consumes close to no resources and can easily be done to get a simpler code. We simply use this as an example for how to handle cases that would be more complex.\n",
    "\n",
    "\n",
    "### Private and Public variables\n",
    "\n",
    "In our final example, the user has the properties `football.radius` and `football.area` they can interact with, while the class itself stores the internal data in the fields `_radius` and `_area`. We call the first two *public* properties or variables. Here, public means that they are accessible from outside the class. The latter two variables are *private*, meaning they should only be accessed from inside the class and are not meant to be used from outside.\n",
    "\n",
    "Note that we give the private variables leading underscores in their name, which indicates they are private. In Python, there is no way to enforce private variables however, and the leading underscore is just a convention. Thus the user can go inn and change these directly: `football._radius = 9`, however, this is breaking the *convention* that one should change a private variable, and if this breaks the object, it is the users fault. Other languages, such as Java and C++ however, *do* enforce private and public variables. If you attempt to access a private variable from outside, an error is thrown.\n",
    "\n",
    "\n",
    "```{figure} ../../figures/private.jpg\n",
    "---\n",
    "width: 500px\n",
    "name: python_private\n",
    "---\n",
    "Private attributes in python are not really private.\n",
    "```\n",
    "\n",
    "(dataclasses)=\n",
    "## Dataclasses\n",
    "\n",
    "Dataclasses is a fairly new concept that was added in python 3.7. When writing a class we note that there is a lot of boilerplate code that we have to write. Consider the `Contact` class that was introduced in the beginning of this section (here we have changed the default values for `email` and `cellphone` from `None` to an empty string (`\"\"`). We will see later in this section how to deal with `None`)"
   ]
  },
  {
   "cell_type": "code",
   "execution_count": 25,
   "id": "74049fba",
   "metadata": {},
   "outputs": [],
   "source": [
    "class Contact:\n",
    "    def __init__(self, name, email=\"\", cellphone=\"\"):\n",
    "        self.name = name\n",
    "        self.email = email\n",
    "        self.cellphone = cellphone\n",
    "\n",
    "    def __str__(self):\n",
    "        return f\"Contact(name={self.name}, email={self.email}, cellphone={self.cellphone})\""
   ]
  },
  {
   "cell_type": "markdown",
   "id": "6d125486",
   "metadata": {},
   "source": [
    "Here we have also added a special method `__str__` which will make sure that an instance is printed nicely, see {ref}`python-oop-special-print`. We can create and instance and print it"
   ]
  },
  {
   "cell_type": "code",
   "execution_count": 26,
   "id": "e3b5eedb",
   "metadata": {},
   "outputs": [
    {
     "name": "stdout",
     "output_type": "stream",
     "text": [
      "Contact(name=Henrik, email=henriknf@simula.no, cellphone=)\n"
     ]
    }
   ],
   "source": [
    "p = Contact(name=\"Henrik\", email=\"henriknf@simula.no\")\n",
    "print(p)"
   ]
  },
  {
   "cell_type": "markdown",
   "id": "a78d411a",
   "metadata": {},
   "source": [
    "What we noticed here is that there is a lot of repetition in the code. First we need to specify the arguments in the `__init__` function, then we need to set the attributes on the instance, and finally we need to access the same attributes when we want to make a nice print function. In fact, this is a very common use case for a class in python. You simply create a class that should hold some data. Because this is a very common pattern, python actually introduced a new concept in python3.7 known as *dataclasses*  that will make the process of creating classes that should simply hold some data simpler.\n",
    "\n",
    "Before introducing dataclasses we will also add type annotations to the arguments (see {ref}`type-annotations` for more info) and methods since this is required when working with dataclasses. We can add types to the `Contact` class as follows"
   ]
  },
  {
   "cell_type": "code",
   "execution_count": 27,
   "id": "6d2aec94",
   "metadata": {},
   "outputs": [],
   "source": [
    "class Contact:\n",
    "    def __init__(self, name: str, email: str =\"\", cellphone: str =\"\") -> None:\n",
    "        self.name = name\n",
    "        self.email = email\n",
    "        self.cellphone = cellphone\n",
    "\n",
    "    def __str__(self):\n",
    "        return f\"Contact(name={self.name}, email={self.email}, cellphone={self.cellphone})\""
   ]
  },
  {
   "cell_type": "markdown",
   "id": "2a4d0826",
   "metadata": {},
   "source": [
    "We are now ready to transform this class into a dataclass, and we do so by import `dataclass` from the `dataclasses` modules and add the `dataclass` decorator to the class."
   ]
  },
  {
   "cell_type": "code",
   "execution_count": 28,
   "id": "4b5a8797",
   "metadata": {},
   "outputs": [],
   "source": [
    "from dataclasses import dataclass\n",
    "\n",
    "@dataclass\n",
    "class Contact:\n",
    "    name: str\n",
    "    email: str = \"\"\n",
    "    cellphone: str = \"\""
   ]
  },
  {
   "cell_type": "markdown",
   "id": "fd2cc313",
   "metadata": {},
   "source": [
    "We can now try to redo the example above and create an instance and print it"
   ]
  },
  {
   "cell_type": "code",
   "execution_count": 29,
   "id": "96cd2a87",
   "metadata": {},
   "outputs": [
    {
     "name": "stdout",
     "output_type": "stream",
     "text": [
      "Contact(name='Henrik', email='henriknf@simula.no', cellphone='')\n"
     ]
    }
   ],
   "source": [
    "p = Contact(name=\"Henrik\", email=\"henriknf@simula.no\")\n",
    "print(p)"
   ]
  },
  {
   "cell_type": "markdown",
   "id": "92c6e97c",
   "metadata": {},
   "source": [
    "Pretty nice, right? The two examples above are equivalent but we see that we can write less code when using dataclasses. We also see that adding type hints not only improves the readability, documentation and IDE integration, but also allow us to write less code using dataclasses. Win win!\n",
    "\n",
    "Lets go back to the original `Contact` class where `email` and `cellphone` was set to `None`.\n",
    "In this case `email` and `cellphone` should be strings, but if no value is provided they should have a default value `None`. The type of such an a variable is `Optional[str]` where `Optional` is imported from the `typing` module (again see {ref}`type-annotations` for more info)."
   ]
  },
  {
   "cell_type": "code",
   "execution_count": 30,
   "id": "538aadcd",
   "metadata": {},
   "outputs": [
    {
     "name": "stdout",
     "output_type": "stream",
     "text": [
      "Contact(name=Henrik, email=henriknf@simula.no, cellphone=None)\n"
     ]
    }
   ],
   "source": [
    "import typing\n",
    "\n",
    "class Contact:\n",
    "    def __init__(self, name, email: typing.Optional[str] = None, cellphone: typing.Optional[str] = None) -> None:\n",
    "        self.name = name\n",
    "        self.email = email\n",
    "        self.cellphone = cellphone\n",
    "\n",
    "    def __str__(self) -> str:\n",
    "        return f\"Contact(name={self.name}, email={self.email}, cellphone={self.cellphone})\"\n",
    "\n",
    "p = Contact(name=\"Henrik\", email=\"henriknf@simula.no\")\n",
    "print(p)"
   ]
  },
  {
   "cell_type": "markdown",
   "id": "7cd50237",
   "metadata": {},
   "source": [
    "Translating this to a dataclass would simply be"
   ]
  },
  {
   "cell_type": "code",
   "execution_count": 31,
   "id": "4a03ac31",
   "metadata": {},
   "outputs": [
    {
     "name": "stdout",
     "output_type": "stream",
     "text": [
      "Contact(name='Henrik', email='henriknf@simula.no', cellphone=None)\n"
     ]
    }
   ],
   "source": [
    "from dataclasses import dataclass\n",
    "\n",
    "@dataclass\n",
    "class Contact:\n",
    "    name: str\n",
    "    email: typing.Optional[str] = None\n",
    "    cellphone: typing.Optional[str] = None\n",
    "\n",
    "\n",
    "p = Contact(name=\"Henrik\", email=\"henriknf@simula.no\")\n",
    "print(p)"
   ]
  },
  {
   "cell_type": "markdown",
   "id": "09f5a56d",
   "metadata": {},
   "source": [
    "It should noted that dataclasses are just normal classes, but with some extra syntactic sugar to make it simpler and to avoid writing too much boilerplate code.\n",
    "Therefore you can also perfectly add methods to this class as you would with a regular python class e.g"
   ]
  },
  {
   "cell_type": "code",
   "execution_count": 32,
   "id": "9fb430a7",
   "metadata": {},
   "outputs": [
    {
     "name": "stdout",
     "output_type": "stream",
     "text": [
      "Cannot call Henrik. No phone number available\n",
      "Calling Elon Musk at 12345678...\n"
     ]
    }
   ],
   "source": [
    "from dataclasses import dataclass\n",
    "\n",
    "@dataclass\n",
    "class Contact:\n",
    "    name: str\n",
    "    email: typing.Optional[str] = None\n",
    "    cellphone: typing.Optional[str] = None\n",
    "\n",
    "    def has_email(self) -> bool:\n",
    "        return self.email is not None\n",
    "\n",
    "    def has_cellphone(self) -> bool:\n",
    "        return self.cellphone is not None\n",
    "\n",
    "    def make_phone_call(self) -> None:\n",
    "        if not self.has_cellphone():\n",
    "            print(f\"Cannot call {self.name}. No phone number available\")\n",
    "            return\n",
    "\n",
    "        print(f\"Calling {self.name} at {self.cellphone}...\")\n",
    "\n",
    "p1 = Contact(name=\"Henrik\", email=\"henriknf@simula.no\")\n",
    "p1.make_phone_call()\n",
    "\n",
    "p2 = Contact(name=\"Elon Musk\", cellphone=\"12345678\")\n",
    "p2.make_phone_call()"
   ]
  },
  {
   "cell_type": "markdown",
   "id": "e39882c4",
   "metadata": {},
   "source": [
    "If you want to learn more about dataclasses, please check out [Dataclasses guide on realpython.com](https://realpython.com/python-data-classes/)\n",
    "\n",
    "\n",
    "(named-tuples)=\n",
    "## NamedTuple\n",
    "\n",
    "In the dataclass example above we could also obtain the same result using a `NamedTuple`. In that case the code would as follows"
   ]
  },
  {
   "cell_type": "code",
   "execution_count": 33,
   "id": "bdc4ddd9",
   "metadata": {},
   "outputs": [
    {
     "name": "stdout",
     "output_type": "stream",
     "text": [
      "Cannot call Henrik. No phone number available\n",
      "Calling Elon Musk at 12345678...\n"
     ]
    }
   ],
   "source": [
    "\n",
    "class ContactNamedTuple(typing.NamedTuple):\n",
    "    name: str\n",
    "    email: typing.Optional[str] = None\n",
    "    cellphone: typing.Optional[str] = None\n",
    "\n",
    "    def has_email(self) -> bool:\n",
    "        return self.email is not None\n",
    "\n",
    "    def has_cellphone(self) -> bool:\n",
    "        return self.cellphone is not None\n",
    "\n",
    "    def make_phone_call(self) -> None:\n",
    "        if not self.has_cellphone():\n",
    "            print(f\"Cannot call {self.name}. No phone number available\")\n",
    "            return\n",
    "\n",
    "        print(f\"Calling {self.name} at {self.cellphone}...\")\n",
    "\n",
    "p1_named_tuple = ContactNamedTuple(name=\"Henrik\", email=\"henriknf@simula.no\")\n",
    "p1_named_tuple.make_phone_call()\n",
    "\n",
    "p2_named_tuple = ContactNamedTuple(name=\"Elon Musk\", cellphone=\"12345678\")\n",
    "p2_named_tuple.make_phone_call()"
   ]
  },
  {
   "cell_type": "markdown",
   "id": "6db55c28",
   "metadata": {},
   "source": [
    "Notice, that here we inherit from `typing.NamedTuple` (more about inheritance later in the course).\n",
    "\n",
    "So what is the difference? The difference is that dataclasses are regular (dynamic) classes. This means that for example, assigning new attributes to the instance is allowed, i.e"
   ]
  },
  {
   "cell_type": "code",
   "execution_count": 34,
   "id": "696a7690",
   "metadata": {},
   "outputs": [],
   "source": [
    "p1.new_attribute = 42"
   ]
  },
  {
   "cell_type": "markdown",
   "id": "11b417b6",
   "metadata": {},
   "source": [
    "When creating a named tuple, you are not creating a regular class, but a \"fancy\" tuple. As we have have seen tuples are immutable data structures which means that once you have created it, you cannot change it, and the following will raise an error"
   ]
  },
  {
   "cell_type": "code",
   "execution_count": 35,
   "id": "2f5cf1f4",
   "metadata": {},
   "outputs": [
    {
     "ename": "AttributeError",
     "evalue": "'ContactNamedTuple' object has no attribute 'new_attribute'",
     "output_type": "error",
     "traceback": [
      "\u001b[0;31m---------------------------------------------------------------------------\u001b[0m",
      "\u001b[0;31mAttributeError\u001b[0m                            Traceback (most recent call last)",
      "Input \u001b[0;32mIn [35]\u001b[0m, in \u001b[0;36m<cell line: 1>\u001b[0;34m()\u001b[0m\n\u001b[0;32m----> 1\u001b[0m p1_named_tuple\u001b[38;5;241m.\u001b[39mnew_attribute \u001b[38;5;241m=\u001b[39m \u001b[38;5;241m42\u001b[39m\n",
      "\u001b[0;31mAttributeError\u001b[0m: 'ContactNamedTuple' object has no attribute 'new_attribute'"
     ]
    }
   ],
   "source": [
    "p1_named_tuple.new_attribute = 42"
   ]
  },
  {
   "cell_type": "markdown",
   "id": "2a068db1",
   "metadata": {},
   "source": [
    "## NamedTuple vs Dataclass vs Regular Class?\n",
    "So which should you choose? My recommendations is to start out with a named tuple, and if you find that it doesn't work (for example if you need to set attributes dynamically), then you can upgrade to a dataclass. And again if that doesn't work, for example if you need to do something more advanced in the initializer, then you might be better of just using a regular class. Choosing a regular class also have the benefit that you don't need to import anything and use inheritance (for NamedTuple) of a class decorator (for dataclasses)."
   ]
  }
 ],
 "metadata": {
  "jupytext": {
   "formats": "md:myst",
   "text_representation": {
    "extension": ".md",
    "format_name": "myst"
   }
  },
  "kernelspec": {
   "display_name": "Python 3",
   "language": "python",
   "name": "python3"
  },
  "language_info": {
   "codemirror_mode": {
    "name": "ipython",
    "version": 3
   },
   "file_extension": ".py",
   "mimetype": "text/x-python",
   "name": "python",
   "nbconvert_exporter": "python",
   "pygments_lexer": "ipython3",
   "version": "3.10.4"
  },
  "source_map": [
   11,
   62,
   66,
   70,
   76,
   81,
   84,
   88,
   90,
   122,
   143,
   149,
   155,
   172,
   178,
   220,
   232,
   238,
   243,
   247,
   252,
   256,
   268,
   272,
   274,
   282,
   293,
   298,
   304,
   312,
   325,
   329,
   335,
   341,
   345,
   351,
   371,
   377,
   383,
   401,
   405,
   411,
   431,
   437,
   446,
   450,
   452,
   472,
   499,
   530,
   539,
   541,
   544,
   550,
   559,
   563,
   571,
   574,
   577,
   583,
   597,
   601,
   613,
   618,
   645,
   654,
   680,
   685,
   687,
   690,
   692
  ]
 },
 "nbformat": 4,
 "nbformat_minor": 5
}