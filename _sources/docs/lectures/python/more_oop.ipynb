{
 "cells": [
  {
   "cell_type": "markdown",
   "id": "83ca7ecf",
   "metadata": {},
   "source": [
    "# More on Object-Oriented Programming\n",
    "\n",
    "In this week's lecture, and the next, we will go more into the theoretical basis of object-oriented programming, and show you some more advanced possibilities in Python.\n",
    "\n",
    "## Outline\n",
    "* The four pillars of OOP\n",
    "* Other important OOP concepts\n",
    "* Class methods and class variables\n",
    "* Static methods\n",
    "\n",
    "## The four pillars of OOP\n",
    "\n",
    "The \"four pillars\" are four concepts that are central when programming object-oriented, and are often referred to in the literature. These are:\n",
    "\n",
    "* **Abstraction**; to extract the essential features of objects we use into a common abstract concept (i.e. a class)\n",
    "* **Encapsulation**; collecting all the data and functionality into a single class, that is accessed through a well-defined interface.\n",
    "* **Inheritance**; defining new classes based on existing classes.\n",
    "* **Polymorphism**; the idea that an object or a function can have different behavior based on the context.\n",
    "\n",
    "### Abstraction\n",
    "\n",
    "Abstraction means to extract the essential features of objects we use into a common abstract concept (i.e. a class). As part of the abstraction we also decouple how something is used from how it is implemented, and only need to focus on the implementation when developing the class. We can hide away unnecessary or complex details when using the class, exposing only a clean interface externally. Abstraction reduces overall code complexity and makes code easier to understand. Abstraction is essential in modern software systems, since it would be impossible to deal with the complexity of modern systems while still keeping track of all details down to the level of single bits. For instance, we work with integers and floating point numbers as abstract quantities without knowing how these are represented on the computer.\n",
    "\n",
    "### Encapsulation\n",
    "\n",
    "Encapsulation means collecting all the data and functionality into a single class. The concept of encapsulation is related to and to some extent overlapping with abstraction, in that we \"encapsulate\" details inside a class, exposing only the easy-to-use interface. Encapsulation also encompasses hiding data inside classes that the external user never interacts with directly or sees. An essential goal of proper encapsulation is that internal data structures of a class may be completely changed, but as long as the interface is untouched all code using the class will still work.\n",
    "We use floating point numbers continuously in our codes, but only through the defined Python operators, never\n",
    "manipulating the actual number representation in memory. Therefore, our codes still work even if the standard for floating point number representation is changed (which has happened several times through history).\n",
    "\n",
    "\n",
    "### Inheritance\n",
    "\n",
    "Inheritance means defining new classes based on existing classes. Inheritance is useful because it lets us avoid re-implementing the same methods and behaviors many times (don't repeat yourself), but also because it creates a clear *hierarchy* in your classes, which can be used to structure code. Inheritance can be seen as a central tool for *abstraction*, since the class hierarchies will (should) often map to natural hierarchical relations between different concepts. Consider an example from daily life; in most contexts it is sufficient to think of a car simply as a car, without knowing the brand, model, type, etc, while for other applications more details are needed. The same is true in many programming applications, and inheritance provides the tools for handling these relations.\n",
    "\n",
    "### Polymorphism\n",
    "\n",
    "Polymorphism is perhaps the most tricky concept, but it means that an object can have different behavior based on context. A blu-ray player can read both a blu-ray disc and a DVD, on a technical level, these are very different, but for the user, they are added to the player and functions the same. This would be an example of polymorphic behavior. Similarly, we can for example define a method that can take input of different types, for example an integer *or* a list of integers. The concept of polymorphism is tightly coupled to the use of inheritance and class hierarchies, in *statically typed languages*, where input arguments to a function are required to be of a specific type. With the dynamic typing in Python, polymorphic behavior can also be achieved with other methods, but using class hierarchies and OOP often leads to better structured and more readable code. By making polymorphic classes, we can generalize our classes so they can be easier to use.\n",
    "\n",
    "In reality, the *four pillars* are closely related and partly overlapping concepts. For instance, polymorphism is typically implemented through inheritance, and inheritance is also a key tool for abstractions that have a natural hierarchy.\n",
    "\n",
    "### A simple example to illustrate the four pillars\n",
    "\n",
    "A general problem when introducing OOP is that the ideas are most useful for large programs. For simple example codes, that are practical to use in courses, the benefit of OOP is typically rather small. Seeing the real value of OOP therefore requires some ability to extrapolate, and try to imagine how code designs and implementations will scale to systems with 1000s of code lines.\n",
    "\n",
    "Here is a simple examples to illustrate the four pillars. You have probably seen similar examples previously, but we repeat it here to link it directly to the four pillars. Say we have a program that uses matrices, vectors, and matrix-vector products. Vectors and matrices are conveniently stored as numpy arrays:"
   ]
  },
  {
   "cell_type": "code",
   "execution_count": 1,
   "id": "7c87c194",
   "metadata": {},
   "outputs": [
    {
     "name": "stdout",
     "output_type": "stream",
     "text": [
      "[[2 3 4]\n",
      " [3 4 5]\n",
      " [4 5 6]]\n",
      "[2 3 4]\n"
     ]
    }
   ],
   "source": [
    "# matrices and vectors are easily represented as numpy arrays\n",
    "import numpy as np\n",
    "\n",
    "# create some arbitrary matrix A\n",
    "A = np.array([[i + j for i in range(1, 4)] for j in range(1, 4)])\n",
    "print(A)\n",
    "\n",
    "# some vector x\n",
    "x = np.array([1, 0, 0])\n",
    "\n",
    "# compute and print the product b=Ax\n",
    "b = np.matmul(A, x)\n",
    "print(b)"
   ]
  },
  {
   "cell_type": "markdown",
   "id": "a50a995e",
   "metadata": {},
   "source": [
    "This is all well and good, but the code completely ignores the fact that a matrix is a well-defined and useful mathematical concept, with a strictly defined set of permitted operations. If our code was larger, and used multiple matrices, explicitly representing the abstract concept of a matrix will make the code far more readable. For that purpose, it is natural to use a class, which holds the matrix data and defines associated operations:"
   ]
  },
  {
   "cell_type": "code",
   "execution_count": 2,
   "id": "8e583ac0",
   "metadata": {},
   "outputs": [
    {
     "name": "stdout",
     "output_type": "stream",
     "text": [
      "[[2 3 4]\n",
      " [3 4 5]\n",
      " [4 5 6]]\n",
      "[2 3 4]\n"
     ]
    }
   ],
   "source": [
    "class Matrix:\n",
    "    def __init__(self, data):\n",
    "        self._data = data\n",
    "\n",
    "    def __str__(self):\n",
    "        return str(self._data)\n",
    "\n",
    "    def mul(self, x):\n",
    "        return np.matmul(self._data, x)\n",
    "\n",
    "\n",
    "values = np.array([[i + j for i in range(1, 4)] for j in range(1, 4)])\n",
    "A = Matrix(values)\n",
    "print(A)\n",
    "\n",
    "x = np.array([1, 0, 0])\n",
    "b = A.mul(x)\n",
    "\n",
    "print(b)"
   ]
  },
  {
   "cell_type": "markdown",
   "id": "cc5fe6b4",
   "metadata": {},
   "source": [
    "One may argue that for this simple code not much has been gained, but it should be easy to see the potential benefits for larger systems. The incredibly useful branch of mathematics known as linear algebra would be impossible to understand without the abstract concept of a matrix. Adding the right abstraction to a code may have similar implications for its readability.\n",
    "\n",
    "In our matrix example it makes sense to consider the third pillar, *inheritance*, before looking at the second. Assume that many of the matrices used in our program are diagonal. For large matrices, it is very inefficient to compute a matrix-vector products involving a diagonal matrix as if the matrix was full. To avoid unnecessary code duplication, we can introduce the diagonal matrix as a sub-class:"
   ]
  },
  {
   "cell_type": "code",
   "execution_count": 3,
   "id": "ca976a28",
   "metadata": {},
   "outputs": [
    {
     "name": "stdout",
     "output_type": "stream",
     "text": [
      "[[2 0 0]\n",
      " [0 4 0]\n",
      " [0 0 6]]\n",
      "[2 0 0]\n"
     ]
    }
   ],
   "source": [
    "class MatDiag(Matrix):\n",
    "    def mul(self, x):\n",
    "        return np.diagonal(self._data) * x\n",
    "\n",
    "\n",
    "d = [2, 4, 6]\n",
    "A = MatDiag(np.diag(d))\n",
    "print(A)\n",
    "\n",
    "x = np.array([1, 0, 0])\n",
    "b = A.mul(x)\n",
    "print(b)"
   ]
  },
  {
   "cell_type": "markdown",
   "id": "6e6dabe3",
   "metadata": {},
   "source": [
    "While this class works, it is not very well-suited for large matrices, since we store a large number of zeros ($n\\times n - n$, for an $n\\times n$ matrix). We can create a more memory-friendly version of the `MatDiag` class, and at the same time illustrate *encapsulation*:"
   ]
  },
  {
   "cell_type": "code",
   "execution_count": 4,
   "id": "7f264ffa",
   "metadata": {},
   "outputs": [
    {
     "name": "stdout",
     "output_type": "stream",
     "text": [
      "diag([2 4 6])\n",
      "[2 0 0]\n"
     ]
    }
   ],
   "source": [
    "class MatDiag(Matrix):\n",
    "    def __init__(self, data):\n",
    "        if data.ndim == 1:\n",
    "            self._data = data\n",
    "        elif data.ndim == 2:\n",
    "            self._data = np.diagonal(data)\n",
    "\n",
    "    def __str__(self):\n",
    "        return \"diag(\" + str(self._data) + \")\"\n",
    "\n",
    "    def mul(self, x):\n",
    "        return self._data * x\n",
    "\n",
    "\n",
    "d = [2, 4, 6]\n",
    "A = MatDiag(np.diag(d))\n",
    "print(A)\n",
    "\n",
    "x = np.array([1, 0, 0])\n",
    "b = A.mul(x)\n",
    "print(b)"
   ]
  },
  {
   "cell_type": "markdown",
   "id": "88e74c3b",
   "metadata": {},
   "source": [
    "The main change to the class is that we only store the non-zero diagonal elements. Note also that we use the  standard convention of a leading underscore on the attribute `_data`, to indicate to users of the class that this item is not to be manipulated directly. Our change of internal data structure has implications for the implementation of the constructor and the `mul` function, but users of the class will not see these changes. The class interface is not changed, and all codes that use the class will work without changes.\n",
    "\n",
    "The fourth and final pillar, *polymorphism*, can be illustrated by the following example code, where we want to solve the linear system `Ax = b`. This can of course be done both for full matrices and diagonal matrices. However, if we care about efficiency we should utilize the matrix structure, just as we did for the matrix multiplication above. The following function implements a naive solution:"
   ]
  },
  {
   "cell_type": "code",
   "execution_count": 5,
   "id": "df75030c",
   "metadata": {},
   "outputs": [
    {
     "name": "stdout",
     "output_type": "stream",
     "text": [
      "diag([2 4 6])\n",
      "[[2. 1. 1.]\n",
      " [1. 2. 1.]\n",
      " [1. 1. 2.]]\n"
     ]
    }
   ],
   "source": [
    "\"\"\"\n",
    "Note: intentionally bad coding style, breaks encapsulation\n",
    "\"\"\"\n",
    "\n",
    "\n",
    "def solve(A, b):\n",
    "    \"\"\"Solves Ax=b wrt x, choosing the\n",
    "    algorithm based on the structure of A\"\"\"\n",
    "    if isinstance(A, MatDiag):\n",
    "        x = b / A._data\n",
    "    elif isinstance(A, Matrix):\n",
    "        x = np.matmul(np.linalg.inv(A._data), b)\n",
    "\n",
    "    return x\n",
    "\n",
    "\n",
    "d = [2, 4, 6]\n",
    "A0 = MatDiag(np.diag(d))\n",
    "A1 = Matrix(np.eye(3) + np.ones((3, 3)))\n",
    "print(A0)\n",
    "print(A1)"
   ]
  },
  {
   "cell_type": "markdown",
   "id": "cf92ead8",
   "metadata": {},
   "source": [
    "There are two main reasons to change this code. The first is that encapsulation is broken, since the function accesses the internal matrix data structures directly. The second one is that we use `isinstance` tests to determine the behavior. Both problems can be solved by moving the `solve` function inside the classes, and allowing the object itself to determine what function to call. The complete implementation of the classes and the function may look like:"
   ]
  },
  {
   "cell_type": "code",
   "execution_count": 6,
   "id": "92f32385",
   "metadata": {},
   "outputs": [],
   "source": [
    "class Matrix:\n",
    "    def __init__(self, data):\n",
    "        self._data = data\n",
    "\n",
    "    def __str__(self):\n",
    "        return str(self._data)\n",
    "\n",
    "    def mul(self, x):\n",
    "        return np.matmul(self._data, x)\n",
    "\n",
    "    def solve(self, b):\n",
    "        return np.matmul(np.linalg.inv(_data), b)"
   ]
  },
  {
   "cell_type": "code",
   "execution_count": 7,
   "id": "a9c6a40a",
   "metadata": {},
   "outputs": [],
   "source": [
    "class MatDiag(Matrix):\n",
    "    def __init__(self, data):\n",
    "        if data.ndim == 1:\n",
    "            self._data = data\n",
    "        elif data.ndim == 2:\n",
    "            self._data = np.diagonal(data)\n",
    "\n",
    "    def __str__(self):\n",
    "        return \"diag(\" + str(self._data) + \")\"\n",
    "\n",
    "    def mul(self, x):\n",
    "        return self._data * x\n",
    "\n",
    "    def solve(self, b):\n",
    "        print(b, self._data)\n",
    "        return b / self._data"
   ]
  },
  {
   "cell_type": "code",
   "execution_count": 8,
   "id": "d61e61de",
   "metadata": {},
   "outputs": [
    {
     "name": "stdout",
     "output_type": "stream",
     "text": [
      "diag([2 4 6])\n",
      "[2 4 6]\n",
      "[1 1 1]\n",
      "[1 1 1] [2 4 6]\n",
      "[0.5        0.25       0.16666667]\n"
     ]
    }
   ],
   "source": [
    "def solve(A, b):\n",
    "    print(b)\n",
    "    return A.solve(b)\n",
    "\n",
    "\n",
    "d = [2, 4, 6]\n",
    "A0 = MatDiag(np.diag(d))\n",
    "print(A0)\n",
    "print(A0._data)\n",
    "\n",
    "print(solve(A0, np.array([1, 1, 1])))"
   ]
  },
  {
   "cell_type": "markdown",
   "id": "ee8ed960",
   "metadata": {},
   "source": [
    "Polymorphism implemented through class hierarchies becomes *even more important in statically typed languages*. For instance, if we were to implement something like the `solve` function above in C++, we would have to specify the type of the arguments `A` and `b`. If we specified `A` as an instance of the `Matrix` base class, the function would accept objects of all sub-classes as arguments, and things would work exactly as in Python.\n",
    "\n",
    "\n",
    "### Other important OOP concepts (1)\n",
    "* **Multi-level inheritance**; a class hierarchy with several levels of sub-classes. For instance we could introduce band matrix as a subclass of matrix, and diagonal matrix as a subclass of band matrix.\n",
    "* **Multiple inheritance**; one subclass inherits from several base classes, defined by listing all of them in the class definition; `class SubClass(Base1, Base2):`.\n",
    "* **Method resolution order (MRO)**; the rules determining the order in which Python looks for methods and data in a class hierarchy. In general, Python will progress down to up in the class hierarchy, and from left to right in the case of multiple inheritance.\n",
    "* **Method overriding**; the process of writing a different function in a sub-class, which overrides the corresponding method in the base class (like the `mul` and `solve` methods in the `MatDiag` class above.\n",
    "* **Abstract class**; a base class that is only used to implement common features of a class hierarchy, and which we never create instances of. Example is the *cosmic base class* `object` in Python.\n",
    "* **Virtual method**; an overrideable method, i.e. a method that is declared *virtual* in the base class can be overridden in subclasses. In Python all methods are virtual by default, but this is not the case for Java and C++."
   ]
  },
  {
   "cell_type": "code",
   "execution_count": 9,
   "id": "37f2b0da",
   "metadata": {},
   "outputs": [
    {
     "name": "stdout",
     "output_type": "stream",
     "text": [
      "True\n"
     ]
    }
   ],
   "source": [
    "# Example: multilevel inheritance\n",
    "\n",
    "\n",
    "class Organism:\n",
    "    pass\n",
    "\n",
    "\n",
    "class Animal(Organism):\n",
    "    pass\n",
    "\n",
    "\n",
    "class Herbivore(Animal):\n",
    "    pass\n",
    "\n",
    "\n",
    "class Carnivore(Animal):\n",
    "    pass\n",
    "\n",
    "\n",
    "class Sheep(Herbivore):\n",
    "    pass\n",
    "\n",
    "\n",
    "class Wolf(Carnivore):\n",
    "    pass\n",
    "\n",
    "\n",
    "dolly = Sheep()\n",
    "\n",
    "print(isinstance(dolly, Animal))"
   ]
  },
  {
   "cell_type": "markdown",
   "id": "ad2c9d4a",
   "metadata": {},
   "source": [
    "Inheritance implies an *is a* relationship. A herbivore *is an* animal, which in turn *is an* organism.\n",
    "\n",
    "Note that while `isinstance` checks whether a given object instance belongs to a given class, there is also a `issubclass` that can be used on class objects. So you can for example check that a Herbivore is an animal.\n",
    "\n",
    "### Note: Constructors in class hierarchies\n",
    "\n",
    "The following is true for subclasses:\n",
    "* The subclass automatically has all the same methods as the superclass, including the constructor\n",
    "* The subclass can redefine (overwrite) any inherited method\n",
    "* The subclass can define new methods\n",
    "\n",
    "However, if a subclass wants to extend the constructor of its superclass, we might run into problems:"
   ]
  },
  {
   "cell_type": "code",
   "execution_count": 10,
   "id": "b21edcba",
   "metadata": {},
   "outputs": [],
   "source": [
    "class Car:\n",
    "    \"\"\"Store information about a car\"\"\"\n",
    "\n",
    "    def __init__(self, brand, model, plate_nr, color, milage):\n",
    "        self.brand = brand\n",
    "        self.model = model\n",
    "        self.plate_nr = plate_nr\n",
    "        self.color = color\n",
    "        self.milage = milage"
   ]
  },
  {
   "cell_type": "markdown",
   "id": "59b3fe0d",
   "metadata": {},
   "source": [
    "We now want to create ElectricCar, as a subclass of Car. The only difference is we want to also add information about the battery capacity of the electric car. We want this information to go into the constructor.\n",
    "\n",
    "Challenge: We want to get away without having to re-implement the whole constructor. This is part of the motivation behind inheritance in the first place (DRY: Don't repeat yourself.)\n",
    "\n",
    "Let us first look at the 'naive' solution:"
   ]
  },
  {
   "cell_type": "code",
   "execution_count": 11,
   "id": "a698cc1f",
   "metadata": {},
   "outputs": [],
   "source": [
    "class ElectricCar(Car):\n",
    "    def __init__(self, brand, model, plate_nr, color, milage, battery):\n",
    "        self.battery = battery"
   ]
  },
  {
   "cell_type": "markdown",
   "id": "5f4c23f5",
   "metadata": {},
   "source": [
    "This would be great (if it worked), because we only need to add the new information of the subclass, without repeating all the old information. The problem is that when we create the `__init__`-method in the `ElectricCar`-class, we overwrite the Car method that was inherited in the first place. Thus, the new constructor would *only* remember the battery, not any of the other information.\n",
    "\n",
    "To get around this, we can explicitly call the superclass's init function directly."
   ]
  },
  {
   "cell_type": "code",
   "execution_count": 12,
   "id": "a9ac85f3",
   "metadata": {},
   "outputs": [],
   "source": [
    "class ElectricCar(Car):\n",
    "    def __init__(self, brand, model, plate_nr, color, milage, battery):\n",
    "        Car.__init__(self, brand, model, plate_nr, color, milage)\n",
    "        self.battery = battery\n",
    "\n",
    "\n",
    "tesla = ElectricCar(\"tesla\", \"model s\", \"EL12345\", \"blue\", 1000, 75)"
   ]
  },
  {
   "cell_type": "markdown",
   "id": "ad4295d7",
   "metadata": {},
   "source": [
    "This way, we can use the old constructor, but add additional steps when constructing the object.\n",
    "\n",
    "As in earlier examples, we want to avoid hard-coding in specific class names, in case we change them later, or use inheritance. To do this, we change writing `Car.__init__` with `super().__init__`. Here, `super` is a built-in Python function that refers to the superclass, when used within a subclass. So we would do:"
   ]
  },
  {
   "cell_type": "code",
   "execution_count": 13,
   "id": "1d3ad645",
   "metadata": {},
   "outputs": [
    {
     "name": "stdout",
     "output_type": "stream",
     "text": [
      "True\n",
      "EL12345\n"
     ]
    }
   ],
   "source": [
    "class ElectricCar(Car):\n",
    "    def __init__(self, brand, model, plate_nr, color, milage, battery):\n",
    "        super().__init__(brand, model, plate_nr, color, milage)\n",
    "        self.battery = battery\n",
    "\n",
    "\n",
    "t1 = ElectricCar(\"tesla\", \"model s\", \"EL12345\", \"blue\", 1000, 75)\n",
    "\n",
    "print(isinstance(t1, Car))\n",
    "print(t1.plate_nr)"
   ]
  },
  {
   "cell_type": "markdown",
   "id": "efe8cbc0",
   "metadata": {},
   "source": [
    "**Note this potential source of confusion:**\n",
    "* When referencing the base class constructor through the `super()` function, we do not pass `self` as the first argument!\n",
    "* If we directly referenced the base class through `Car.__init__`, we need to pass `self`.\n",
    "\n",
    "This is part of the behavior of Python's `super` function. The intention for this function is that it should always be invoked on an instance, and therefore `self` is passed automatically. When referencing the class directly, the class has no idea of an instance, so this needs to be explicitly passed. The recommended solution is to simply remember its behavior, and always use `super()` to invoke a base class constructor, never the direct class reference.\n",
    "\n",
    "### Multiple inheritance\n",
    "\n",
    "A class can inherit from multiple base classes. There is a never-ending debate on whether or not this is a good idea. It may be useful in certain applications, but also tends to make class hierarchies quite complicated."
   ]
  },
  {
   "cell_type": "code",
   "execution_count": 14,
   "id": "6bdae01c",
   "metadata": {},
   "outputs": [],
   "source": [
    "class Human(Animal):\n",
    "    pass\n",
    "\n",
    "\n",
    "class Machine:\n",
    "    pass\n",
    "\n",
    "\n",
    "class Cyborg(Human, Machine):\n",
    "    pass\n",
    "\n",
    "\n",
    "c1 = Cyborg()"
   ]
  },
  {
   "cell_type": "markdown",
   "id": "dee5796e",
   "metadata": {},
   "source": [
    "To consider a more useful example, consider the `ODESolver` hierarchy introduced in Langtangen's *A primer on scientific programming with Python*:\n",
    "![ODESolver.png](../../figures/ODESolver.png)\n",
    "\n",
    "This is a small class hierarchy of ODE solvers, which makes sense because there is clearly an \"is-a\" relationship between the sub-classes and the base class. However, one of the three solver sub-classes, the `BackwardEuler`, is of a different nature than the others, and requires a separate class or module `Newton`, for solving non-linear algebraic equations. While there is nothing wrong with this solution, an alternative approach would be to put this code in a separate base class, and have the `BackwardEuler` class inherit from this.\n",
    "\n",
    "Such a class hierarchy makes more sense if we include a larger collection of solvers, for instance including both methods of the *Runge-Kutta type* and so-called *multi-step methods*. Both of these classes of methods have both explicit and implicit versions, and although the methods themselves are quite different, the implicit methods rely on similar tools for solving non-linear algebraic equations. An example class hierarchy may look like this:\n",
    "![ODE_hierarchy.png](../../figures/ODE_hierarchy.png)\n",
    "\n",
    "The class structure clearly separates the two classes of ODE solvers, while still allowing both types of implicit methods to inherit from the same base class. The hierarchy also makes sense because it preserves the \"is-a\" relationships; the solver `BDF` is a multi-step method, and it is also an Implicit method, as reflected in the hierarchy. While this is clearly not the only way this could be implemented, multiple inheritance in this case provides a logical and well-structured hierarchy, which also maximizes code reuse.\n",
    "\n",
    "#### Quiz 1: Which base class constructor will be called here?"
   ]
  },
  {
   "cell_type": "code",
   "execution_count": 15,
   "id": "3f322e6d",
   "metadata": {},
   "outputs": [
    {
     "name": "stdout",
     "output_type": "stream",
     "text": [
      "Calling Cyborg constructor\n",
      "Calling Human constructor\n"
     ]
    }
   ],
   "source": [
    "class Human:\n",
    "    def __init__(self):\n",
    "        print(\"Calling Human constructor\")\n",
    "\n",
    "\n",
    "class Machine:\n",
    "    def __init__(self):\n",
    "        print(\"Calling Machine constructor\")\n",
    "\n",
    "\n",
    "class Cyborg(Human, Machine):\n",
    "    def __init__(self):\n",
    "        print(\"Calling Cyborg constructor\")\n",
    "        super().__init__()\n",
    "\n",
    "\n",
    "c1 = Cyborg()"
   ]
  },
  {
   "cell_type": "markdown",
   "id": "66ab5633",
   "metadata": {},
   "source": [
    "And you are unsure about the method resolution order, it is also possible to just print it (then it is clear that Human is next after Cyborg)"
   ]
  },
  {
   "cell_type": "code",
   "execution_count": 16,
   "id": "104bb980",
   "metadata": {},
   "outputs": [
    {
     "data": {
      "text/plain": [
       "[__main__.Cyborg, __main__.Human, __main__.Machine, object]"
      ]
     },
     "execution_count": 16,
     "metadata": {},
     "output_type": "execute_result"
    }
   ],
   "source": [
    "Cyborg.mro()"
   ]
  },
  {
   "cell_type": "markdown",
   "id": "a431afe6",
   "metadata": {},
   "source": [
    "#### Quiz 2: What will be output by the print calls?"
   ]
  },
  {
   "cell_type": "code",
   "execution_count": 17,
   "id": "0235d439",
   "metadata": {},
   "outputs": [
    {
     "name": "stdout",
     "output_type": "stream",
     "text": [
      "a:  A::f() A::g() A::h()\n",
      "b:  A::f() A::g() B::h()\n",
      "c:  A::f() C::g() B::h()\n"
     ]
    }
   ],
   "source": [
    "class A(object):\n",
    "    def f(self):\n",
    "        return \"A::f()\"\n",
    "\n",
    "    def g(self):\n",
    "        return \"A::g()\"\n",
    "\n",
    "    def h(self):\n",
    "        return \"A::h()\"\n",
    "\n",
    "\n",
    "class B(A):\n",
    "    def h(self):\n",
    "        return \"B::h()\"\n",
    "\n",
    "\n",
    "class C(B):\n",
    "    def g(self):\n",
    "        return \"C::g()\"\n",
    "\n",
    "\n",
    "a, b, c = A(), B(), C()\n",
    "print(\"a: \", a.f(), a.g(), a.h())\n",
    "print(\"b: \", b.f(), b.g(), b.h())\n",
    "print(\"c: \", c.f(), c.g(), c.h())"
   ]
  },
  {
   "cell_type": "markdown",
   "id": "15dfdfdb",
   "metadata": {},
   "source": [
    "## Class Methods and Variables\n",
    "\n",
    "In most examples we have seen in the course so far, we first implement a class, and then create *instances* of that class, i.e., objects of that class type. However, once created, these objects do not affect each other directly, they are simply the same type of object.\n",
    "\n",
    "However, it is possible to create variables that belong to the *class*, and not specific objects.\n",
    "\n",
    "### Three common uses of class variables and class methods are:\n",
    "* To keep track of the number of objects created of a class\n",
    "* To store global parameters, that should be the same for all instances\n",
    "* So-called 'factory methods', which creates new objects in different ways than what is commonly done in the constructor\n",
    "\n",
    "For the first example, we simply keep a counter running that increases every time we create a new object of the class:"
   ]
  },
  {
   "cell_type": "code",
   "execution_count": 18,
   "id": "34663d45",
   "metadata": {},
   "outputs": [
    {
     "name": "stdout",
     "output_type": "stream",
     "text": [
      "0\n",
      "3\n"
     ]
    }
   ],
   "source": [
    "class Rabbit:\n",
    "    nr_of_rabbits = 0\n",
    "\n",
    "    def __init__(self, age):\n",
    "        Rabbit.nr_of_rabbits += 1\n",
    "        self.age = age\n",
    "\n",
    "\n",
    "print(Rabbit.nr_of_rabbits)\n",
    "\n",
    "alice = Rabbit(2)\n",
    "buddy = Rabbit(4)\n",
    "charlie = Rabbit(7)\n",
    "\n",
    "print(Rabbit.nr_of_rabbits)"
   ]
  },
  {
   "cell_type": "markdown",
   "id": "709caac7",
   "metadata": {},
   "source": [
    "Here, `nr_of_rabbits` is a class variable, because it belongs to the class itself. The `age` attributes however, are *instance* variables, as they belong to each individual instance of the class. In the constructor of the class, we increment `Rabbit.nr_of_rabbits` by 1, thus, each time a new rabbit object is created, this variable grows.\n",
    "\n",
    "Note that even though there is no *instance* variable called `nr_of_rabbits`, we can access it from the objects too:"
   ]
  },
  {
   "cell_type": "code",
   "execution_count": 19,
   "id": "6ea13b1a",
   "metadata": {},
   "outputs": [
    {
     "name": "stdout",
     "output_type": "stream",
     "text": [
      "3\n"
     ]
    }
   ],
   "source": [
    "print(alice.nr_of_rabbits)"
   ]
  },
  {
   "cell_type": "markdown",
   "id": "3cd0756c",
   "metadata": {},
   "source": [
    "This is because when we write `alice.nr_of_rabbits`, Python first checks for a instance variable by this name, but if none is found, like in this case, then it instead uses the class variable.\n",
    "\n",
    "However, you should be a bit careful here, because if we try to redefine `alice.nr_of_rabbits` (or `self.nr_of_rabbits` inside the constructor), then we actually create an instance variable, rather than change the class variable. This is why we write `Rabbit.nr_of_rabbits += 1`, rather than self. Let us try the other version and see what happens:"
   ]
  },
  {
   "cell_type": "code",
   "execution_count": 20,
   "id": "db65948c",
   "metadata": {},
   "outputs": [
    {
     "name": "stdout",
     "output_type": "stream",
     "text": [
      "0\n",
      "1\n"
     ]
    }
   ],
   "source": [
    "class Rabbit:\n",
    "    nr_of_rabbits = 0\n",
    "\n",
    "    def __init__(self, age):\n",
    "        self.age = age\n",
    "        self.nr_of_rabbits += 1  # Intentionally wrong!\n",
    "\n",
    "\n",
    "alice = Rabbit(2)\n",
    "buddy = Rabbit(4)\n",
    "charlie = Rabbit(7)\n",
    "\n",
    "print(Rabbit.nr_of_rabbits)\n",
    "print(alice.nr_of_rabbits)"
   ]
  },
  {
   "cell_type": "markdown",
   "id": "cf579ffb",
   "metadata": {},
   "source": [
    "Obviously, this does not behave as we expect. We want `nr_of_rabbits` to be 3, since we created 3 rabbits. But we see that the class variable `Rabbit.nr_of_rabbits` reports 0 rabbits, and `alice.nr_of_rabbits`, which should just default to the class variable reports 1 rabbit!  What is actually happening here?\n",
    "\n",
    "When we write:"
   ]
  },
  {
   "cell_type": "code",
   "execution_count": 21,
   "id": "4f87d58f",
   "metadata": {},
   "outputs": [
    {
     "ename": "NameError",
     "evalue": "name 'self' is not defined",
     "output_type": "error",
     "traceback": [
      "\u001b[0;31m---------------------------------------------------------------------------\u001b[0m",
      "\u001b[0;31mNameError\u001b[0m                                 Traceback (most recent call last)",
      "Input \u001b[0;32mIn [21]\u001b[0m, in \u001b[0;36m<cell line: 1>\u001b[0;34m()\u001b[0m\n\u001b[0;32m----> 1\u001b[0m \u001b[38;5;28;43mself\u001b[39;49m\u001b[38;5;241m.\u001b[39mnr_of_rabbits \u001b[38;5;241m+\u001b[39m\u001b[38;5;241m=\u001b[39m \u001b[38;5;241m1\u001b[39m\n",
      "\u001b[0;31mNameError\u001b[0m: name 'self' is not defined"
     ]
    }
   ],
   "source": [
    "self.nr_of_rabbits += 1"
   ]
  },
  {
   "cell_type": "markdown",
   "id": "14e6bd49",
   "metadata": {},
   "source": [
    "This is equivalent to writing"
   ]
  },
  {
   "cell_type": "code",
   "execution_count": 22,
   "id": "edafd445",
   "metadata": {},
   "outputs": [
    {
     "ename": "NameError",
     "evalue": "name 'self' is not defined",
     "output_type": "error",
     "traceback": [
      "\u001b[0;31m---------------------------------------------------------------------------\u001b[0m",
      "\u001b[0;31mNameError\u001b[0m                                 Traceback (most recent call last)",
      "Input \u001b[0;32mIn [22]\u001b[0m, in \u001b[0;36m<cell line: 1>\u001b[0;34m()\u001b[0m\n\u001b[0;32m----> 1\u001b[0m \u001b[38;5;28mself\u001b[39m\u001b[38;5;241m.\u001b[39mnr_of_rabbits \u001b[38;5;241m=\u001b[39m \u001b[38;5;28;43mself\u001b[39;49m\u001b[38;5;241m.\u001b[39mnr_of_rabbits \u001b[38;5;241m+\u001b[39m \u001b[38;5;241m1\u001b[39m\n",
      "\u001b[0;31mNameError\u001b[0m: name 'self' is not defined"
     ]
    }
   ],
   "source": [
    "self.nr_of_rabbits = self.nr_of_rabbits + 1"
   ]
  },
  {
   "cell_type": "markdown",
   "id": "707428fb",
   "metadata": {},
   "source": [
    "Now the right hand side is evaluated first. When creating the object, the new rabbit has no `nr_of_rabbits` instance variable, so it looks up the class variable instead, which is 0, then we add 1, giving 1 as a result.\n",
    "\n",
    "Now, this is supposed to be stored in the variable to the left of the assignment operator (`=`), but `self.nr_of_rabbits` is interpreted by Python as if we want to create this instance variable. Therefore, the new rabbit object gets its own personal `nr_of_rabbit` instance variable, and the class variable never gets updated.\n",
    "\n",
    "Note that this happens because an integer is *immutable*. If we had a class variable that was mutable, then it would behave differently. We could for example contain all objects of a class in a list as a class variable:"
   ]
  },
  {
   "cell_type": "code",
   "execution_count": 23,
   "id": "37bb20d7",
   "metadata": {},
   "outputs": [
    {
     "data": {
      "text/plain": [
       "Rabbit(Charlie)"
      ]
     },
     "execution_count": 23,
     "metadata": {},
     "output_type": "execute_result"
    }
   ],
   "source": [
    "class Rabbit:\n",
    "    all_rabbits = []\n",
    "\n",
    "    def __init__(self, name, age):\n",
    "        self.name = name\n",
    "        self.age = age\n",
    "        self.all_rabbits.append(self)\n",
    "\n",
    "    def __repr__(self):\n",
    "        return f\"{self.__class__.__name__}({self.name})\"\n",
    "\n",
    "\n",
    "Rabbit(\"Alice\", 2)\n",
    "Rabbit(\"Buddy\", 4)\n",
    "Rabbit(\"Charlie\", 7)"
   ]
  },
  {
   "cell_type": "markdown",
   "id": "1e771cc6",
   "metadata": {},
   "source": [
    "In this case, writing `self.all_rabbits.append(self)` means we add the object itself to the class variable list. Because lists are mutable, we end up changing the class variable, instead of creating an instance variable. Although it works writing `self.all_rabbits` in this case, it isn't very readable for a user, as they might think this is a instance variable because of the `self`. So here, it would be better to just write out `Rabbit.all_rabbits`, or `self.__class__.all_rabbits`, to make it clear to the user that this is the class variable that is being changed.\n",
    "\n",
    "### Parameters as class variables\n",
    "\n",
    "Class variables are well suited for storing parameters that are usually shared by all objects of the class. Take for instance a Pendulum class"
   ]
  },
  {
   "cell_type": "code",
   "execution_count": 24,
   "id": "318cfa9c",
   "metadata": {},
   "outputs": [],
   "source": [
    "class Pendulum:\n",
    "    G = 9.81\n",
    "\n",
    "    def __init__(self, M=1, L=1):\n",
    "        self.M = M\n",
    "        self.L = L"
   ]
  },
  {
   "cell_type": "markdown",
   "id": "bacd2bea",
   "metadata": {},
   "source": [
    "In this class, we can create pendulums of different lengths and masses. We can then use `self.M` and `self.L` to refer to these in calculations. Note that we can also refer to `self.G` in calculations, but this will use the class variable `G`, as the objects contain no specific G. We let `G` be a class variable, because all our pendulums typically experience the same gravity."
   ]
  },
  {
   "cell_type": "code",
   "execution_count": 25,
   "id": "d1735af9",
   "metadata": {},
   "outputs": [
    {
     "name": "stdout",
     "output_type": "stream",
     "text": [
      "4\n",
      "2\n",
      "9.81\n"
     ]
    }
   ],
   "source": [
    "p = Pendulum(M=4, L=2)\n",
    "print(p.M)\n",
    "print(p.L)\n",
    "print(p.G)"
   ]
  },
  {
   "cell_type": "markdown",
   "id": "2b02362f",
   "metadata": {},
   "source": [
    "One benefit of defining parameters that should be shared across all objects as a class variable is that it is now easy to change the parameter for all objects, those already created and those we create in the future."
   ]
  },
  {
   "cell_type": "code",
   "execution_count": 26,
   "id": "6c0532c8",
   "metadata": {},
   "outputs": [
    {
     "name": "stdout",
     "output_type": "stream",
     "text": [
      "10\n"
     ]
    }
   ],
   "source": [
    "Pendulum.G = 10\n",
    "print(p.G)"
   ]
  },
  {
   "cell_type": "markdown",
   "id": "f695ee9c",
   "metadata": {},
   "source": [
    "Thus, the parameter has a single, definite representation in our system. Which is usually a good approach.\n",
    "\n",
    "## Class Methods\n",
    "\n",
    "In addition to defining class variables, we can define class methods. Class methods are methods we call on the *class*, not on a specific object. The easiest approach to creating a class method in Python is to use the `@classmethod` decorator. One of the typical use cases for a class method are *factory methods*. Factory methods are methods that create objects of the class, but perhaps in a different way than what the constructor does.\n",
    "\n",
    "A Python class can only have one constructor. Creating objects in different ways is achieved through factory methods:"
   ]
  },
  {
   "cell_type": "code",
   "execution_count": 27,
   "id": "ea94b0fa",
   "metadata": {},
   "outputs": [],
   "source": [
    "import numpy as np\n",
    "\n",
    "\n",
    "class Sphere:\n",
    "    def __init__(self, radius):\n",
    "        self.radius = radius\n",
    "\n",
    "    def volume(self):\n",
    "        return 4 * np.pi * self.radius**3 / 3\n",
    "\n",
    "    @classmethod\n",
    "    def from_volume(cls, volume):\n",
    "        radius = (3 * volume / (4 * np.pi)) ** (1 / 3)\n",
    "        return cls(radius)"
   ]
  },
  {
   "cell_type": "markdown",
   "id": "1e1ae681",
   "metadata": {},
   "source": [
    "Here, we make our `Sphere` class as normal, where we create spheres by specifying their radius. However, sometimes, we might want to instead create a sphere with a given volume. To do this, we create a *factory method*. We then use the `@classmethod` decorator to create it, for normal *instance* methods, the first argument to a method is always the self, but now we call the first argument is `cls`, which is short for \"class\".\n",
    "\n",
    "We can use the class method as follows:"
   ]
  },
  {
   "cell_type": "code",
   "execution_count": 28,
   "id": "52ecefbd",
   "metadata": {},
   "outputs": [
    {
     "name": "stdout",
     "output_type": "stream",
     "text": [
      "Radius: 10.6 \t Volume: 5000.0\n"
     ]
    }
   ],
   "source": [
    "ball = Sphere.from_volume(5000)\n",
    "print(f\"Radius: {ball.radius:.1f} \\t Volume: {ball.volume():.1f}\")"
   ]
  },
  {
   "cell_type": "markdown",
   "id": "e36ab9bb",
   "metadata": {},
   "source": [
    "Here, because we defined the method as a class method,\n",
    "``` Python\n",
    "Sphere.from_volume(5000)\n",
    "```\n",
    "is actually interpreted as\n",
    "``` Python\n",
    "Sphere.from_volume(Sphere, 5000)\n",
    "```\n",
    "And so `cls` would refer to the class itself within the class method, exactly like `self`  refers to the object itself in normal instance methods.\n",
    "\n",
    "\n",
    "\n",
    "A common usage of factory methods is to choose the right subclass based on user input. As an example, consider again the `ODESolver` class hierarchy, and say we want to let the user pass a string to the class to specify the solver, as in:\n",
    "``` Python\n",
    "solver = ODESolver.create_solver('FE',f)\n",
    "```\n",
    "One may think that this could also be solved by simply adding a string argument to the `ODESolver` constructor:\n",
    "``` Python\n",
    "solver = ODESolver('FE',f)\n",
    "```\n",
    "But this will not work since we are not creating an `ODESolver` instance, but an instance of one of the subclasses.\n",
    "\n",
    "\n",
    "\n",
    "The solution is a factory method which knows about the subclasses:\n",
    "``` Python\n",
    "@classmethod\n",
    "def create_solver(cls,solver_type,f):\n",
    "    SOLVER_TO_CLS_MAP = {\n",
    "        'FE':  ForwardEuler,\n",
    "        'BE': BackwardEuler,\n",
    "        'RK4': RungeKutta4\n",
    "    }\n",
    "\n",
    "    if solver_type not in SOLVER_TO_CLS_MAP:\n",
    "        raise ValueError(f'Bad solver type {message_type}')\n",
    "\n",
    "    return SOLVER_TO_CLS_MAP[solver_type](f)\n",
    "```\n",
    "\n",
    "\n",
    "\n",
    "### Other factory method use cases\n",
    "\n",
    "* Create factory methods for unit testing, i.e. initiate some instances with predefined parameters.\n",
    "* Initiating objects based on *random* data.\n",
    "* Create objects from a file. By creating a factory method `from_file` which reads in some data file, and sets up the object accordingly. Here, we can also create a method for saving all the data in the object to a file, which can be read in later. This would be an example of *[checkpointing](https://en.wikipedia.org/wiki/Application_checkpointing)*, which is an extremely useful feature for computations and simulations that take a long time to run.\n",
    "\n",
    "\n",
    "\n",
    "## Static Methods\n",
    "\n",
    "Another kind of method, which is different from both class methods and instance methods, are the *static* methods. These are methods that while they belong to a class, is called without using any class or object information. You define a static method with the `@staticmethod` decorator, unlike instance and class methods, the static methods do not take any particular variable in as the first variable.\n",
    "\n",
    "The static methods do not use any information about the class or object, and so *could* for all intents and purposes just be a stand-alone function. However, we like to implement it as a static method, because then the functionality is stored within the class, and makes the whole code cleaner."
   ]
  },
  {
   "cell_type": "code",
   "execution_count": 29,
   "id": "122aaf21",
   "metadata": {},
   "outputs": [],
   "source": [
    "from datetime import date\n",
    "\n",
    "\n",
    "class Person:\n",
    "    def __init__(self, name, birthday):\n",
    "        self.name = name\n",
    "        self.birthday = birthday\n",
    "\n",
    "    def age(self):\n",
    "        return self.calculate_age(self.birthday)\n",
    "\n",
    "    @staticmethod\n",
    "    def calculate_age(birthday):\n",
    "        day, month, year = birthday.split(\".\")\n",
    "        day = int(day)\n",
    "        month = int(month)\n",
    "        year = int(year)\n",
    "        today = date.today()\n",
    "        return (today.year - year) - ((today.month, today.day) < (month, day))"
   ]
  },
  {
   "cell_type": "markdown",
   "id": "5db67f3f",
   "metadata": {},
   "source": [
    "Here we have created a static method `calculate_age`, that computes the age of a person right now, given that person's birthday as a string on the form \"dd.mm.yyyy\". We can call this function as"
   ]
  },
  {
   "cell_type": "code",
   "execution_count": 30,
   "id": "b18ce8f3",
   "metadata": {},
   "outputs": [
    {
     "name": "stdout",
     "output_type": "stream",
     "text": [
      "47\n"
     ]
    }
   ],
   "source": [
    "print(Person.calculate_age(\"20.02.1975\"))"
   ]
  },
  {
   "cell_type": "markdown",
   "id": "39e79301",
   "metadata": {},
   "source": [
    "This function is a \"stand-alone\" function, it doesn't depend on any class or instance data. However, after we have created this method, we can use it in the `age` method, which returns the age of a given person-object."
   ]
  },
  {
   "cell_type": "code",
   "execution_count": 31,
   "id": "b55841d8",
   "metadata": {},
   "outputs": [
    {
     "name": "stdout",
     "output_type": "stream",
     "text": [
      "39\n",
      "<function Person.calculate_age at 0x7fe7a83111b0>\n"
     ]
    }
   ],
   "source": [
    "p = Person(\"Joe Schmoe\", \"17.04.1983\")\n",
    "print(p.age())\n",
    "\n",
    "print(p.calculate_age)"
   ]
  },
  {
   "cell_type": "markdown",
   "id": "568c30d2",
   "metadata": {},
   "source": [
    "### Class Methods vs Static Methods (1)\n",
    "Static methods and class methods appear to be quite similar. The difference can be understood by considering the Python concept of *bound methods*:\n",
    "* An ordinary function in Python is often called an unbound function, because it is not bound to a particular class or object.\n",
    "* On the other hand, a regular instance method defined in a class becomes *bound to an instance* every time a new instance of the class is generated. In fact, when we create a new instance, we also create a new function object, which is bound to that instance and thereby becomes a bound method. Each instance has its own method object. The most important effect of this binding is that the instance is automatically passed as the first argument to the method (`self`).\n",
    "\n",
    "\n",
    "\n",
    "### Class Methods vs Static Methods (2)\n",
    "* Using the `@classmethod` decorator simply tells Python that this function should be bound to the class and not the instance. No matter how many instances we create, there will only exist one method object, and when we call it the class (`cls`), and not the instance, is automatically passed as the first argument. The method can still be accessed through a specific instance, but it still remains bound to the class and the class is passed as the first argument.\n",
    "* Finally, when we use the `@staticmethod` decorator, we tell Python that this function should not be bound to either the class or the instance, but remain an unbound function. It is still defined within the *namespace* of the class, and can be accessed either through the class or through a specific instance (as for `calculate_age` above), but it remains an unbound Python function and no arguments get passed automatically.\n",
    "\n",
    "\n",
    "\n",
    "### Class Methods vs Static Methods (3)\n",
    "These differences lead to the following \"rules\" for when to use the different methods:\n",
    " * Use a regular instance method if it needs access to instance data. This is by far the most common use case in OOP.\n",
    " * If the method does not need access to instance data, but it does access class data, define it as a class method.\n",
    " * Finally, if the method logically belongs to the class, but does not operate on either\n",
    " instance data or class data (i.e. neither `self`, `cls`, or the class name appear inside the function body) it should be a static method.\n",
    "\n",
    "\n",
    "\n",
    "#### Quiz: why is this factory method a @classmethod, not a @staticmethod?\n",
    "``` Python\n",
    "@classmethod\n",
    "def create_solver(cls,solver_type,f):\n",
    "    SOLVER_TO_CLS_MAP = {\n",
    "        'FE':  ForwardEuler,\n",
    "        'BE': BackwardEuler,\n",
    "        'RK4': RungeKutta4\n",
    "    }\n",
    "\n",
    "    if solver_type not in SOLVER_TO_CLS_MAP:\n",
    "        raise ValueError(f'Bad solver type {solver_type}')\n",
    "\n",
    "    return SOLVER_TO_CLS_MAP[solver_type](f)\n",
    "```\n",
    "\n",
    "\n",
    "\n",
    "#### Answer:\n",
    "This was a trick question. The method could just as well be a `@staticmethod`, since neither `self` nor `cls` appear inside the function body. However, it is still a good idea to keep it a `@classmethod`, because\n",
    "* We could have made the solver to class map more flexible by using the builtin function `cls.__subclasses()`, and this would only work with a class method.\n",
    "* It is common in Python to implement factory methods as class methods, so following this convention makes the code more readable. (However, in C++ and other programming languages, it is common to implement factory methods as static methods.)\n",
    "\n",
    "\n",
    "### Composition over Inheritance\n",
    "\n",
    "An important principle or design pattern in object oriented programming states that we should prefer \"*[Composition over Inheritance](https://en.wikipedia.org/wiki/Composition_over_inheritance)*. One reason why you sometimes want to avoid using inheritance is because changes in the base class can result in unexpected results in the class that inherits from the base class. This is very well explained is a [talk given by Ariel Ortiz at pycon 2019](https://youtu.be/YXiaWtc0cgE)\n",
    "\n",
    "To illustrate the concept of composition and inheritance let us consider the `Vector` class from week 2."
   ]
  },
  {
   "cell_type": "code",
   "execution_count": 32,
   "id": "003cd9c3",
   "metadata": {},
   "outputs": [],
   "source": [
    "import numpy as np\n",
    "\n",
    "\n",
    "class Vector3D:\n",
    "    def __init__(self, x, y, z):\n",
    "        self.x = x\n",
    "        self.y = y\n",
    "        self.z = z\n",
    "\n",
    "    def __repr__(self):\n",
    "        return f\"{self.__class__.__name__}({self.x}, {self.y}, {self.z})\"\n",
    "\n",
    "    def __add__(self, other):\n",
    "        x = self.x + other.x\n",
    "        y = self.y + other.y\n",
    "        z = self.z + other.z\n",
    "        return Vector3D(x, y, z)"
   ]
  },
  {
   "cell_type": "markdown",
   "id": "81d254a7",
   "metadata": {},
   "source": [
    "Now, say we want to use the Vector as parameter in a model and attach a name to it. Then we could just create a new  class that inherits from the Vector3D class."
   ]
  },
  {
   "cell_type": "code",
   "execution_count": 33,
   "id": "013107b4",
   "metadata": {},
   "outputs": [
    {
     "name": "stdout",
     "output_type": "stream",
     "text": [
      "ModelVector1(2, 0, -2) + ModelVector1(2, 4, 2) = ModelVector1(4, 4, 0)\n",
      "vector1+vector2\n"
     ]
    }
   ],
   "source": [
    "class ModelVector1(Vector3D):\n",
    "    def __init__(self, name, x, y, z):\n",
    "        self.name = name\n",
    "        super().__init__(x, y, z)\n",
    "\n",
    "    def __add__(self, other):\n",
    "        vector_sum = super().__add__(other)\n",
    "        return ModelVector1(\n",
    "            \"+\".join([self.name, other.name]), vector_sum.x, vector_sum.y, vector_sum.z\n",
    "        )\n",
    "\n",
    "\n",
    "u = ModelVector1(\"vector1\", 2, 0, -2)\n",
    "v = ModelVector1(\"vector2\", 2, 4, 2)\n",
    "w = u + v\n",
    "\n",
    "print(f\"{u} + {v} = {w}\")\n",
    "print(w.name)"
   ]
  },
  {
   "cell_type": "markdown",
   "id": "4c511fe9",
   "metadata": {},
   "source": [
    "This is an example of inheritance. First of all we see many calls to the methods on the base class though `super` which makes the code difficult to read. Secondly if the super class __add__ function  changes it will also change the behavior of the ModelVector class which might not be what we want.\n",
    "\n",
    "In stead we could use composition. This means that we do not need to care about how vector is implemented."
   ]
  },
  {
   "cell_type": "code",
   "execution_count": 34,
   "id": "c94bf140",
   "metadata": {},
   "outputs": [
    {
     "name": "stdout",
     "output_type": "stream",
     "text": [
      "\n",
      "ModelVector2(vector1, Vector3D(2, 0, -2)) + ModelVector2(vector2, Vector3D(2, 4, 2)) = ModelVector2(vector1+vector2, Vector3D(4, 4, 0))\n",
      "vector1+vector2\n"
     ]
    }
   ],
   "source": [
    "# First of all we need to call the super class all the time, and second if the super class __add__ function\n",
    "# changes it will also change the behavior of the ModelVector class and we might need to change the the code.\n",
    "\n",
    "# What we should do instead is the following\n",
    "\n",
    "\n",
    "class ModelVector2:\n",
    "    def __init__(self, name, vector):\n",
    "        self.name = name\n",
    "        self.vector = vector\n",
    "\n",
    "    def __add__(self, other):\n",
    "        return ModelVector2(\n",
    "            \"+\".join([self.name, other.name]), self.vector + other.vector\n",
    "        )\n",
    "\n",
    "    def __repr__(self):\n",
    "        return f\"{self.__class__.__name__}({self.name}, {self.vector})\"\n",
    "\n",
    "\n",
    "u = ModelVector2(\"vector1\", Vector3D(2, 0, -2))\n",
    "v = ModelVector2(\"vector2\", Vector3D(2, 4, 2))\n",
    "w = u + v\n",
    "\n",
    "print(f\"\\n{u} + {v} = {w}\")\n",
    "print(w.name)"
   ]
  },
  {
   "cell_type": "markdown",
   "id": "7bd6d6e3",
   "metadata": {},
   "source": [
    "It also makes our code reusable. Say that we now want to implement ModelMatrix. The all we need to do is to provide a matrix as the second argument. In fact the only thing that is required is that the second argument has an implementation of `__add__`, so we could also simply provide integers."
   ]
  },
  {
   "cell_type": "code",
   "execution_count": 35,
   "id": "d678c88a",
   "metadata": {},
   "outputs": [
    {
     "name": "stdout",
     "output_type": "stream",
     "text": [
      "\n",
      "ModelVector2(first value, 2) + ModelVector2(second value, 4) = ModelVector2(first value+second value, 6)\n",
      "first value+second value\n"
     ]
    }
   ],
   "source": [
    "# And this ModelVector2 class also works with any variable that implements add\n",
    "u = ModelVector2(\"first value\", 2)\n",
    "v = ModelVector2(\"second value\", 4)\n",
    "w = u + v\n",
    "\n",
    "print(f\"\\n{u} + {v} = {w}\")\n",
    "print(w.name)"
   ]
  },
  {
   "cell_type": "markdown",
   "id": "5e245ff3",
   "metadata": {},
   "source": [
    "For more example of design patterns in python check of the article [Design Patterns in Python for the Untrained Eye](http://34.212.143.74/s201911/pycon2019/docs/design_patterns.html)\n",
    "\n",
    "\n",
    "## Summary of OOP\n",
    "* The *four pillars* of OOP; a set of concepts that provide the foundation for OOP. The concepts are somewhat overlapping, and not all have a precise definition, but it is important to have an   idea of their meaning and usage:\n",
    "    * Abstraction; collect common features into a common concept, a class\n",
    "    * Encapsulation; interface the class through a defined interface, hide details from users\n",
    "    * Inheritance; make new classes as specializations of a base class\n",
    "    * Polymorphism; implement object-specific behavior by placing the relevant code inside the sub-class. The concept of virtual methods ensures that the right code is called.\n",
    "* Other central OOP concepts include:\n",
    "    * Multi-level inheritance; a class hierarchy with >2 levels\n",
    "    * Multiple inheritance; a class can inherit from multiple base classes\n",
    "    * MRO (method resolution order); the order in which Python searches for methods (in a class hierarchy).\n",
    "    * Method overriding; \"replacing\" a base class method with a specialized version in a subclass\n",
    "    * Virtual method; a method that can be overridden (by default all methods in Python)\n",
    "* Class methods and variables:\n",
    "    * Methods and variables that belong to the class, not to a particular instance\n",
    "    * Typical use of class variables; count the number of objects, global parameters\n",
    "    * Typical use of class methods; factory methods (\"alternative constructors\")\n",
    "* Static methods:\n",
    "    * Similar to class methods, but cannot modify the class state\n",
    "    * Typical use; utility functions that do not use the class data, but logically belong to the class\n",
    "\n",
    "\n",
    "\n",
    "\n",
    "## Names, Namespaces and Scope\n",
    "\n",
    "* We constantly define new names for variables, functions, classes, etc., and import numerous others from modules and packages.\n",
    "* It would be impossible to keep track of all the names that are used throughout a large program and all its imports.\n",
    "* Potential name conflicts are resolved using the concepts of *namespaces* and *scope*.\n",
    "\n",
    "\n",
    "\n",
    "### Python namespaces\n",
    "A *namespace* is simply a mapping from names to objects. Within a single namespace, names should uniquely define an object, but objects in different namespaces may have the same local name. A real-world analogy is license plate numbers for cars. In Norway, the license plate uniquely identifies a car, but if you go to Denmark a car can have exactly the same number combination. The two countries define different *namespaces*, and to uniquely identify a car you need to know *both the namespace and local name*. An example closer to the world of programming is a directory in a file system. Each directory defines a local namespace, so two files having identical names but stored in different directories are uniquely identified.\n",
    "\n",
    "\n",
    "\n",
    "In Python, namespaces are created dynamically as objects are created. A namespace containing all the builtin Python names is created when Python starts, and is never deleted. Similarly, all variables created in the top level script exist in the global namespace (`__main__`), and each module has its own global namespace, which also normally exist until Python ends. A class definition creates a new namespace local to that class. Since a class definition is usually not deleted, this namespace also exists until we end Python. On the other hand, every time we create an instance of the class we create a new local namespace, which is deleted when the object is deleted, and when a function is called it creates a new local namespace, which exists until the function is done executing.\n",
    "\n",
    "\n",
    "\n",
    "We access names in different namespaces using the standard *dot* notation, as in `math.exp`, `numpy.array`, `Sphere.from_volume`, `p.Name`, etc. If we don't use the dot notation to specify which namespace a variable name belongs to, Python will search for the name according to a predefined set of rules, starting with the local namespace and moving up the hierarchy of more \"global\" namespaces. See the discussion of scope below for a more precise definition.\n",
    "\n",
    "\n",
    "\n",
    "If we understand how Python namespaces work, the difference between the various ways we import module becomes quite clear:"
   ]
  },
  {
   "cell_type": "code",
   "execution_count": 36,
   "id": "2cbca579",
   "metadata": {},
   "outputs": [],
   "source": [
    "import numpy"
   ]
  },
  {
   "cell_type": "markdown",
   "id": "0992e594",
   "metadata": {},
   "source": [
    "will simply create a new namespace with the name `numpy`, containing all the variable and function names defined in the `numpy` module. The statement"
   ]
  },
  {
   "cell_type": "code",
   "execution_count": 37,
   "id": "3d20cb14",
   "metadata": {},
   "outputs": [],
   "source": [
    "import numpy as np"
   ]
  },
  {
   "cell_type": "markdown",
   "id": "69687637",
   "metadata": {},
   "source": [
    "does the same thing, but gives the name `np` to the new namespace we have created. Prefixing with `np.` gives access to all the names defined by the module. On the other hand, the statement"
   ]
  },
  {
   "cell_type": "code",
   "execution_count": 38,
   "id": "ecdfbda8",
   "metadata": {},
   "outputs": [],
   "source": [
    "from numpy import *"
   ]
  },
  {
   "cell_type": "markdown",
   "id": "fbe6fda8",
   "metadata": {},
   "source": [
    "will not create a new namespace, but instead imports all the names defined by NumPy into the current, global namespace. This makes the names directly accessible without prefixing, but also creates potential for name conflicts. To clearly see the difference you can call the function `dir()` in an interactive Python window. This function returns a list of names currently available in the local namespace, and the names of all the existing namespaces. After checking the output of `dir()` import NumPy using the different approaches and call the function again.\n",
    "\n",
    "\n",
    "\n",
    "### Scope of names and namespaces\n",
    "\n",
    "A *scope* of a variable is defined as the part of the program where a variable name is accessible. When a Python program is running, there are several nested scopes in which the variable names are directly accessible, i.e. whose namespaces are searched automatically (without the need to prefix):\n",
    "* The local (innermost) scope includes the local variables defined inside a function, as well as all parameters passed to a function. This namespace is searched first\n",
    "* The local scope of all enclosing functions, if you have a function definition inside a function definition.\n",
    "* The global scope of the module or program, i.e., variables and function names defined at the top level of the program.\n",
    "* The global namespace of Python builtin names.\n",
    "\n",
    "\n",
    "Variables in Python are local by default. If you define a variable inside a function, the variable does no longer exist when the function is done executing. Technically, the variable name is defined in the local namespace of the function, and this namespace is deleted when the function is done executing:"
   ]
  },
  {
   "cell_type": "code",
   "execution_count": 39,
   "id": "77541003",
   "metadata": {},
   "outputs": [
    {
     "name": "stdout",
     "output_type": "stream",
     "text": [
      "706.85775\n"
     ]
    }
   ],
   "source": [
    "def pancake_area():\n",
    "    pi = 3.14159\n",
    "    r = 15\n",
    "\n",
    "    return pi * r**2\n",
    "\n",
    "\n",
    "print(pancake_area())\n",
    "\n",
    "# print(r)  #Will not work since r does not exist outside function"
   ]
  },
  {
   "cell_type": "markdown",
   "id": "f4687fe3",
   "metadata": {},
   "source": [
    "If a global variable with the same name exists, a new local variable will still be created inside the function. Inside a function we can access a global variable, but any attempt to modify it will create a new local variable:"
   ]
  },
  {
   "cell_type": "code",
   "execution_count": 40,
   "id": "72e6aac0",
   "metadata": {},
   "outputs": [
    {
     "name": "stdout",
     "output_type": "stream",
     "text": [
      "706.85775\n",
      "10\n"
     ]
    }
   ],
   "source": [
    "pi = 3.14159\n",
    "r = 10\n",
    "\n",
    "\n",
    "def pancake_area():\n",
    "    r = 15  # creates a new local variable\n",
    "\n",
    "    return pi * r**2  # here r is local, pi is global\n",
    "\n",
    "\n",
    "print(pancake_area())\n",
    "\n",
    "print(r)  # prints the global r"
   ]
  },
  {
   "cell_type": "markdown",
   "id": "3bfe72aa",
   "metadata": {},
   "source": [
    "We can override the default behavior using the keyword `global` when we define a variable:"
   ]
  },
  {
   "cell_type": "code",
   "execution_count": 41,
   "id": "ff33b764",
   "metadata": {},
   "outputs": [
    {
     "name": "stdout",
     "output_type": "stream",
     "text": [
      "141.37155\n",
      "15\n"
     ]
    }
   ],
   "source": [
    "pi = 3.14159\n",
    "r = 10\n",
    "\n",
    "\n",
    "def pancake_volume():\n",
    "    global r\n",
    "    r = 15\n",
    "    thickness = 0.2\n",
    "\n",
    "    return pi * r**2 * thickness\n",
    "\n",
    "\n",
    "print(pancake_volume())\n",
    "\n",
    "print(r)  # now r is changed"
   ]
  },
  {
   "cell_type": "markdown",
   "id": "4ebcf96a",
   "metadata": {},
   "source": [
    "WARNING: The `global` keyword should hardly ever be used. Global variables are generally considered bad programming style, and can cause multiple errors. There is nearly always a better way to achieve what you want, without using global variables. Note also that in the example above, the variable `r` is only defined after the function has been called for the first time, which further adds to the potential confusion.\n",
    "\n",
    "**As a general rule, all variables needed by a function should be passed as arguments, and all variables modified by a function should be returned.**\n",
    "\n",
    "\n",
    "\n",
    "The other way around, defining variables in global scope and using them inside a function is also often considered bad practice (although not quite as bad). The following example may be considered acceptable since `pi` is a global constant not likely to be changed:"
   ]
  },
  {
   "cell_type": "code",
   "execution_count": 42,
   "id": "223837c4",
   "metadata": {},
   "outputs": [],
   "source": [
    "pi = 3.14159\n",
    "\n",
    "\n",
    "def pancake_volume():\n",
    "    r = 15\n",
    "    thickness = 0.2\n",
    "\n",
    "    return pi * r**2 * thickness"
   ]
  },
  {
   "cell_type": "markdown",
   "id": "2044e38e",
   "metadata": {},
   "source": [
    "But in general this programming style should be avoided, since it is difficult to know that the global variable has not been accidentally changed by another part of the program.\n",
    "\n",
    "As another example, assume that your code includes a very expensive function call, and you want to count how many times this function is called in your program. This is a fairly common thing to do when profiling and optimizing a code (although there are tools to automate it, so you rarely have to write the code yourself). The following code will work:"
   ]
  },
  {
   "cell_type": "code",
   "execution_count": 43,
   "id": "5715ccf5",
   "metadata": {},
   "outputs": [
    {
     "name": "stdout",
     "output_type": "stream",
     "text": [
      "3\n"
     ]
    }
   ],
   "source": [
    "no_function_calls = 0\n",
    "\n",
    "\n",
    "def expensive_func():\n",
    "    global no_function_calls\n",
    "    no_function_calls += 1\n",
    "    \"\"\"\n",
    "    Some massive computation\n",
    "    \"\"\"\n",
    "    return None\n",
    "\n",
    "\n",
    "for i in range(3):\n",
    "    expensive_func()\n",
    "\n",
    "\n",
    "print(no_function_calls)"
   ]
  },
  {
   "cell_type": "markdown",
   "id": "7e2a0da6",
   "metadata": {},
   "source": [
    "If we leave out the line `global no_function_calls` (try it!), Python will automatically detect that we are trying to modify the `no_function_calls` variable, and therefore assume that it must be a local variable. Since no local variable with this name exists, we get an error message stating that the variable is used before it is defined.\n",
    "\n",
    "\n",
    "\n",
    "### The `locals` and `globals` dictionaries\n",
    "\n",
    "We can access the global and local variables with the built-in functions `globals()` and `locals()`, which return dictionaries of the available names:"
   ]
  },
  {
   "cell_type": "code",
   "execution_count": 44,
   "id": "95f5d991",
   "metadata": {},
   "outputs": [
    {
     "name": "stdout",
     "output_type": "stream",
     "text": [
      "True\n",
      "<function tiny_function at 0x7fe7a8311990>\n",
      "{'a': 1, 'b': 1.5}\n"
     ]
    },
    {
     "data": {
      "text/plain": [
       "2.5"
      ]
     },
     "execution_count": 44,
     "metadata": {},
     "output_type": "execute_result"
    }
   ],
   "source": [
    "# print(globals()) #gives lots of output (all the names defined so far)\n",
    "# print(locals()) #same output since we are in the global scope\n",
    "\n",
    "print(locals() == globals())  # should return True\n",
    "\n",
    "\n",
    "def tiny_function():\n",
    "    a = 1\n",
    "    b = 1.5\n",
    "    # print the variables in the local scope:\n",
    "    print(locals())\n",
    "    return a + b\n",
    "\n",
    "\n",
    "# look up a name the globals dictionary:\n",
    "print(globals()[\"tiny_function\"])\n",
    "\n",
    "tiny_function()"
   ]
  },
  {
   "cell_type": "markdown",
   "id": "fcc6024b",
   "metadata": {},
   "source": [
    "It is even possible to add variables to the global scope by simply sticking it in the globals dictionary. For example `c` is not defined, so let us put it in the `globals` dictionary"
   ]
  },
  {
   "cell_type": "code",
   "execution_count": 45,
   "id": "1180d9f5",
   "metadata": {},
   "outputs": [
    {
     "name": "stdout",
     "output_type": "stream",
     "text": [
      "0\n"
     ]
    }
   ],
   "source": [
    "globals()[\"c\"] = 0\n",
    "print(c)"
   ]
  },
  {
   "cell_type": "markdown",
   "id": "0aa8beda",
   "metadata": {},
   "source": [
    "This is not something you should do, but it is nice to know how it works.\n",
    "\n",
    "The output from `locals()` is similar to that of `dir()`, which when called without arguments will return a list of valid names in the current local scope. However, while `dir` returns a list of names, `locals()` gives a dictionary of variable names and values. As described above there may be several nested scopes, but `locals()` will always return the names of the innermost local scope, and `globals()` returns the names of variables defined in the outermost global scope.\n",
    "\n",
    "\n",
    "\n",
    "### Closure\n",
    "\n",
    "If one sticks to the general coding practice of passing variables as arguments and return values, and avoiding the use of global variable, one rarely needs to think about how Python searches its namespaces or how names are transferred from one namespace to another. However, one particular example worth knowing about is known as *closure*, and is frequently used by Python programmers. Consider the example of a function that uses some parameters, which can be implemented as a class with a `__call__` special method:"
   ]
  },
  {
   "cell_type": "code",
   "execution_count": 46,
   "id": "e85a1b32",
   "metadata": {},
   "outputs": [
    {
     "name": "stdout",
     "output_type": "stream",
     "text": [
      "0.00 0.00\n",
      "0.05 0.24\n",
      "0.10 0.45\n",
      "0.15 0.64\n",
      "0.20 0.80\n"
     ]
    }
   ],
   "source": [
    "class ThrowClass:\n",
    "    def __init__(self, v0):\n",
    "        self.v0 = v0\n",
    "        self.g = 9.81\n",
    "\n",
    "    def __call__(self, t):\n",
    "        return self.v0 * t - 0.5 * self.g * t**2\n",
    "\n",
    "\n",
    "throw1 = ThrowClass(v0=5.0)\n",
    "\n",
    "for i in range(5):\n",
    "    t = i * 0.05\n",
    "    print(f\"{t:.2f} {throw1(t):.2f}\")"
   ]
  },
  {
   "cell_type": "markdown",
   "id": "f4750300",
   "metadata": {},
   "source": [
    "An alternative implementation, which many will consider more \"Pythonic\" avoids the class concept completely:"
   ]
  },
  {
   "cell_type": "code",
   "execution_count": 47,
   "id": "2db1897a",
   "metadata": {},
   "outputs": [
    {
     "name": "stdout",
     "output_type": "stream",
     "text": [
      "0.00 0.00\n",
      "0.05 0.24\n",
      "0.10 0.45\n",
      "0.15 0.64\n",
      "0.20 0.80\n"
     ]
    }
   ],
   "source": [
    "def throw_fun(v0):\n",
    "    g = 9.81\n",
    "\n",
    "    def height(t):\n",
    "        return v0 * t - 0.5 * g * t**2\n",
    "\n",
    "    return height\n",
    "\n",
    "\n",
    "throw2 = throw_fun(5.0)\n",
    "\n",
    "for i in range(5):\n",
    "    t = i * 0.05\n",
    "    print(f\"{t:.2f} {throw2(t):.2f}\")"
   ]
  },
  {
   "cell_type": "markdown",
   "id": "3be8485f",
   "metadata": {},
   "source": [
    "What happens here is that when the function `throw_fun` is called, it defines a local namespace containing `v0,g`. The function `height` will search this namespace for variable names that it cannot find in its own local namespace. The magic happens when the `throw_fun` function returns a `height` function (note that the function itself is returned, not the result of the function call). Now, the returned function will remember the namespace defined by the outer function, even after `throw_fun` is done executing and the namespace is therefore deleted. This namespace is locked to the function object `throw2` and even if we create a new global `v0` variable all calls to `throw2` will use the value 5.0.\n",
    "\n",
    "There is also a function called `partial` from the `functools` library which returns a partial function which some of the arguments set"
   ]
  },
  {
   "cell_type": "code",
   "execution_count": 48,
   "id": "1c85ab8d",
   "metadata": {},
   "outputs": [
    {
     "name": "stdout",
     "output_type": "stream",
     "text": [
      "0.00 0.00\n",
      "0.05 0.24\n",
      "0.10 0.45\n",
      "0.15 0.64\n",
      "0.20 0.80\n"
     ]
    }
   ],
   "source": [
    "from functools import partial\n",
    "\n",
    "\n",
    "def throw_fun(v0, t, g=9.81):\n",
    "    return v0 * t - 0.5 * g * t**2\n",
    "\n",
    "\n",
    "# Sets the first argument (i.e v0) to 5.0\n",
    "throw3 = partial(throw_fun, 5.0)\n",
    "\n",
    "for i in range(5):\n",
    "    t = i * 0.05\n",
    "    print(f\"{t:.2f} {throw3(t):.2f}\")"
   ]
  },
  {
   "cell_type": "markdown",
   "id": "43b575bb",
   "metadata": {},
   "source": [
    "### Summary of scopes and namespaces\n",
    "* Python variables are by default local. When a name occurs, Python will first search the local namespace, then successively more \"global\" spaces until it finds a variable with that name.\n",
    "* A variable defined in the global scope can be accessed inside functions, but any attempt to modify it will create a new, local variable.\n",
    "* The keyword `global` can be used to override the default behavior, and modify global variables inside function. However, this is bad practice that should normally be avoided.\n",
    "* To avoid name conflicts, use import statements like `import math` to create a new namespace for the imported module, rather than importing everything into the existing namespace with `from math import *`\n",
    "* The functions `globals(), locals(), dir()` are useful for examining existing namespaces.\n",
    "* When a function is defined inside another function, it remembers the namespace of the outer function. This technique, called closure, can be used to create parameterized function.\n",
    "\n",
    "(python:exit-codes)=\n",
    "### Exit codes\n",
    "\n",
    "In this section we will cover a topic that might seem a bit strange but will make more sense when we transition from python to C++. Imagine that you want to chain together two commands in the terminal, meaning that you for example first want to run a python program and if that completes without errors you would like to do something else. Consider the following program"
   ]
  },
  {
   "cell_type": "code",
   "execution_count": 49,
   "id": "e3f298e8",
   "metadata": {},
   "outputs": [
    {
     "name": "stdout",
     "output_type": "stream",
     "text": [
      "You need to provide 2 arguments\n"
     ]
    }
   ],
   "source": [
    "# divide.py\n",
    "\n",
    "import sys\n",
    "\n",
    "\n",
    "def main(args):\n",
    "    if len(args) != 2:\n",
    "        print(\"You need to provide 2 arguments\")\n",
    "    else:\n",
    "        print(f\"The result is {float(args[0]) / float(args[1])}\")\n",
    "\n",
    "\n",
    "if __name__ == \"__main__\":\n",
    "    main(sys.argv[1:])"
   ]
  },
  {
   "cell_type": "markdown",
   "id": "fcab498e",
   "metadata": {},
   "source": [
    "Here we ask the user to provide two numbers and the program will print the first number divided by the second, e.g\n",
    "```\n",
    "$ python divide.py 4 2\n",
    "The result is 2.0\n",
    "```\n",
    "The execution of this program was successful because it ran without any errors. We can verify this by checking that the exit code is `0`\n",
    "```\n",
    "$ echo $?\n",
    "0\n",
    "```\n",
    "Here `echo` is the equivalent of `print` in python, but in `bash`, and $? just mean *the exit code of the last running program*.\n",
    "If you try to run the program with the input `1` and `0` you will get the following\n",
    "```\n",
    "$ python divide.py 1 0\n",
    "Traceback (most recent call last):\n",
    "  File \"/Users/henriknf/divide.py\", line 12, in <module>\n",
    "    exit(main(sys.argv[1:]))\n",
    "  File \"/Users/henriknf/divide.py\", line 8, in main\n",
    "    print(f\"The result is {float(args[0]) / float(args[1])}\")\n",
    "ZeroDivisionError: float division by zero\n",
    "```\n",
    "and now the exit code is `1`\n",
    "```\n",
    "echo $?\n",
    "1\n",
    "```\n",
    "Why is this important? If you have a big program the consist of several programs then exit codes are a way to tell the next program if the previous program failed. In `bash` you can chain together programs using `&&`, for example\n",
    "```\n",
    "$ python divide.py 4 2 && echo 'Success!'\n",
    "The result is 2.0\n",
    "Success!\n",
    "```\n",
    "and we we that 'Success!' is printed after the python program is finished. However, if you try\n",
    "```\n",
    "$ python divide.py 1 0 && echo 'Success!'\n",
    "Traceback (most recent call last):\n",
    "  File \"/Users/henriknf/test/divide.py\", line 12, in <module>\n",
    "    main(sys.argv[1:])\n",
    "  File \"/Users/henriknf/test/divide.py\", line 8, in main\n",
    "    print(f\"The result is {float(args[0]) / float(args[1])}\")\n",
    "ZeroDivisionError: float division by zero\n",
    "```\n",
    "you will only get the error and not the message 'Success!'. This is because `bash` knows that it should stop if it receives a non-zero exit code.\n",
    "\n",
    "Now, you may want to also abort the program if you provided to few or too many arguments to the script, but currently we get the following behavior if you for example try to provide three arguments\n",
    "```\n",
    "$ python divide.py 4 2 3 && echo 'Success!'\n",
    "You need to provide 2 arguments\n",
    "Success!\n",
    "```\n",
    "which is not what we want. One way to handle this is to return an exit code from the program to the `exit` method so that your program becomes"
   ]
  },
  {
   "cell_type": "code",
   "execution_count": 50,
   "id": "b8eb3f01",
   "metadata": {},
   "outputs": [
    {
     "name": "stdout",
     "output_type": "stream",
     "text": [
      "You need to provide 2 arguments\n"
     ]
    }
   ],
   "source": [
    "import sys\n",
    "\n",
    "\n",
    "def main(args):\n",
    "    if len(args) != 2:\n",
    "        print(\"You need to provide 2 arguments\")\n",
    "        return 2\n",
    "    else:\n",
    "        print(f\"The result is {float(args[0]) / float(args[1])}\")\n",
    "\n",
    "\n",
    "if __name__ == \"__main__\":\n",
    "    exit(main(sys.argv[1:]))"
   ]
  },
  {
   "cell_type": "markdown",
   "id": "74e66a9a",
   "metadata": {},
   "source": [
    "Note that the value `2` (which is chosen somewhat arbitrarily) is returned and passed to the `exit` method if the number of arguments are different from two. If we try to repeat the procedure above we get\n",
    "```\n",
    "$ python divide.py 4 2 3 && echo 'Success!'\n",
    "You need to provide 2 arguments\n",
    "```\n",
    "which is what we want. Note that if you want to continue the program even if a failure occurs (such as `ZeroDivisionError`) you can just add a `try-except` block and just suppress the error that way."
   ]
  }
 ],
 "metadata": {
  "jupytext": {
   "formats": "md:myst",
   "text_representation": {
    "extension": ".md",
    "format_name": "myst"
   }
  },
  "kernelspec": {
   "display_name": "Python 3",
   "language": "python",
   "name": "python3"
  },
  "language_info": {
   "codemirror_mode": {
    "name": "ipython",
    "version": 3
   },
   "file_extension": ".py",
   "mimetype": "text/x-python",
   "name": "python",
   "nbconvert_exporter": "python",
   "pygments_lexer": "ipython3",
   "version": "3.10.4"
  },
  "source_map": [
   11,
   59,
   73,
   78,
   98,
   105,
   118,
   122,
   144,
   150,
   172,
   176,
   191,
   210,
   222,
   236,
   267,
   283,
   293,
   302,
   306,
   312,
   320,
   327,
   338,
   351,
   365,
   380,
   398,
   402,
   404,
   409,
   435,
   451,
   467,
   474,
   476,
   483,
   498,
   503,
   505,
   507,
   509,
   518,
   534,
   543,
   550,
   554,
   559,
   564,
   567,
   579,
   594,
   602,
   605,
   665,
   685,
   691,
   693,
   698,
   703,
   758,
   776,
   780,
   799,
   805,
   832,
   836,
   844,
   894,
   896,
   898,
   900,
   902,
   904,
   921,
   932,
   938,
   952,
   958,
   974,
   986,
   995,
   1003,
   1021,
   1033,
   1052,
   1056,
   1059,
   1073,
   1088,
   1094,
   1109,
   1117,
   1131,
   1146,
   1161,
   1213,
   1227
  ]
 },
 "nbformat": 4,
 "nbformat_minor": 5
}