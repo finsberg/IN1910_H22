{
 "cells": [
  {
   "cell_type": "markdown",
   "id": "bf92e069",
   "metadata": {},
   "source": [
    "(designing-oop-programs)=\n",
    "# Designing Object-Oriented Programs\n",
    "\n",
    "In this section we will go more into the theoretical basis of object-oriented programming and cover more of the concepts and ideas used in designing object-orient code.\n",
    "\n",
    "\n",
    "(four-pillars-oop)=\n",
    "## The four pillars of OOP\n",
    "\n",
    "The \"four pillars\" are four concepts that are central when designing object-oriented programs. These are:\n",
    "\n",
    "* **Abstraction**; to extract the essential features of objects we use into a common abstract concept (i.e. a class)\n",
    "* **Encapsulation**; collecting all the data and functionality into a single class, that is accessed through a well-defined interface.\n",
    "* **Inheritance**; defining new classes based on existing classes.\n",
    "* **Polymorphism**; the idea that an object or a function can have different behavior based on the context.\n",
    "\n",
    "### Abstraction\n",
    "\n",
    "Abstraction means to extract the essential features of objects we use into a common abstract concept (i.e. a class). As part of the abstraction we also decouple how something is used from how it is implemented, and only need to focus on the implementation when developing the class. We can hide away unnecessary or complex details when using the class, exposing only a clean interface externally. Abstraction reduces overall code complexity and makes code easier to understand. Abstraction is essential in modern software systems, since it would be impossible to deal with the complexity of modern systems while still keeping track of all details down to the level of single bits. For instance, we work with integers and floating point numbers as abstract quantities without knowing how these are represented on the computer.\n",
    "\n",
    "### Encapsulation\n",
    "\n",
    "Encapsulation means collecting all the data and functionality into a single class. The concept of encapsulation is related to and to some extent overlapping with abstraction, in that we \"encapsulate\" details inside a class, exposing only the easy-to-use interface. Encapsulation also encompasses hiding data inside classes that the external user never interacts with directly or sees. An essential goal of proper encapsulation is that internal data structures of a class may be completely changed, but as long as the interface is untouched all code using the class will still work.\n",
    "We use floating point numbers continuously in our codes, but only through the defined Python operators, never\n",
    "manipulating the actual number representation in memory. Therefore, our codes still work even if the standard for floating point number representation is changed (which has happened several times through history).\n",
    "\n",
    "\n",
    "### Inheritance\n",
    "\n",
    "Inheritance means defining new classes based on existing classes. Inheritance is useful because it lets us avoid re-implementing the same methods and behaviors many times (don't repeat yourself), but also because it creates a clear *hierarchy* in your classes, which can be used to structure code. Inheritance can be seen as a central tool for *abstraction*, since the class hierarchies will (should) often map to natural hierarchical relations between different concepts. Consider an example from daily life; in most contexts it is sufficient to think of a car simply as a car, without knowing the brand, model, type, etc, while for other applications more details are needed. The same is true in many programming applications, and inheritance provides the tools for handling these relations.\n",
    "\n",
    "### Polymorphism\n",
    "\n",
    "Polymorphism is perhaps the most tricky concept, but it means that an object can have different behavior based on context. A blu-ray player can read both a blu-ray disc and a DVD, on a technical level, these are very different, but for the user, they are added to the player and functions the same. This would be an example of polymorphic behavior. Similarly, we can for example define a method that can take input of different types, for example an integer *or* a list of integers. The concept of polymorphism is tightly coupled to the use of inheritance and class hierarchies, in *statically typed languages*, where input arguments to a function are required to be of a specific type. With the dynamic typing in Python, polymorphic behavior can also be achieved with other methods, but using class hierarchies and OOP often leads to better structured and more readable code. By making polymorphic classes, we can generalize our classes so they can be easier to use.\n",
    "\n",
    "In reality, the *four pillars* are closely related and partly overlapping concepts. For instance, polymorphism is typically implemented through inheritance, and inheritance is also a key tool for abstractions that have a natural hierarchy.\n",
    "\n",
    "### A simple example to illustrate the four pillars\n",
    "\n",
    "A general problem when introducing OOP is that the ideas are most useful for large programs. For simple example codes, that are practical to use in courses, the benefit of OOP is typically rather small. Seeing the real value of OOP therefore requires some ability to extrapolate, and try to imagine how code designs and implementations will scale to systems with 1000s of code lines.\n",
    "\n",
    "Here is a simple examples to illustrate the four pillars. You have probably seen similar examples previously, but we repeat it here to link it directly to the four pillars. Say we have a program that uses matrices, vectors, and matrix-vector products. Vectors and matrices are conveniently stored as numpy arrays:"
   ]
  },
  {
   "cell_type": "code",
   "execution_count": 1,
   "id": "5ff5a7b0",
   "metadata": {},
   "outputs": [
    {
     "name": "stdout",
     "output_type": "stream",
     "text": [
      "[[2 3 4]\n",
      " [3 4 5]\n",
      " [4 5 6]]\n",
      "[2 3 4]\n"
     ]
    }
   ],
   "source": [
    "# matrices and vectors are easily represented as numpy arrays\n",
    "import numpy as np\n",
    "\n",
    "# create some arbitrary matrix A\n",
    "A = np.array([[i + j for i in range(1, 4)] for j in range(1, 4)])\n",
    "print(A)\n",
    "\n",
    "# some vector x\n",
    "x = np.array([1, 0, 0])\n",
    "\n",
    "# compute and print the product b=Ax\n",
    "b = np.matmul(A, x)\n",
    "print(b)"
   ]
  },
  {
   "cell_type": "markdown",
   "id": "266c4e94",
   "metadata": {},
   "source": [
    "This is all well and good, but the code completely ignores the fact that a matrix is a well-defined and useful mathematical concept, with a strictly defined set of permitted operations. If our code was larger, and used multiple matrices, explicitly representing the abstract concept of a matrix will make the code far more readable. For that purpose, it is natural to use a class, which holds the matrix data and defines associated operations:"
   ]
  },
  {
   "cell_type": "code",
   "execution_count": 2,
   "id": "72dc66b3",
   "metadata": {},
   "outputs": [
    {
     "name": "stdout",
     "output_type": "stream",
     "text": [
      "[[2 3 4]\n",
      " [3 4 5]\n",
      " [4 5 6]]\n",
      "[2 3 4]\n"
     ]
    }
   ],
   "source": [
    "class Matrix:\n",
    "    def __init__(self, data):\n",
    "        self._data = data\n",
    "\n",
    "    def __str__(self):\n",
    "        return str(self._data)\n",
    "\n",
    "    def __repr__(self):\n",
    "        return f\"{type(self).__name__}(data={self._data})\"\n",
    "\n",
    "    def mul(self, x):\n",
    "        return np.matmul(self._data, x)\n",
    "\n",
    "\n",
    "values = np.array([[i + j for i in range(1, 4)] for j in range(1, 4)])\n",
    "A = Matrix(values)\n",
    "print(A)\n",
    "\n",
    "x = np.array([1, 0, 0])\n",
    "b = A.mul(x)\n",
    "\n",
    "print(b)"
   ]
  },
  {
   "cell_type": "markdown",
   "id": "7eba4877",
   "metadata": {},
   "source": [
    "One may argue that for this simple code not much has been gained, but it should be easy to see the potential benefits for larger systems. The incredibly useful branch of mathematics known as linear algebra would be impossible to understand without the abstract concept of a matrix. Adding the right abstraction to a code may have similar implications for its readability.\n",
    "\n",
    "In our matrix example it makes sense to consider the third pillar, *inheritance*, before looking at the second. Assume that many of the matrices used in our program are diagonal. For large matrices, it is very inefficient to compute a matrix-vector products involving a diagonal matrix as if the matrix was full. To avoid unnecessary code duplication, we can introduce the diagonal matrix as a sub-class:"
   ]
  },
  {
   "cell_type": "code",
   "execution_count": 3,
   "id": "2417a696",
   "metadata": {},
   "outputs": [
    {
     "name": "stdout",
     "output_type": "stream",
     "text": [
      "[[2 0 0]\n",
      " [0 4 0]\n",
      " [0 0 6]]\n",
      "[2 0 0]\n"
     ]
    }
   ],
   "source": [
    "class MatDiag(Matrix):\n",
    "    def mul(self, x):\n",
    "        return np.diagonal(self._data) * x\n",
    "\n",
    "\n",
    "d = [2, 4, 6]\n",
    "A = MatDiag(np.diag(d))\n",
    "print(A)\n",
    "\n",
    "x = np.array([1, 0, 0])\n",
    "b = A.mul(x)\n",
    "print(b)"
   ]
  },
  {
   "cell_type": "markdown",
   "id": "54652210",
   "metadata": {},
   "source": [
    "While this class works, it is not very well-suited for large matrices, since we store a large number of zeros ($n\\times n - n$, for an $n\\times n$ matrix). We can create a more memory-friendly version of the `MatDiag` class, and at the same time illustrate *encapsulation*:"
   ]
  },
  {
   "cell_type": "code",
   "execution_count": 4,
   "id": "68b8c8c1",
   "metadata": {},
   "outputs": [
    {
     "name": "stdout",
     "output_type": "stream",
     "text": [
      "[2 4 6]\n",
      "[2 0 0]\n"
     ]
    }
   ],
   "source": [
    "class MatDiag(Matrix):\n",
    "    def __init__(self, data):\n",
    "        if data.ndim == 1:\n",
    "            self._data = data\n",
    "        elif data.ndim == 2:\n",
    "            self._data = np.diagonal(data)\n",
    "\n",
    "    def mul(self, x):\n",
    "        return self._data * x\n",
    "\n",
    "\n",
    "d = [2, 4, 6]\n",
    "A = MatDiag(np.diag(d))\n",
    "print(A)\n",
    "\n",
    "x = np.array([1, 0, 0])\n",
    "b = A.mul(x)\n",
    "print(b)"
   ]
  },
  {
   "cell_type": "markdown",
   "id": "068d1b39",
   "metadata": {},
   "source": [
    "The main change to the class is that we only store the non-zero diagonal elements. Note also that we use the  standard convention of a leading underscore on the attribute `_data`, to indicate to users of the class that this item is not to be manipulated directly. Our change of internal data structure has implications for the implementation of the constructor and the `mul` function, but users of the class will not see these changes. The class interface is not changed, and all codes that use the class will work without changes.\n",
    "\n",
    "The fourth and final pillar, *polymorphism*, can be illustrated by the following example code, where we want to solve the linear system `Ax = b`. This can of course be done both for full matrices and diagonal matrices. However, if we care about efficiency we should utilize the matrix structure, just as we did for the matrix multiplication above. The following function implements a naive solution:"
   ]
  },
  {
   "cell_type": "code",
   "execution_count": 5,
   "id": "0599e28d",
   "metadata": {},
   "outputs": [
    {
     "name": "stdout",
     "output_type": "stream",
     "text": [
      "[2 4 6]\n",
      "[[2. 1. 1.]\n",
      " [1. 2. 1.]\n",
      " [1. 1. 2.]]\n"
     ]
    }
   ],
   "source": [
    "\"\"\"\n",
    "Note: intentionally bad coding style, breaks encapsulation\n",
    "\"\"\"\n",
    "\n",
    "\n",
    "def solve(A, b):\n",
    "    \"\"\"Solves Ax=b wrt x, choosing the\n",
    "    algorithm based on the structure of A\"\"\"\n",
    "    if isinstance(A, MatDiag):\n",
    "        x = b / A._data\n",
    "    elif isinstance(A, Matrix):\n",
    "        x = np.matmul(np.linalg.inv(A._data), b)\n",
    "\n",
    "    return x\n",
    "\n",
    "\n",
    "d = [2, 4, 6]\n",
    "A0 = MatDiag(np.diag(d))\n",
    "A1 = Matrix(np.eye(3) + np.ones((3, 3)))\n",
    "print(A0)\n",
    "print(A1)"
   ]
  },
  {
   "cell_type": "markdown",
   "id": "a7573b2e",
   "metadata": {},
   "source": [
    "There are two main reasons to change this code. The first is that encapsulation is broken, since the function accesses the internal matrix data structures directly. The second one is that we use `isinstance` tests to determine the behavior. Both problems can be solved by moving the `solve` function inside the classes, and allowing the object itself to determine what function to call. The complete implementation of the classes and the function may look like:"
   ]
  },
  {
   "cell_type": "code",
   "execution_count": 6,
   "id": "5c26a091",
   "metadata": {},
   "outputs": [],
   "source": [
    "class Matrix:\n",
    "    def __init__(self, data):\n",
    "        self._data = data\n",
    "\n",
    "    def __str__(self):\n",
    "        return str(self._data)\n",
    "\n",
    "    def __repr__(self):\n",
    "        return f\"{type(self).__name__}(data={self._data})\"\n",
    "\n",
    "    def mul(self, x):\n",
    "        return np.matmul(self._data, x)\n",
    "\n",
    "    def solve(self, b):\n",
    "        return np.matmul(np.linalg.inv(_data), b)"
   ]
  },
  {
   "cell_type": "code",
   "execution_count": 7,
   "id": "583388d2",
   "metadata": {},
   "outputs": [],
   "source": [
    "class MatDiag(Matrix):\n",
    "    def __init__(self, data):\n",
    "        if data.ndim == 1:\n",
    "            self._data = data\n",
    "        elif data.ndim == 2:\n",
    "            self._data = np.diagonal(data)\n",
    "\n",
    "    def mul(self, x):\n",
    "        return self._data * x\n",
    "\n",
    "    def solve(self, b):\n",
    "        return b / self._data"
   ]
  },
  {
   "cell_type": "code",
   "execution_count": 8,
   "id": "0316f95b",
   "metadata": {},
   "outputs": [
    {
     "name": "stdout",
     "output_type": "stream",
     "text": [
      "[2 4 6]\n",
      "[2 4 6]\n",
      "[0.5        0.25       0.16666667]\n"
     ]
    }
   ],
   "source": [
    "def solve(A, b):\n",
    "    return A.solve(b)\n",
    "\n",
    "\n",
    "d = [2, 4, 6]\n",
    "A0 = MatDiag(np.diag(d))\n",
    "print(A0)\n",
    "print(A0._data)\n",
    "\n",
    "print(solve(A0, np.array([1, 1, 1])))"
   ]
  },
  {
   "cell_type": "markdown",
   "id": "5c6a52ea",
   "metadata": {},
   "source": [
    "Polymorphism implemented through class hierarchies becomes *even more important in statically typed languages*. For instance, if we were to implement something like the `solve` function above in C++, we would have to specify the type of the arguments `A` and `b`. If we specified `A` as an instance of the `Matrix` base class, the function would accept objects of all sub-classes as arguments, and things would work exactly as in Python.\n",
    "\n",
    "(abstract-base-classes)=\n",
    "### Abstract base classes\n",
    "Lets go back to the `Matrix` example and think about what we just did. First, what is really the difference between a regular matrix and a diagonal matrix? It is the `mul` method and the `solve` method. If you want to implement yet another matrix we would need to implement new versions of `mul` and `solve`. If you implemented `Matrix` class ad the `MatDiag` class you would know this, but for a developer coming from the outside it might not be that easy to understand the you need to implement a new version of both methods. One way we can make this more explicitly is to implement an abstract base class `BaseMatrix` which would like something as follows"
   ]
  },
  {
   "cell_type": "code",
   "execution_count": 9,
   "id": "4cd60d60",
   "metadata": {},
   "outputs": [],
   "source": [
    "import abc\n",
    "\n",
    "class BaseMatrix(abc.ABC):\n",
    "    def __init__(self, data: np.ndarray) -> None:\n",
    "        self._data = data\n",
    "\n",
    "    def __str__(self) -> str:\n",
    "        return str(self._data)\n",
    "\n",
    "    def __repr__(self) -> str:\n",
    "        return f\"{type(self).__name__}(data={self._data})\"\n",
    "\n",
    "    @abc.abstractmethod\n",
    "    def mul(self, x: np.ndarray) -> np.ndarray:\n",
    "        ...\n",
    "\n",
    "    @abc.abstractmethod\n",
    "    def solve(self, b: np.ndarray) -> np.ndarray:\n",
    "        ..."
   ]
  },
  {
   "cell_type": "markdown",
   "id": "de24f906",
   "metadata": {},
   "source": [
    "First thing to note is that we import an new module called `abc` and we create a new class called `BaseMatrix` that inherits from `abc.ABC`. `abc` stands for *abstract base class*, and by inheriting from `abc.ABC` you create an abstract base class. We also define the `__init__`, `__str__`  and `__repr__` method as we did before. Nothing has changed with those methods (except that we also added some {ref}`type-annotations`). For `mul` and `solve` we see something different. First of all, there is no implementation of them. Here we have used the ellipsis (`...`) as a placeholder, but you could also have used `pass`, e.g\n",
    "```python\n",
    "@abc.abstractmethod\n",
    "def mul(self, x: np.ndarray) -> np.ndarray:\n",
    "    pass\n",
    "```\n",
    "The key here is that these methods needs to be implemented by any class that inherits from this abstract base class. We do so by marking the method as an abstract method, by decorating it with `@abc.abstractmethod`. Why is this important?\n",
    "Well consider the `solve` function (here with type annotations)."
   ]
  },
  {
   "cell_type": "code",
   "execution_count": 10,
   "id": "59a88b56",
   "metadata": {},
   "outputs": [],
   "source": [
    "def solve(A: BaseMatrix, b: np.ndarray) -> np.ndarray:\n",
    "    return A.solve(b)"
   ]
  },
  {
   "cell_type": "markdown",
   "id": "b827f350",
   "metadata": {},
   "source": [
    "This function expects as the first argument a `BaseMatrix`. More specifically, it expects an object that has a method on it called `solve` that takes an argument `b` which is a numpy array and that returns a numpy array. If we can make sure that any new classes for matrices inherits from the `BaseMatrix` class, we know that the will provide an implementation of this `solve` method.\n",
    "\n",
    "Let us first try to create an invalid matrix class that inherits from this abstract base class but that do not implement both of the abstract methods, e.g"
   ]
  },
  {
   "cell_type": "code",
   "execution_count": 11,
   "id": "bca7cfbc",
   "metadata": {},
   "outputs": [],
   "source": [
    "class InvalidMatrix(BaseMatrix):\n",
    "    def mul(self, x):\n",
    "        return np.matmul(self._data, x)"
   ]
  },
  {
   "cell_type": "markdown",
   "id": "87bd2251",
   "metadata": {},
   "source": [
    "Now lets see what happens if we try to create a new instance of the class"
   ]
  },
  {
   "cell_type": "code",
   "execution_count": 12,
   "id": "335f520a",
   "metadata": {},
   "outputs": [
    {
     "ename": "TypeError",
     "evalue": "Can't instantiate abstract class InvalidMatrix with abstract method solve",
     "output_type": "error",
     "traceback": [
      "\u001b[0;31m---------------------------------------------------------------------------\u001b[0m",
      "\u001b[0;31mTypeError\u001b[0m                                 Traceback (most recent call last)",
      "Input \u001b[0;32mIn [12]\u001b[0m, in \u001b[0;36m<cell line: 2>\u001b[0;34m()\u001b[0m\n\u001b[1;32m      1\u001b[0m values \u001b[38;5;241m=\u001b[39m np\u001b[38;5;241m.\u001b[39marray([[i \u001b[38;5;241m+\u001b[39m j \u001b[38;5;28;01mfor\u001b[39;00m i \u001b[38;5;129;01min\u001b[39;00m \u001b[38;5;28mrange\u001b[39m(\u001b[38;5;241m1\u001b[39m, \u001b[38;5;241m4\u001b[39m)] \u001b[38;5;28;01mfor\u001b[39;00m j \u001b[38;5;129;01min\u001b[39;00m \u001b[38;5;28mrange\u001b[39m(\u001b[38;5;241m1\u001b[39m, \u001b[38;5;241m4\u001b[39m)])\n\u001b[0;32m----> 2\u001b[0m A \u001b[38;5;241m=\u001b[39m \u001b[43mInvalidMatrix\u001b[49m\u001b[43m(\u001b[49m\u001b[43mvalues\u001b[49m\u001b[43m)\u001b[49m\n",
      "\u001b[0;31mTypeError\u001b[0m: Can't instantiate abstract class InvalidMatrix with abstract method solve"
     ]
    }
   ],
   "source": [
    "values = np.array([[i + j for i in range(1, 4)] for j in range(1, 4)])\n",
    "A = InvalidMatrix(values)"
   ]
  },
  {
   "cell_type": "markdown",
   "id": "6e06393d",
   "metadata": {},
   "source": [
    "We see that we are not allowed to create an instance because we forgot to implement the abstract method `solve`. Now, let us implement `Matrix` and `MatDiag` by inheriting from the `BaseMatrix` class"
   ]
  },
  {
   "cell_type": "code",
   "execution_count": 13,
   "id": "4ae818c8",
   "metadata": {},
   "outputs": [],
   "source": [
    "class Matrix(BaseMatrix):\n",
    "    def mul(self, x):\n",
    "        return np.matmul(self._data, x)\n",
    "\n",
    "    def solve(self, b):\n",
    "        return np.matmul(np.linalg.inv(self._data), b)\n",
    "\n",
    "class MatDiag(BaseMatrix):\n",
    "    def __init__(self, data):\n",
    "        if data.ndim == 1:\n",
    "            self._data = data\n",
    "        elif data.ndim == 2:\n",
    "            self._data = np.diagonal(data)\n",
    "\n",
    "    def mul(self, x):\n",
    "        return self._data * x\n",
    "\n",
    "    def solve(self, b):\n",
    "        return b / self._data\n",
    "\n",
    "\n",
    "values = np.array([[i + j for i in range(1, 4)] for j in range(1, 4)])\n",
    "A1 = Matrix(values)\n",
    "A2 = MatDiag(np.diag(values))"
   ]
  },
  {
   "cell_type": "markdown",
   "id": "2ca41758",
   "metadata": {},
   "source": [
    "### Pokémon Go - revisited\n",
    "Lets recall the Pokémon Go example in {ref}`pokemon-example` which had a base class looking like this"
   ]
  },
  {
   "cell_type": "code",
   "execution_count": 14,
   "id": "c517a9a2",
   "metadata": {},
   "outputs": [],
   "source": [
    "import numpy as np\n",
    "\n",
    "class Pokemon:\n",
    "    def __init__(self):\n",
    "        self.IV_ATK = np.random.randint(16)\n",
    "        self.IV_STA = np.random.randint(16)\n",
    "        self.IV_DEF = np.random.randint(16)\n",
    "\n",
    "    @property\n",
    "    def ATK(self):\n",
    "        return self.BASE_ATK + self.IV_ATK\n",
    "\n",
    "    @property\n",
    "    def DEF(self):\n",
    "        return self.BASE_DEF + self.IV_DEF\n",
    "\n",
    "    @property\n",
    "    def STA(self):\n",
    "        return self.BASE_STA + self.IV_STA\n",
    "\n",
    "    def __str__(self):\n",
    "        return f\"{self.__class__.__name__}({self.ATK}, {self.DEF}, {self.STA})\""
   ]
  },
  {
   "cell_type": "markdown",
   "id": "6cc585ca",
   "metadata": {},
   "source": [
    "and the you would make an explicit Pokemon by providing an explicit implementation of `BASE_ATK`, `BASE_DEF` and `BASE_STA`, e.g"
   ]
  },
  {
   "cell_type": "code",
   "execution_count": 15,
   "id": "f58108fb",
   "metadata": {},
   "outputs": [],
   "source": [
    "class Pikachu(Pokemon):\n",
    "    BASE_ATK = 112\n",
    "    BASE_DEF = 101\n",
    "    BASE_STA = 70"
   ]
  },
  {
   "cell_type": "markdown",
   "id": "2ca8120c",
   "metadata": {},
   "source": [
    "In this case, you don't want to create a Pokemon that doesn't provide an implementation of `BASE_ATK`, `BASE_DEF` and `BASE_STA`, because that will make your program fail, e.g"
   ]
  },
  {
   "cell_type": "code",
   "execution_count": 16,
   "id": "f507f744",
   "metadata": {},
   "outputs": [
    {
     "ename": "AttributeError",
     "evalue": "'InvalidPokemon' object has no attribute 'BASE_STA'",
     "output_type": "error",
     "traceback": [
      "\u001b[0;31m---------------------------------------------------------------------------\u001b[0m",
      "\u001b[0;31mAttributeError\u001b[0m                            Traceback (most recent call last)",
      "Input \u001b[0;32mIn [16]\u001b[0m, in \u001b[0;36m<cell line: 6>\u001b[0;34m()\u001b[0m\n\u001b[1;32m      3\u001b[0m     BASE_DEF \u001b[38;5;241m=\u001b[39m \u001b[38;5;241m101\u001b[39m\n\u001b[1;32m      5\u001b[0m p \u001b[38;5;241m=\u001b[39m InvalidPokemon()\n\u001b[0;32m----> 6\u001b[0m \u001b[38;5;28;43mprint\u001b[39;49m\u001b[43m(\u001b[49m\u001b[43mp\u001b[49m\u001b[43m)\u001b[49m\n",
      "Input \u001b[0;32mIn [14]\u001b[0m, in \u001b[0;36mPokemon.__str__\u001b[0;34m(self)\u001b[0m\n\u001b[1;32m     21\u001b[0m \u001b[38;5;28;01mdef\u001b[39;00m \u001b[38;5;21m__str__\u001b[39m(\u001b[38;5;28mself\u001b[39m):\n\u001b[0;32m---> 22\u001b[0m     \u001b[38;5;28;01mreturn\u001b[39;00m \u001b[38;5;124mf\u001b[39m\u001b[38;5;124m\"\u001b[39m\u001b[38;5;132;01m{\u001b[39;00m\u001b[38;5;28mself\u001b[39m\u001b[38;5;241m.\u001b[39m\u001b[38;5;18m__class__\u001b[39m\u001b[38;5;241m.\u001b[39m\u001b[38;5;18m__name__\u001b[39m\u001b[38;5;132;01m}\u001b[39;00m\u001b[38;5;124m(\u001b[39m\u001b[38;5;132;01m{\u001b[39;00m\u001b[38;5;28mself\u001b[39m\u001b[38;5;241m.\u001b[39mATK\u001b[38;5;132;01m}\u001b[39;00m\u001b[38;5;124m, \u001b[39m\u001b[38;5;132;01m{\u001b[39;00m\u001b[38;5;28mself\u001b[39m\u001b[38;5;241m.\u001b[39mDEF\u001b[38;5;132;01m}\u001b[39;00m\u001b[38;5;124m, \u001b[39m\u001b[38;5;132;01m{\u001b[39;00m\u001b[38;5;28mself\u001b[39m\u001b[38;5;241m.\u001b[39mSTA\u001b[38;5;132;01m}\u001b[39;00m\u001b[38;5;124m)\u001b[39m\u001b[38;5;124m\"\u001b[39m\n",
      "Input \u001b[0;32mIn [14]\u001b[0m, in \u001b[0;36mPokemon.STA\u001b[0;34m(self)\u001b[0m\n\u001b[1;32m     17\u001b[0m \u001b[38;5;129m@property\u001b[39m\n\u001b[1;32m     18\u001b[0m \u001b[38;5;28;01mdef\u001b[39;00m \u001b[38;5;21mSTA\u001b[39m(\u001b[38;5;28mself\u001b[39m):\n\u001b[0;32m---> 19\u001b[0m     \u001b[38;5;28;01mreturn\u001b[39;00m \u001b[38;5;28;43mself\u001b[39;49m\u001b[38;5;241;43m.\u001b[39;49m\u001b[43mBASE_STA\u001b[49m \u001b[38;5;241m+\u001b[39m \u001b[38;5;28mself\u001b[39m\u001b[38;5;241m.\u001b[39mIV_STA\n",
      "\u001b[0;31mAttributeError\u001b[0m: 'InvalidPokemon' object has no attribute 'BASE_STA'"
     ]
    }
   ],
   "source": [
    "class InvalidPokemon(Pokemon):\n",
    "    BASE_ATK = 112\n",
    "    BASE_DEF = 101\n",
    "\n",
    "p = InvalidPokemon()\n",
    "print(p)"
   ]
  },
  {
   "cell_type": "markdown",
   "id": "b5f060a6",
   "metadata": {},
   "source": [
    "What can we do? We can implement the `Pokemon` class as an abstract base class, i.e something like"
   ]
  },
  {
   "cell_type": "code",
   "execution_count": 17,
   "id": "b4f73660",
   "metadata": {},
   "outputs": [],
   "source": [
    "import abc\n",
    "\n",
    "\n",
    "class Pokemon(abc.ABC):\n",
    "    def __init__(self):\n",
    "        self.IV_ATK = np.random.randint(16)\n",
    "        self.IV_STA = np.random.randint(16)\n",
    "        self.IV_DEF = np.random.randint(16)\n",
    "\n",
    "    @property\n",
    "    @abc.abstractmethod\n",
    "    def BASE_ATK(self):\n",
    "        ...\n",
    "\n",
    "    @property\n",
    "    @abc.abstractmethod\n",
    "    def BASE_DEF(self):\n",
    "        ...\n",
    "\n",
    "    @property\n",
    "    @abc.abstractmethod\n",
    "    def BASE_STA(self):\n",
    "        ...\n",
    "\n",
    "    @property\n",
    "    def ATK(self):\n",
    "        return self.BASE_ATK + self.IV_ATK\n",
    "\n",
    "    @property\n",
    "    def DEF(self):\n",
    "        return self.BASE_DEF + self.IV_DEF\n",
    "\n",
    "    @property\n",
    "    def STA(self):\n",
    "        return self.BASE_STA + self.IV_STA\n",
    "\n",
    "    def __str__(self):\n",
    "        return f\"{type(self).__name__}({self.ATK}, {self.DEF}, {self.STA})\""
   ]
  },
  {
   "cell_type": "markdown",
   "id": "4b450c45",
   "metadata": {},
   "source": [
    "Note that we have indicated that `BASE_ATK`, `BASE_DEF` and `BASE_STA` should be abstract methods. We have also specified that they should be `properties` by adding a `@property` decorator on top of the `@abc.abstractmethod` decorator. Now we should be able to do this"
   ]
  },
  {
   "cell_type": "code",
   "execution_count": 18,
   "id": "ac21e22c",
   "metadata": {},
   "outputs": [
    {
     "name": "stdout",
     "output_type": "stream",
     "text": [
      "Pikachu(122, 109, 82)\n"
     ]
    }
   ],
   "source": [
    "class Pikachu(Pokemon):\n",
    "    BASE_ATK = 112\n",
    "    BASE_DEF = 101\n",
    "    BASE_STA = 70\n",
    "\n",
    "p = Pikachu()\n",
    "print(p)"
   ]
  },
  {
   "cell_type": "markdown",
   "id": "d40f883a",
   "metadata": {},
   "source": [
    "but this would raise a TypeError when trying to create a new instance"
   ]
  },
  {
   "cell_type": "code",
   "execution_count": 19,
   "id": "f45effc5",
   "metadata": {},
   "outputs": [
    {
     "ename": "TypeError",
     "evalue": "Can't instantiate abstract class InvalidPokemon with abstract method BASE_STA",
     "output_type": "error",
     "traceback": [
      "\u001b[0;31m---------------------------------------------------------------------------\u001b[0m",
      "\u001b[0;31mTypeError\u001b[0m                                 Traceback (most recent call last)",
      "Input \u001b[0;32mIn [19]\u001b[0m, in \u001b[0;36m<cell line: 5>\u001b[0;34m()\u001b[0m\n\u001b[1;32m      2\u001b[0m     BASE_ATK \u001b[38;5;241m=\u001b[39m \u001b[38;5;241m112\u001b[39m\n\u001b[1;32m      3\u001b[0m     BASE_DEF \u001b[38;5;241m=\u001b[39m \u001b[38;5;241m101\u001b[39m\n\u001b[0;32m----> 5\u001b[0m p \u001b[38;5;241m=\u001b[39m \u001b[43mInvalidPokemon\u001b[49m\u001b[43m(\u001b[49m\u001b[43m)\u001b[49m\n\u001b[1;32m      6\u001b[0m \u001b[38;5;28mprint\u001b[39m(p)\n",
      "\u001b[0;31mTypeError\u001b[0m: Can't instantiate abstract class InvalidPokemon with abstract method BASE_STA"
     ]
    }
   ],
   "source": [
    "class InvalidPokemon(Pokemon):\n",
    "    BASE_ATK = 112\n",
    "    BASE_DEF = 101\n",
    "\n",
    "p = InvalidPokemon()\n",
    "print(p)"
   ]
  },
  {
   "cell_type": "markdown",
   "id": "a2c16524",
   "metadata": {},
   "source": [
    "### Other important OOP concepts (1)\n",
    "* **Multi-level inheritance**; a class hierarchy with several levels of sub-classes. For instance we could introduce band matrix as a subclass of matrix, and diagonal matrix as a subclass of band matrix.\n",
    "* **Multiple inheritance**; one subclass inherits from several base classes, defined by listing all of them in the class definition; `class SubClass(Base1, Base2):`.\n",
    "* **Method resolution order (MRO)**; the rules determining the order in which Python looks for methods and data in a class hierarchy. In general, Python will progress down to up in the class hierarchy, and from left to right in the case of multiple inheritance.\n",
    "* **Method overriding**; the process of writing a different function in a sub-class, which overrides the corresponding method in the base class (like the `mul` and `solve` methods in the `MatDiag` class above.\n",
    "* **Abstract class**; a base class that is only used to implement common features of a class hierarchy, and which we never create instances of. Example is the *cosmic base class* `object` in Python.\n",
    "* **Virtual method**; an overrideable method, i.e. a method that is declared *virtual* in the base class can be overridden in subclasses. In Python all methods are virtual by default, but this is not the case for Java and C++."
   ]
  },
  {
   "cell_type": "code",
   "execution_count": 20,
   "id": "1efefb8d",
   "metadata": {},
   "outputs": [
    {
     "name": "stdout",
     "output_type": "stream",
     "text": [
      "True\n"
     ]
    }
   ],
   "source": [
    "# Example: multilevel inheritance\n",
    "\n",
    "\n",
    "class Organism:\n",
    "    pass\n",
    "\n",
    "\n",
    "class Animal(Organism):\n",
    "    pass\n",
    "\n",
    "\n",
    "class Herbivore(Animal):\n",
    "    pass\n",
    "\n",
    "\n",
    "class Carnivore(Animal):\n",
    "    pass\n",
    "\n",
    "\n",
    "class Sheep(Herbivore):\n",
    "    pass\n",
    "\n",
    "\n",
    "class Wolf(Carnivore):\n",
    "    pass\n",
    "\n",
    "\n",
    "dolly = Sheep()\n",
    "\n",
    "print(isinstance(dolly, Animal))"
   ]
  },
  {
   "cell_type": "markdown",
   "id": "8b7e2a22",
   "metadata": {},
   "source": [
    "Inheritance implies an *is a* relationship. A herbivore *is an* animal, which in turn *is an* organism.\n",
    "\n",
    "Note that while `isinstance` checks whether a given object instance belongs to a given class, there is also a `issubclass` that can be used on class objects. So you can for example check that a Herbivore is an animal.\n",
    "\n",
    "### Note: Constructors in class hierarchies\n",
    "\n",
    "The following is true for subclasses:\n",
    "* The subclass automatically has all the same methods as the superclass, including the constructor\n",
    "* The subclass can redefine (overwrite) any inherited method\n",
    "* The subclass can define new methods\n",
    "\n",
    "However, if a subclass wants to extend the constructor of its superclass, we might run into problems:"
   ]
  },
  {
   "cell_type": "code",
   "execution_count": 21,
   "id": "aaa912e2",
   "metadata": {},
   "outputs": [],
   "source": [
    "class Car:\n",
    "    \"\"\"Store information about a car\"\"\"\n",
    "\n",
    "    def __init__(self, brand, model, plate_nr, color, milage):\n",
    "        self.brand = brand\n",
    "        self.model = model\n",
    "        self.plate_nr = plate_nr\n",
    "        self.color = color\n",
    "        self.milage = milage"
   ]
  },
  {
   "cell_type": "markdown",
   "id": "7c5629cc",
   "metadata": {},
   "source": [
    "We now want to create ElectricCar, as a subclass of Car. The only difference is we want to also add information about the battery capacity of the electric car. We want this information to go into the constructor.\n",
    "\n",
    "Challenge: We want to get away without having to re-implement the whole constructor. This is part of the motivation behind inheritance in the first place (DRY: Don't repeat yourself.)\n",
    "\n",
    "Let us first look at the 'naive' solution:"
   ]
  },
  {
   "cell_type": "code",
   "execution_count": 22,
   "id": "cdc1d5c1",
   "metadata": {},
   "outputs": [],
   "source": [
    "class ElectricCar(Car):\n",
    "    def __init__(self, brand, model, plate_nr, color, milage, battery):\n",
    "        self.battery = battery"
   ]
  },
  {
   "cell_type": "markdown",
   "id": "307c0e61",
   "metadata": {},
   "source": [
    "This would be great (if it worked), because we only need to add the new information of the subclass, without repeating all the old information. The problem is that when we create the `__init__`-method in the `ElectricCar`-class, we overwrite the Car method that was inherited in the first place. Thus, the new constructor would *only* remember the battery, not any of the other information.\n",
    "\n",
    "To get around this, we can explicitly call the superclass's init function directly."
   ]
  },
  {
   "cell_type": "code",
   "execution_count": 23,
   "id": "acafcfd4",
   "metadata": {},
   "outputs": [],
   "source": [
    "class ElectricCar(Car):\n",
    "    def __init__(self, brand, model, plate_nr, color, milage, battery):\n",
    "        Car.__init__(self, brand, model, plate_nr, color, milage)\n",
    "        self.battery = battery\n",
    "\n",
    "\n",
    "tesla = ElectricCar(\"tesla\", \"model s\", \"EL12345\", \"blue\", 1000, 75)"
   ]
  },
  {
   "cell_type": "markdown",
   "id": "3ab03040",
   "metadata": {},
   "source": [
    "This way, we can use the old constructor, but add additional steps when constructing the object.\n",
    "\n",
    "As in earlier examples, we want to avoid hard-coding in specific class names, in case we change them later, or use inheritance. To do this, we change writing `Car.__init__` with `super().__init__`. Here, `super` is a built-in Python function that refers to the superclass, when used within a subclass. So we would do:"
   ]
  },
  {
   "cell_type": "code",
   "execution_count": 24,
   "id": "a53ba0c8",
   "metadata": {},
   "outputs": [
    {
     "name": "stdout",
     "output_type": "stream",
     "text": [
      "True\n",
      "EL12345\n"
     ]
    }
   ],
   "source": [
    "class ElectricCar(Car):\n",
    "    def __init__(self, brand, model, plate_nr, color, milage, battery):\n",
    "        super().__init__(brand, model, plate_nr, color, milage)\n",
    "        self.battery = battery\n",
    "\n",
    "\n",
    "t1 = ElectricCar(\"tesla\", \"model s\", \"EL12345\", \"blue\", 1000, 75)\n",
    "\n",
    "print(isinstance(t1, Car))\n",
    "print(t1.plate_nr)"
   ]
  },
  {
   "cell_type": "markdown",
   "id": "2ff159a6",
   "metadata": {},
   "source": [
    "**Note this potential source of confusion:**\n",
    "* When referencing the base class constructor through the `super()` function, we do not pass `self` as the first argument!\n",
    "* If we directly referenced the base class through `Car.__init__`, we need to pass `self`.\n",
    "\n",
    "This is part of the behavior of Python's `super` function. The intention for this function is that it should always be invoked on an instance, and therefore `self` is passed automatically. When referencing the class directly, the class has no idea of an instance, so this needs to be explicitly passed. The recommended solution is to simply remember its behavior, and always use `super()` to invoke a base class constructor, never the direct class reference.\n",
    "\n",
    "### Multiple inheritance\n",
    "\n",
    "A class can inherit from multiple base classes. There is a never-ending debate on whether or not this is a good idea. It may be useful in certain applications, but also tends to make class hierarchies quite complicated."
   ]
  },
  {
   "cell_type": "code",
   "execution_count": 25,
   "id": "e13a8125",
   "metadata": {},
   "outputs": [],
   "source": [
    "class Human(Animal):\n",
    "    pass\n",
    "\n",
    "\n",
    "class Machine:\n",
    "    pass\n",
    "\n",
    "\n",
    "class Cyborg(Human, Machine):\n",
    "    pass\n",
    "\n",
    "\n",
    "c1 = Cyborg()"
   ]
  },
  {
   "cell_type": "markdown",
   "id": "2f88276b",
   "metadata": {},
   "source": [
    "To consider a more useful example, consider the `ODESolver` hierarchy introduced in Langtangen's *A primer on scientific programming with Python*:\n",
    "![ODESolver.png](../../figures/ODESolver.png)\n",
    "\n",
    "This is a small class hierarchy of ODE solvers, which makes sense because there is clearly an \"is-a\" relationship between the sub-classes and the base class. However, one of the three solver sub-classes, the `BackwardEuler`, is of a different nature than the others, and requires a separate class or module `Newton`, for solving non-linear algebraic equations. While there is nothing wrong with this solution, an alternative approach would be to put this code in a separate base class, and have the `BackwardEuler` class inherit from this.\n",
    "\n",
    "Such a class hierarchy makes more sense if we include a larger collection of solvers, for instance including both methods of the *Runge-Kutta type* and so-called *multi-step methods*. Both of these classes of methods have both explicit and implicit versions, and although the methods themselves are quite different, the implicit methods rely on similar tools for solving non-linear algebraic equations. An example class hierarchy may look like this:\n",
    "![ODE_hierarchy.png](../../figures/ODE_hierarchy.png)\n",
    "\n",
    "The class structure clearly separates the two classes of ODE solvers, while still allowing both types of implicit methods to inherit from the same base class. The hierarchy also makes sense because it preserves the \"is-a\" relationships; the solver `BDF` is a multi-step method, and it is also an Implicit method, as reflected in the hierarchy. While this is clearly not the only way this could be implemented, multiple inheritance in this case provides a logical and well-structured hierarchy, which also maximizes code reuse.\n",
    "\n",
    "#### Quiz 1: Which base class constructor will be called here?"
   ]
  },
  {
   "cell_type": "code",
   "execution_count": 26,
   "id": "c448745b",
   "metadata": {},
   "outputs": [
    {
     "name": "stdout",
     "output_type": "stream",
     "text": [
      "Calling Cyborg constructor\n",
      "Calling Human constructor\n"
     ]
    }
   ],
   "source": [
    "class Human:\n",
    "    def __init__(self):\n",
    "        print(\"Calling Human constructor\")\n",
    "\n",
    "\n",
    "class Machine:\n",
    "    def __init__(self):\n",
    "        print(\"Calling Machine constructor\")\n",
    "\n",
    "\n",
    "class Cyborg(Human, Machine):\n",
    "    def __init__(self):\n",
    "        print(\"Calling Cyborg constructor\")\n",
    "        super().__init__()\n",
    "\n",
    "\n",
    "c1 = Cyborg()"
   ]
  },
  {
   "cell_type": "markdown",
   "id": "3eb4b613",
   "metadata": {},
   "source": [
    "And you are unsure about the method resolution order, it is also possible to just print it (then it is clear that Human is next after Cyborg)"
   ]
  },
  {
   "cell_type": "code",
   "execution_count": 27,
   "id": "134b432d",
   "metadata": {},
   "outputs": [
    {
     "data": {
      "text/plain": [
       "[__main__.Cyborg, __main__.Human, __main__.Machine, object]"
      ]
     },
     "execution_count": 27,
     "metadata": {},
     "output_type": "execute_result"
    }
   ],
   "source": [
    "Cyborg.mro()"
   ]
  },
  {
   "cell_type": "markdown",
   "id": "84775f52",
   "metadata": {},
   "source": [
    "#### Quiz 2: What will be output by the print calls?"
   ]
  },
  {
   "cell_type": "code",
   "execution_count": 28,
   "id": "1ecb8f26",
   "metadata": {},
   "outputs": [
    {
     "name": "stdout",
     "output_type": "stream",
     "text": [
      "a:  A::f() A::g() A::h()\n",
      "b:  A::f() A::g() B::h()\n",
      "c:  A::f() C::g() B::h()\n"
     ]
    }
   ],
   "source": [
    "class A(object):\n",
    "    def f(self):\n",
    "        return \"A::f()\"\n",
    "\n",
    "    def g(self):\n",
    "        return \"A::g()\"\n",
    "\n",
    "    def h(self):\n",
    "        return \"A::h()\"\n",
    "\n",
    "\n",
    "class B(A):\n",
    "    def h(self):\n",
    "        return \"B::h()\"\n",
    "\n",
    "\n",
    "class C(B):\n",
    "    def g(self):\n",
    "        return \"C::g()\"\n",
    "\n",
    "\n",
    "a, b, c = A(), B(), C()\n",
    "print(\"a: \", a.f(), a.g(), a.h())\n",
    "print(\"b: \", b.f(), b.g(), b.h())\n",
    "print(\"c: \", c.f(), c.g(), c.h())"
   ]
  },
  {
   "cell_type": "markdown",
   "id": "818b908a",
   "metadata": {},
   "source": [
    "### Composition over Inheritance\n",
    "\n",
    "An important principle or design pattern in object oriented programming states that we should prefer \"*[Composition over Inheritance](https://en.wikipedia.org/wiki/Composition_over_inheritance)*. One reason why you sometimes want to avoid using inheritance is because changes in the base class can result in unexpected results in the class that inherits from the base class. This is very well explained is a [talk given by Ariel Ortiz at pycon 2019](https://youtu.be/YXiaWtc0cgE)\n",
    "\n",
    "To illustrate the concept of composition and inheritance let us consider the `Vector` class from week 2."
   ]
  },
  {
   "cell_type": "code",
   "execution_count": 29,
   "id": "606725bf",
   "metadata": {},
   "outputs": [],
   "source": [
    "import numpy as np\n",
    "\n",
    "\n",
    "class Vector3D:\n",
    "    def __init__(self, x, y, z):\n",
    "        self.x = x\n",
    "        self.y = y\n",
    "        self.z = z\n",
    "\n",
    "    def __repr__(self):\n",
    "        return f\"{self.__class__.__name__}({self.x}, {self.y}, {self.z})\"\n",
    "\n",
    "    def __add__(self, other):\n",
    "        x = self.x + other.x\n",
    "        y = self.y + other.y\n",
    "        z = self.z + other.z\n",
    "        return Vector3D(x, y, z)"
   ]
  },
  {
   "cell_type": "markdown",
   "id": "aeac9fcd",
   "metadata": {},
   "source": [
    "Now, say we want to use the Vector as parameter in a model and attach a name to it. Then we could just create a new  class that inherits from the Vector3D class."
   ]
  },
  {
   "cell_type": "code",
   "execution_count": 30,
   "id": "37e89688",
   "metadata": {},
   "outputs": [
    {
     "name": "stdout",
     "output_type": "stream",
     "text": [
      "ModelVector1(2, 0, -2) + ModelVector1(2, 4, 2) = ModelVector1(4, 4, 0)\n",
      "vector1+vector2\n"
     ]
    }
   ],
   "source": [
    "class ModelVector1(Vector3D):\n",
    "    def __init__(self, name, x, y, z):\n",
    "        self.name = name\n",
    "        super().__init__(x, y, z)\n",
    "\n",
    "    def __add__(self, other):\n",
    "        vector_sum = super().__add__(other)\n",
    "        return ModelVector1(\n",
    "            \"+\".join([self.name, other.name]), vector_sum.x, vector_sum.y, vector_sum.z\n",
    "        )\n",
    "\n",
    "\n",
    "u = ModelVector1(\"vector1\", 2, 0, -2)\n",
    "v = ModelVector1(\"vector2\", 2, 4, 2)\n",
    "w = u + v\n",
    "\n",
    "print(f\"{u} + {v} = {w}\")\n",
    "print(w.name)"
   ]
  },
  {
   "cell_type": "markdown",
   "id": "49677cd0",
   "metadata": {},
   "source": [
    "This is an example of inheritance. First of all we see many calls to the methods on the base class though `super` which makes the code difficult to read. Secondly if the super class __add__ function  changes it will also change the behavior of the ModelVector class which might not be what we want.\n",
    "\n",
    "In stead we could use composition. This means that we do not need to care about how vector is implemented."
   ]
  },
  {
   "cell_type": "code",
   "execution_count": 31,
   "id": "32387404",
   "metadata": {},
   "outputs": [
    {
     "name": "stdout",
     "output_type": "stream",
     "text": [
      "\n",
      "ModelVector2(vector1, Vector3D(2, 0, -2)) + ModelVector2(vector2, Vector3D(2, 4, 2)) = ModelVector2(vector1+vector2, Vector3D(4, 4, 0))\n",
      "vector1+vector2\n"
     ]
    }
   ],
   "source": [
    "# First of all we need to call the super class all the time, and second if the super class __add__ function\n",
    "# changes it will also change the behavior of the ModelVector class and we might need to change the the code.\n",
    "\n",
    "# What we should do instead is the following\n",
    "\n",
    "\n",
    "class ModelVector2:\n",
    "    def __init__(self, name, vector):\n",
    "        self.name = name\n",
    "        self.vector = vector\n",
    "\n",
    "    def __add__(self, other):\n",
    "        return ModelVector2(\n",
    "            \"+\".join([self.name, other.name]), self.vector + other.vector\n",
    "        )\n",
    "\n",
    "    def __repr__(self):\n",
    "        return f\"{self.__class__.__name__}({self.name}, {self.vector})\"\n",
    "\n",
    "\n",
    "u = ModelVector2(\"vector1\", Vector3D(2, 0, -2))\n",
    "v = ModelVector2(\"vector2\", Vector3D(2, 4, 2))\n",
    "w = u + v\n",
    "\n",
    "print(f\"\\n{u} + {v} = {w}\")\n",
    "print(w.name)"
   ]
  },
  {
   "cell_type": "markdown",
   "id": "ae10cda4",
   "metadata": {},
   "source": [
    "It also makes our code reusable. Say that we now want to implement ModelMatrix. The all we need to do is to provide a matrix as the second argument. In fact the only thing that is required is that the second argument has an implementation of `__add__`, so we could also simply provide integers."
   ]
  },
  {
   "cell_type": "code",
   "execution_count": 32,
   "id": "1e33dbbb",
   "metadata": {},
   "outputs": [
    {
     "name": "stdout",
     "output_type": "stream",
     "text": [
      "\n",
      "ModelVector2(first value, 2) + ModelVector2(second value, 4) = ModelVector2(first value+second value, 6)\n",
      "first value+second value\n"
     ]
    }
   ],
   "source": [
    "# And this ModelVector2 class also works with any variable that implements add\n",
    "u = ModelVector2(\"first value\", 2)\n",
    "v = ModelVector2(\"second value\", 4)\n",
    "w = u + v\n",
    "\n",
    "print(f\"\\n{u} + {v} = {w}\")\n",
    "print(w.name)"
   ]
  },
  {
   "cell_type": "markdown",
   "id": "344418da",
   "metadata": {},
   "source": [
    "## Learn more about object-oriented design\n",
    "\n",
    "The main book when it comes to designing object orient programs is the book referred to at the *Gang of four book*.\n",
    "\n",
    "```{figure} ../../figures/gof.jpg\n",
    "---\n",
    "width: 300px\n",
    "name: gof\n",
    "alt: gof\n",
    "---\n",
    "*Gang of four book* Design Patterns : Elements of Reusable Object-Oriented Software by Erich Gamma, Richard Helm,  Ralph Johnson and John Vlissides\n",
    "```\n",
    "In that covers all the different patterns you may encounter and solutions to them. It was first published in 1994, but is still highly relevant today.\n",
    "\n",
    "Another useful resource is <https://refactoring.guru/design-patterns> which contains a friendly introduction to all the design patterns with examples of where these patterns appear as well as example implementations in several programming languages, including python.\n",
    "\n",
    "Finally, I would also like to highlight a python specific article called [Design Patterns in Python for the Untrained Eye](http://34.212.143.74/s201911/pycon2019/docs/design_patterns.html)\n",
    "\n",
    "\n",
    "## Summary of OOP\n",
    "* The *four pillars* of OOP; a set of concepts that provide the foundation for OOP. The concepts are somewhat overlapping, and not all have a precise definition, but it is important to have an   idea of their meaning and usage:\n",
    "    * Abstraction; collect common features into a common concept, a class\n",
    "    * Encapsulation; interface the class through a defined interface, hide details from users\n",
    "    * Inheritance; make new classes as specializations of a base class\n",
    "    * Polymorphism; implement object-specific behavior by placing the relevant code inside the sub-class. The concept of virtual methods ensures that the right code is called.\n",
    "* Other central OOP concepts include:\n",
    "    * Multi-level inheritance; a class hierarchy with >2 levels\n",
    "    * Multiple inheritance; a class can inherit from multiple base classes\n",
    "    * MRO (method resolution order); the order in which Python searches for methods (in a class hierarchy).\n",
    "    * Method overriding; \"replacing\" a base class method with a specialized version in a subclass\n",
    "    * Virtual method; a method that can be overridden (by default all methods in Python)\n",
    "* Class methods and variables:\n",
    "    * Methods and variables that belong to the class, not to a particular instance\n",
    "    * Typical use of class variables; count the number of objects, global parameters\n",
    "    * Typical use of class methods; factory methods (\"alternative constructors\")\n",
    "* Static methods:\n",
    "    * Similar to class methods, but cannot modify the class state\n",
    "    * Typical use; utility functions that do not use the class data, but logically belong to the class"
   ]
  }
 ],
 "metadata": {
  "jupytext": {
   "formats": "md:myst",
   "text_representation": {
    "extension": ".md",
    "format_name": "myst"
   }
  },
  "kernelspec": {
   "display_name": "Python 3",
   "language": "python",
   "name": "python3"
  },
  "language_info": {
   "codemirror_mode": {
    "name": "ipython",
    "version": 3
   },
   "file_extension": ".py",
   "mimetype": "text/x-python",
   "name": "python",
   "nbconvert_exporter": "python",
   "pygments_lexer": "ipython3",
   "version": "3.10.4"
  },
  "source_map": [
   11,
   55,
   69,
   74,
   97,
   104,
   117,
   121,
   140,
   146,
   168,
   172,
   190,
   205,
   216,
   225,
   245,
   255,
   258,
   263,
   267,
   269,
   272,
   275,
   300,
   305,
   328,
   332,
   337,
   340,
   347,
   352,
   391,
   395,
   403,
   406,
   413,
   426,
   457,
   473,
   483,
   492,
   496,
   502,
   510,
   517,
   528,
   541,
   555,
   570,
   588,
   592,
   594,
   599,
   625,
   633,
   651,
   655,
   674,
   680,
   707,
   711,
   719
  ]
 },
 "nbformat": 4,
 "nbformat_minor": 5
}