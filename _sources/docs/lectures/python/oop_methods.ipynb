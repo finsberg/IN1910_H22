{
 "cells": [
  {
   "cell_type": "markdown",
   "id": "9ee80378",
   "metadata": {},
   "source": [
    "# Methods in Python\n",
    "\n",
    "In this section we will talk about methods, aka functions that lives on the instance or the class. We will see that there are a number of ways that you can defined methods on a class and you should use them in different situations.\n",
    "\n",
    "\n",
    "## Attributes, Fields, Methods\n",
    "\n",
    "Classes are custom data types, and are extremely central to object-oriented programming. When you are developing object-oriented code, most of your development will go into defining classes and how they interact.\n",
    "\n",
    "When defining a new class, you need to specify what data an object of that type should contain, and what functionality it has. We call these the *attributes* of the class/object, and these can be split into two main groups:\n",
    "* *fields* are pieces of data stored in the object\n",
    "* *methods* are functions we can call\n",
    "\n",
    "In Python we use the dot-syntax to access an objects attributes. For example"
   ]
  },
  {
   "cell_type": "code",
   "execution_count": 1,
   "id": "d8e8419c",
   "metadata": {},
   "outputs": [
    {
     "name": "stdout",
     "output_type": "stream",
     "text": [
      "4.0\n",
      "3.0\n",
      "(4-3j)\n"
     ]
    }
   ],
   "source": [
    "x = complex(4, 3)\n",
    "\n",
    "print(x.real)\n",
    "print(x.imag)\n",
    "print(x.conjugate())"
   ]
  },
  {
   "cell_type": "markdown",
   "id": "a7dca174",
   "metadata": {},
   "source": [
    "Here we create a `complex`-type object, which represents a complex number. We can then access its real and imaginary components using the names `x.real` and `x.imag`. These are examples of attributes of object, in this case these are `float` attributes, which in turn are examples of data fields.\n",
    "\n",
    "Last we use `x.conjugate()`, and this is also a class attribute - but in this case the attribute is callable and will behave as a function. Such attributes we call *methods* in Python. In this case the method returns the complex conjugate of the object."
   ]
  },
  {
   "cell_type": "code",
   "execution_count": 2,
   "id": "a9e1b113",
   "metadata": {},
   "outputs": [
    {
     "name": "stdout",
     "output_type": "stream",
     "text": [
      "<class 'float'>\n",
      "<class 'builtin_function_or_method'>\n"
     ]
    }
   ],
   "source": [
    "print(type(x.real))\n",
    "print(type(x.conjugate))"
   ]
  },
  {
   "cell_type": "markdown",
   "id": "96657758",
   "metadata": {},
   "source": [
    "## Special Methods\n",
    "\n",
    "In Python, defining classes often involve implementing *special* methods, also known as *magic* methods (or dunder methods). These are methods we do not expect to call explicitly. Rather, we expect Python to call them for us as needed, depending on the situation. They are extremely useful to learn how to use, and they lead to elegant, understandable and usable code. Becoming adept at special methods is crucial if you want to make good Pythonic code.\n",
    "\n",
    "Special methods have specific names, so Python knows what to call. They all use two leading and two trailing underscores. You have already seen an example of this, the constructor: `__init__`.\n",
    "\n",
    "\n",
    "### The constructor (`__init__`)\n",
    "\n",
    "You have already seen the most important example of special methods, the constructor, or initialization special method (`__init__`). This function is called every time you define a new instance of a class."
   ]
  },
  {
   "cell_type": "code",
   "execution_count": 3,
   "id": "d0968d5f",
   "metadata": {},
   "outputs": [
    {
     "name": "stdout",
     "output_type": "stream",
     "text": [
      "A football of radius 11 cm\n",
      "Has a surface area of 1521 cm^2\n",
      "And a volume of 5575 cm^3\n"
     ]
    }
   ],
   "source": [
    "from math import pi\n",
    "\n",
    "\n",
    "class Sphere:\n",
    "    def __init__(self, radius):\n",
    "        self.radius = radius\n",
    "        self.area = 4 * pi * radius**2\n",
    "        self.volume = 4 * pi * radius**3 / 3\n",
    "\n",
    "\n",
    "football = Sphere(11)\n",
    "print(f\"A football of radius {football.radius:.0f} cm\")\n",
    "print(f\"Has a surface area of {football.area:.0f} cm^2\")\n",
    "print(f\"And a volume of {football.volume:.0f} cm^3\")"
   ]
  },
  {
   "cell_type": "markdown",
   "id": "df0b1082",
   "metadata": {},
   "source": [
    "Once we define a new instance of the class, the `__init__`-method is called behind the scenes. As usual, the first argument is called \"self\", because this will be the object itself. In addition we send in any additional arguments we need to define an object of the given class. In this example we define a sphere-object, and so we send in the radius as an argument. In our constructor we then choose to store the radius as a data attribute by writing"
   ]
  },
  {
   "cell_type": "code",
   "execution_count": 4,
   "id": "4223fd7a",
   "metadata": {},
   "outputs": [
    {
     "ename": "NameError",
     "evalue": "name 'radius' is not defined",
     "output_type": "error",
     "traceback": [
      "\u001b[0;31m---------------------------------------------------------------------------\u001b[0m",
      "\u001b[0;31mNameError\u001b[0m                                 Traceback (most recent call last)",
      "Input \u001b[0;32mIn [4]\u001b[0m, in \u001b[0;36m<cell line: 1>\u001b[0;34m()\u001b[0m\n\u001b[0;32m----> 1\u001b[0m \u001b[38;5;28mself\u001b[39m\u001b[38;5;241m.\u001b[39mradius \u001b[38;5;241m=\u001b[39m \u001b[43mradius\u001b[49m\n",
      "\u001b[0;31mNameError\u001b[0m: name 'radius' is not defined"
     ]
    }
   ],
   "source": [
    "self.radius = radius"
   ]
  },
  {
   "cell_type": "markdown",
   "id": "fa1899ec",
   "metadata": {},
   "source": [
    "This code line might look a bit weird, but here we are defining the instance property `football.radius`, and setting the value to be the same as the function argument (`11`). In addition to storing the radius, we have chosen to also compute the area and volume of the sphere, and store these as attributes as well.\n",
    "\n",
    "(python-oop-special-print)=\n",
    "### Printing out instances of custom classes\n",
    "\n",
    "If you attempt to call `print` on a custom object, you'll find that it doesn't produce output that is super helpful."
   ]
  },
  {
   "cell_type": "code",
   "execution_count": 5,
   "id": "ad43e6bc",
   "metadata": {},
   "outputs": [
    {
     "name": "stdout",
     "output_type": "stream",
     "text": [
      "<__main__.Sphere object at 0x7f4c42cb9660>\n"
     ]
    }
   ],
   "source": [
    "print(football)"
   ]
  },
  {
   "cell_type": "markdown",
   "id": "eca95040",
   "metadata": {},
   "source": [
    "Reading the output we get out the type, in this case `__main__.Sphere` (main because we defined it in our main script, and didn't import it), it tells us it is an object, and then it specifies where in memory the object is stored. The object type can in many cases be useful information, but you could already get this information by using the `type()` function.\n",
    "\n",
    "To print more useful information, we can implement the string special method (`__str__`). This special method is called automatically for us when we try to turn our custom object into a string by writing `str(u)`. In addition, when we call `print(u)`, Python actually first converts the object to a string behind the scenes before printing it (unlike for example `sys.stdout.write`, where you have to do it manually). So if we implement `Football.__str__` we would get the following happening behind the scenes\n",
    "\n",
    "* `print(football)` -> `print(str(football))` -> `print(football.__str__())`\n",
    "\n",
    "This means: if we implement a `__str__` that returns a nicely formatted string, we can print our object exactly the way we want it."
   ]
  },
  {
   "cell_type": "code",
   "execution_count": 6,
   "id": "295e79b3",
   "metadata": {},
   "outputs": [
    {
     "name": "stdout",
     "output_type": "stream",
     "text": [
      "Sphere(11)\n"
     ]
    }
   ],
   "source": [
    "from math import pi\n",
    "\n",
    "\n",
    "class Sphere:\n",
    "    def __init__(self, radius):\n",
    "        self.radius = radius\n",
    "        self.area = 4 * pi * radius**2\n",
    "        self.volume = 4 * pi * radius**3 / 3\n",
    "\n",
    "    def __str__(self):\n",
    "        return f\"Sphere({self.radius})\"\n",
    "\n",
    "\n",
    "football = Sphere(11)\n",
    "print(football)"
   ]
  },
  {
   "cell_type": "markdown",
   "id": "bfaf9860",
   "metadata": {},
   "source": [
    "A different special method that is similar to the string method is the representation special method (`__repr__`). The main difference is that `__str__` is meant to be human readable, so that it works with `print()`. This means that `__str__` can be informal, and ambiguous, as long as it is somewhat informative.\n",
    "\n",
    "On the other hand we have `__repr__`, which is meant to be unambiguous and more formal. It should be a unique representation of the object so that it could be used to recreate that object later. When calling `repr(u)` we should get a string that we for example can write to a file, then later load in and execute that statement to get the object back. So `eval(repr(u))` should give `u`.\n",
    "\n",
    "The repr special method is also called when printing out elements inside a list for example, so if we write out our football inside a list, the output will be as before, despite having implemented a str-method. To fix this we would need to add a repr instead, or in addition to, the str-method."
   ]
  },
  {
   "cell_type": "code",
   "execution_count": 7,
   "id": "493abd98",
   "metadata": {},
   "outputs": [
    {
     "name": "stdout",
     "output_type": "stream",
     "text": [
      "[<__main__.Sphere object at 0x7f4c40954c40>, <__main__.Sphere object at 0x7f4c40957e20>, <__main__.Sphere object at 0x7f4c40955f30>]\n"
     ]
    }
   ],
   "source": [
    "list_of_spheres = [Sphere(0), Sphere(5), Sphere(10)]\n",
    "print(list_of_spheres)"
   ]
  },
  {
   "cell_type": "markdown",
   "id": "fc76db25",
   "metadata": {},
   "source": [
    "Now let us implement the `__repr__` method"
   ]
  },
  {
   "cell_type": "code",
   "execution_count": 8,
   "id": "040bc2ad",
   "metadata": {},
   "outputs": [],
   "source": [
    "from math import pi\n",
    "\n",
    "\n",
    "class Sphere:\n",
    "    def __init__(self, radius):\n",
    "        self.radius = radius\n",
    "        self.area = 4 * pi * radius**2\n",
    "        self.volume = 4 * pi * radius**3 / 3\n",
    "\n",
    "    def __str__(self):\n",
    "        return f\"Sphere({self.radius})\"\n",
    "\n",
    "    def __repr__(self):\n",
    "        return str(self)"
   ]
  },
  {
   "cell_type": "markdown",
   "id": "4b5afab7",
   "metadata": {},
   "source": [
    "Here we use a quick little trick. Because we don't really want `__repr__` and `__str__` to produce any different output, we simply let `__repr__` use the string special method by writing `self(str)`. Using methods internally when defining classes is very common, and can save us a lot of hassle"
   ]
  },
  {
   "cell_type": "code",
   "execution_count": 9,
   "id": "59c9b7a6",
   "metadata": {},
   "outputs": [
    {
     "name": "stdout",
     "output_type": "stream",
     "text": [
      "[Sphere(0), Sphere(5), Sphere(10)]\n"
     ]
    }
   ],
   "source": [
    "list_of_spheres = [Sphere(0), Sphere(5), Sphere(10)]\n",
    "print(list_of_spheres)"
   ]
  },
  {
   "cell_type": "markdown",
   "id": "35c5a780",
   "metadata": {},
   "source": [
    "### Making callable objects\n",
    "\n",
    "Another important special method is the *call* method (`__call__`). If a class has an implemented call method, we can call a given object as though it were a function. This is because Python automatically will use the call-method behind the scenes. This is extremely useful when we want to create objects that represent mathematical functions.\n",
    "\n",
    "Say for example we want to make a class for quadratic functions, which can be written as\n",
    "\n",
    "$$\n",
    "f(x) = ax^2 + bx + c.\n",
    "$$\n",
    "\n",
    "Here, there a three free parameters, the coefficients $a$, $b$, and $c$. We therefore let the constructor take these in. We then implement the mathematical function itself as the call special method:"
   ]
  },
  {
   "cell_type": "code",
   "execution_count": 10,
   "id": "e74acbb2",
   "metadata": {},
   "outputs": [
    {
     "name": "stdout",
     "output_type": "stream",
     "text": [
      "25\n"
     ]
    }
   ],
   "source": [
    "class Quadratic:\n",
    "    def __init__(self, a, b, c):\n",
    "        self.coefficients = a, b, c\n",
    "\n",
    "    def __call__(self, x):\n",
    "        a, b, c = self.coefficients\n",
    "        return a * x**2 + b * x + c\n",
    "\n",
    "\n",
    "f = Quadratic(1, 2, 1)\n",
    "print(f(4))"
   ]
  },
  {
   "cell_type": "markdown",
   "id": "65e8fc1b",
   "metadata": {},
   "source": [
    "Here, when we assign `f = Quadratic(1, 2, 1)`, we are creating a new object of the class that represents the function $f(x) = x^2 + 2x + 1$. It isn't actually a Python function, but it is *callable*. We can therefore use it as if it were a normal function and call it by writing `f(4)`. When we write this, Python interprets it behind-the-scenes as\n",
    "\n",
    "* `f(4)` -> `f.__call__(4)` -> `Quadratic.__call__(f, 4)`\n",
    "\n",
    "We can now easily create quadratic functions and use them as normal functions:"
   ]
  },
  {
   "cell_type": "code",
   "execution_count": 11,
   "id": "3d81dba9",
   "metadata": {},
   "outputs": [
    {
     "data": {
      "image/png": "[encoded data removed]",
      "text/plain": [
       "<Figure size 432x288 with 1 Axes>"
      ]
     },
     "metadata": {
      "filenames": {
       "image/png": "/__w/IN1910_H22/IN1910_H22/book/_build/jupyter_execute/docs/lectures/python/oop_methods_21_0.png"
      },
      "needs_background": "light"
     },
     "output_type": "display_data"
    }
   ],
   "source": [
    "import numpy as np\n",
    "import matplotlib.pyplot as plt\n",
    "\n",
    "f = Quadratic(1, 2, 1)\n",
    "g = Quadratic(-1, 4, 4)\n",
    "h = Quadratic(0, -2, 3)\n",
    "\n",
    "x = np.linspace(-4, 4, 101)\n",
    "plt.plot(x, f(x))\n",
    "plt.plot(x, g(x))\n",
    "plt.plot(x, h(x))\n",
    "plt.show()"
   ]
  },
  {
   "cell_type": "markdown",
   "id": "37e2f5b5",
   "metadata": {},
   "source": [
    "There are several advantages to implementing these quadratic functions as actual Quadratic-objects, rather than as normal Python functions. For one, they now have a custom type, which we can check using `isinstance(f, Quadratic)`. Thus, other parts of our code can *know* that the function is a quadratic function. We can also extend the class adding plenty of useful functionality. We could for example add functionality for adding or subtracting functions, producing new Quadratic-objects. This cannot be done with normal functions. Or we could add a method for returning the derivative. If you do this week's exercises, you will get the chance to implement all of these for a general degree polynomial.\n",
    "\n",
    "\n",
    "### More Special Methods\n",
    "\n",
    "So far, we have shown the following special methods\n",
    "* `__init__`\n",
    "* `__str__`\n",
    "* `__repr__`\n",
    "* `__call__`\n",
    "\n",
    "These are just a few of many, many possible special methods you can implement. We will look at more example in the next lecture. For a more comprehensive list and more examples, you can check out [this site](http://www.diveintopython3.net/special-method-names.html).\n",
    "\n",
    "\n",
    "## Class Methods and Variables\n",
    "\n",
    "In most examples we have seen in the course so far, we first implement a class, and then create *instances* of that class, i.e., objects of that class type. However, once created, these objects do not affect each other directly, they are simply the same type of object.\n",
    "\n",
    "However, it is possible to create variables that belong to the *class*, and not specific objects.\n",
    "\n",
    "### Three common uses of class variables and class methods are:\n",
    "* To keep track of the number of objects created of a class\n",
    "* To store global parameters, that should be the same for all instances\n",
    "* So-called 'factory methods', which creates new objects in different ways than what is commonly done in the constructor\n",
    "\n",
    "For the first example, we simply keep a counter running that increases every time we create a new object of the class:"
   ]
  },
  {
   "cell_type": "code",
   "execution_count": 12,
   "id": "26a60ef2",
   "metadata": {},
   "outputs": [
    {
     "name": "stdout",
     "output_type": "stream",
     "text": [
      "0\n",
      "3\n"
     ]
    }
   ],
   "source": [
    "class Rabbit:\n",
    "    nr_of_rabbits = 0\n",
    "\n",
    "    def __init__(self, age):\n",
    "        Rabbit.nr_of_rabbits += 1\n",
    "        self.age = age\n",
    "\n",
    "\n",
    "print(Rabbit.nr_of_rabbits)\n",
    "\n",
    "alice = Rabbit(2)\n",
    "buddy = Rabbit(4)\n",
    "charlie = Rabbit(7)\n",
    "\n",
    "print(Rabbit.nr_of_rabbits)"
   ]
  },
  {
   "cell_type": "markdown",
   "id": "252367a8",
   "metadata": {},
   "source": [
    "Here, `nr_of_rabbits` is a class variable, because it belongs to the class itself. The `age` attributes however, are *instance* variables, as they belong to each individual instance of the class. In the constructor of the class, we increment `Rabbit.nr_of_rabbits` by 1, thus, each time a new rabbit object is created, this variable grows.\n",
    "\n",
    "Note that even though there is no *instance* variable called `nr_of_rabbits`, we can access it from the objects too:"
   ]
  },
  {
   "cell_type": "code",
   "execution_count": 13,
   "id": "b4760793",
   "metadata": {},
   "outputs": [
    {
     "name": "stdout",
     "output_type": "stream",
     "text": [
      "3\n"
     ]
    }
   ],
   "source": [
    "print(alice.nr_of_rabbits)"
   ]
  },
  {
   "cell_type": "markdown",
   "id": "8e185f62",
   "metadata": {},
   "source": [
    "This is because when we write `alice.nr_of_rabbits`, Python first checks for a instance variable by this name, but if none is found, like in this case, then it instead uses the class variable.\n",
    "\n",
    "However, you should be a bit careful here, because if we try to redefine `alice.nr_of_rabbits` (or `self.nr_of_rabbits` inside the constructor), then we actually create an instance variable, rather than change the class variable. This is why we write `Rabbit.nr_of_rabbits += 1`, rather than self. Let us try the other version and see what happens:"
   ]
  },
  {
   "cell_type": "code",
   "execution_count": 14,
   "id": "facfda67",
   "metadata": {},
   "outputs": [
    {
     "name": "stdout",
     "output_type": "stream",
     "text": [
      "0\n",
      "1\n"
     ]
    }
   ],
   "source": [
    "class Rabbit:\n",
    "    nr_of_rabbits = 0\n",
    "\n",
    "    def __init__(self, age):\n",
    "        self.age = age\n",
    "        self.nr_of_rabbits += 1  # Intentionally wrong!\n",
    "\n",
    "\n",
    "alice = Rabbit(2)\n",
    "buddy = Rabbit(4)\n",
    "charlie = Rabbit(7)\n",
    "\n",
    "print(Rabbit.nr_of_rabbits)\n",
    "print(alice.nr_of_rabbits)"
   ]
  },
  {
   "cell_type": "markdown",
   "id": "c776ac44",
   "metadata": {},
   "source": [
    "Obviously, this does not behave as we expect. We want `nr_of_rabbits` to be 3, since we created 3 rabbits. But we see that the class variable `Rabbit.nr_of_rabbits` reports 0 rabbits, and `alice.nr_of_rabbits`, which should just default to the class variable reports 1 rabbit!  What is actually happening here?\n",
    "\n",
    "When we write:"
   ]
  },
  {
   "cell_type": "code",
   "execution_count": 15,
   "id": "f4bf8e80",
   "metadata": {},
   "outputs": [
    {
     "ename": "NameError",
     "evalue": "name 'self' is not defined",
     "output_type": "error",
     "traceback": [
      "\u001b[0;31m---------------------------------------------------------------------------\u001b[0m",
      "\u001b[0;31mNameError\u001b[0m                                 Traceback (most recent call last)",
      "Input \u001b[0;32mIn [15]\u001b[0m, in \u001b[0;36m<cell line: 1>\u001b[0;34m()\u001b[0m\n\u001b[0;32m----> 1\u001b[0m \u001b[38;5;28;43mself\u001b[39;49m\u001b[38;5;241m.\u001b[39mnr_of_rabbits \u001b[38;5;241m+\u001b[39m\u001b[38;5;241m=\u001b[39m \u001b[38;5;241m1\u001b[39m\n",
      "\u001b[0;31mNameError\u001b[0m: name 'self' is not defined"
     ]
    }
   ],
   "source": [
    "self.nr_of_rabbits += 1"
   ]
  },
  {
   "cell_type": "markdown",
   "id": "43ed37b0",
   "metadata": {},
   "source": [
    "This is equivalent to writing"
   ]
  },
  {
   "cell_type": "code",
   "execution_count": 16,
   "id": "b2a969bf",
   "metadata": {},
   "outputs": [
    {
     "ename": "NameError",
     "evalue": "name 'self' is not defined",
     "output_type": "error",
     "traceback": [
      "\u001b[0;31m---------------------------------------------------------------------------\u001b[0m",
      "\u001b[0;31mNameError\u001b[0m                                 Traceback (most recent call last)",
      "Input \u001b[0;32mIn [16]\u001b[0m, in \u001b[0;36m<cell line: 1>\u001b[0;34m()\u001b[0m\n\u001b[0;32m----> 1\u001b[0m \u001b[38;5;28mself\u001b[39m\u001b[38;5;241m.\u001b[39mnr_of_rabbits \u001b[38;5;241m=\u001b[39m \u001b[38;5;28;43mself\u001b[39;49m\u001b[38;5;241m.\u001b[39mnr_of_rabbits \u001b[38;5;241m+\u001b[39m \u001b[38;5;241m1\u001b[39m\n",
      "\u001b[0;31mNameError\u001b[0m: name 'self' is not defined"
     ]
    }
   ],
   "source": [
    "self.nr_of_rabbits = self.nr_of_rabbits + 1"
   ]
  },
  {
   "cell_type": "markdown",
   "id": "3a393293",
   "metadata": {},
   "source": [
    "Now the right hand side is evaluated first. When creating the object, the new rabbit has no `nr_of_rabbits` instance variable, so it looks up the class variable instead, which is 0, then we add 1, giving 1 as a result.\n",
    "\n",
    "Now, this is supposed to be stored in the variable to the left of the assignment operator (`=`), but `self.nr_of_rabbits` is interpreted by Python as if we want to create this instance variable. Therefore, the new rabbit object gets its own personal `nr_of_rabbit` instance variable, and the class variable never gets updated.\n",
    "\n",
    "Note that this happens because an integer is *immutable*. If we had a class variable that was mutable, then it would behave differently. We could for example contain all objects of a class in a list as a class variable:"
   ]
  },
  {
   "cell_type": "code",
   "execution_count": 17,
   "id": "8646eae8",
   "metadata": {},
   "outputs": [
    {
     "data": {
      "text/plain": [
       "Rabbit(Charlie)"
      ]
     },
     "execution_count": 17,
     "metadata": {},
     "output_type": "execute_result"
    }
   ],
   "source": [
    "class Rabbit:\n",
    "    all_rabbits = []\n",
    "\n",
    "    def __init__(self, name, age):\n",
    "        self.name = name\n",
    "        self.age = age\n",
    "        self.all_rabbits.append(self)\n",
    "\n",
    "    def __repr__(self):\n",
    "        return f\"{self.__class__.__name__}({self.name})\"\n",
    "\n",
    "\n",
    "Rabbit(\"Alice\", 2)\n",
    "Rabbit(\"Buddy\", 4)\n",
    "Rabbit(\"Charlie\", 7)"
   ]
  },
  {
   "cell_type": "markdown",
   "id": "5c251684",
   "metadata": {},
   "source": [
    "In this case, writing `self.all_rabbits.append(self)` means we add the object itself to the class variable list. Because lists are mutable, we end up changing the class variable, instead of creating an instance variable. Although it works writing `self.all_rabbits` in this case, it isn't very readable for a user, as they might think this is a instance variable because of the `self`. So here, it would be better to just write out `Rabbit.all_rabbits`, or `self.__class__.all_rabbits`, to make it clear to the user that this is the class variable that is being changed.\n",
    "\n",
    "### Parameters as class variables\n",
    "\n",
    "Class variables are well suited for storing parameters that are usually shared by all objects of the class. Take for instance a Pendulum class"
   ]
  },
  {
   "cell_type": "code",
   "execution_count": 18,
   "id": "8985efb6",
   "metadata": {},
   "outputs": [],
   "source": [
    "class Pendulum:\n",
    "    G = 9.81\n",
    "\n",
    "    def __init__(self, M=1, L=1):\n",
    "        self.M = M\n",
    "        self.L = L"
   ]
  },
  {
   "cell_type": "markdown",
   "id": "5eda1a66",
   "metadata": {},
   "source": [
    "In this class, we can create pendulums of different lengths and masses. We can then use `self.M` and `self.L` to refer to these in calculations. Note that we can also refer to `self.G` in calculations, but this will use the class variable `G`, as the objects contain no specific G. We let `G` be a class variable, because all our pendulums typically experience the same gravity."
   ]
  },
  {
   "cell_type": "code",
   "execution_count": 19,
   "id": "39be53d7",
   "metadata": {},
   "outputs": [
    {
     "name": "stdout",
     "output_type": "stream",
     "text": [
      "4\n",
      "2\n",
      "9.81\n"
     ]
    }
   ],
   "source": [
    "p = Pendulum(M=4, L=2)\n",
    "print(p.M)\n",
    "print(p.L)\n",
    "print(p.G)"
   ]
  },
  {
   "cell_type": "markdown",
   "id": "866cde8c",
   "metadata": {},
   "source": [
    "One benefit of defining parameters that should be shared across all objects as a class variable is that it is now easy to change the parameter for all objects, those already created and those we create in the future."
   ]
  },
  {
   "cell_type": "code",
   "execution_count": 20,
   "id": "6e38b1b0",
   "metadata": {},
   "outputs": [
    {
     "name": "stdout",
     "output_type": "stream",
     "text": [
      "10\n"
     ]
    }
   ],
   "source": [
    "Pendulum.G = 10\n",
    "print(p.G)"
   ]
  },
  {
   "cell_type": "markdown",
   "id": "25150d0e",
   "metadata": {},
   "source": [
    "Thus, the parameter has a single, definite representation in our system. Which is usually a good approach.\n",
    "\n",
    "(class-methods)=\n",
    "## Class Methods\n",
    "\n",
    "In addition to defining class variables, we can define class methods. Class methods are methods we call on the *class*, not on a specific object. The easiest approach to creating a class method in Python is to use the `@classmethod` decorator. One of the typical use cases for a class method are *factory methods*. Factory methods are methods that create objects of the class, but perhaps in a different way than what the constructor does.\n",
    "\n",
    "A Python class can only have one constructor. Creating objects in different ways is achieved through factory methods:"
   ]
  },
  {
   "cell_type": "code",
   "execution_count": 21,
   "id": "a68cb040",
   "metadata": {},
   "outputs": [],
   "source": [
    "import numpy as np\n",
    "\n",
    "\n",
    "class Sphere:\n",
    "    def __init__(self, radius):\n",
    "        self.radius = radius\n",
    "\n",
    "    def volume(self):\n",
    "        return 4 * np.pi * self.radius**3 / 3\n",
    "\n",
    "    @classmethod\n",
    "    def from_volume(cls, volume):\n",
    "        radius = (3 * volume / (4 * np.pi)) ** (1 / 3)\n",
    "        return cls(radius)"
   ]
  },
  {
   "cell_type": "markdown",
   "id": "84c28ec2",
   "metadata": {},
   "source": [
    "Here, we make our `Sphere` class as normal, where we create spheres by specifying their radius. However, sometimes, we might want to instead create a sphere with a given volume. To do this, we create a *factory method*. We then use the `@classmethod` decorator to create it, for normal *instance* methods, the first argument to a method is always the self, but now we call the first argument is `cls`, which is short for \"class\".\n",
    "\n",
    "We can use the class method as follows:"
   ]
  },
  {
   "cell_type": "code",
   "execution_count": 22,
   "id": "fe794671",
   "metadata": {},
   "outputs": [
    {
     "name": "stdout",
     "output_type": "stream",
     "text": [
      "Radius: 10.6 \t Volume: 5000.0\n"
     ]
    }
   ],
   "source": [
    "ball = Sphere.from_volume(5000)\n",
    "print(f\"Radius: {ball.radius:.1f} \\t Volume: {ball.volume():.1f}\")"
   ]
  },
  {
   "cell_type": "markdown",
   "id": "fcf7df2b",
   "metadata": {},
   "source": [
    "Here, because we defined the method as a class method,\n",
    "``` Python\n",
    "Sphere.from_volume(5000)\n",
    "```\n",
    "is actually interpreted as\n",
    "``` Python\n",
    "Sphere.from_volume(Sphere, 5000)\n",
    "```\n",
    "And so `cls` would refer to the class itself within the class method, exactly like `self`  refers to the object itself in normal instance methods.\n",
    "\n",
    "A common usage of factory methods is to choose the right subclass based on user input. As an example, consider again the `ODESolver` class hierarchy, and say we want to let the user pass a string to the class to specify the solver, as in:\n",
    "``` Python\n",
    "solver = ODESolver.create_solver('FE',f)\n",
    "```\n",
    "One may think that this could also be solved by simply adding a string argument to the `ODESolver` constructor:\n",
    "``` Python\n",
    "solver = ODESolver('FE',f)\n",
    "```\n",
    "But this will not work since we are not creating an `ODESolver` instance, but an instance of one of the subclasses.\n",
    "\n",
    "\n",
    "\n",
    "The solution is a factory method which knows about the subclasses:\n",
    "``` Python\n",
    "@classmethod\n",
    "def create_solver(cls,solver_type,f):\n",
    "    SOLVER_TO_CLS_MAP = {\n",
    "        'FE':  ForwardEuler,\n",
    "        'BE': BackwardEuler,\n",
    "        'RK4': RungeKutta4\n",
    "    }\n",
    "\n",
    "    if solver_type not in SOLVER_TO_CLS_MAP:\n",
    "        raise ValueError(f'Bad solver type {message_type}')\n",
    "\n",
    "    return SOLVER_TO_CLS_MAP[solver_type](f)\n",
    "```\n",
    "\n",
    "\n",
    "\n",
    "### Other factory method use cases\n",
    "\n",
    "* Create factory methods for unit testing, i.e. initiate some instances with predefined parameters.\n",
    "* Initiating objects based on *random* data.\n",
    "* Create objects from a file. By creating a factory method `from_file` which reads in some data file, and sets up the object accordingly. Here, we can also create a method for saving all the data in the object to a file, which can be read in later. This would be an example of *[checkpointing](https://en.wikipedia.org/wiki/Application_checkpointing)*, which is an extremely useful feature for computations and simulations that take a long time to run.\n",
    "\n",
    "\n",
    "\n",
    "## Static Methods\n",
    "\n",
    "Another kind of method, which is different from both class methods and instance methods, are the *static* methods. These are methods that while they belong to a class, is called without using any class or object information. You define a static method with the `@staticmethod` decorator, unlike instance and class methods, the static methods do not take any particular variable in as the first variable.\n",
    "\n",
    "The static methods do not use any information about the class or object, and so *could* for all intents and purposes just be a stand-alone function. However, we like to implement it as a static method, because then the functionality is stored within the class, and makes the whole code cleaner."
   ]
  },
  {
   "cell_type": "code",
   "execution_count": 23,
   "id": "eb7ecdb4",
   "metadata": {},
   "outputs": [],
   "source": [
    "from datetime import date\n",
    "\n",
    "\n",
    "class Person:\n",
    "    def __init__(self, name, birthday):\n",
    "        self.name = name\n",
    "        self.birthday = birthday\n",
    "\n",
    "    def age(self):\n",
    "        return self.calculate_age(self.birthday)\n",
    "\n",
    "    @staticmethod\n",
    "    def calculate_age(birthday):\n",
    "        day, month, year = birthday.split(\".\")\n",
    "        day = int(day)\n",
    "        month = int(month)\n",
    "        year = int(year)\n",
    "        today = date.today()\n",
    "        return (today.year - year) - ((today.month, today.day) < (month, day))"
   ]
  },
  {
   "cell_type": "markdown",
   "id": "79021528",
   "metadata": {},
   "source": [
    "Here we have created a static method `calculate_age`, that computes the age of a person right now, given that person's birthday as a string on the form \"dd.mm.yyyy\". We can call this function as"
   ]
  },
  {
   "cell_type": "code",
   "execution_count": 24,
   "id": "5a1b1ea8",
   "metadata": {},
   "outputs": [
    {
     "name": "stdout",
     "output_type": "stream",
     "text": [
      "47\n"
     ]
    }
   ],
   "source": [
    "print(Person.calculate_age(\"20.02.1975\"))"
   ]
  },
  {
   "cell_type": "markdown",
   "id": "9afbb75a",
   "metadata": {},
   "source": [
    "This function is a \"stand-alone\" function, it doesn't depend on any class or instance data. However, after we have created this method, we can use it in the `age` method, which returns the age of a given person-object."
   ]
  },
  {
   "cell_type": "code",
   "execution_count": 25,
   "id": "4001de81",
   "metadata": {},
   "outputs": [
    {
     "name": "stdout",
     "output_type": "stream",
     "text": [
      "39\n",
      "<function Person.calculate_age at 0x7f4c14a064d0>\n"
     ]
    }
   ],
   "source": [
    "p = Person(\"Joe Schmoe\", \"17.04.1983\")\n",
    "print(p.age())\n",
    "\n",
    "print(p.calculate_age)"
   ]
  },
  {
   "cell_type": "markdown",
   "id": "396af33b",
   "metadata": {},
   "source": [
    "### Class Methods vs Static Methods (1)\n",
    "Static methods and class methods appear to be quite similar. The difference can be understood by considering the Python concept of *bound methods*:\n",
    "* An ordinary function in Python is often called an unbound function, because it is not bound to a particular class or object.\n",
    "* On the other hand, a regular instance method defined in a class becomes *bound to an instance* every time a new instance of the class is generated. In fact, when we create a new instance, we also create a new function object, which is bound to that instance and thereby becomes a bound method. Each instance has its own method object. The most important effect of this binding is that the instance is automatically passed as the first argument to the method (`self`).\n",
    "\n",
    "\n",
    "\n",
    "### Class Methods vs Static Methods (2)\n",
    "* Using the `@classmethod` decorator simply tells Python that this function should be bound to the class and not the instance. No matter how many instances we create, there will only exist one method object, and when we call it the class (`cls`), and not the instance, is automatically passed as the first argument. The method can still be accessed through a specific instance, but it still remains bound to the class and the class is passed as the first argument.\n",
    "* Finally, when we use the `@staticmethod` decorator, we tell Python that this function should not be bound to either the class or the instance, but remain an unbound function. It is still defined within the *namespace* of the class, and can be accessed either through the class or through a specific instance (as for `calculate_age` above), but it remains an unbound Python function and no arguments get passed automatically.\n",
    "\n",
    "\n",
    "\n",
    "### Class Methods vs Static Methods (3)\n",
    "These differences lead to the following \"rules\" for when to use the different methods:\n",
    " * Use a regular instance method if it needs access to instance data. This is by far the most common use case in OOP.\n",
    " * If the method does not need access to instance data, but it does access class data, define it as a class method.\n",
    " * Finally, if the method logically belongs to the class, but does not operate on either\n",
    " instance data or class data (i.e. neither `self`, `cls`, or the class name appear inside the function body) it should be a static method.\n",
    "\n",
    "\n",
    "\n",
    "#### Quiz: why is this factory method a @classmethod, not a @staticmethod?\n",
    "``` Python\n",
    "@classmethod\n",
    "def create_solver(cls,solver_type,f):\n",
    "    SOLVER_TO_CLS_MAP = {\n",
    "        'FE':  ForwardEuler,\n",
    "        'BE': BackwardEuler,\n",
    "        'RK4': RungeKutta4\n",
    "    }\n",
    "\n",
    "    if solver_type not in SOLVER_TO_CLS_MAP:\n",
    "        raise ValueError(f'Bad solver type {solver_type}')\n",
    "\n",
    "    return SOLVER_TO_CLS_MAP[solver_type](f)\n",
    "```\n",
    "\n",
    "\n",
    "\n",
    "#### Answer:\n",
    "This was a trick question. The method could just as well be a `@staticmethod`, since neither `self` nor `cls` appear inside the function body. However, it is still a good idea to keep it a `@classmethod`, because\n",
    "* We could have made the solver to class map more flexible by using the builtin function `cls.__subclasses()`, and this would only work with a class method.\n",
    "* It is common in Python to implement factory methods as class methods, so following this convention makes the code more readable. (However, in C++ and other programming languages, it is common to implement factory methods as static methods.)\n",
    "\n",
    "\n",
    "## A 3D vector class\n",
    "\n",
    "In this final part of this section we will try to bring it all together and implement several different method on a specific class. By adding more and more functionality to this class, we illustrate different special methods and possibilities in Python and how these work.\n",
    "\n",
    "As a specific case example, we will implement a class for three dimensional vectors `Vector3D`. We want objects of this class to behave mathematically as vectors, and we will add functionality to do vector arithmetic.\n",
    "\n",
    "\n",
    "### The constructor (`__init__`)\n",
    "\n",
    "The most fundamental method of any class is its *constructor*, which is automatically called when we create a new instance of a class. In Python, the constructor is called `__init__` (short for *initialize*). To define a 3D vector, we need to specify its three cartesian coordinates, which we call $x$, $y$, $z$."
   ]
  },
  {
   "cell_type": "code",
   "execution_count": 26,
   "id": "a30e0b89",
   "metadata": {},
   "outputs": [],
   "source": [
    "import numpy as np\n",
    "\n",
    "\n",
    "class Vector3D:\n",
    "    \"\"\"A class representing 3D cartesian vectors\"\"\"\n",
    "\n",
    "    def __init__(self, x, y, z):\n",
    "        self.x = x\n",
    "        self.y = y\n",
    "        self.z = z"
   ]
  },
  {
   "cell_type": "markdown",
   "id": "87bf9c85",
   "metadata": {},
   "source": [
    "This constructor doesn't do much other than save the three coordinates as internal attributes. This is necessary so that the object remembers its coordinates and can use them later. The string on line 4 is an example of a *docstring*, which we will describe in more detail next week. If you have not seen such strings before, simply think of it as a comment for now.\n",
    "\n",
    "\n",
    "### Pretty printing\n",
    "\n",
    "Next we want to be able to print out vectors, so that we can check our results. We implement this using the string special method (`__str__`). If we were just implementing this in an editor, we would just keep editing our file. In the notebook, we don't want to repeat the whole class for each cell. Instead we just extend our existing class as follows:"
   ]
  },
  {
   "cell_type": "code",
   "execution_count": 27,
   "id": "44796636",
   "metadata": {},
   "outputs": [
    {
     "name": "stdout",
     "output_type": "stream",
     "text": [
      "(0, 4, -2)\n"
     ]
    }
   ],
   "source": [
    "class Vector3D(Vector3D):\n",
    "    def __str__(self):\n",
    "        return f\"({self.x:g}, {self.y:g}, {self.z:g})\"\n",
    "\n",
    "\n",
    "u = Vector3D(0, 4, -2)\n",
    "print(u)"
   ]
  },
  {
   "cell_type": "markdown",
   "id": "8e474fbd",
   "metadata": {},
   "source": [
    "Here, extending the class by writing `Vector3D(Vector3D)` works because of *inheritance*, as we will explain later. For now, you can think of it as adding code to the existing class. Note however, that any vectors defined before we extend the class will *not* be updated. So in the notebook we must remember to define new vector instances when we want to test our code.\n",
    "\n",
    "\n",
    "### The repr method\n",
    "\n",
    "Our string special method works nicely and can be used to print out vectors in our code. Recall however that when printing sequences such as lists, they will still look quite rough"
   ]
  },
  {
   "cell_type": "code",
   "execution_count": 28,
   "id": "600b0866",
   "metadata": {},
   "outputs": [
    {
     "name": "stdout",
     "output_type": "stream",
     "text": [
      "[<__main__.Vector3D object at 0x7f4c14a02dd0>, <__main__.Vector3D object at 0x7f4c14a02dd0>]\n"
     ]
    }
   ],
   "source": [
    "print([u, u])"
   ]
  },
  {
   "cell_type": "markdown",
   "id": "a7e2b8af",
   "metadata": {},
   "source": [
    "The solution to this was to add the `__repr__` method, which should provide the string we can be used to recreate the object if need be. We can add it as follows"
   ]
  },
  {
   "cell_type": "code",
   "execution_count": 29,
   "id": "8cb3d9ec",
   "metadata": {},
   "outputs": [
    {
     "name": "stdout",
     "output_type": "stream",
     "text": [
      "[Vector3D(0, 4, -2), Vector3D(3, 0, 1)]\n"
     ]
    }
   ],
   "source": [
    "class Vector3D(Vector3D):\n",
    "    def __repr__(self):\n",
    "        return f\"Vector3D({self.x}, {self.y}, {self.z})\"\n",
    "\n",
    "\n",
    "u = Vector3D(0, 4, -2)\n",
    "v = Vector3D(3, 0, 1)\n",
    "\n",
    "vectors = [u, v]\n",
    "print(vectors)"
   ]
  },
  {
   "cell_type": "markdown",
   "id": "97d2f733",
   "metadata": {},
   "source": [
    "Here the vectors get written out on the form which can be used to recreate the objects with `eval`, which is exactly what we want. However, there is a small trick we can use to make the `__repr__` a bit more general, which is to use the exploit the fact that all classes in Python \"know\" their own name. Look at the following code"
   ]
  },
  {
   "cell_type": "code",
   "execution_count": 30,
   "id": "25df1b90",
   "metadata": {},
   "outputs": [],
   "source": [
    "class Vector3D(Vector3D):\n",
    "    def __repr__(self):\n",
    "        return f\"{type(self).__name__}({self.x}, {self.y}, {self.z})\""
   ]
  },
  {
   "cell_type": "markdown",
   "id": "28871896",
   "metadata": {},
   "source": [
    "So instead of writing the name `Vector3D` directly into the code (known as \"hard coding\" it), we use the variable `type(self).__name__` to refer to the name of the class. First `type(self)` will return the class, in this case `Vector3D` and the access the name of the class which will be a string `\"Vector3D\"`.\n",
    "\n",
    "What is the benefit of doing this? Well, if we later want to change the `Vector3D` name to something else, the method will update automatically. Secondly, and perhaps more important is that we can also use `Vector3D` to create new classes through inheritance, and then we want the new classes to automatically have `repr` referring to their own class, not their parent class.\n",
    "\n",
    "\n",
    "## Vector Arithmetic\n",
    "\n",
    "The main goal of our `Vector3D` class is to automate vector arithmetic, so let us extend our class to handle this. We start by focusing on addition and subtraction\n",
    "\n",
    "### Addition\n",
    "\n",
    "If we want to be able to add two vectors together, we need to add a method that defines how such an operation is to be handled. We could for example define a `add` method, and write `u.add(v)` to compute $u + v$. However, this isn't very elegant. Instead, we want to be able to write `u + v` in our code. A statement like this uses the *binary operator* `+` (binary meaning it acts on two variables/objects). For any such operators in Python, there is one or more special methods associated with it. So when you write `a + b` Python will automatically interpret this behind the scenes as `a.__add__(b)`. Let us implement this method.\n",
    "\n",
    "The result of adding two vectors together is a brand new vectors. Our `__add__` method therefore needs to create and return a new `Vector3D`-object. If this is confusing, imagine the following code snippet"
   ]
  },
  {
   "cell_type": "code",
   "execution_count": 31,
   "id": "76ce5919",
   "metadata": {},
   "outputs": [
    {
     "ename": "TypeError",
     "evalue": "unsupported operand type(s) for +: 'Vector3D' and 'Vector3D'",
     "output_type": "error",
     "traceback": [
      "\u001b[0;31m---------------------------------------------------------------------------\u001b[0m",
      "\u001b[0;31mTypeError\u001b[0m                                 Traceback (most recent call last)",
      "Input \u001b[0;32mIn [31]\u001b[0m, in \u001b[0;36m<cell line: 3>\u001b[0;34m()\u001b[0m\n\u001b[1;32m      1\u001b[0m u \u001b[38;5;241m=\u001b[39m Vector3D(\u001b[38;5;241m2\u001b[39m, \u001b[38;5;241m0\u001b[39m, \u001b[38;5;241m-\u001b[39m\u001b[38;5;241m2\u001b[39m)\n\u001b[1;32m      2\u001b[0m v \u001b[38;5;241m=\u001b[39m Vector3D(\u001b[38;5;241m2\u001b[39m, \u001b[38;5;241m4\u001b[39m, \u001b[38;5;241m2\u001b[39m)\n\u001b[0;32m----> 3\u001b[0m w \u001b[38;5;241m=\u001b[39m \u001b[43mu\u001b[49m\u001b[43m \u001b[49m\u001b[38;5;241;43m+\u001b[39;49m\u001b[43m \u001b[49m\u001b[43mv\u001b[49m\n",
      "\u001b[0;31mTypeError\u001b[0m: unsupported operand type(s) for +: 'Vector3D' and 'Vector3D'"
     ]
    }
   ],
   "source": [
    "u = Vector3D(2, 0, -2)\n",
    "v = Vector3D(2, 4, 2)\n",
    "w = u + v"
   ]
  },
  {
   "cell_type": "markdown",
   "id": "9a1230cc",
   "metadata": {},
   "source": [
    "In this case, adding `u` and `v` to define `w` shouldn't change the values of `u` and `v`, but should instead create a *new vector object*, which we give the name `w`. For `w` to refer to a new object, it must be created somewhere, and we must do this inside `__add__`. The code therefore can look as follows"
   ]
  },
  {
   "cell_type": "code",
   "execution_count": 32,
   "id": "03b2e2c1",
   "metadata": {},
   "outputs": [
    {
     "name": "stdout",
     "output_type": "stream",
     "text": [
      "(2, 0, -2) + (2, 4, 2) = (4, 4, 0)\n"
     ]
    }
   ],
   "source": [
    "class Vector3D(Vector3D):\n",
    "    def __add__(self, other):\n",
    "        x = self.x + other.x\n",
    "        y = self.y + other.y\n",
    "        z = self.z + other.z\n",
    "        return Vector3D(x, y, z)\n",
    "\n",
    "\n",
    "u = Vector3D(2, 0, -2)\n",
    "v = Vector3D(2, 4, 2)\n",
    "w = u + v\n",
    "\n",
    "print(f\"{u} + {v} = {w}\")"
   ]
  },
  {
   "cell_type": "markdown",
   "id": "8b96f3be",
   "metadata": {},
   "source": [
    "This works just the way it should, and this code is perfectly fine. However, we have again hard-coded in the name of our class in the method implementation itself. It would be *even better* to do as follows"
   ]
  },
  {
   "cell_type": "code",
   "execution_count": 33,
   "id": "1fd475f7",
   "metadata": {},
   "outputs": [
    {
     "name": "stdout",
     "output_type": "stream",
     "text": [
      "(2, 0, -2) + (2, 4, 2) = (4, 4, 0)\n"
     ]
    }
   ],
   "source": [
    "class Vector3D(Vector3D):\n",
    "    def __add__(self, other):\n",
    "        x = self.x + other.x\n",
    "        y = self.y + other.y\n",
    "        z = self.z + other.z\n",
    "        return self.__class__(x, y, z)\n",
    "\n",
    "\n",
    "u = Vector3D(2, 0, -2)\n",
    "v = Vector3D(2, 4, 2)\n",
    "w = u + v\n",
    "\n",
    "print(f\"{u} + {v} = {w}\")"
   ]
  },
  {
   "cell_type": "markdown",
   "id": "17399fb5",
   "metadata": {},
   "source": [
    "This makes our code more general and better suited for extending in the future.\n",
    "\n",
    "\n",
    "### `self` and `other`\n",
    "\n",
    "We just defined our addition method with the statement `def __add__(self, other)`, which can be a bit confusing.  To better understand this, it can be helpful to first understand why there must be two arguments. This is because we are talking about *binary* addition, meaning two things are added together. When we write `a + b`, these two objects are being added, so `self` will refer to `a` and `other` will refer to `b`. This can become more clear if we realize what calls are being made behind the scenes:\n",
    "\n",
    "1. We write: `a + b`\n",
    "2. Which Python interprets as: `a.__add__(b)`\n",
    "3. Which in turn actually means: `Vector3D.__add__(a, b)`\n",
    "\n",
    "So in the method we have written, which has the signature `__add__(self, other)`, we see that `a` is the self, and `b` is the other.\n",
    "\n",
    "The use of `self` and `other` can be a tricky concept to wrap your head around, but it is fundamental to mastering classes, so it is very worth the time to take time to properly digest this material.\n",
    "\n",
    "Please note however that the names `self` and `other` are *not* reserved keywords in Python, and it is possible to pick other names for these variables. However, `self` and `other` are very commonly used, and can be considered strict conventions. We therefore recommend you stick to these unless you have a good reason to deviate.\n",
    "\n",
    "\n",
    "### Vector-scalar addition\n",
    "\n",
    "We have added a method to add two vectors together, so we can write `u + v`. What happens if we try to add a vector and an integer `u + 1`?\n",
    "```Python\n",
    "print(u + 1)\n",
    "```\n",
    "We can an error: `AttributeError: 'int' object has no attribute 'x'`.\n",
    "\n",
    "This error happens because our `other`-object in this case is no longer a `Vector3D`-object, but an `int`. Here we get an `AttributeError` because we try to use `other.x`, but the integer has no `.x` attribute to access. In this case, we should actually be checking what type `other` and treat it differently depending on its type. We know `self` is a `Vector3D`, so we don't need to check this.\n",
    "\n",
    "Now, what behavior do we want if actually try to add an integer? We could either say we add the number to each component separately, so:\n",
    "```\n",
    "if isinstance(other, (int, float)):\n",
    "    self.x += other\n",
    "    self.y += other\n",
    "    self.z += other\n",
    "```\n",
    "This is how a numpy array works for example. In our case, however, we want the `Vector3D` class to represent a mathematical vector, and for these, adding a vector and a scaler together doesn't make sense because they have different dimensions. Therefore, we should throw an exception instead. Let us generalize this to throw an error if we try to add anything other than another vector object as follows:"
   ]
  },
  {
   "cell_type": "code",
   "execution_count": 34,
   "id": "f779a491",
   "metadata": {},
   "outputs": [
    {
     "name": "stdout",
     "output_type": "stream",
     "text": [
      "(2, 0, -2) + (2, 4, 2) = (4, 4, 0)\n",
      "(2, 0, -2) + 1 gives 'TypeError: cannot add vector and <class 'int'>'\n"
     ]
    }
   ],
   "source": [
    "class Vector3D(Vector3D):\n",
    "    def __add__(self, other):\n",
    "        if isinstance(other, Vector3D):\n",
    "            x = self.x + other.x\n",
    "            y = self.y + other.y\n",
    "            z = self.z + other.z\n",
    "            return Vector3D(x, y, z)\n",
    "            # or return self.__class__(x, y, z)\n",
    "\n",
    "        else:\n",
    "            raise TypeError(f\"cannot add vector and {type(other)}\")\n",
    "\n",
    "\n",
    "u = Vector3D(2, 0, -2)\n",
    "v = Vector3D(2, 4, 2)\n",
    "\n",
    "print(f\"{u} + {v} = {u + v}\")\n",
    "\n",
    "try:\n",
    "    print(f\"{u} + {1} = {u + 1}\")\n",
    "except TypeError as e:\n",
    "    print(f\"{u} + {1} gives 'TypeError: {e}'\")"
   ]
  },
  {
   "cell_type": "markdown",
   "id": "070f5f4f",
   "metadata": {},
   "source": [
    "You could now argue that one for example should be able to add a `Vector3D` and a list of three numbers, e.g., `u + [1, 3, 1]`. You can try to extend the `__add__` method to account for such a possibility if you want. For now, we move on to other operations.\n",
    "\n",
    "\n",
    "### Subtraction\n",
    "\n",
    "Extending our class to also handle subtraction of vectors is very similar to addition, we simply use the subtraction special method instead (`__sub__`)."
   ]
  },
  {
   "cell_type": "code",
   "execution_count": 35,
   "id": "e0d6d7e4",
   "metadata": {},
   "outputs": [
    {
     "name": "stdout",
     "output_type": "stream",
     "text": [
      "(2, 0, -2) - (2, 4, 2) = (0, -4, -4)\n",
      "(2, 0, -2) - 0.5 gives 'TypeError: cannot add vector and <class 'float'>'\n"
     ]
    }
   ],
   "source": [
    "class Vector3D(Vector3D):\n",
    "    def __sub__(self, other):\n",
    "        if isinstance(other, Vector3D):\n",
    "            x = self.x - other.x\n",
    "            y = self.y - other.y\n",
    "            z = self.z - other.z\n",
    "            return Vector3D(x, y, z)\n",
    "            # or return self.__class__(x, y, z)\n",
    "\n",
    "        else:\n",
    "            raise TypeError(f\"cannot subtract vector and {type(other)}\")\n",
    "\n",
    "\n",
    "u = Vector3D(2, 0, -2)\n",
    "v = Vector3D(2, 4, 2)\n",
    "\n",
    "print(f\"{u} - {v} = {u - v}\")\n",
    "\n",
    "try:\n",
    "    print(f\"{u} - {1/2} = {u + 1/2}\")\n",
    "except TypeError as e:\n",
    "    print(f\"{u} - {1/2} gives 'TypeError: {e}'\")"
   ]
  },
  {
   "cell_type": "markdown",
   "id": "a2de0c90",
   "metadata": {},
   "source": [
    "### The unary negative operator (aka \"minus\")\n",
    "\n",
    "We have now defined and implemented what `u + v` and `u - v` means for our vectors. From mathematics, we know that `u - (-v)` is equivalent to `u + v`, but will Python understand this? If we were doing test-driven development (such as in Project 0), this would be a good example of a new test to add.\n",
    "\n",
    "If you try yourself, you will see that the operation `u - (-v)` does *not* work, but instead throws the following error message\n",
    "```\n",
    "TypeError: bad operand type for unary -: 'Vector3D'\n",
    "```\n",
    "This can be a confusing message, so let us break it down for you.\n",
    "\n",
    "In the expression `u - (-v)` we have *two* subtraction operators, both represented by `-`. The first one is the normal binary subtraction which acts on the two variables `u` and `(-v)`. This corresponds to `__sub__` which we have already added. The second subtraction however, in `(-v)` does not act on two variables and so is instead a *unary subtraction* (unary meaning \"acting on one operand\"). This operation is coupled to the special method `__neg__` (for negative). When Python interprets our code it must first resolve the parentheses and compute the negative of `v`, and we have not defined how this is done for our class, which is why we get the error message \"bad operand type for unary -\".\n",
    "\n",
    "Let us now define the `__neg__` special method. As this is a unary operator, we only take in the `self` argument, and skip the `other` (as there is no \"other\" vector in this case)"
   ]
  },
  {
   "cell_type": "code",
   "execution_count": 36,
   "id": "ee858ec8",
   "metadata": {},
   "outputs": [
    {
     "name": "stdout",
     "output_type": "stream",
     "text": [
      "(2, 0, -2) - (-(2, 4, 2)) = (4, 4, 0)\n"
     ]
    }
   ],
   "source": [
    "class Vector3D(Vector3D):\n",
    "    def __neg__(self):\n",
    "        return Vector3D(-self.x, -self.y, -self.z)\n",
    "        # or return self.__class__(-self.x, -self.y, -self.z)\n",
    "\n",
    "\n",
    "u = Vector3D(2, 0, -2)\n",
    "v = Vector3D(2, 4, 2)\n",
    "\n",
    "print(f\"{u} - (-{v}) = {u - (-v)}\")"
   ]
  },
  {
   "cell_type": "markdown",
   "id": "98d94add",
   "metadata": {},
   "source": [
    "The code now works. First the `__neg__` method is used to compute `(-v)`, then `u - (-v)` is computed using `__sub__`.\n",
    "\n",
    "Another small detail you can note here is that if we had implemented our `__neg__` method *first*, then we could have relied on this when implementing `__sub__`. Check this out:"
   ]
  },
  {
   "cell_type": "code",
   "execution_count": 37,
   "id": "c9d34f07",
   "metadata": {},
   "outputs": [
    {
     "name": "stdout",
     "output_type": "stream",
     "text": [
      "(2, 0, -2) - (2, 4, 2) = (0, -4, -4)\n"
     ]
    }
   ],
   "source": [
    "class Vector3D(Vector3D):\n",
    "    def __sub__(self, other):\n",
    "        if isinstance(other, Vector3D):\n",
    "            return self + (-other)\n",
    "        else:\n",
    "            raise TypeError(f\"cannot subtract vector and {type(other)}\")\n",
    "\n",
    "\n",
    "u = Vector3D(2, 0, -2)\n",
    "v = Vector3D(2, 4, 2)\n",
    "\n",
    "print(f\"{u} - {v} = {u - v}\")"
   ]
  },
  {
   "cell_type": "markdown",
   "id": "c2861c01",
   "metadata": {},
   "source": [
    "This `__sub__` method behaves just as before, but the implementation now relies on `__neg__` (and `__add__`) by saying that `u - v` is equivalent to `u + (-v)`. Tricks like these can be nice when implementing arithmetic methods.\n",
    "\n",
    "\n",
    "### Multiplying vectors\n",
    "\n",
    "We now want to add functionality for multiplying vectors. For 3D vectors, several type of multiplication exists. We want to be able to do both the dot product, and the cross product. Let us implement these as normal methods (not special methods) first. Just to remind you, the two multiplications are defined as follows\n",
    "\n",
    "$$u \\cdot v = (x_1, y_1, z_1) \\cdot (x_2, y_2, z_2) = x_1x_2 + y_1y_2 + z_1z_2.$$\n",
    "\n",
    "$$u \\times v = (x_1, y_1, z_1) \\times (x_2, y_2, z_2) = (y_1z_2 - z_1y_2, z_1x_2 - x_1z_2, x_1y_2 - y_1x_2).$$\n",
    "\n",
    "An important point here is that the dot-product should return a number (i.e., `int` or `float`), while the cross product should return a new vector object. The two methods can look as follows"
   ]
  },
  {
   "cell_type": "code",
   "execution_count": 38,
   "id": "ede599de",
   "metadata": {},
   "outputs": [],
   "source": [
    "class Vector3D(Vector3D):\n",
    "    def dot(self, other):\n",
    "        return self.x * other.x + self.y * other.y + self.z * other.z\n",
    "\n",
    "    def cross(self, other):\n",
    "        x = self.y * other.z - self.z * other.y\n",
    "        y = self.z * other.x - self.x * other.z\n",
    "        z = self.x * other.y - self.y * other.x\n",
    "        return Vector3D(x, y, z)"
   ]
  },
  {
   "cell_type": "markdown",
   "id": "4a4523b9",
   "metadata": {},
   "source": [
    "We can now use `u.dot(v)` and `u.cross(v)` in our code, which is quite a nice syntax as it spells our exactly what kind of vector multiplication we are computing. We can of course *also* add them as special methods if we want, in fact it is quite easy because we can simply call the `dot` and `cross` methods (this is called \"aliasing\")\n",
    "\n",
    "Let us decide that we want `u*v` to be interpreted as the dot product. This multiplication operator is associated with the special method `__mul__`. So we can write"
   ]
  },
  {
   "cell_type": "code",
   "execution_count": 39,
   "id": "f2e65033",
   "metadata": {},
   "outputs": [],
   "source": [
    "class Vector3D(Vector3D):\n",
    "    def __mul__(self, other):\n",
    "        \"\"\"Interpret u*v as the dot product\"\"\"\n",
    "        return self.dot(other)"
   ]
  },
  {
   "cell_type": "markdown",
   "id": "e246d6f4",
   "metadata": {},
   "source": [
    "We have now \"used up\" the asterisk multiplication operator in Python, what syntax can we then choose for our cross product? Well, one option is to use the code syntax `u @ v` to mean the cross product. You might not have seen (or used) the `@` operator in Python code before, but it is a binary operator associated with the special method `__matmul__` (short for \"matrix multiplication). It actually isn't used by any of the built in Python objects, but it is available for mathematics where we want to have access to more operators. (Note that for numpy arrays, `@` is implemented, but will correspond to the dot-product for 1D-arrays, while `*` means component-wise multiplication)."
   ]
  },
  {
   "cell_type": "code",
   "execution_count": 40,
   "id": "1b67a626",
   "metadata": {},
   "outputs": [
    {
     "name": "stdout",
     "output_type": "stream",
     "text": [
      "(1, -1, 0) * (1, 4, 2) = -3\n",
      "(1, -1, 0) @ (1, 4, 2) = (-2, -2, 5)\n"
     ]
    }
   ],
   "source": [
    "class Vector3D(Vector3D):\n",
    "    def __matmul__(self, other):\n",
    "        \"\"\"Interpret u @ v as the cross product\"\"\"\n",
    "        return self.cross(other)\n",
    "\n",
    "\n",
    "u = Vector3D(1, -1, 0)\n",
    "v = Vector3D(1, 4, 2)\n",
    "\n",
    "print(f\"{u} * {v} = {u * v}\")\n",
    "print(f\"{u} @ {v} = {u @ v}\")"
   ]
  },
  {
   "cell_type": "markdown",
   "id": "d7babccd",
   "metadata": {},
   "source": [
    "A useful property of the dot product is that two vectors are perpendicular if, and only if, the dot product is equal to zero ($u \\cdot v = 0 \\Leftrightarrow u \\perp v$). Let us therefore add a `perpendicular` method, which checks if two vectors are perpendicular"
   ]
  },
  {
   "cell_type": "code",
   "execution_count": 41,
   "id": "cbbd77cd",
   "metadata": {},
   "outputs": [
    {
     "name": "stdout",
     "output_type": "stream",
     "text": [
      "False\n"
     ]
    }
   ],
   "source": [
    "class Vector3D(Vector3D):\n",
    "    def perpendicular(self, other):\n",
    "        return np.isclose(self * other, 0)\n",
    "\n",
    "\n",
    "u = Vector3D(1, -1, 0)\n",
    "v = Vector3D(1, 4, 2)\n",
    "print(u.perpendicular(v))"
   ]
  },
  {
   "cell_type": "markdown",
   "id": "866baeea",
   "metadata": {},
   "source": [
    "Note that we use `np.isclose` because the coordinates of the vectors can easily be `floats`, and comparing floating points to zero is a common pitfall due to floating point errors.\n",
    "\n",
    "\n",
    "From linear algebra you can prove that if you define a vector as the cross product of two vectors, i.e.,\n",
    "\n",
    "$$\n",
    "w = u \\times v\n",
    "$$\n",
    "\n",
    "Then the new vector $w$ will be perpendicular to both $u$ and $v$. This can be used to test our code."
   ]
  },
  {
   "cell_type": "code",
   "execution_count": 42,
   "id": "7d450757",
   "metadata": {},
   "outputs": [
    {
     "name": "stdout",
     "output_type": "stream",
     "text": [
      "Is u ⊥ v? False\n",
      "Is w ⊥ u? True\n",
      "Is w ⊥ v? True\n"
     ]
    }
   ],
   "source": [
    "w = u @ v\n",
    "\n",
    "# Printing answer\n",
    "print(f\"Is u ⊥ v? {u.perpendicular(v)}\")\n",
    "print(f\"Is w ⊥ u? {w.perpendicular(u)}\")\n",
    "print(f\"Is w ⊥ v? {w.perpendicular(v)}\")\n",
    "\n",
    "# Asserting answer\n",
    "assert w.perpendicular(u)\n",
    "assert w.perpendicular(v)"
   ]
  },
  {
   "cell_type": "markdown",
   "id": "76baea70",
   "metadata": {},
   "source": [
    "### Scalar multiplication\n",
    "\n",
    "We have now defined vector-vector multiplication, but it is also possible to multiply vectors by scalers (i.e., numbers). We can for example compute $3u$, which corresponds to multiplying each component of the vector by the number 3 separately.\n",
    "\n",
    "We now want to be able to write `3*u` or `u*3` in our code to capture this mathematical operation. Let us first see what happens if we try this with our current code"
   ]
  },
  {
   "cell_type": "code",
   "execution_count": 43,
   "id": "7cfada11",
   "metadata": {},
   "outputs": [
    {
     "ename": "TypeError",
     "evalue": "unsupported operand type(s) for *: 'int' and 'Vector3D'",
     "output_type": "error",
     "traceback": [
      "\u001b[0;31m---------------------------------------------------------------------------\u001b[0m",
      "\u001b[0;31mTypeError\u001b[0m                                 Traceback (most recent call last)",
      "Input \u001b[0;32mIn [43]\u001b[0m, in \u001b[0;36m<cell line: 1>\u001b[0;34m()\u001b[0m\n\u001b[0;32m----> 1\u001b[0m \u001b[38;5;28mprint\u001b[39m(\u001b[38;5;241;43m3\u001b[39;49m\u001b[43m \u001b[49m\u001b[38;5;241;43m*\u001b[39;49m\u001b[43m \u001b[49m\u001b[43mu\u001b[49m)\n",
      "\u001b[0;31mTypeError\u001b[0m: unsupported operand type(s) for *: 'int' and 'Vector3D'"
     ]
    }
   ],
   "source": [
    "print(3 * u)"
   ]
  },
  {
   "cell_type": "markdown",
   "id": "109770b6",
   "metadata": {},
   "source": [
    "```\n",
    "TypeError: unsupported operand type(s) for *: 'int' and 'Vector3D'\n",
    "```\n",
    "This error tells us multiplication isn't defined between integer and vector objects. We is a bit interesting is what happens if we flip the operators, we get a different error message!"
   ]
  },
  {
   "cell_type": "code",
   "execution_count": 44,
   "id": "57bee031",
   "metadata": {},
   "outputs": [
    {
     "ename": "AttributeError",
     "evalue": "'int' object has no attribute 'x'",
     "output_type": "error",
     "traceback": [
      "\u001b[0;31m---------------------------------------------------------------------------\u001b[0m",
      "\u001b[0;31mAttributeError\u001b[0m                            Traceback (most recent call last)",
      "Input \u001b[0;32mIn [44]\u001b[0m, in \u001b[0;36m<cell line: 1>\u001b[0;34m()\u001b[0m\n\u001b[0;32m----> 1\u001b[0m \u001b[38;5;28mprint\u001b[39m(\u001b[43mu\u001b[49m\u001b[43m \u001b[49m\u001b[38;5;241;43m*\u001b[39;49m\u001b[43m \u001b[49m\u001b[38;5;241;43m3\u001b[39;49m)\n",
      "Input \u001b[0;32mIn [39]\u001b[0m, in \u001b[0;36mVector3D.__mul__\u001b[0;34m(self, other)\u001b[0m\n\u001b[1;32m      2\u001b[0m \u001b[38;5;28;01mdef\u001b[39;00m \u001b[38;5;21m__mul__\u001b[39m(\u001b[38;5;28mself\u001b[39m, other):\n\u001b[1;32m      3\u001b[0m     \u001b[38;5;124;03m\"\"\"Interpret u*v as the dot product\"\"\"\u001b[39;00m\n\u001b[0;32m----> 4\u001b[0m     \u001b[38;5;28;01mreturn\u001b[39;00m \u001b[38;5;28;43mself\u001b[39;49m\u001b[38;5;241;43m.\u001b[39;49m\u001b[43mdot\u001b[49m\u001b[43m(\u001b[49m\u001b[43mother\u001b[49m\u001b[43m)\u001b[49m\n",
      "Input \u001b[0;32mIn [38]\u001b[0m, in \u001b[0;36mVector3D.dot\u001b[0;34m(self, other)\u001b[0m\n\u001b[1;32m      2\u001b[0m \u001b[38;5;28;01mdef\u001b[39;00m \u001b[38;5;21mdot\u001b[39m(\u001b[38;5;28mself\u001b[39m, other):\n\u001b[0;32m----> 3\u001b[0m     \u001b[38;5;28;01mreturn\u001b[39;00m \u001b[38;5;28mself\u001b[39m\u001b[38;5;241m.\u001b[39mx \u001b[38;5;241m*\u001b[39m \u001b[43mother\u001b[49m\u001b[38;5;241;43m.\u001b[39;49m\u001b[43mx\u001b[49m \u001b[38;5;241m+\u001b[39m \u001b[38;5;28mself\u001b[39m\u001b[38;5;241m.\u001b[39my \u001b[38;5;241m*\u001b[39m other\u001b[38;5;241m.\u001b[39my \u001b[38;5;241m+\u001b[39m \u001b[38;5;28mself\u001b[39m\u001b[38;5;241m.\u001b[39mz \u001b[38;5;241m*\u001b[39m other\u001b[38;5;241m.\u001b[39mz\n",
      "\u001b[0;31mAttributeError\u001b[0m: 'int' object has no attribute 'x'"
     ]
    }
   ],
   "source": [
    "print(u * 3)"
   ]
  },
  {
   "cell_type": "markdown",
   "id": "8b0ef3b8",
   "metadata": {},
   "source": [
    "```\n",
    "AttributeError: 'int' object has no attribute 'x'\n",
    "```\n",
    "The second error is similar to the one we got for addition earlier. When we write `u*3`, this is interpreted as `u.__mul__(3)`, which in turn is `Vector3D.__mul__(u, 3)`, and so `self` is `u` is `other`. Because we defined `__mul__` to be the dot-product we try to use `other.x` which is then `3.x` which doesn't exist. Let us fix this first, and then get back to the first error message after.\n",
    "\n",
    "To fix this, we should rewrite our `__mul__`-method to do different things depending on if the `other` variable is a vector or a scalar. In programming, this is known as [*function overloading*](https://en.wikipedia.org/wiki/Function_overloading), which is when we define a function or method to do different things depending on context. In this case we overload the `*` operator to mean either vector-vector multiplication or vector-scalar multiplication, depending on context."
   ]
  },
  {
   "cell_type": "code",
   "execution_count": 45,
   "id": "3110899f",
   "metadata": {},
   "outputs": [
    {
     "name": "stdout",
     "output_type": "stream",
     "text": [
      "u = (1, -1, 0)\n",
      "3*u = (3, -3, 0)\n",
      "u*u = 2\n"
     ]
    }
   ],
   "source": [
    "class Vector3D(Vector3D):\n",
    "    def __mul__(self, other):\n",
    "        if isinstance(other, Vector3D):\n",
    "            # Vector-vector multiplication\n",
    "            return self.dot(other)\n",
    "\n",
    "        elif isinstance(other, (int, float)):\n",
    "            # Vector-scalar multiplication\n",
    "            return Vector3D(self.x * other, self.y * other, self.z * other)\n",
    "\n",
    "        else:\n",
    "            # Unknown\n",
    "            raise TypeError(f\"cannot multiply vector and {type(other)}\")\n",
    "\n",
    "\n",
    "u = Vector3D(1, -1, 0)\n",
    "v = Vector3D(1, 4, 2)\n",
    "\n",
    "print(f\"u = {u}\")\n",
    "print(f\"3*u = {u*3}\")\n",
    "print(f\"u*u = {u*u}\")"
   ]
  },
  {
   "cell_type": "markdown",
   "id": "e0ce9b2b",
   "metadata": {},
   "source": [
    "We now see that we can compute `u*3`, and we also check that we can compute the dot-product as before. You should always recheck that you haven't broken old functionality when you go back and change a function or method---if you have implemented proper tests, this will automatically get checked when you run `pytest`. Here we have to do it manually.\n",
    "\n",
    "From our implementation of `__mul__`, we now check the second operand and choose the right behavior from this. But what about for `3*u`? If you now try, this still throws a `TypeError: unsupported operand type(s) for *: for 'int' and 'Vector3D'`. So `u*3` does work, but `3*u` does not. Let us try to understand why one works and the other fails. When we write these statements, they are interpreted as follows\n",
    "* `3*u` -> `3.__mul__(u)` -> `int.__mul__(3, u)`\n",
    "* `u*3` -> `u.__mul__(3)` -> `Vector3D.__mul__(u, 3)`\n",
    "\n",
    "So, the major point is that it is the operand to the left of the multiplication sign (`*`) which decides which class's `__mul__` method is called. So in `3*u` it isn't our method that is used at all, but `int`'s. And the built-in `int` hasn't been written to interact with our custom class.\n",
    "\n",
    "Mathematically speaking, it is much more common to write $3u$ than $u\\cdot 3$, and so saying we should just write `u*3` in our code is not satisfactory. So what can we do? It turns out this problem is so common that Python has a built-in work around in the form of the special method called `__rmul__` (for right multiply). This method is called automatically if the first operands `__mul__` throws an error. So if we implement `__rmul__` we get the following cascade\n",
    "* `3*u` -> `3.__mul__(u)` -> Throws an error -> `u.__rmul__(3)` -> `Vector3D.__rmul__(u, 3)`\n",
    "\n",
    "Effectively, `__rmul__` can be thought of as a \"backup\" method. One important thing to notice in this cascade is that the operands effectively get flipped when this backup is used. To implement `__rmul__` we can therefore simply use the `__mul__` we already implemented as follows"
   ]
  },
  {
   "cell_type": "code",
   "execution_count": 46,
   "id": "1a06ddd9",
   "metadata": {},
   "outputs": [
    {
     "name": "stdout",
     "output_type": "stream",
     "text": [
      "(8, -12, 4)\n"
     ]
    }
   ],
   "source": [
    "class Vector3D(Vector3D):\n",
    "    def __rmul__(self, other):\n",
    "        return self * other\n",
    "\n",
    "\n",
    "u = Vector3D(4, -6, 2)\n",
    "print(2 * u)"
   ]
  },
  {
   "cell_type": "markdown",
   "id": "9f8363e1",
   "metadata": {},
   "source": [
    "This brings up an important point about operators in programmering. While some operators are generally considered commutative in mathematics, meaning the order can be changed without changing the result ($a+b = b+a$), we see that this is not the case in Python. We could for example add different function in the `__add__`-method and in the `__radd__` method, and then `a+b` and `b+a` would behave differently. In fact, you might already know several examples of this, for example adding strings or lists together:"
   ]
  },
  {
   "cell_type": "code",
   "execution_count": 47,
   "id": "caa0b737",
   "metadata": {},
   "outputs": [
    {
     "name": "stdout",
     "output_type": "stream",
     "text": [
      "[1, 2, 3, 4, 5, 6]\n",
      "[4, 5, 6, 1, 2, 3]\n"
     ]
    }
   ],
   "source": [
    "a = [1, 2, 3]\n",
    "b = [4, 5, 6]\n",
    "\n",
    "print(a + b)\n",
    "print(b + a)"
   ]
  },
  {
   "cell_type": "markdown",
   "id": "03b7eada",
   "metadata": {},
   "source": [
    "### Adding 'properties' to our class (Length)\n",
    "\n",
    "Often we are interested in the length of a vector, or we want a unit vector with the same orientation as a given vector, let us add this as well. Let us now use Python-properties to do this, which we introduced in the previous lecture. The main point was that there were decorators we could use (`@property`).\n",
    "\n",
    "A quick note: In Python there is a length special method (`__len__`), that is called by Python when we write `len(u)`. This is typically meant for sequences such as lists where the length equals the number of elements. Because of this, the `__len__` method *has* to return an integer. For our case, a general vector often has a decimal length, and so the `__len__` method wouldn't work. Which is why we use a property instead.\n",
    "\n",
    "Let us first add the length property. To compute the length of a vector we first take the dot-product of the vector with itself and then take the square root, i.e., $|u| = \\sqrt{u \\cdot u}$."
   ]
  },
  {
   "cell_type": "code",
   "execution_count": 48,
   "id": "37871810",
   "metadata": {},
   "outputs": [
    {
     "name": "stdout",
     "output_type": "stream",
     "text": [
      "(2, -2, 1) has a length of 3.0\n"
     ]
    }
   ],
   "source": [
    "class Vector3D(Vector3D):\n",
    "    @property\n",
    "    def length(self):\n",
    "        return np.sqrt(self * self)\n",
    "\n",
    "\n",
    "u = Vector3D(2, -2, 1)\n",
    "print(f\"{u} has a length of {u.length}\")"
   ]
  },
  {
   "cell_type": "markdown",
   "id": "9e5d7cf8",
   "metadata": {},
   "source": [
    "Here the length-property is very easy to add, because we have already defined the dot product for a vector in `__mul__`, so we can simply write `sqrt(self*self)` and the dot product is computed. Recall that the `@property` makes it so the method looks like a `float` variable from the outside, so we write `u.length` instead of `u.length()`.\n",
    "\n",
    "Let us now make a `@length.setter` method as well, so that we can *scale* the length of the vector. When we say we scale a vector we typically mean shifting all three vectors so that the length changes while the orientation stays the same. We can therefore scale all three components by the same ratio"
   ]
  },
  {
   "cell_type": "code",
   "execution_count": 49,
   "id": "e48419d0",
   "metadata": {},
   "outputs": [
    {
     "name": "stdout",
     "output_type": "stream",
     "text": [
      "(2, -2, 1) has a length of 3.0\n",
      "(4, -4, 2) has a length of 6.0\n"
     ]
    }
   ],
   "source": [
    "class Vector3D(Vector3D):\n",
    "    @property\n",
    "    def length(self):\n",
    "        return np.sqrt(self * self)\n",
    "\n",
    "    @length.setter\n",
    "    def length(self, new_length):\n",
    "        ratio = new_length / self.length\n",
    "        self.x *= ratio\n",
    "        self.y *= ratio\n",
    "        self.z *= ratio\n",
    "\n",
    "\n",
    "u = Vector3D(2, -2, 1)\n",
    "print(f\"{u} has a length of {u.length}\")\n",
    "\n",
    "# Rescale u\n",
    "u.length *= 2\n",
    "\n",
    "print(f\"{u} has a length of {u.length}\")"
   ]
  },
  {
   "cell_type": "markdown",
   "id": "fe3b1d03",
   "metadata": {},
   "source": [
    "So we see we can double the length of the vector, which automatically scales each component the appropriate amount.\n",
    "\n",
    "\n",
    "### Normalization\n",
    "\n",
    "We can now use `length` method to normalize an instance of the vector by setting the length to 1"
   ]
  },
  {
   "cell_type": "code",
   "execution_count": 50,
   "id": "31a5b9b6",
   "metadata": {},
   "outputs": [],
   "source": [
    "class Vector3D(Vector3D):\n",
    "    def normalize(self):\n",
    "        self.length = 1"
   ]
  },
  {
   "cell_type": "markdown",
   "id": "0bfc5d48",
   "metadata": {},
   "source": [
    "Now you can create a vector and normalize it"
   ]
  },
  {
   "cell_type": "code",
   "execution_count": 51,
   "id": "2a566e1e",
   "metadata": {},
   "outputs": [
    {
     "name": "stdout",
     "output_type": "stream",
     "text": [
      "(1, 2, 2)\n",
      "(0.333333, 0.666667, 0.666667)\n"
     ]
    }
   ],
   "source": [
    "v = Vector3D(1, 2, 2)\n",
    "print(v)\n",
    "v.normalize()\n",
    "print(v)"
   ]
  },
  {
   "cell_type": "markdown",
   "id": "fa45ac17",
   "metadata": {},
   "source": [
    "### Copy method\n",
    "\n",
    "Now, what if you want to normalize the vector instance but still keep the original vector?\n",
    "You could first copy the vector and then normalize the copy. So, let us implement a copy method. Now, a naive python programmer might implement this as follows"
   ]
  },
  {
   "cell_type": "code",
   "execution_count": 52,
   "id": "f6dd98af",
   "metadata": {},
   "outputs": [],
   "source": [
    "class Vector3D(Vector3D):\n",
    "    def copy(self):\n",
    "        return self"
   ]
  },
  {
   "cell_type": "markdown",
   "id": "12724f23",
   "metadata": {},
   "source": [
    "And now when you try to copy a vector and normalize the copy you will see that you also modified the original instance"
   ]
  },
  {
   "cell_type": "code",
   "execution_count": 53,
   "id": "1769d499",
   "metadata": {},
   "outputs": [
    {
     "name": "stdout",
     "output_type": "stream",
     "text": [
      "v = Vector3D(0.3333333333333333, 0.6666666666666666, 0.6666666666666666)\n",
      "u = Vector3D(0.3333333333333333, 0.6666666666666666, 0.6666666666666666)\n"
     ]
    }
   ],
   "source": [
    "v = Vector3D(1, 2, 2)\n",
    "u = v.copy()\n",
    "u.normalize()\n",
    "print(f\"{v = }\")\n",
    "print(f\"{u = }\")"
   ]
  },
  {
   "cell_type": "markdown",
   "id": "c8c2aa74",
   "metadata": {},
   "source": [
    "What can do to fix this. Well, we need to actually create a new Vector3D, i.e"
   ]
  },
  {
   "cell_type": "code",
   "execution_count": 54,
   "id": "12de8825",
   "metadata": {},
   "outputs": [
    {
     "name": "stdout",
     "output_type": "stream",
     "text": [
      "v = Vector3D(1, 2, 2)\n",
      "u = Vector3D(0.3333333333333333, 0.6666666666666666, 0.6666666666666666)\n"
     ]
    }
   ],
   "source": [
    "class Vector3D(Vector3D):\n",
    "    def copy(self):\n",
    "        return Vector3D(self.x, self.y, self.z)\n",
    "\n",
    "\n",
    "v = Vector3D(1, 2, 2)\n",
    "u = v.copy()\n",
    "u.normalize()\n",
    "print(f\"{v = }\")\n",
    "print(f\"{u = }\")"
   ]
  },
  {
   "cell_type": "markdown",
   "id": "defae0e1",
   "metadata": {},
   "source": [
    "That looks much better. You could even take it one step further and implement the copy method as follows"
   ]
  },
  {
   "cell_type": "code",
   "execution_count": 55,
   "id": "c8d634e5",
   "metadata": {},
   "outputs": [
    {
     "name": "stdout",
     "output_type": "stream",
     "text": [
      "v = Vector3D(1, 2, 2)\n",
      "u = Vector3D(0.3333333333333333, 0.6666666666666666, 0.6666666666666666)\n"
     ]
    }
   ],
   "source": [
    "class Vector3D(Vector3D):\n",
    "    def copy(self):\n",
    "        return type(self)(self.x, self.y, self.z)\n",
    "\n",
    "\n",
    "v = Vector3D(1, 2, 2)\n",
    "u = v.copy()\n",
    "u.normalize()\n",
    "print(f\"{v = }\")\n",
    "print(f\"{u = }\")"
   ]
  },
  {
   "cell_type": "markdown",
   "id": "b56adf45",
   "metadata": {},
   "source": [
    "Now, if you decided to change the name of `Vector3D` to e.g `Vector` then you don't have to change the name in the copy method.\n",
    "\n",
    "\n",
    "### Alternative constructor - Creating a canonical unit vector\n",
    "\n",
    "One thing you might want to do is to create a canonical unit vector, i.e the vectors\n",
    "\n",
    "$$\n",
    "e_1 = (1, 0, 0) \\\\\n",
    "e_2 = (0, 1, 0) \\\\\n",
    "e_3 = (0, 0, 1)\n",
    "$$\n",
    "\n",
    "To do this we could implement them as class methods. For example as follows"
   ]
  },
  {
   "cell_type": "code",
   "execution_count": 56,
   "id": "e1b9cb2a",
   "metadata": {},
   "outputs": [
    {
     "ename": "SyntaxError",
     "evalue": "expected ':' (2751148946.py, line 1)",
     "output_type": "error",
     "traceback": [
      "\u001b[0;36m  Input \u001b[0;32mIn [56]\u001b[0;36m\u001b[0m\n\u001b[0;31m    class Vector3D(Vector3D)\u001b[0m\n\u001b[0m                            ^\u001b[0m\n\u001b[0;31mSyntaxError\u001b[0m\u001b[0;31m:\u001b[0m expected ':'\n"
     ]
    }
   ],
   "source": [
    "class Vector3D(Vector3D)\n",
    "  @classmethod\n",
    "  def e1(cls):\n",
    "    return cls(1, 0, 0)"
   ]
  },
  {
   "cell_type": "markdown",
   "id": "7335feab",
   "metadata": {},
   "source": [
    "and then we could make the first canonical unit vector as follows"
   ]
  },
  {
   "cell_type": "code",
   "execution_count": 57,
   "id": "5098c050",
   "metadata": {},
   "outputs": [
    {
     "ename": "AttributeError",
     "evalue": "type object 'Vector3D' has no attribute 'e1'",
     "output_type": "error",
     "traceback": [
      "\u001b[0;31m---------------------------------------------------------------------------\u001b[0m",
      "\u001b[0;31mAttributeError\u001b[0m                            Traceback (most recent call last)",
      "Input \u001b[0;32mIn [57]\u001b[0m, in \u001b[0;36m<cell line: 1>\u001b[0;34m()\u001b[0m\n\u001b[0;32m----> 1\u001b[0m e1 \u001b[38;5;241m=\u001b[39m \u001b[43mVector3D\u001b[49m\u001b[38;5;241;43m.\u001b[39;49m\u001b[43me1\u001b[49m()\n\u001b[1;32m      2\u001b[0m \u001b[38;5;28mprint\u001b[39m(e1)\n",
      "\u001b[0;31mAttributeError\u001b[0m: type object 'Vector3D' has no attribute 'e1'"
     ]
    }
   ],
   "source": [
    "e1 = Vector3D.e1()\n",
    "print(e1)"
   ]
  },
  {
   "cell_type": "markdown",
   "id": "167c9f6d",
   "metadata": {},
   "source": [
    "Now you may wonder, what is this `cls`? You can read more about this in the section about {ref}`class-methods`, but one thing you could do is to print what it is, i.e"
   ]
  },
  {
   "cell_type": "code",
   "execution_count": 58,
   "id": "09c80836",
   "metadata": {},
   "outputs": [
    {
     "ename": "SyntaxError",
     "evalue": "expected ':' (503355468.py, line 1)",
     "output_type": "error",
     "traceback": [
      "\u001b[0;36m  Input \u001b[0;32mIn [58]\u001b[0;36m\u001b[0m\n\u001b[0;31m    class Vector3D(Vector3D)\u001b[0m\n\u001b[0m                            ^\u001b[0m\n\u001b[0;31mSyntaxError\u001b[0m\u001b[0;31m:\u001b[0m expected ':'\n"
     ]
    }
   ],
   "source": [
    "class Vector3D(Vector3D)\n",
    "  @classmethod\n",
    "  def e1(cls):\n",
    "    print(f\"cls ={cls}\")\n",
    "    print(f\"Vector3D = {Vector3D}\")\n",
    "    return cls(1, 0, 0)\n",
    "\n",
    "e1 = Vector3D.e1()"
   ]
  },
  {
   "cell_type": "markdown",
   "id": "606194d5",
   "metadata": {},
   "source": [
    "Here we also print the class `Vector3D` and we see that it is indeed identical to `cls`. Well, we don't we just use `Vector3D` instead, i.e\n",
    "\n",
    "```python\n",
    "class Vector3D(Vector3D):\n",
    "    @classmethod\n",
    "    def e1(cls):\n",
    "        return Vector3D(1, 0, 0)\n",
    "```\n",
    "\n",
    "This will also work, but there are two problems with this. The first is that if you decide to change the name of the class from `Vector3D` to something else then you need to also remember to change the name in this methods. The other problem arises when you want to do inheritance, but we will not go into more details about this now.\n",
    "\n",
    "```{admonition} Click to see the full Vector3D class\n",
    ":class: dropdown\n",
    "\n",
    "```python\n",
    "import numpy as np\n",
    "\n",
    "\n",
    "class Vector3D:\n",
    "    def __init__(self, x, y, z):\n",
    "        self.x = x\n",
    "        self.y = y\n",
    "        self.z = z\n",
    "\n",
    "    def __str__(self):\n",
    "        return f\"({self.x:g}, {self.y:g}, {self.z:g})\"\n",
    "\n",
    "    def __repr__(self):\n",
    "        return f\"{type(self).__name__}({self.x}, {self.y}, {self.z})\"\n",
    "\n",
    "    def __add__(self, other):\n",
    "        msg = f\"Cannot add Vector3D with {type(other)}\"\n",
    "        # assert isinstance(other, Vector3D), msg\n",
    "        if not isinstance(other, Vector3D):\n",
    "            raise TypeError(msg)\n",
    "        x = self.x + other.x\n",
    "        y = self.y + other.y\n",
    "        z = self.z + other.z\n",
    "\n",
    "        return Vector3D(x, y, z)\n",
    "\n",
    "    def __eq__(self, other):\n",
    "        msg = f\"Cannot compare Vector3D with {type(other)}\"\n",
    "        if not isinstance(other, Vector3D):\n",
    "            raise TypeError(msg)\n",
    "\n",
    "        return (self.x, self.y, self.z) == (other.x, other.y, other.z)\n",
    "\n",
    "    def __sub__(self, other):\n",
    "        msg = f\"Cannot subtract Vector3D with {type(other)}\"\n",
    "        # assert isinstance(other, Vector3D), msg\n",
    "        if not isinstance(other, Vector3D):\n",
    "            raise TypeError(msg)\n",
    "        x = self.x - other.x\n",
    "        y = self.y - other.y\n",
    "        z = self.z - other.z\n",
    "\n",
    "        return Vector3D(x, y, z)\n",
    "\n",
    "    def dot(self, other):\n",
    "        return self.x * other.x + self.y * other.y + self.z * other.z\n",
    "\n",
    "    def cross(self, other):\n",
    "        x = self.y * other.z - self.z * other.y\n",
    "        y = self.z * other.x - self.x * other.z\n",
    "        z = self.x * other.y - self.y * other.x\n",
    "        return Vector3D(x, y, z)\n",
    "\n",
    "    def __mul__(self, other):\n",
    "        \"\"\"Interpret u*v to be the dot product\"\"\"\n",
    "        if isinstance(other, Vector3D):\n",
    "            return self.dot(other)\n",
    "        elif isinstance(other, (int, float)):\n",
    "            # Alternative use `np.isscalar`\n",
    "            return Vector3D(self.x * other, self.y * other, self.z * other)\n",
    "        else:\n",
    "            raise TypeError(f\"cannot multiply vector and {type(other)}\")\n",
    "\n",
    "    def __matmul__(self, other):\n",
    "        \"\"\"Interpret u@v as cross product\"\"\"\n",
    "        return self.cross(other)\n",
    "\n",
    "    def perpendicular(self, other):\n",
    "        return abs(self * other) < 1e-9\n",
    "\n",
    "    def __rmul__(self, other):\n",
    "        return self * other\n",
    "\n",
    "    @property\n",
    "    def length(self):\n",
    "        return np.sqrt(self * self)\n",
    "\n",
    "    @length.setter\n",
    "    def length(self, new_length):\n",
    "        scale = new_length / self.length\n",
    "        self.x *= scale\n",
    "        self.y *= scale\n",
    "        self.z *= scale\n",
    "\n",
    "    def normalize(self):\n",
    "        self.length = 1\n",
    "\n",
    "    @classmethod\n",
    "    def e1(cls):\n",
    "        return cls(1, 0, 0)\n",
    "\n",
    "    @classmethod\n",
    "    def e2(cls):\n",
    "        return cls(0, 1, 0)\n",
    "\n",
    "    @classmethod\n",
    "    def e3(cls):\n",
    "        return cls(0, 0, 1)\n",
    "\n",
    "    def copy(self):\n",
    "        return type(self)(self.x, self.y, self.z)\n",
    "```\n",
    "\n",
    "#### Other Special methods\n",
    "\n",
    "Here we have shown different special methods, but there are plenty left to cover. Virtually any possible behavior of an object can be decided through good use of special methods. For a more detailed walkthrough, see [this guide](https://rszalski.github.io/magicmethods/).\n",
    "\n",
    "Here are some that might be of special interest:\n",
    "* `__eq__`, for defining when two objects should be considered equal (What does `a == b` mean?).\n",
    "* You can also define `__lt__` (less than, $<$), `le` (less or equal, $\\le$) and so on. If you implement all the six comparison operators it is typically called *rich comparisons* and it will make your objects automatically sortable with `sort()`.\n",
    "* `__bool__` defines what `if x:` means for our object\n",
    "* `__abs__` defines what `abs(x)` means\n",
    "\n",
    "* We can also implement `lt`, `le`, `gt`, `ge`, `ne` for $\\lt, \\le, \\gt, \\ge, \\ne$. Implementing all of these is called *rich comparisons*, and automatically makes our objects sortable with `sort()`\n",
    "* `__bool__` defines what `if x:` means for our object\n",
    "* `__abs__`, defines what `abs(x)` means. For `Vector3D` we could for example define it so that `abs(u)` returns `u.length`.\n",
    "* `__getitem__` and `__setitem__` can be used to make our object indexable, i.e., define what `x[0]`, `x[1]` and so on means\n",
    "* (**Advanced**) `__hash__` makes it possible to compute a [hash value](https://www.programiz.com/python-programming/methods/built-in/hash) from your object with `hash(u)`. This is needed if you want to use your object as a key in a dictionary.\n",
    "\n",
    "\n",
    "\n",
    "## Short introduction to inheritance\n",
    "\n",
    "For the last portion of this section, we will give a very brief introduction to *inheritance*, which we will come back to in more detail in {ref}`designing-oop-programs`. For now we will just one simple example.\n",
    "\n",
    "Inheritance is a term we use to describe how we can use one class to build another. In Python we let a class inherit from another when we define it. When we do this, the *parent* class gives its functionality, i.e., all its attributes to the newly created class, typically called the *daughter* class. Instead of saying parent/child, one can also say superclass and subclass.\n",
    "\n",
    "When we create a class through inheritance we start with a class that has all the attributes of its parent, but we can extend this by implementing new methods to add on, or we can overwrite existing methods to change how they work. In general we make a subclass to specialize a class. So the parent/superclass will be a more *general* case, while the subclass will be more specialized/specific.\n",
    "\n",
    "Let us look at a somewhat silly example, taken from the mobile game Pokémon Go. If you've haven't played that game, the example is hopefully still easy to follow. Either way, the details about the specific calculations we implement are not the important point here, try to focus more about the big picture, and focus on how we implement the class and use inheritance in this case.\n",
    "\n",
    "(pokemon-example)=\n",
    "### Example: Pokémon Go\n",
    "\n",
    "In the game Pokémon Go, the goal is for the players to catch different *Pokémons* (pocket monsters). Many different types of Pokémon exist, some common, some rare. Each Pokémon you catch have different stats and, at least in principle, players want to catch Pokémons with good stats, i.e., high numbers.\n",
    "\n",
    "As you walk around, the game generates random Pokémon that can be found, and it also randomizes its stats. And we will now implement a code that replicates this.\n",
    "\n",
    "The stats of a specific Pokémon is dependent on its species/type, because each species has specific base stats. In addition each individual Pokémon caught has a randomized bonus to its stat, called the *individual value*. These individual values are random numbers between 0 and 15 for all pokemon, regardless of species.\n",
    "\n",
    "Because some properties vary by species, and some do not, we want to use inheritance. We now want to create a `Pokemon` superclass that has all functionality that is general to all `Pokemon`, and then we can implement specific species as subclasses afterwards.\n",
    "\n",
    "\n",
    "We now make the `Pokemon` class. Each time a new pokemon is generated, we must draw its individual values randomly. There are three separate stats in the game: `ATK`, `DEF` and `STA`. We implement these as properties."
   ]
  },
  {
   "cell_type": "code",
   "execution_count": 59,
   "id": "2d461e09",
   "metadata": {},
   "outputs": [],
   "source": [
    "import numpy as np\n",
    "\n",
    "class Pokemon:\n",
    "    def __init__(self):\n",
    "        self.IV_ATK = np.random.randint(16)\n",
    "        self.IV_STA = np.random.randint(16)\n",
    "        self.IV_DEF = np.random.randint(16)"
   ]
  },
  {
   "cell_type": "markdown",
   "id": "776b3f27",
   "metadata": {},
   "source": [
    "We have no implemented a general constructor that will work for all Pokémon. When a new pokemon is created, three random stats are drawn from the range $[0, 15]$. Let us also add properties to find the total ATK, DEF and STA stats of a given Pokémon. We also add a `__str__` method for pretty printing."
   ]
  },
  {
   "cell_type": "code",
   "execution_count": 60,
   "id": "0625257e",
   "metadata": {},
   "outputs": [],
   "source": [
    "class Pokemon(Pokemon):\n",
    "    @property\n",
    "    def ATK(self):\n",
    "        return self.BASE_ATK + self.IV_ATK\n",
    "\n",
    "    @property\n",
    "    def DEF(self):\n",
    "        return self.BASE_DEF + self.IV_DEF\n",
    "\n",
    "    @property\n",
    "    def STA(self):\n",
    "        return self.BASE_STA + self.IV_STA\n",
    "\n",
    "    def __str__(self):\n",
    "        return f\"{type(self).__name__}({self.ATK}, {self.DEF}, {self.STA})\""
   ]
  },
  {
   "cell_type": "markdown",
   "id": "0bff66ec",
   "metadata": {},
   "source": [
    "Two things to notice here are that\n",
    "1. We use the variables `self.BASE_ATK` and so on. These are not defined anywhere! If you thus try to create a general \"Pokemon\" and check its stats, you will get an error message. This is intentional, as the general `Pokemon` class is not created to be used directly, only to be inherited from. Such classes are quite common in programming and are typically called *abstract classes*\n",
    "2. Note that we in the `str` special method use the `self.__class__.__name__` variable. This will make it so that the `str` method of any class who inherits from `Pokemon` automatically updates it `str` method. Which is nice.\n",
    "\n",
    "\n",
    "Now, let us implement a few specific Pokemon types. Lets start with the two most iconic ones:"
   ]
  },
  {
   "cell_type": "code",
   "execution_count": 61,
   "id": "09a35c0d",
   "metadata": {},
   "outputs": [],
   "source": [
    "class Pikachu(Pokemon):\n",
    "    BASE_ATK = 112\n",
    "    BASE_DEF = 101\n",
    "    BASE_STA = 70\n",
    "\n",
    "\n",
    "class Charizard(Pokemon):\n",
    "    BASE_ATK = 223\n",
    "    BASE_DEF = 176\n",
    "    BASE_STA = 156"
   ]
  },
  {
   "cell_type": "markdown",
   "id": "d20f3c49",
   "metadata": {},
   "source": [
    "Here we write `Pikachu(Pokemon)`, this syntax means the class is inheriting from the class within the parentheses and becomes a subclass. Thus `Pikachu` is a subclass of `Pokemon`, i.e., a specialized sub-case. The same is true for `Charizard`. In either case we do not define any new methods for the class, but instead define the base stats as *class attributes* because they are the same for all pikachus (more on class attributes next week).\n",
    "\n",
    "Now we have very easily made two distinct species of Pokemon, without having to re-implement their general behavior. Inheritance has simplified our overall code considerably."
   ]
  },
  {
   "cell_type": "code",
   "execution_count": 62,
   "id": "7b2ee080",
   "metadata": {},
   "outputs": [
    {
     "name": "stdout",
     "output_type": "stream",
     "text": [
      "Pikachu(127, 116, 70)\n",
      "Pikachu(120, 109, 74)\n",
      "Pikachu(114, 112, 72)\n",
      "Pikachu(122, 114, 70)\n",
      "Pikachu(125, 102, 76)\n",
      "\n",
      "Charizard(230, 181, 168)\n",
      "Charizard(230, 189, 168)\n",
      "Charizard(229, 178, 165)\n",
      "Charizard(230, 181, 169)\n",
      "Charizard(236, 188, 171)\n"
     ]
    }
   ],
   "source": [
    "for i in range(5):\n",
    "    pokemon = Pikachu()\n",
    "    print(pokemon)\n",
    "\n",
    "print()\n",
    "\n",
    "for i in range(5):\n",
    "    pokemon = Charizard()\n",
    "    print(pokemon)"
   ]
  },
  {
   "cell_type": "markdown",
   "id": "cd21954d",
   "metadata": {},
   "source": [
    "One last detail we want to mention is that a subclass is considered a specialized cased of its superclass. In this case, `Pikachu` and `Charizard` are specific examples of Pokémons. We can check that they are indeed considered to be Pokémons as follows"
   ]
  },
  {
   "cell_type": "code",
   "execution_count": 63,
   "id": "b3fc183f",
   "metadata": {},
   "outputs": [
    {
     "name": "stdout",
     "output_type": "stream",
     "text": [
      "Is Pikachu a Pokemon? True\n",
      "Is Charizard a Pokemon? True\n",
      "Is Pikachu a Charizard? False\n"
     ]
    }
   ],
   "source": [
    "pikachu = Pikachu()\n",
    "charizard = Charizard()\n",
    "\n",
    "print(f\"Is Pikachu a Pokemon? {isinstance(pikachu, Pokemon)}\")\n",
    "print(f\"Is Charizard a Pokemon? {isinstance(pikachu, Pokemon)}\")\n",
    "print(f\"Is Pikachu a Charizard? {isinstance(pikachu, Charizard)}\")"
   ]
  },
  {
   "cell_type": "markdown",
   "id": "06baa3dc",
   "metadata": {},
   "source": [
    "That was it for this example. The point was to illustrate how the goal of inheritance is to put all the general behavior in the superclass, and then only implement the *specifics* in the subclasses to specialize them.\n",
    "\n",
    "If you are interested in Pokemon Go, you can now extend the Pokemon class to for example calculate the CP, tier and so on."
   ]
  }
 ],
 "metadata": {
  "jupytext": {
   "formats": "md:myst",
   "text_representation": {
    "extension": ".md",
    "format_name": "myst"
   }
  },
  "kernelspec": {
   "display_name": "Python 3",
   "language": "python",
   "name": "python3"
  },
  "language_info": {
   "codemirror_mode": {
    "name": "ipython",
    "version": 3
   },
   "file_extension": ".py",
   "mimetype": "text/x-python",
   "name": "python",
   "nbconvert_exporter": "python",
   "pygments_lexer": "ipython3",
   "version": "3.10.4"
  },
  "source_map": [
   11,
   28,
   34,
   40,
   43,
   57,
   72,
   75,
   77,
   85,
   87,
   97,
   113,
   121,
   124,
   128,
   143,
   147,
   150,
   164,
   176,
   184,
   197,
   227,
   243,
   250,
   252,
   259,
   274,
   279,
   281,
   283,
   285,
   294,
   310,
   319,
   326,
   330,
   335,
   340,
   343,
   356,
   371,
   379,
   382,
   440,
   460,
   466,
   468,
   473,
   478,
   538,
   549,
   558,
   566,
   575,
   577,
   581,
   592,
   596,
   600,
   616,
   620,
   623,
   637,
   641,
   655,
   694,
   717,
   726,
   749,
   765,
   776,
   782,
   795,
   811,
   821,
   827,
   832,
   836,
   848,
   852,
   861,
   874,
   885,
   893,
   895,
   900,
   902,
   910,
   932,
   947,
   955,
   959,
   965,
   975,
   984,
   990,
   1011,
   1021,
   1025,
   1029,
   1034,
   1043,
   1047,
   1051,
   1057,
   1061,
   1072,
   1077,
   1088,
   1105,
   1110,
   1112,
   1115,
   1117,
   1126,
   1287,
   1295,
   1299,
   1315,
   1324,
   1335,
   1341,
   1351,
   1355,
   1362
  ]
 },
 "nbformat": 4,
 "nbformat_minor": 5
}