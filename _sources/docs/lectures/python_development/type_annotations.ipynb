{
 "cells": [
  {
   "cell_type": "markdown",
   "id": "b861cf14",
   "metadata": {},
   "source": [
    "(type-annotations)=\n",
    "# Type annotations\n",
    "\n",
    "In this section we will discuss a fairly new concept in python known as type annotations. This is being used more and more and it is therefore useful to known what type annotations are and how they can be useful. We will only scratch the surface, but will cover some core concepts that will make you able to understand and use type annotations in your code.\n",
    "\n",
    "\n",
    "## Dynamic vs static typing\n",
    "\n",
    "In python everything is an object. To see this you can take any class and check whether it is a subclass of `object` using the function `issubclass`"
   ]
  },
  {
   "cell_type": "code",
   "execution_count": 1,
   "id": "737760f9",
   "metadata": {},
   "outputs": [
    {
     "name": "stdout",
     "output_type": "stream",
     "text": [
      "A:  True\n",
      "int:  True\n",
      "dict:  True\n"
     ]
    }
   ],
   "source": [
    "class A:\n",
    "  pass\n",
    "\n",
    "print(\"A: \", issubclass(A, object))\n",
    "print(\"int: \", issubclass(int, object))\n",
    "print(\"dict: \", issubclass(dict, object))"
   ]
  },
  {
   "cell_type": "markdown",
   "id": "2155b98a",
   "metadata": {},
   "source": [
    "However, you probably have at this point a clear model of some of the types in python, e.g integers, floats, strings, lists, dictionaries and so on. In python you can check the type of a variable by use the `type` function"
   ]
  },
  {
   "cell_type": "code",
   "execution_count": 2,
   "id": "8fee31bd",
   "metadata": {},
   "outputs": [
    {
     "name": "stdout",
     "output_type": "stream",
     "text": [
      "type(x) = <class 'int'>\n",
      "type(y) = <class 'str'>\n"
     ]
    }
   ],
   "source": [
    "x = 42\n",
    "y = \"42\"\n",
    "print(f\"{type(x) = }\")\n",
    "print(f\"{type(y) = }\")"
   ]
  },
  {
   "cell_type": "markdown",
   "id": "0094af9d",
   "metadata": {},
   "source": [
    "You can also check that if a instance is of a certain type using `isinstance`"
   ]
  },
  {
   "cell_type": "code",
   "execution_count": 3,
   "id": "22113204",
   "metadata": {},
   "outputs": [
    {
     "name": "stdout",
     "output_type": "stream",
     "text": [
      "isinstance(x, int) = True\n",
      "isinstance(x, str) = False\n"
     ]
    }
   ],
   "source": [
    "print(f\"{isinstance(x, int) = }\")\n",
    "print(f\"{isinstance(x, str) = }\")"
   ]
  },
  {
   "cell_type": "markdown",
   "id": "0bbd2098",
   "metadata": {},
   "source": [
    "You can also check for several types by passing in a tuple of types as the second argument ot `isinstance`. The return value will be true if any of the types matches"
   ]
  },
  {
   "cell_type": "code",
   "execution_count": 4,
   "id": "6edbc458",
   "metadata": {},
   "outputs": [
    {
     "name": "stdout",
     "output_type": "stream",
     "text": [
      "isinstance(x, (str, int)) = True\n"
     ]
    }
   ],
   "source": [
    "print(f\"{isinstance(x, (str, int)) = }\")"
   ]
  },
  {
   "cell_type": "markdown",
   "id": "43f82ec8",
   "metadata": {},
   "source": [
    "This information about the types are known when the program runs, i.e at runtime. In many other programming languages, such as C++, we need to know this information before the program run, i.e at compile time. Such languages typically use a compiler to translate the source code (i.e the code you write) into machine instructions which is stored in some binary file that you can run. Languages where you need to specify the type before the program runs are called statically typed languages. Static here refers to that once you have declared a variable to have a certain type then it is in general not allowed to change the type. In python, on the other hand there is nothing preventing you from doing this. For example the following code runs without problem"
   ]
  },
  {
   "cell_type": "code",
   "execution_count": 5,
   "id": "3bf7b00b",
   "metadata": {},
   "outputs": [],
   "source": [
    "x = \"Hello\"\n",
    "x = 42\n",
    "x += 1"
   ]
  },
  {
   "cell_type": "markdown",
   "id": "f4799735",
   "metadata": {},
   "source": [
    "but in C++, a similar program would not be allowed without explicitly stating the `x` changes its type.\n",
    "\n",
    "Python is what is called a dynamically typed language, meaning that the variables can change type during a programs lifetime\n",
    "\n",
    "## Brief introduction to type annotations\n",
    "In [PEP484](https://peps.python.org/pep-0484/) type hits were introduced to the python language (starting at python version 3.5), allowing developers to add type information to python code. Here is one example"
   ]
  },
  {
   "cell_type": "code",
   "execution_count": 6,
   "id": "6ec6bf06",
   "metadata": {},
   "outputs": [],
   "source": [
    "pi: float = 3.142"
   ]
  },
  {
   "cell_type": "markdown",
   "id": "ca7c6dc4",
   "metadata": {},
   "source": [
    "After the variable name we add a colon (`:`) and then the type (i.e `float`), followed by an assignment. In this particular case, it doesn't add any value to add type information, but we will see examples later where this can be useful.\n",
    "\n",
    "We can also add type annotations to a function as follows"
   ]
  },
  {
   "cell_type": "code",
   "execution_count": 7,
   "id": "d82c408b",
   "metadata": {},
   "outputs": [],
   "source": [
    "def circumference(radius: float) -> float:\n",
    "    return 2 * pi * radius"
   ]
  },
  {
   "cell_type": "markdown",
   "id": "55e9f1f3",
   "metadata": {},
   "source": [
    "Again, we use `: float` to indicate the at the argument `radius` is of type `float`. To annotate the return type of the function we use the arrow `->` followed by the type.\n",
    "\n",
    "Here is another example"
   ]
  },
  {
   "cell_type": "code",
   "execution_count": 8,
   "id": "7b754608",
   "metadata": {},
   "outputs": [],
   "source": [
    "def print_hello(name: str, hello: str = \"Hello\") -> None:\n",
    "    print(f\"{hello} {name}\")"
   ]
  },
  {
   "cell_type": "markdown",
   "id": "c7dbcd10",
   "metadata": {},
   "source": [
    "This function takes one argument called `name` of type `str` and one argument `hello` of type `str`. The second argument has a default value of `hello`, but you could imagine that you would make a French version of this this by passing in `hello = \"Bonjour\"`. This function also returns nothing, and we can indicate this by saying that the return type is `None`.\n",
    "\n",
    "### Container types\n",
    "\n",
    "If you want say that a function expects a `list`, `set`, `dictionary` or `tuple` then you need to import a special type annotation from the `typing` module. Consider the following example"
   ]
  },
  {
   "cell_type": "code",
   "execution_count": 9,
   "id": "51babd7b",
   "metadata": {},
   "outputs": [
    {
     "ename": "SyntaxError",
     "evalue": "':' expected after dictionary key (2704118069.py, line 13)",
     "output_type": "error",
     "traceback": [
      "\u001b[0;36m  Input \u001b[0;32mIn [9]\u001b[0;36m\u001b[0m\n\u001b[0;31m    age_dict = {\"Barbara\": 23, \"Ken\": 43, \"Kim\": 21, \"John\": 31, \"Donna\" 19}\u001b[0m\n\u001b[0m                                                                       ^\u001b[0m\n\u001b[0;31mSyntaxError\u001b[0m\u001b[0;31m:\u001b[0m ':' expected after dictionary key\n"
     ]
    }
   ],
   "source": [
    "from typing import Dict, List\n",
    "\n",
    "def extract_ages_from_dict(age_dict: Dict[str, int], names: List[str]) -> List[int]:\n",
    "    ages = []\n",
    "    for name in names:\n",
    "        if name in age_dict:\n",
    "            ages.append(age_dict[name])\n",
    "\n",
    "    return ages\n",
    "\n",
    "\n",
    "names = [\"Ken\", \"Donna\", \"John\"]\n",
    "age_dict = {\"Barbara\": 23, \"Ken\": 43, \"Kim\": 21, \"John\": 31, \"Donna\" 19}\n",
    "ages = extract_ages_from_dict(age_dict, names)\n",
    "# ages = [43, 19, 31]"
   ]
  },
  {
   "cell_type": "markdown",
   "id": "b99d550b",
   "metadata": {},
   "source": [
    "Note that we import `Dict` and `List` from the typing module, and that we pass the type of the content of the list as an argument using square brackets, e.g `List[str]` means a list of strings. For dictionaries we have two types, the first begin the type of the keys and the second begin the type of the values, so `Dict[str, int]` is a dictionary who's keys are strings and the values are integers.\n",
    "\n",
    "```{note}\n",
    "From python3.9 you can also the regular types (i.e `list`, `dict` etc) in your type annotations, see [PEP 585](https://peps.python.org/pep-0585/#parameters-to-generics-are-available-at-runtime)\n",
    "```\n",
    "\n",
    "### Union types\n",
    "\n",
    "Sometimes, your function can take more than one type of argument. In this case we say that the argument is a *union* of several types. Consider the following example"
   ]
  },
  {
   "cell_type": "code",
   "execution_count": 10,
   "id": "f4e3f9a5",
   "metadata": {},
   "outputs": [],
   "source": [
    "import datetime\n",
    "from typing import Union\n",
    "\n",
    "def compute_age_this_year(year_born: Union[int, str]) -> int:\n",
    "    this_year = datetime.datetime.now().year\n",
    "    if isinstance(year_born, str):\n",
    "        return this_year - int(year_born)\n",
    "    else:\n",
    "      return this_year - year_born\n"
   ]
  },
  {
   "cell_type": "markdown",
   "id": "9e01deb6",
   "metadata": {},
   "source": [
    "You can use this function in two ways, either pass an integer"
   ]
  },
  {
   "cell_type": "code",
   "execution_count": 11,
   "id": "48344a11",
   "metadata": {},
   "outputs": [
    {
     "data": {
      "text/plain": [
       "23"
      ]
     },
     "execution_count": 11,
     "metadata": {},
     "output_type": "execute_result"
    }
   ],
   "source": [
    "compute_age_this_year(1999)"
   ]
  },
  {
   "cell_type": "markdown",
   "id": "a986b439",
   "metadata": {},
   "source": [
    "or pass a string"
   ]
  },
  {
   "cell_type": "code",
   "execution_count": 12,
   "id": "3b092e56",
   "metadata": {},
   "outputs": [
    {
     "data": {
      "text/plain": [
       "23"
      ]
     },
     "execution_count": 12,
     "metadata": {},
     "output_type": "execute_result"
    }
   ],
   "source": [
    "compute_age_this_year(\"1999\")"
   ]
  },
  {
   "cell_type": "markdown",
   "id": "cbe344b8",
   "metadata": {},
   "source": [
    "The results should be the same. We can express that `year_born` can be both of type `int` and of type `str` by writing that `year_born` is of type `Union[int, str]`, where `Union` is imported from the `typing` module.\n",
    "\n",
    "Another common use case is when an argument is either something or `None`. Consider the following example"
   ]
  },
  {
   "cell_type": "code",
   "execution_count": 13,
   "id": "c3609ff4",
   "metadata": {},
   "outputs": [
    {
     "name": "stdout",
     "output_type": "stream",
     "text": [
      "Hello Henrik\n",
      "Hello Henrik from Oslo\n"
     ]
    }
   ],
   "source": [
    "from typing import Union\n",
    "\n",
    "def print_hello(name: str, city: Union[str, None] = None) -> None:\n",
    "    msg = f\"Hello {name}\"\n",
    "    if city is not None:\n",
    "        msg += f\" from {city}\"\n",
    "    print(msg)\n",
    "\n",
    "print_hello(\"Henrik\")  # prints 'Hello Henrik'\n",
    "print_hello(\"Henrik\", \"Oslo\")  # prints 'Hello Henrik from Oslo'"
   ]
  },
  {
   "cell_type": "markdown",
   "id": "ac31e586",
   "metadata": {},
   "source": [
    "Using `None` in a union is so common that there is actually a shorthand for this which is `Optional`. Therefore we can instead write the following equivalent function signature\n",
    "\n",
    "```python\n",
    "from typing import Optional\n",
    "from typing import Union\n",
    "\n",
    "\n",
    "def print_hello(name: str, city: Optional[str] = None) -> None:\n",
    "    ...\n",
    "```\n",
    "i.e `Union[str, None] = Optional[str]`.\n",
    "\n",
    "\n",
    "### `Any` type\n",
    "\n",
    "There is a special type called `Any` which means that you basically don't care about the type (i.e it can be anything). One example where such a type would make sense could be the following function"
   ]
  },
  {
   "cell_type": "code",
   "execution_count": 14,
   "id": "ddd2de59",
   "metadata": {},
   "outputs": [],
   "source": [
    "from typing import Any\n",
    "\n",
    "def stringify(x: Any) -> str:\n",
    "    return str(x)"
   ]
  },
  {
   "cell_type": "markdown",
   "id": "2632861e",
   "metadata": {},
   "source": [
    "(of course you should probably just use `str` directly here instead)\n",
    "\n",
    "## Why do we want types?\n",
    "\n",
    "Adding type annotations to the python language was controversial when first proposed. After all, python was designed as dynamically typed language with quite few constraints for the user.\n",
    "\n",
    "Your are not enforced to use type annotations in python and therefore you can still completely ignore them. However, as your program grows and you as a python programmer matures you will see that adding types have several benefits.\n",
    "\n",
    "- *Documentation* - We have learned that we should write docstring for the functions that we write. However, it is not always the highest priority. Adding types annotation also serves as documentation because it provides information about the types going in an out of the function\n",
    "- *Editor support* - Modern editors such as Visual Studio Code can use type annotations to provide a better developer experience, by providing tab completion\n",
    "\n",
    "```{figure} ../../figures/tab_completion.png\n",
    "---\n",
    "width: 500px\n",
    "name: tab_completion\n",
    "---\n",
    "By providing type annotations, editors can provide a better user experience by showing methods and attributes by typing `.`\n",
    "```\n",
    "- *Static type checking* - When we add type annotations to our python code we can use something called a static type checker to verify that all types are correctly passed between functions. Later in the course, when we will introduce C++, you will see that type checking is something that a compiler will do for us. A static type checker can actually catch a lot of bugs that normally would require a lot of unit test.\n",
    "\n",
    "\n",
    "## Static type checking with `mypy`\n",
    "\n",
    "The most used tool for performing static type checking is `mypy`. You can install it with pip\n",
    "```\n",
    "python -m pip install mypy\n",
    "```\n",
    "Once installed you can run it against your code as follows\n",
    "```\n",
    "mypy file.py\n",
    "```\n",
    "where `file.py` is the file you want to check.\n",
    "\n",
    "Lets try to run `mypy` against the following code"
   ]
  },
  {
   "cell_type": "code",
   "execution_count": 15,
   "id": "e88cfb23",
   "metadata": {},
   "outputs": [
    {
     "name": "stdout",
     "output_type": "stream",
     "text": [
      "Henrik\n",
      "None\n"
     ]
    }
   ],
   "source": [
    "# file.py\n",
    "\n",
    "from typing import Dict, Optional\n",
    "\n",
    "\n",
    "def extract_name_and_capitalize(data: Dict[str, str]) -> Optional[str]:\n",
    "    name = data.get(\"name\")\n",
    "    if name is None:\n",
    "        return None\n",
    "    return name.capitalize()\n",
    "\n",
    "\n",
    "person1 = {\"name\": \"henrik\", \"age\": \"35\", \"city\": \"oslo\"}\n",
    "print(extract_name_and_capitalize(person1))  # prints 'Henrik'\n",
    "person2 = {\"age\": \"40\"}\n",
    "print(extract_name_and_capitalize(person2))  # prints None"
   ]
  },
  {
   "cell_type": "markdown",
   "id": "23cd04c3",
   "metadata": {},
   "source": [
    "This output will be\n",
    "```\n",
    "$ mypy file.py\n",
    "Success: no issues found in 1 source file\n",
    "```\n",
    "\n",
    "Great! Everything looks good. Now let us try a different example with a class.\n",
    "Try to run mypy on this code"
   ]
  },
  {
   "cell_type": "code",
   "execution_count": 16,
   "id": "29c1cead",
   "metadata": {},
   "outputs": [],
   "source": [
    "import datetime\n",
    "\n",
    "class Person:\n",
    "    def __init__(self, name, year_born):\n",
    "        self.name = name\n",
    "        self.year_born = year_born\n",
    "\n",
    "    def __repr__(self):\n",
    "        return f\"{type(self).__name__}(name={self.name}, year_born={self.year_brn})\"\n",
    "\n",
    "    def age_this_year(self):\n",
    "        return datetime.datetime.now().year - self.year"
   ]
  },
  {
   "cell_type": "markdown",
   "id": "2a04c193",
   "metadata": {},
   "source": [
    "```\n",
    "$ mypy file.py\n",
    "Success: no issues found in 1 source file\n",
    "```\n",
    "Looks like everything is OK. Or is it? No, we forgot to add the type annotations, and in this case all types as treated as `Any`. Let us add the type annotations"
   ]
  },
  {
   "cell_type": "code",
   "execution_count": 17,
   "id": "bf63ad05",
   "metadata": {},
   "outputs": [],
   "source": [
    "import datetime\n",
    "\n",
    "\n",
    "class Person:\n",
    "    def __init__(self, name: str, year_born: int) -> None:\n",
    "        self.name = name\n",
    "        self.year_born = year_born\n",
    "\n",
    "    def __repr__(self) -> str:\n",
    "        return f\"{type(self).__name__}(name={self.name}, year_born={self.year_burn})\"\n",
    "\n"
   ]
  },
  {
   "cell_type": "markdown",
   "id": "a6f9cecc",
   "metadata": {},
   "source": [
    "```{note}\n",
    "We do not add type annotations to the `self` argument. In this case `self` would be of type `Person`.\n",
    "```\n",
    "\n",
    "Let us try to run `mypy` again.\n",
    "\n",
    "```\n",
    "$ mypy file.py\n",
    "file.py:10: error: \"Person\" has no attribute \"year_burn\"; maybe \"year_born\"?\n",
    "Found 1 error in 1 file (checked 1 source file)\n",
    "```\n",
    "\n",
    "We see that `mypy` spotted an error! We \"accidentally\" misspelled `year_born` and wrote `year_burn`. Such a bug might be hard to debug.\n",
    "\n",
    "You would indeed see bug if you tried to print an instance of Person, i.e"
   ]
  },
  {
   "cell_type": "code",
   "execution_count": 18,
   "id": "0d2d5523",
   "metadata": {},
   "outputs": [
    {
     "ename": "AttributeError",
     "evalue": "'Person' object has no attribute 'year_burn'",
     "output_type": "error",
     "traceback": [
      "\u001b[0;31m---------------------------------------------------------------------------\u001b[0m",
      "\u001b[0;31mAttributeError\u001b[0m                            Traceback (most recent call last)",
      "Input \u001b[0;32mIn [18]\u001b[0m, in \u001b[0;36m<cell line: 1>\u001b[0;34m()\u001b[0m\n\u001b[0;32m----> 1\u001b[0m \u001b[38;5;28;43mprint\u001b[39;49m\u001b[43m(\u001b[49m\u001b[43mPerson\u001b[49m\u001b[43m(\u001b[49m\u001b[38;5;124;43m\"\u001b[39;49m\u001b[38;5;124;43mHenrik\u001b[39;49m\u001b[38;5;124;43m\"\u001b[39;49m\u001b[43m,\u001b[49m\u001b[43m \u001b[49m\u001b[38;5;241;43m1987\u001b[39;49m\u001b[43m)\u001b[49m\u001b[43m)\u001b[49m\n",
      "Input \u001b[0;32mIn [17]\u001b[0m, in \u001b[0;36mPerson.__repr__\u001b[0;34m(self)\u001b[0m\n\u001b[1;32m      9\u001b[0m \u001b[38;5;28;01mdef\u001b[39;00m \u001b[38;5;21m__repr__\u001b[39m(\u001b[38;5;28mself\u001b[39m) \u001b[38;5;241m-\u001b[39m\u001b[38;5;241m>\u001b[39m \u001b[38;5;28mstr\u001b[39m:\n\u001b[0;32m---> 10\u001b[0m     \u001b[38;5;28;01mreturn\u001b[39;00m \u001b[38;5;124mf\u001b[39m\u001b[38;5;124m\"\u001b[39m\u001b[38;5;132;01m{\u001b[39;00m\u001b[38;5;28mtype\u001b[39m(\u001b[38;5;28mself\u001b[39m)\u001b[38;5;241m.\u001b[39m\u001b[38;5;18m__name__\u001b[39m\u001b[38;5;132;01m}\u001b[39;00m\u001b[38;5;124m(name=\u001b[39m\u001b[38;5;132;01m{\u001b[39;00m\u001b[38;5;28mself\u001b[39m\u001b[38;5;241m.\u001b[39mname\u001b[38;5;132;01m}\u001b[39;00m\u001b[38;5;124m, year_born=\u001b[39m\u001b[38;5;132;01m{\u001b[39;00m\u001b[38;5;28mself\u001b[39m\u001b[38;5;241m.\u001b[39myear_burn\u001b[38;5;132;01m}\u001b[39;00m\u001b[38;5;124m)\u001b[39m\u001b[38;5;124m\"\u001b[39m\n",
      "\u001b[0;31mAttributeError\u001b[0m: 'Person' object has no attribute 'year_burn'"
     ]
    }
   ],
   "source": [
    "print(Person(\"Henrik\", 1987))"
   ]
  },
  {
   "cell_type": "markdown",
   "id": "aac1bd9e",
   "metadata": {},
   "source": [
    "However, `mypy` didn't need to execute any code in order to catch this bug. It did it just by inspecting the type of an instance of `Person` and noticing that this type has no field or method called `year_burn`.\n",
    "\n",
    "Here comes a code with a quite challenging bug. Can you find it without running `mypy`?"
   ]
  },
  {
   "cell_type": "code",
   "execution_count": 19,
   "id": "8e460d9f",
   "metadata": {},
   "outputs": [
    {
     "name": "stdout",
     "output_type": "stream",
     "text": [
      "17\n"
     ]
    }
   ],
   "source": [
    "from typing import Dict, List, Optional\n",
    "\n",
    "\n",
    "def extract_name_and_capitalize(data: Dict[str, str]) -> Optional[str]:\n",
    "    name = data.get(\"name\")\n",
    "    if name is None:\n",
    "        return None\n",
    "    return name.capitalize()\n",
    "\n",
    "\n",
    "def count_letters_in_names(names: List[str]) -> int:\n",
    "    return sum(len(name) for name in  names)\n",
    "\n",
    "\n",
    "data = [\n",
    "    {\"name\": \"henrik\"},\n",
    "    {\"name\": \"johannes\"},\n",
    "    {\"name\": \"ada\"},\n",
    "]\n",
    "\n",
    "names = []\n",
    "for d in data:\n",
    "    name = extract_name_and_capitalize(d)\n",
    "    names.append(name)\n",
    "\n",
    "print(count_letters_in_names(names))"
   ]
  },
  {
   "cell_type": "markdown",
   "id": "58834998",
   "metadata": {},
   "source": [
    "If you don't understand the bug, please come an ask me in the lecture and I will be happy to explain it.\n",
    "\n",
    "\n",
    "## Want to learn more?\n",
    "\n",
    "Check out the [Python type checking guide from realpython.com](https://realpython.com/python-type-checking/)."
   ]
  }
 ],
 "metadata": {
  "jupytext": {
   "formats": "md:myst",
   "text_representation": {
    "extension": ".md",
    "format_name": "myst"
   }
  },
  "kernelspec": {
   "display_name": "Python 3",
   "language": "python",
   "name": "python3"
  },
  "language_info": {
   "codemirror_mode": {
    "name": "ipython",
    "version": 3
   },
   "file_extension": ".py",
   "mimetype": "text/x-python",
   "name": "python",
   "nbconvert_exporter": "python",
   "pygments_lexer": "ipython3",
   "version": "3.10.4"
  },
  "source_map": [
   11,
   22,
   29,
   31,
   36,
   38,
   41,
   43,
   45,
   47,
   51,
   59,
   61,
   66,
   69,
   73,
   76,
   83,
   99,
   110,
   121,
   123,
   125,
   127,
   129,
   134,
   145,
   164,
   169,
   205,
   222,
   233,
   246,
   255,
   268,
   285,
   287,
   292,
   319
  ]
 },
 "nbformat": 4,
 "nbformat_minor": 5
}