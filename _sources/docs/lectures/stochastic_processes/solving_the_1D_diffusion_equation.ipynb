{
 "cells": [
  {
   "cell_type": "markdown",
   "id": "89226ade",
   "metadata": {},
   "source": [
    "# Solving the 1D Diffusion Equation using Finite Differences\n",
    "\n",
    "\n",
    "In [Random Walks](random_walks_and_markov_processes.md) we looked at random walks, and we finished that lecture by showing how we can go from a discrete problem to a continuous partial differential equation called the Diffusion Equation.\n",
    "\n",
    "$$\\frac{\\partial c}{\\partial t} = D \\frac{\\partial^2 c}{\\partial x^2}\\nabla^2 c.$$\n",
    "\n",
    "In this notebook, we will briefly look at how we can solve this equation numerically, and look at some solutions with different initial conditions and different boundary conditions. Most of the material here is presented as supplementary material, and is not considered part of IN1910's curriculum.\n",
    "\n",
    "\n",
    "## Solving the Diffusion Equation using Finite Differences\n",
    "\n",
    "A popular strategy for solving both ODEs and PDEs is discretizing them so that we only solve them at regular intervals, which we call *mesh points*. We can then approximate the derivatives with 'finite' differences, as opposed to the infinitesimal limit they actually represent.\n",
    "\n",
    "Normally, this process is called *discretizing* the continuous differential equations. Somewhat ironic is it that this is the exact opposite process of what we did to find our PDE in the first place!\n",
    "\n",
    "We denote the solution we are looking for by $c(x,t)$, because it can be seen as the *concentration* of some particles at a given location $x$ at time $t$. For example the concentration of oxygen in a room.\n",
    "\n",
    "We discretize using a given step length $\\Delta x$ in space, and a given time step $\\Delta t$ in time, thus we will only solve for the concentration at points\n",
    "\n",
    "$$c(x_i, t_j), \\qquad x_i \\equiv i\\cdot \\Delta x, \\qquad t_j = j\\cdot \\Delta t,$$\n",
    "\n",
    "where $i$ and $j$ are integers. To simplify writing, we define the shorthand\n",
    "\n",
    "$$c_{i, j} \\equiv c(x_i, t_j).$$\n",
    "\n",
    "We can now start to approximate the derivatives. This can be done in many ways, but the most straight forward is using only the first terms of the Taylor series. This leads to the expression we found in L19\n",
    "\n",
    "$$\\frac{c_{i, j+1} - c_{i, j}}{\\Delta t} = D\\frac{c_{i+1, j} - 2 c_{i, j} + c_{i-1, j}}{\\Delta x^2}.$$\n",
    "\n",
    "Note however, that here we use a 1. order finite difference approximation in time, but a 2. order finite difference order in space. This means we should pick $\\Delta t \\leq \\Delta x.$\n",
    "\n",
    "\n",
    "### Approximating the spatial derivative\n",
    "\n",
    "For the spatial derivative, we use a 2. order central difference approximation\n",
    "\n",
    "$$\\bigg(\\frac{\\partial^2 c}{\\partial x^2}\\bigg)_{i, j} \\approx \\frac{c_{i+1, j} - 2 c_{i, j} + c_{i-1, j}}{\\Delta x^2}.$$\n",
    "\n",
    "This is again found from truncating the Taylor series, but this time the error is $\\mathcal{O}(\\Delta x^2)$, meaning the solver will be a bit more forgiving to the second-order spatial step length, compared to the first-order time step. This means we should pick $\\Delta t < \\Delta x$.\n",
    "\n",
    "\n",
    "### Finding our computational stencil\n",
    "\n",
    "Our numerical expression is now\n",
    "\n",
    "$$\\frac{c_{i, j+1} - c_{i, j}}{\\Delta t} = D\\frac{c_{i+1, j} - 2 c_{i, j} + c_{i-1, j}}{\\Delta x^2}.$$\n",
    "\n",
    "We can massage this expression even further. By shuffling around some terms, we get\n",
    "\n",
    "$$c_{i, j+1} = c_{i, j} + D\\frac{\\Delta t}{\\Delta x^2}\\big(c_{i+1, j} - 2 c_{i, j} + c_{i-1, j}\\big).$$\n",
    "\n",
    "Remember that $D$, $\\Delta t$ and $\\Delta x$ are all constants, and so we can also introduce a new constant to simplify further:\n",
    "\n",
    "$$\\alpha \\equiv D\\frac{\\Delta t}{\\Delta x^2},$$\n",
    "\n",
    "which gives us the equation\n",
    "\n",
    "$$c_{i, j+1} = c_{i, j} + \\alpha\\big(c_{i+1, j} - 2 c_{i, j} + c_{i-1, j}\\big),$$\n",
    "\n",
    "or\n",
    "\n",
    "$$c_{i, j+1} = \\alpha c_{i+1, j} - (1 - 2\\alpha) c_{i, j} + \\alpha c_{i-1, j}.$$\n",
    "\n",
    "Such an equation is sometimes shown as a *computational stencil*\n",
    "\n",
    "```{figure} ../../figures/computational_stencil.png\n",
    "---\n",
    "width: 500px\n",
    "name: computational_stencil\n",
    "alt: computational_stencil\n",
    "---\n",
    "```\n",
    "\n",
    "Looking at the equation or the stencil, we see that we compute the concentration at the 'next' time step $t_{j+1}$, based on the values at the 'current' time step $t_j$, based on the three closest points in space $x_{i-1}$, $x_i$ and $x_{i+1}$.\n",
    "\n",
    "### Explicit vs Implicit\n",
    "\n",
    "Note that our computational stencil only involves a single 'next' time step, we call this an *explicit* scheme, as it explicitly states how to compute the new values. The opposite would be an implicit scheme, where for each time step the solver must solve a set of equations algebraically to find the new values. Simply put, explicit schemes are a lot easier to implement and solve. The downside is that explicit schemes can sometimes be unstable, and we need to be a bit more careful with our computational resolution and such with explicit schemes. Some implicit schemes, such as the *backward* Euler scheme, are much more stable, and can handle a wider variety of parameters and resolutions.\n",
    "\n",
    "### Handling the boundaries\n",
    "\n",
    "Looking at the stencil, we notice there will be an issue at the boundaries of the domain. To calculate the point at the edge of the boundary, $u_{0, j+1}$, we need to know $u_{-1, j+1}$, which doesn't exist! To get around this problem, we need to specify boundary conditions.\n",
    "\n",
    "The simplest boundary conditions are the *Dirichlet* conditions, also known as a concentration clamp. This simply forces the solution to have certain values at the boundary, and thus, we don't need to actually compute them, we can just set them to their clamped values: $u(0, t) = u_0$ and $u(L, t) = u_L$.\n",
    "\n",
    "The other common form of boundary conditions are the *Neumann* conditions. With these, it is the flux over the boundary that is clamped, and not the concentration itself. Most commonly, the flux is set to 0, meaning no concentration can every cross the boundary. This specific condition is often referred to as a 'no-flow' or 'reflective' boundary. To implement this condition, we pretend that that the points immediately outside the boundary, such as $u_{-1, j}$ exists, and set these imaginary 'ghost points' equal to the value at the boundary. As a diffusion flux is driven by a concentration difference, by setting $u_{-1,j} = u_{0,j}$, the math itself will make sure no flux occurs across the boundary.\n",
    "\n",
    "\n",
    "\n",
    "## Implementing the Solver\n",
    "\n",
    "Now that we have gone through the mathematical basis, we are ready to implement everything. We start by importing everything we need."
   ]
  },
  {
   "cell_type": "code",
   "execution_count": 1,
   "id": "5f1a09c7",
   "metadata": {},
   "outputs": [],
   "source": [
    "import numpy as np\n",
    "import matplotlib.pyplot as plt\n",
    "from matplotlib import animation, rc\n",
    "from IPython.display import HTML\n",
    "\n",
    "%matplotlib inline"
   ]
  },
  {
   "cell_type": "markdown",
   "id": "81fcd11f",
   "metadata": {},
   "source": [
    "### A note on stability\n",
    "\n",
    "Here we have chosen to use a forward Euler scheme because it is easy to describe briefly. It is also very easy to implement, thanks to it being an explicit scheme. However, it does have quite a larger error, but more important is that it is *unstable*, meaning it will produce a completely wrong answer to the equation for certain parameters. Mathematical analysis shows that the *stability* criterion for this scheme is:\n",
    "\n",
    "$$\\alpha \\leq 0.5 \\qquad \\Leftrightarrow \\qquad \\Delta t ≤ \\frac{\\Delta x^2}{2D}.$$\n",
    "\n",
    "Because of this, we will use $D=5$, $\\Delta x = 0.5$ and $\\Delta t = 0.02$ for all our simulations, giving $\\alpha = 0.4$, ensuring stability."
   ]
  },
  {
   "cell_type": "code",
   "execution_count": 2,
   "id": "28edf77d",
   "metadata": {},
   "outputs": [
    {
     "name": "stdout",
     "output_type": "stream",
     "text": [
      "0.4\n"
     ]
    }
   ],
   "source": [
    "D = 5\n",
    "dx = 0.5\n",
    "dt = 0.020\n",
    "alpha = D*dt/dx/dx\n",
    "\n",
    "# Double check stability\n",
    "if alpha > 0.5:\n",
    "    raise ValueError('The scheme is not stable with the chosen parameters.')\n",
    "else:\n",
    "    print(alpha)"
   ]
  },
  {
   "cell_type": "markdown",
   "id": "50015501",
   "metadata": {},
   "source": [
    "We now implement a function we can call to update our solution by one time step. We cannot solve for the boundaries, as it is system-specific how we handle those, so the function we implement will only update the internal points."
   ]
  },
  {
   "cell_type": "code",
   "execution_count": 3,
   "id": "82b6cdae",
   "metadata": {},
   "outputs": [],
   "source": [
    "def step(u):\n",
    "    \"\"\"A function that iterates the solution one step in time.\n",
    "    Note: This function does not enforce any boundary conditions.\"\"\"\n",
    "    up[:] = u[:]\n",
    "    u[1:-1] = alpha*up[2:] + (1-2*alpha)*up[1:-1] + alpha*up[:-2]"
   ]
  },
  {
   "cell_type": "markdown",
   "id": "fd242e30",
   "metadata": {},
   "source": [
    "With the `step` function defined, we are ready to solve specific systems.\n",
    "\n",
    "\n",
    "## System 1: An initial concentration spike\n",
    "\n",
    "The first system we will look at is what happens to an initial spike of concentration in the middle of a domain. First we will let the domain have open boundaries, so that the concentration can escape from the box, and then we change to reflective boundaries, so that nothing can escape from the box."
   ]
  },
  {
   "cell_type": "code",
   "execution_count": 4,
   "id": "c5fe009e",
   "metadata": {},
   "outputs": [],
   "source": [
    "# Define the spatial mesh\n",
    "L = 10\n",
    "x = np.arange(0, L+dx, dx)\n",
    "n = len(x)\n",
    "\n",
    "# Set up arrays to hold the solution at the current and previous time steps\n",
    "u = np.empty(n)\n",
    "up = np.empty(n)"
   ]
  },
  {
   "cell_type": "markdown",
   "id": "b7b09408",
   "metadata": {},
   "source": [
    "### Open boundaries\n",
    "\n",
    "First we will let the domain have open boundaries, so that the concentration can escape from the box"
   ]
  },
  {
   "cell_type": "code",
   "execution_count": 5,
   "id": "88ebb0f5",
   "metadata": {},
   "outputs": [],
   "source": [
    "%%capture\n",
    "\n",
    "# Set up initial condition\n",
    "u[:] = 0\n",
    "u[n//2-1:n//2+1] = 4\n",
    "\n",
    "fig, ax = plt.subplots();\n",
    "ax.set_xlim((0, L));\n",
    "ax.set_ylim((0, 2));\n",
    "line, = ax.plot(x, u, linewidth=2);\n",
    "\n",
    "def animate(i):\n",
    "    # Calculate solution for next time step\n",
    "    step(u)\n",
    "    u[0] = 0\n",
    "    u[-1] = 0\n",
    "\n",
    "    # Update plot\n",
    "    line.set_ydata(u)\n",
    "    return (line,)\n",
    "\n",
    "anim = animation.FuncAnimation(fig, animate, repeat=False,\n",
    "                               frames=400, interval=20);"
   ]
  },
  {
   "cell_type": "code",
   "execution_count": 6,
   "id": "cd060399",
   "metadata": {},
   "outputs": [
    {
     "ename": "RuntimeError",
     "evalue": "Requested MovieWriter (ffmpeg) not available",
     "output_type": "error",
     "traceback": [
      "\u001b[0;31m---------------------------------------------------------------------------\u001b[0m",
      "\u001b[0;31mRuntimeError\u001b[0m                              Traceback (most recent call last)",
      "Input \u001b[0;32mIn [6]\u001b[0m, in \u001b[0;36m<cell line: 1>\u001b[0;34m()\u001b[0m\n\u001b[0;32m----> 1\u001b[0m HTML(\u001b[43manim\u001b[49m\u001b[38;5;241;43m.\u001b[39;49m\u001b[43mto_html5_video\u001b[49m\u001b[43m(\u001b[49m\u001b[43m)\u001b[49m)\n",
      "File \u001b[0;32m/venv/lib/python3.10/site-packages/matplotlib/animation.py:1264\u001b[0m, in \u001b[0;36mAnimation.to_html5_video\u001b[0;34m(self, embed_limit)\u001b[0m\n\u001b[1;32m   1261\u001b[0m path \u001b[38;5;241m=\u001b[39m Path(tmpdir, \u001b[38;5;124m\"\u001b[39m\u001b[38;5;124mtemp.m4v\u001b[39m\u001b[38;5;124m\"\u001b[39m)\n\u001b[1;32m   1262\u001b[0m \u001b[38;5;66;03m# We create a writer manually so that we can get the\u001b[39;00m\n\u001b[1;32m   1263\u001b[0m \u001b[38;5;66;03m# appropriate size for the tag\u001b[39;00m\n\u001b[0;32m-> 1264\u001b[0m Writer \u001b[38;5;241m=\u001b[39m \u001b[43mwriters\u001b[49m\u001b[43m[\u001b[49m\u001b[43mmpl\u001b[49m\u001b[38;5;241;43m.\u001b[39;49m\u001b[43mrcParams\u001b[49m\u001b[43m[\u001b[49m\u001b[38;5;124;43m'\u001b[39;49m\u001b[38;5;124;43manimation.writer\u001b[39;49m\u001b[38;5;124;43m'\u001b[39;49m\u001b[43m]\u001b[49m\u001b[43m]\u001b[49m\n\u001b[1;32m   1265\u001b[0m writer \u001b[38;5;241m=\u001b[39m Writer(codec\u001b[38;5;241m=\u001b[39m\u001b[38;5;124m'\u001b[39m\u001b[38;5;124mh264\u001b[39m\u001b[38;5;124m'\u001b[39m,\n\u001b[1;32m   1266\u001b[0m                 bitrate\u001b[38;5;241m=\u001b[39mmpl\u001b[38;5;241m.\u001b[39mrcParams[\u001b[38;5;124m'\u001b[39m\u001b[38;5;124manimation.bitrate\u001b[39m\u001b[38;5;124m'\u001b[39m],\n\u001b[1;32m   1267\u001b[0m                 fps\u001b[38;5;241m=\u001b[39m\u001b[38;5;241m1000.\u001b[39m \u001b[38;5;241m/\u001b[39m \u001b[38;5;28mself\u001b[39m\u001b[38;5;241m.\u001b[39m_interval)\n\u001b[1;32m   1268\u001b[0m \u001b[38;5;28mself\u001b[39m\u001b[38;5;241m.\u001b[39msave(\u001b[38;5;28mstr\u001b[39m(path), writer\u001b[38;5;241m=\u001b[39mwriter)\n",
      "File \u001b[0;32m/venv/lib/python3.10/site-packages/matplotlib/animation.py:151\u001b[0m, in \u001b[0;36mMovieWriterRegistry.__getitem__\u001b[0;34m(self, name)\u001b[0m\n\u001b[1;32m    149\u001b[0m \u001b[38;5;28;01mif\u001b[39;00m \u001b[38;5;28mself\u001b[39m\u001b[38;5;241m.\u001b[39mis_available(name):\n\u001b[1;32m    150\u001b[0m     \u001b[38;5;28;01mreturn\u001b[39;00m \u001b[38;5;28mself\u001b[39m\u001b[38;5;241m.\u001b[39m_registered[name]\n\u001b[0;32m--> 151\u001b[0m \u001b[38;5;28;01mraise\u001b[39;00m \u001b[38;5;167;01mRuntimeError\u001b[39;00m(\u001b[38;5;124mf\u001b[39m\u001b[38;5;124m\"\u001b[39m\u001b[38;5;124mRequested MovieWriter (\u001b[39m\u001b[38;5;132;01m{\u001b[39;00mname\u001b[38;5;132;01m}\u001b[39;00m\u001b[38;5;124m) not available\u001b[39m\u001b[38;5;124m\"\u001b[39m)\n",
      "\u001b[0;31mRuntimeError\u001b[0m: Requested MovieWriter (ffmpeg) not available"
     ]
    }
   ],
   "source": [
    "HTML(anim.to_html5_video())"
   ]
  },
  {
   "cell_type": "markdown",
   "id": "42ba66a5",
   "metadata": {},
   "source": [
    "### Reflective boundaries\n",
    "\n",
    "We now change to no-flow boundaries, so that nothing can escape from the box."
   ]
  },
  {
   "cell_type": "code",
   "execution_count": 7,
   "id": "3962723c",
   "metadata": {},
   "outputs": [],
   "source": [
    "%%capture\n",
    "\n",
    "# Set up initial condition\n",
    "u[:] = 0\n",
    "u[n//2-1:n//2+1] = 4\n",
    "\n",
    "# Set up plot\n",
    "fig, ax = plt.subplots();\n",
    "ax.set_xlim((0, L));\n",
    "ax.set_ylim((0, 2));\n",
    "line, = ax.plot(x, u, linewidth=2);\n",
    "\n",
    "def animate(i):\n",
    "    # Calculate solution for next time step\n",
    "    step(u)\n",
    "    u[0] = (1 - alpha)*up[0] + alpha*up[1]\n",
    "    u[-1] = (1 - alpha)*up[-1] + alpha*up[-2]\n",
    "\n",
    "    # Update plot\n",
    "    line.set_ydata(u)\n",
    "    return (line,)\n",
    "\n",
    "anim = animation.FuncAnimation(fig, animate, repeat=False,\n",
    "                               frames=400, interval=20);"
   ]
  },
  {
   "cell_type": "code",
   "execution_count": 8,
   "id": "f14d332f",
   "metadata": {},
   "outputs": [
    {
     "name": "stderr",
     "output_type": "stream",
     "text": [
      "/venv/lib/python3.10/site-packages/matplotlib/animation.py:887: UserWarning: Animation was deleted without rendering anything. This is most likely not intended. To prevent deletion, assign the Animation to a variable, e.g. `anim`, that exists until you have outputted the Animation using `plt.show()` or `anim.save()`.\n",
      "  warnings.warn(\n"
     ]
    },
    {
     "ename": "RuntimeError",
     "evalue": "Requested MovieWriter (ffmpeg) not available",
     "output_type": "error",
     "traceback": [
      "\u001b[0;31m---------------------------------------------------------------------------\u001b[0m",
      "\u001b[0;31mRuntimeError\u001b[0m                              Traceback (most recent call last)",
      "Input \u001b[0;32mIn [8]\u001b[0m, in \u001b[0;36m<cell line: 1>\u001b[0;34m()\u001b[0m\n\u001b[0;32m----> 1\u001b[0m HTML(\u001b[43manim\u001b[49m\u001b[38;5;241;43m.\u001b[39;49m\u001b[43mto_html5_video\u001b[49m\u001b[43m(\u001b[49m\u001b[43m)\u001b[49m)\n",
      "File \u001b[0;32m/venv/lib/python3.10/site-packages/matplotlib/animation.py:1264\u001b[0m, in \u001b[0;36mAnimation.to_html5_video\u001b[0;34m(self, embed_limit)\u001b[0m\n\u001b[1;32m   1261\u001b[0m path \u001b[38;5;241m=\u001b[39m Path(tmpdir, \u001b[38;5;124m\"\u001b[39m\u001b[38;5;124mtemp.m4v\u001b[39m\u001b[38;5;124m\"\u001b[39m)\n\u001b[1;32m   1262\u001b[0m \u001b[38;5;66;03m# We create a writer manually so that we can get the\u001b[39;00m\n\u001b[1;32m   1263\u001b[0m \u001b[38;5;66;03m# appropriate size for the tag\u001b[39;00m\n\u001b[0;32m-> 1264\u001b[0m Writer \u001b[38;5;241m=\u001b[39m \u001b[43mwriters\u001b[49m\u001b[43m[\u001b[49m\u001b[43mmpl\u001b[49m\u001b[38;5;241;43m.\u001b[39;49m\u001b[43mrcParams\u001b[49m\u001b[43m[\u001b[49m\u001b[38;5;124;43m'\u001b[39;49m\u001b[38;5;124;43manimation.writer\u001b[39;49m\u001b[38;5;124;43m'\u001b[39;49m\u001b[43m]\u001b[49m\u001b[43m]\u001b[49m\n\u001b[1;32m   1265\u001b[0m writer \u001b[38;5;241m=\u001b[39m Writer(codec\u001b[38;5;241m=\u001b[39m\u001b[38;5;124m'\u001b[39m\u001b[38;5;124mh264\u001b[39m\u001b[38;5;124m'\u001b[39m,\n\u001b[1;32m   1266\u001b[0m                 bitrate\u001b[38;5;241m=\u001b[39mmpl\u001b[38;5;241m.\u001b[39mrcParams[\u001b[38;5;124m'\u001b[39m\u001b[38;5;124manimation.bitrate\u001b[39m\u001b[38;5;124m'\u001b[39m],\n\u001b[1;32m   1267\u001b[0m                 fps\u001b[38;5;241m=\u001b[39m\u001b[38;5;241m1000.\u001b[39m \u001b[38;5;241m/\u001b[39m \u001b[38;5;28mself\u001b[39m\u001b[38;5;241m.\u001b[39m_interval)\n\u001b[1;32m   1268\u001b[0m \u001b[38;5;28mself\u001b[39m\u001b[38;5;241m.\u001b[39msave(\u001b[38;5;28mstr\u001b[39m(path), writer\u001b[38;5;241m=\u001b[39mwriter)\n",
      "File \u001b[0;32m/venv/lib/python3.10/site-packages/matplotlib/animation.py:151\u001b[0m, in \u001b[0;36mMovieWriterRegistry.__getitem__\u001b[0;34m(self, name)\u001b[0m\n\u001b[1;32m    149\u001b[0m \u001b[38;5;28;01mif\u001b[39;00m \u001b[38;5;28mself\u001b[39m\u001b[38;5;241m.\u001b[39mis_available(name):\n\u001b[1;32m    150\u001b[0m     \u001b[38;5;28;01mreturn\u001b[39;00m \u001b[38;5;28mself\u001b[39m\u001b[38;5;241m.\u001b[39m_registered[name]\n\u001b[0;32m--> 151\u001b[0m \u001b[38;5;28;01mraise\u001b[39;00m \u001b[38;5;167;01mRuntimeError\u001b[39;00m(\u001b[38;5;124mf\u001b[39m\u001b[38;5;124m\"\u001b[39m\u001b[38;5;124mRequested MovieWriter (\u001b[39m\u001b[38;5;132;01m{\u001b[39;00mname\u001b[38;5;132;01m}\u001b[39;00m\u001b[38;5;124m) not available\u001b[39m\u001b[38;5;124m\"\u001b[39m)\n",
      "\u001b[0;31mRuntimeError\u001b[0m: Requested MovieWriter (ffmpeg) not available"
     ]
    }
   ],
   "source": [
    "HTML(anim.to_html5_video())"
   ]
  },
  {
   "cell_type": "markdown",
   "id": "52f0c125",
   "metadata": {},
   "source": [
    "## System 2 - Transport across the synaptic cleft\n",
    "\n",
    "For our second system, we will look at the diffusive transport of neurotransmitters across a synapse. When a signal is to be sent from one neuron to another, an action potential in the pre-synaptic membrane causes the release of neurotransmitter molecules into the synaptic cleft between the cells.\n",
    "\n",
    "To model this system, we assume the concentration to be zero initially. At time $t=0$ the pre-synaptic side, which we place on the left, starts releasing neurotransmitters. For simplicity sake, we implement this as a concentration clamp $u(0, t) = C$, which can be thought of as the release of neurotransmitters as being some sort of equilibrium process. At the other side of the synapse, the neurotransmitters will be absorbed. Let us assume, again for simplicity, that this absorption occurs so rapidly that we can assume there is never any unabsorbed neurotransmitters at this point. This means we can use another concentration clamp of $u(L, t)=0$."
   ]
  },
  {
   "cell_type": "code",
   "execution_count": 9,
   "id": "fc0698aa",
   "metadata": {},
   "outputs": [],
   "source": [
    "%%capture\n",
    "\n",
    "# Pre-synaptic concentration\n",
    "C = 5\n",
    "\n",
    "# Set up initial condition\n",
    "u[:] = 0\n",
    "\n",
    "fig, ax = plt.subplots();\n",
    "ax.set_xlim((0, L));\n",
    "ax.set_ylim((0, C));\n",
    "line, = ax.plot(x, u, linewidth=2);\n",
    "\n",
    "def animate(i):\n",
    "    # Calculate solution for next time step\n",
    "    step(u)\n",
    "    u[0] = C\n",
    "    u[-1] = 0\n",
    "\n",
    "    # Update plot\n",
    "    line.set_ydata(u)\n",
    "    return (line,)\n",
    "\n",
    "anim = animation.FuncAnimation(fig, animate, repeat=False,\n",
    "                               frames=300, interval=20);"
   ]
  },
  {
   "cell_type": "code",
   "execution_count": 10,
   "id": "9b851ce2",
   "metadata": {},
   "outputs": [
    {
     "ename": "RuntimeError",
     "evalue": "Requested MovieWriter (ffmpeg) not available",
     "output_type": "error",
     "traceback": [
      "\u001b[0;31m---------------------------------------------------------------------------\u001b[0m",
      "\u001b[0;31mRuntimeError\u001b[0m                              Traceback (most recent call last)",
      "Input \u001b[0;32mIn [10]\u001b[0m, in \u001b[0;36m<cell line: 1>\u001b[0;34m()\u001b[0m\n\u001b[0;32m----> 1\u001b[0m HTML(\u001b[43manim\u001b[49m\u001b[38;5;241;43m.\u001b[39;49m\u001b[43mto_html5_video\u001b[49m\u001b[43m(\u001b[49m\u001b[43m)\u001b[49m)\n",
      "File \u001b[0;32m/venv/lib/python3.10/site-packages/matplotlib/animation.py:1264\u001b[0m, in \u001b[0;36mAnimation.to_html5_video\u001b[0;34m(self, embed_limit)\u001b[0m\n\u001b[1;32m   1261\u001b[0m path \u001b[38;5;241m=\u001b[39m Path(tmpdir, \u001b[38;5;124m\"\u001b[39m\u001b[38;5;124mtemp.m4v\u001b[39m\u001b[38;5;124m\"\u001b[39m)\n\u001b[1;32m   1262\u001b[0m \u001b[38;5;66;03m# We create a writer manually so that we can get the\u001b[39;00m\n\u001b[1;32m   1263\u001b[0m \u001b[38;5;66;03m# appropriate size for the tag\u001b[39;00m\n\u001b[0;32m-> 1264\u001b[0m Writer \u001b[38;5;241m=\u001b[39m \u001b[43mwriters\u001b[49m\u001b[43m[\u001b[49m\u001b[43mmpl\u001b[49m\u001b[38;5;241;43m.\u001b[39;49m\u001b[43mrcParams\u001b[49m\u001b[43m[\u001b[49m\u001b[38;5;124;43m'\u001b[39;49m\u001b[38;5;124;43manimation.writer\u001b[39;49m\u001b[38;5;124;43m'\u001b[39;49m\u001b[43m]\u001b[49m\u001b[43m]\u001b[49m\n\u001b[1;32m   1265\u001b[0m writer \u001b[38;5;241m=\u001b[39m Writer(codec\u001b[38;5;241m=\u001b[39m\u001b[38;5;124m'\u001b[39m\u001b[38;5;124mh264\u001b[39m\u001b[38;5;124m'\u001b[39m,\n\u001b[1;32m   1266\u001b[0m                 bitrate\u001b[38;5;241m=\u001b[39mmpl\u001b[38;5;241m.\u001b[39mrcParams[\u001b[38;5;124m'\u001b[39m\u001b[38;5;124manimation.bitrate\u001b[39m\u001b[38;5;124m'\u001b[39m],\n\u001b[1;32m   1267\u001b[0m                 fps\u001b[38;5;241m=\u001b[39m\u001b[38;5;241m1000.\u001b[39m \u001b[38;5;241m/\u001b[39m \u001b[38;5;28mself\u001b[39m\u001b[38;5;241m.\u001b[39m_interval)\n\u001b[1;32m   1268\u001b[0m \u001b[38;5;28mself\u001b[39m\u001b[38;5;241m.\u001b[39msave(\u001b[38;5;28mstr\u001b[39m(path), writer\u001b[38;5;241m=\u001b[39mwriter)\n",
      "File \u001b[0;32m/venv/lib/python3.10/site-packages/matplotlib/animation.py:151\u001b[0m, in \u001b[0;36mMovieWriterRegistry.__getitem__\u001b[0;34m(self, name)\u001b[0m\n\u001b[1;32m    149\u001b[0m \u001b[38;5;28;01mif\u001b[39;00m \u001b[38;5;28mself\u001b[39m\u001b[38;5;241m.\u001b[39mis_available(name):\n\u001b[1;32m    150\u001b[0m     \u001b[38;5;28;01mreturn\u001b[39;00m \u001b[38;5;28mself\u001b[39m\u001b[38;5;241m.\u001b[39m_registered[name]\n\u001b[0;32m--> 151\u001b[0m \u001b[38;5;28;01mraise\u001b[39;00m \u001b[38;5;167;01mRuntimeError\u001b[39;00m(\u001b[38;5;124mf\u001b[39m\u001b[38;5;124m\"\u001b[39m\u001b[38;5;124mRequested MovieWriter (\u001b[39m\u001b[38;5;132;01m{\u001b[39;00mname\u001b[38;5;132;01m}\u001b[39;00m\u001b[38;5;124m) not available\u001b[39m\u001b[38;5;124m\"\u001b[39m)\n",
      "\u001b[0;31mRuntimeError\u001b[0m: Requested MovieWriter (ffmpeg) not available"
     ]
    }
   ],
   "source": [
    "HTML(anim.to_html5_video())"
   ]
  },
  {
   "cell_type": "markdown",
   "id": "2437653e",
   "metadata": {},
   "source": [
    "### Steady State Solution\n",
    "\n",
    "We see that eventually, the solution hits a pseudo steady-state, where the solution is no longer changing. This is because the solution has become a linear solution, $c=Ax + b$ which means that\n",
    "$$\\frac{\\partial c}{\\partial x} = A, \\qquad \\frac{\\partial^2 c}{\\partial x^2} = 0 \\quad \\Rightarrow \\quad \\frac{\\partial c}{\\partial t} = 0.$$\n",
    "\n",
    "We call such a situation a *pseudo* steady state, because it looks like nothing is changing, but there is a constant flux of neurotransmitter molecules through the cleft.\n",
    "\n",
    "We could have found this steady state solution analytical the diffusion equation, using the fact that it is unchanging in time\n",
    "\n",
    "$$\\frac{\\partial c}{\\partial t} = 0 = D\\frac{\\partial^2 c}{\\partial x^2},$$\n",
    "giving\n",
    "$$\\frac{\\partial^2 c}{\\partial x^2} = 0 \\Rightarrow c = Ax + B.$$\n",
    "\n",
    "Adding in the boundary conditions of $c(0) = C$ and $c(L) = 0$ gives\n",
    "$$c(x, \\infty) = C\\bigg(1 - \\frac{x}{L}\\bigg).$$\n",
    "\n",
    "Interestingly enough, the steady state solution doesn't depend on the diffusion coefficient, $D$, at all! The diffusion coefficient decides how fast the system reaches the steady state however. And will enter into the net transport of neurotransmitters through Ficks law: $J = -D \\nabla c = CD/L$.\n",
    "\n",
    "\n",
    "### Shutting of the source\n",
    "\n",
    "Let us now assume that the system has had enough time to reach steady state. Eventually the release event will stop, which we model by changing the concentration clamp on the left to a no-flow boundary instead. We assume the right hand side keeps absorbing molecules."
   ]
  },
  {
   "cell_type": "code",
   "execution_count": 11,
   "id": "ac79149e",
   "metadata": {},
   "outputs": [],
   "source": [
    "%%capture\n",
    "\n",
    "# Set up initial condition\n",
    "u[:] = C*(1-x/L)\n",
    "\n",
    "fig, ax = plt.subplots();\n",
    "ax.set_xlim((0, L));\n",
    "ax.set_ylim((0, C));\n",
    "line, = ax.plot(x, u, linewidth=2);\n",
    "\n",
    "def animate(i):\n",
    "    # Calculate solution for next time step\n",
    "    step(u)\n",
    "    u[0] = (1-alpha)*up[0] + alpha*up[1]\n",
    "    u[-1] = 0\n",
    "\n",
    "    # Update plot\n",
    "    line.set_ydata(u)\n",
    "    return (line,)\n",
    "\n",
    "anim = animation.FuncAnimation(fig, animate, repeat=False,\n",
    "                               frames=600, interval=20);"
   ]
  },
  {
   "cell_type": "code",
   "execution_count": 12,
   "id": "caaeb855",
   "metadata": {},
   "outputs": [
    {
     "ename": "RuntimeError",
     "evalue": "Requested MovieWriter (ffmpeg) not available",
     "output_type": "error",
     "traceback": [
      "\u001b[0;31m---------------------------------------------------------------------------\u001b[0m",
      "\u001b[0;31mRuntimeError\u001b[0m                              Traceback (most recent call last)",
      "Input \u001b[0;32mIn [12]\u001b[0m, in \u001b[0;36m<cell line: 1>\u001b[0;34m()\u001b[0m\n\u001b[0;32m----> 1\u001b[0m HTML(\u001b[43manim\u001b[49m\u001b[38;5;241;43m.\u001b[39;49m\u001b[43mto_html5_video\u001b[49m\u001b[43m(\u001b[49m\u001b[43m)\u001b[49m)\n",
      "File \u001b[0;32m/venv/lib/python3.10/site-packages/matplotlib/animation.py:1264\u001b[0m, in \u001b[0;36mAnimation.to_html5_video\u001b[0;34m(self, embed_limit)\u001b[0m\n\u001b[1;32m   1261\u001b[0m path \u001b[38;5;241m=\u001b[39m Path(tmpdir, \u001b[38;5;124m\"\u001b[39m\u001b[38;5;124mtemp.m4v\u001b[39m\u001b[38;5;124m\"\u001b[39m)\n\u001b[1;32m   1262\u001b[0m \u001b[38;5;66;03m# We create a writer manually so that we can get the\u001b[39;00m\n\u001b[1;32m   1263\u001b[0m \u001b[38;5;66;03m# appropriate size for the tag\u001b[39;00m\n\u001b[0;32m-> 1264\u001b[0m Writer \u001b[38;5;241m=\u001b[39m \u001b[43mwriters\u001b[49m\u001b[43m[\u001b[49m\u001b[43mmpl\u001b[49m\u001b[38;5;241;43m.\u001b[39;49m\u001b[43mrcParams\u001b[49m\u001b[43m[\u001b[49m\u001b[38;5;124;43m'\u001b[39;49m\u001b[38;5;124;43manimation.writer\u001b[39;49m\u001b[38;5;124;43m'\u001b[39;49m\u001b[43m]\u001b[49m\u001b[43m]\u001b[49m\n\u001b[1;32m   1265\u001b[0m writer \u001b[38;5;241m=\u001b[39m Writer(codec\u001b[38;5;241m=\u001b[39m\u001b[38;5;124m'\u001b[39m\u001b[38;5;124mh264\u001b[39m\u001b[38;5;124m'\u001b[39m,\n\u001b[1;32m   1266\u001b[0m                 bitrate\u001b[38;5;241m=\u001b[39mmpl\u001b[38;5;241m.\u001b[39mrcParams[\u001b[38;5;124m'\u001b[39m\u001b[38;5;124manimation.bitrate\u001b[39m\u001b[38;5;124m'\u001b[39m],\n\u001b[1;32m   1267\u001b[0m                 fps\u001b[38;5;241m=\u001b[39m\u001b[38;5;241m1000.\u001b[39m \u001b[38;5;241m/\u001b[39m \u001b[38;5;28mself\u001b[39m\u001b[38;5;241m.\u001b[39m_interval)\n\u001b[1;32m   1268\u001b[0m \u001b[38;5;28mself\u001b[39m\u001b[38;5;241m.\u001b[39msave(\u001b[38;5;28mstr\u001b[39m(path), writer\u001b[38;5;241m=\u001b[39mwriter)\n",
      "File \u001b[0;32m/venv/lib/python3.10/site-packages/matplotlib/animation.py:151\u001b[0m, in \u001b[0;36mMovieWriterRegistry.__getitem__\u001b[0;34m(self, name)\u001b[0m\n\u001b[1;32m    149\u001b[0m \u001b[38;5;28;01mif\u001b[39;00m \u001b[38;5;28mself\u001b[39m\u001b[38;5;241m.\u001b[39mis_available(name):\n\u001b[1;32m    150\u001b[0m     \u001b[38;5;28;01mreturn\u001b[39;00m \u001b[38;5;28mself\u001b[39m\u001b[38;5;241m.\u001b[39m_registered[name]\n\u001b[0;32m--> 151\u001b[0m \u001b[38;5;28;01mraise\u001b[39;00m \u001b[38;5;167;01mRuntimeError\u001b[39;00m(\u001b[38;5;124mf\u001b[39m\u001b[38;5;124m\"\u001b[39m\u001b[38;5;124mRequested MovieWriter (\u001b[39m\u001b[38;5;132;01m{\u001b[39;00mname\u001b[38;5;132;01m}\u001b[39;00m\u001b[38;5;124m) not available\u001b[39m\u001b[38;5;124m\"\u001b[39m)\n",
      "\u001b[0;31mRuntimeError\u001b[0m: Requested MovieWriter (ffmpeg) not available"
     ]
    }
   ],
   "source": [
    "HTML(anim.to_html5_video())"
   ]
  }
 ],
 "metadata": {
  "jupytext": {
   "formats": "md:myst",
   "text_representation": {
    "extension": ".md",
    "format_name": "myst"
   }
  },
  "kernelspec": {
   "display_name": "Python 3",
   "language": "python",
   "name": "python3"
  },
  "language_info": {
   "codemirror_mode": {
    "name": "ipython",
    "version": 3
   },
   "file_extension": ".py",
   "mimetype": "text/x-python",
   "name": "python",
   "nbconvert_exporter": "python",
   "pygments_lexer": "ipython3",
   "version": "3.10.4"
  },
  "source_map": [
   11,
   107,
   114,
   124,
   135,
   139,
   145,
   154,
   163,
   170,
   196,
   198,
   204,
   231,
   233,
   241,
   269,
   271,
   296,
   321
  ]
 },
 "nbformat": 4,
 "nbformat_minor": 5
}