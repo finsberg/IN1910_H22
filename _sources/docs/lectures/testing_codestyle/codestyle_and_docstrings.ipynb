{
 "cells": [
  {
   "cell_type": "markdown",
   "id": "4a265041",
   "metadata": {},
   "source": [
    "# Code Style and Documentation\n",
    "\n",
    "In this lecture we will cover the topics of *code style* and *documentation*. Put simply, these are aspects of writing code that doesn't impact if, or how, the code you write works, but rather how easy it is to read and understand for others. Two weeks ago we discussed how we can write functioning and reliable software, and how we can test our code to verify that it is working as intended. This is another aspect of what we can call *code quality*.\n",
    "\n",
    "\n",
    "## Code Readability\n",
    "\n",
    "The fundamental idea for this entire lecture can be summed up in a single sentence, which is\n",
    "\n",
    "> Write programs for people, not computers\n",
    "\n",
    "Just like writing prose, there are many choices one can make when writing code. Some choices we can make are\n",
    "* How to break down and solve a given problem\n",
    "* How to order the steps we take\n",
    "* What variables we create (both the number of variables and their data types)\n",
    "* What names we choose for our variables\n",
    "* How much *whitespace* we use\n",
    "* What comments we add to the code\n",
    "* And many other choices...\n",
    "\n",
    "Some of these choices will directly impact function or speed of the program, what algorithm we use for example.\n",
    "However, many of the choices we make will not impact how the final program *functions*. The best examples are variable names, which from \"the outside\" has no importance whatsoever.\n",
    "\n",
    "It might be easy to assume that the choices that do not impact function are not important, but this is not the case. If we make poor choices, say pick variable names that are confusing or easy to mix, then our code will become cluttered and hard to understand. Why is this a problem? For one, it will make it harder to work with our code, leading to inefficient work and even to errors. If we want to share our code with others or collaborate, things get even worse - as others might not even understand the code you have written or how it should be used or modified.\n",
    "\n",
    "This aspect of the code is usually referred to as the *readability* of the code. We should strive to make our code as *readable* as possible. A high quality code should be easy for a new developer to read and understand. When you write code, you should therefore think how that code looks to an external pair of eyes. Is it structured, clear and easy to understand? The sentence we started with should be our mantra - write code for people, not computers. This was put a bit more pointedly by Martin Fowler\n",
    "\n",
    "> *Any fool can write code that a computer can understand. Good programmers write code that humans can understand* - Martin Fowler\n",
    "\n",
    "\n",
    "## What is code style, and why is it important?\n",
    "\n",
    "\n",
    "As there are so many choices we can make when coding that will impact how structured and readable our code becomes, we should strive to make consistent choices and stick to a particular set of \"rules\" for how code should be written - and such a set of rules is called a *code style*. Code that follows a consistent and good style will be easier to use, troubleshoot, maintain and extend. Code that doesn't follow a consistent style will be more disordered and can be frustrating to work with.\n",
    "\n",
    "The term *style* comes from traditional writing, where one can also follow a particular *writing style*. For publications to be more consistent, different contributing authors to a given publication will often be asked to follow and use the same *style* and there are many different style manuals which lie out a set of principles or rules to follow.\n",
    "\n",
    "Like with any writing, there are no hard rules about what constitutes good style, and there are different choices one can make — the important thing is to be consistent in your choices. A piece of code should have the same code style and formatting throughout.\n",
    "\n",
    "\n",
    "## Style Guides\n",
    "\n",
    "Most software in the real world is developed collaboratively, this means it is important for different programmers to agree on what code style to follow, otherwise they will end up writing code that looks fragmented and messy. Because of this, most software groups agree on a *style guide*, which guides all the programmers in the project to follow the same style. Because everyone is following the same guidelines, it's easier to collaborate.\n",
    "\n",
    "Put simply, a style guide is a list of *dos* and *don'ts* that you will be expected to follow. Because style guidelines is about *writing* code, they are often specific to a given programming language. Python is a popular programming language, and so many different style guides exist, the most important one to know about is called the PEP8 style guide.\n",
    "\n",
    "### The PEP8 Style Guide\n",
    "\n",
    "PEP stands for *Python Enhancement Proposal*, and these are documents that are proposals for new features or design changes to Python. The PEPs and discussed and reviewed by the community and over time the Python developers incorporate them into the language. One of these, PEP8, is a code style guide for the Python code in Python's standard library should be written. Put simply: PEP8 is how Python's developers are writing python code.\n",
    "* [Link to the PEP8 style guide](https://www.python.org/dev/peps/pep-0008/)\n",
    "\n",
    "In IN1910 we want you to use a good and consistent code style in the code you write. We recommend you read the PEP8 style guide and stick with these choices. However, we won't be extremely strict on this point. Python is a popular programming language, and many other style guide exists. Another possible choice is for example [Google's Python style guide](https://github.com/google/styleguide/blob/gh-pages/pyguide.md).\n",
    "\n",
    "Regardless of exactly what style you want to use for your own projects, reading through the PEP8 style guide and trying to reflect around *why* the rules are as they are is highly recommended and will most likely make you a better programmer.\n",
    "\n",
    "We will now go through and cover *some* of the rules in PEP8, but we don't cover everything, so reading through the actual style guide is still good. Many of our examples are taken directly from the PEP8 document, while some are taking from other lectures and exercises in IN1910.\n",
    "\n",
    "## Some general points from PEP8\n",
    "\n",
    "### Indent by 4 spaces, do not use tabs\n",
    "\n",
    "In Python, indentation is very important to decide scopes when defining functions and making loops and tests. However, how long an indentation is optional, as long as each line is indented by the same amount of space. The most common is to use 4 spaces."
   ]
  },
  {
   "cell_type": "code",
   "execution_count": 1,
   "id": "4335ca94",
   "metadata": {},
   "outputs": [],
   "source": [
    "def is_prime(n):\n",
    "    if n == 1:\n",
    "        return False\n",
    "\n",
    "    for d in range(2, n):\n",
    "        if n % d == 0:\n",
    "            return False\n",
    "    return True"
   ]
  },
  {
   "cell_type": "markdown",
   "id": "d339f236",
   "metadata": {},
   "source": [
    "In addition, the style guide recommends you use actual *spaces* in the code instead of *tab* characters. This is a minor, but important distinction in code. When indenting a code line one can either place a series of space characters, or a single tab character. Either work in most programming languages, but one should stick to one or the other. This has lead to huge \"spaces vs tabs\" debates among programmers. Usually, it is a setting in your editor how spaces vs tabs are handled.\n",
    "\n",
    "Both spaces and tabs also work in Python, but do note that if you mix them inside the same indentation you will get an error\n",
    "```\n",
    "TabError: inconsistent use of tabs and spaces in indentation\n",
    "```\n",
    "PEP8 recommends sticking to actual spaces.\n",
    "\n",
    "\n",
    "### When wrapping long lines, use parentheses to keep things together\n",
    "\n",
    "When a line of code becomes very long, it will reach the end of the screen/editor. In such cases it is better to break the line yourself, instead of letting it simply run long. This is because you can then split the line in a location where it more structured and orderly.\n",
    "\n",
    "As an example we write out the following line of code"
   ]
  },
  {
   "cell_type": "code",
   "execution_count": 2,
   "id": "80f0f3f6",
   "metadata": {},
   "outputs": [
    {
     "ename": "NameError",
     "evalue": "name 'gross_wages' is not defined",
     "output_type": "error",
     "traceback": [
      "\u001b[0;31m---------------------------------------------------------------------------\u001b[0m",
      "\u001b[0;31mNameError\u001b[0m                                 Traceback (most recent call last)",
      "Input \u001b[0;32mIn [2]\u001b[0m, in \u001b[0;36m<cell line: 2>\u001b[0;34m()\u001b[0m\n\u001b[1;32m      1\u001b[0m income \u001b[38;5;241m=\u001b[39m (\n\u001b[0;32m----> 2\u001b[0m     \u001b[43mgross_wages\u001b[49m\n\u001b[1;32m      3\u001b[0m     \u001b[38;5;241m+\u001b[39m taxable_interest\n\u001b[1;32m      4\u001b[0m     \u001b[38;5;241m+\u001b[39m (dividends \u001b[38;5;241m-\u001b[39m qualified_dividends)\n\u001b[1;32m      5\u001b[0m     \u001b[38;5;241m-\u001b[39m ira_deduction\n\u001b[1;32m      6\u001b[0m     \u001b[38;5;241m-\u001b[39m student_loan_interest\n\u001b[1;32m      7\u001b[0m )\n",
      "\u001b[0;31mNameError\u001b[0m: name 'gross_wages' is not defined"
     ]
    }
   ],
   "source": [
    "income = (\n",
    "    gross_wages\n",
    "    + taxable_interest\n",
    "    + (dividends - qualified_dividends)\n",
    "    - ira_deduction\n",
    "    - student_loan_interest\n",
    ")"
   ]
  },
  {
   "cell_type": "markdown",
   "id": "4c727399",
   "metadata": {},
   "source": [
    "Here we have written out one long code line. In Jupyter this code line will wrap to the next line when it reaches the end of the column. If this happens in your editor will depend on your settings.\n",
    "\n",
    "An issue with word wrap is that others might have different settings to you, and so there is little control where the line break will happen. If it happens at a weird location (such as the middle of a variable), the line becomes hard to read.\n",
    "\n",
    "Here you should instead split the line yourself. To do so, you can put parenthesis around the entire expression. Python will then automatically see the next line as a continuation from the first"
   ]
  },
  {
   "cell_type": "code",
   "execution_count": 3,
   "id": "5d29cc98",
   "metadata": {},
   "outputs": [
    {
     "ename": "NameError",
     "evalue": "name 'gross_wages' is not defined",
     "output_type": "error",
     "traceback": [
      "\u001b[0;31m---------------------------------------------------------------------------\u001b[0m",
      "\u001b[0;31mNameError\u001b[0m                                 Traceback (most recent call last)",
      "Input \u001b[0;32mIn [3]\u001b[0m, in \u001b[0;36m<cell line: 2>\u001b[0;34m()\u001b[0m\n\u001b[1;32m      1\u001b[0m income \u001b[38;5;241m=\u001b[39m (\n\u001b[0;32m----> 2\u001b[0m     \u001b[43mgross_wages\u001b[49m\n\u001b[1;32m      3\u001b[0m     \u001b[38;5;241m+\u001b[39m taxable_interest\n\u001b[1;32m      4\u001b[0m     \u001b[38;5;241m+\u001b[39m (dividends \u001b[38;5;241m-\u001b[39m qualified_dividends)\n\u001b[1;32m      5\u001b[0m     \u001b[38;5;241m-\u001b[39m ira_deduction\n\u001b[1;32m      6\u001b[0m     \u001b[38;5;241m-\u001b[39m student_loan_interest\n\u001b[1;32m      7\u001b[0m )\n",
      "\u001b[0;31mNameError\u001b[0m: name 'gross_wages' is not defined"
     ]
    }
   ],
   "source": [
    "income = (\n",
    "    gross_wages\n",
    "    + taxable_interest\n",
    "    + (dividends - qualified_dividends)\n",
    "    - ira_deduction\n",
    "    - student_loan_interest\n",
    ")"
   ]
  },
  {
   "cell_type": "markdown",
   "id": "d9a134e3",
   "metadata": {},
   "source": [
    "The fact that parenthesis let's you split up your code over multiple lines is very useful also when you have very long function calls, here is an example taken from Project 1"
   ]
  },
  {
   "cell_type": "code",
   "execution_count": 4,
   "id": "4916709b",
   "metadata": {},
   "outputs": [
    {
     "ename": "NameError",
     "evalue": "name 'fig' is not defined",
     "output_type": "error",
     "traceback": [
      "\u001b[0;31m---------------------------------------------------------------------------\u001b[0m",
      "\u001b[0;31mNameError\u001b[0m                                 Traceback (most recent call last)",
      "Input \u001b[0;32mIn [4]\u001b[0m, in \u001b[0;36m<cell line: 3>\u001b[0;34m()\u001b[0m\n\u001b[1;32m      1\u001b[0m \u001b[38;5;28;01mimport\u001b[39;00m \u001b[38;5;21;01mmatplotlib\u001b[39;00m\u001b[38;5;21;01m.\u001b[39;00m\u001b[38;5;21;01manimation\u001b[39;00m \u001b[38;5;28;01mas\u001b[39;00m \u001b[38;5;21;01manimation\u001b[39;00m\n\u001b[1;32m      3\u001b[0m ani \u001b[38;5;241m=\u001b[39m animation\u001b[38;5;241m.\u001b[39mFuncAnimation(\n\u001b[0;32m----> 4\u001b[0m     \u001b[43mfig\u001b[49m, animate, np\u001b[38;5;241m.\u001b[39marange(\u001b[38;5;241m1\u001b[39m, \u001b[38;5;28mlen\u001b[39m(y)), interval\u001b[38;5;241m=\u001b[39m\u001b[38;5;241m25\u001b[39m, blit\u001b[38;5;241m=\u001b[39m\u001b[38;5;28;01mTrue\u001b[39;00m, init_func\u001b[38;5;241m=\u001b[39minit\n\u001b[1;32m      5\u001b[0m )\n",
      "\u001b[0;31mNameError\u001b[0m: name 'fig' is not defined"
     ]
    }
   ],
   "source": [
    "import matplotlib.animation as animation\n",
    "\n",
    "ani = animation.FuncAnimation(\n",
    "    fig, animate, np.arange(1, len(y)), interval=25, blit=True, init_func=init\n",
    ")"
   ]
  },
  {
   "cell_type": "markdown",
   "id": "a56bf78e",
   "metadata": {},
   "source": [
    "Here the name of the function we import is long enough to begin with, and then we have many arguments and keyword arguments to use. Here you should split the line, which is easy to do since the arguments are all within a pair of parentheses.\n",
    "\n",
    "### Separate top-level functions and classes by two blank lines\n",
    "\n",
    "In the same way blank lines are used to structure a text into different chapters, sections or paragraphs, we can use blank lines in code to create some separation between different components of a larger code. This rules simply states that two blank lines should be put between different functions and classes, as these are different entities in your code.\n",
    "\n",
    "### Class methods should be separated by one blank line\n",
    "\n",
    "As class methods belong to the same class they often are more interconnected than top-level functions, and these can therefore be separated by a single blank line.\n",
    "\n",
    "### Use blank lines in functions, sparingly, to indicate logical sections.\n",
    "\n",
    "Because we use blank lines to separate different functions and methods, we should be a bit wary of using too many blank lines *within* a function or method definition, as this might make it harder to get an overview of where different function definitions start and stop. In some cases however, if a function or method have several clearly distinct logical sections, these can be separated by a line to make it clearer. In our `is_prime` example from earlier, we added a blank line between checking if 1 is a prime (which is a special case) to the more general trial-division loop."
   ]
  },
  {
   "cell_type": "code",
   "execution_count": 5,
   "id": "5c093aad",
   "metadata": {},
   "outputs": [],
   "source": [
    "def is_prime(n):\n",
    "    if n == 1:\n",
    "        return False\n",
    "\n",
    "    for d in range(2, n):\n",
    "        if n % d == 0:\n",
    "            return False\n",
    "    return True"
   ]
  },
  {
   "cell_type": "markdown",
   "id": "61e122f1",
   "metadata": {},
   "source": [
    "### Use UTF-8 encoding\n",
    "\n",
    "This is simply a setting within your editor. Saving your Python-scripts with UTF-8 encoding enables us to use special characters in our Python code, which is nice.\n",
    "\n",
    "### Put imports on separate lines at the top of the file\n",
    "\n",
    "We have already discussed how imports should look in a Python-file. For one, you should put them at the top of your file, and you should avoid wildcard imports. In addition, PEP8 says to never import more than one package per line, i.e., don't write"
   ]
  },
  {
   "cell_type": "code",
   "execution_count": 6,
   "id": "03d9e2a2",
   "metadata": {},
   "outputs": [],
   "source": [
    "import math, numpy, scipy"
   ]
  },
  {
   "cell_type": "markdown",
   "id": "c743d1ad",
   "metadata": {},
   "source": [
    "instead write"
   ]
  },
  {
   "cell_type": "code",
   "execution_count": 7,
   "id": "77e33b42",
   "metadata": {},
   "outputs": [],
   "source": [
    "import math\n",
    "import numpy\n",
    "import scipy"
   ]
  },
  {
   "cell_type": "markdown",
   "id": "a29af483",
   "metadata": {},
   "source": [
    "When importing specific components from a single package, you can group several imports however, so this is fine:"
   ]
  },
  {
   "cell_type": "code",
   "execution_count": 8,
   "id": "b5f33d83",
   "metadata": {},
   "outputs": [],
   "source": [
    "from math import pi, sqrt, exp"
   ]
  },
  {
   "cell_type": "markdown",
   "id": "31bbbafe",
   "metadata": {},
   "source": [
    "## Naming conventions\n",
    "\n",
    "We now move over from some more general points in PEP8, to the first major topic: naming conventions, i.e., what we should name our variables when we code. The goal with naming conventions is to stick to a specific style, so that whoever is reading or using the code can easily gleam what sort of variable something is, from the name alone.\n",
    "\n",
    "**Modules**\n",
    "\n",
    "Modules are what we call Python-files. Module names should be short and written in all lowercase. Underscores are allowed and often used to separate different words. Example from Project 1: `double_pendulum.py` and `test_double_pendulum.py`.\n",
    "\n",
    "**Functions**\n",
    "\n",
    "Function names (including methods) should be defined similarly to module names, i.e., all lowercase and with words separated by underscores (`count_words()`, `is_prime()` or `save_file()`).\n",
    "\n",
    "**Class names**\n",
    "\n",
    "All classes should normally use the CapWords convention, meaning every word in the name should be capitalized, and no underscores are used (`Sphere`, `BankAccount`, `FunctionIntegrator`, and `DoublePendulum`)\n",
    "\n",
    "**Variables**\n",
    "\n",
    "Most variables should be names as we do for functions/modules, i.e., all lowercase and with underscores. As emphasized during our intro to object-oriented programming this convention makes it easy to differentiate classes from instances."
   ]
  },
  {
   "cell_type": "code",
   "execution_count": 9,
   "id": "9bf60328",
   "metadata": {},
   "outputs": [
    {
     "ename": "NameError",
     "evalue": "name 'Vector3D' is not defined",
     "output_type": "error",
     "traceback": [
      "\u001b[0;31m---------------------------------------------------------------------------\u001b[0m",
      "\u001b[0;31mNameError\u001b[0m                                 Traceback (most recent call last)",
      "Input \u001b[0;32mIn [9]\u001b[0m, in \u001b[0;36m<cell line: 1>\u001b[0;34m()\u001b[0m\n\u001b[0;32m----> 1\u001b[0m u \u001b[38;5;241m=\u001b[39m \u001b[43mVector3D\u001b[49m(\u001b[38;5;241m4\u001b[39m, \u001b[38;5;241m2\u001b[39m, \u001b[38;5;241m-\u001b[39m\u001b[38;5;241m2\u001b[39m)\n",
      "\u001b[0;31mNameError\u001b[0m: name 'Vector3D' is not defined"
     ]
    }
   ],
   "source": [
    "u = Vector3D(4, 2, -2)"
   ]
  },
  {
   "cell_type": "markdown",
   "id": "59dcde9a",
   "metadata": {},
   "source": [
    "Note that the built-in data types break the class name convention (`tuple`, `int`, `list`, etc), but those are special cases.\n",
    "\n",
    "\n",
    "**Constants**\n",
    "\n",
    "A *constant* is a variable that is not expected to change during the execution of the program, and these should be written in all uppercase, parts separated by underscores (`MAX_WEIGHT`, `GRAVITATIONAL_CONSTANT`). An important exception here can be mathematical constants, which you can write on their typical mathematical form you desire, e.g. `pi` or `g` (for gravitational constant).\n",
    "\n",
    "**In addition: Never use these single-letter names**\n",
    "\n",
    "Never use `l` (lowercase L), `O` (uppercase O), or `I` (uppercase i) as single-letter names in your code. These can be easily confused for others character or downright indistinguishable in some fonts. Even if you can easily tell them apart in your editor, when you share your code (or print it out), it might look different.\n",
    "\n",
    "## White Space\n",
    "\n",
    "In programming, *white space* refers to the empty space that surrounds the rest of your code. We have already discussed blank lines, which is an example of white space, but space characters within a given code line is also very important for code readability.\n",
    "\n",
    "People who are new to programming often skip using white space altogether, or they are inconsistent in using it. Try to stick to a consistent use of blank characters, and be a little detail oriented, it has a huge impact on code readability (especially so in mathematical expressions!)\n",
    "\n",
    "Some examples from PEP8:\n",
    "\n",
    "**Never a space between a function name and its arguments**\n",
    "\n",
    "* Yes: `is_prime(21)`\n",
    "* No: `is_prime (21)`\n",
    "\n",
    "**A single space between each element in a list or sequence\n",
    "\n",
    "* Yes: `primes = [2, 3, 5]`\n",
    "* No: `primes = [2,3,5]`\n",
    "* No: `primes = [2 , 3 , 5]\n",
    "\n",
    "**Don't use spaces when using indices, and use `key: value` when using dictionaries**\n",
    "\n",
    "* Yes: `spam(ham[1], {eggs: 2})`\n",
    "* No:  `spam( ham[ 1 ], { eggs: 2 } )`\n",
    "\n",
    "**Never put a space before the colon in `if`/`def`/`for`/`loop`\n",
    "\n",
    "* Yes: `if x == 4:`\n",
    "* No: `if x == 4 :`\n",
    "\n",
    "**Never place a space between a sequence and its indexing\n",
    "\n",
    "* Yes: `dct['key'] = lst[index]`\n",
    "* No:  `dct ['key'] = lst [index]`\n",
    "\n",
    "**Use a single space around assignments**\n",
    "\n",
    "* Yes: `i = i + 1`\n",
    "* No: `i=i+1`\n",
    "\n",
    "and\n",
    "\n",
    "* Yes: `x, y = y, x`\n",
    "* No: `x, y=y, x`\n",
    "\n",
    "and\n",
    "\n",
    "* Yes: `submitted += 1`\n",
    "* No: `submitted +=1`\n",
    "\n",
    "**Whitespace in mathematical expressions**\n",
    "\n",
    "As a rule of thumb, you should put on each side of binary `+` and `-`, as this signifies different terms in mathematics, but you shouldn't put spaces on either side of `*` and `/` (or unary `-`) as this is the same term, e.g.\n",
    "* No: `hypotenuse = x * x + y * y`\n",
    "* Yes: `hypotenuse = x*x + y*y`\n",
    "\n",
    "or\n",
    "\n",
    "* No:"
   ]
  },
  {
   "cell_type": "code",
   "execution_count": 10,
   "id": "0a7343ef",
   "metadata": {},
   "outputs": [],
   "source": [
    "def f(x):\n",
    "    return a * x**2 + b * x + c"
   ]
  },
  {
   "cell_type": "markdown",
   "id": "c1d16e16",
   "metadata": {},
   "source": [
    "* Yes:"
   ]
  },
  {
   "cell_type": "code",
   "execution_count": 11,
   "id": "01ee562c",
   "metadata": {},
   "outputs": [],
   "source": [
    "def f(x):\n",
    "    return a * x**2 + b * x + c"
   ]
  },
  {
   "cell_type": "markdown",
   "id": "c87e0293",
   "metadata": {},
   "source": [
    "This rule is actually more about mathematical priority than anything else, so if we add parentheses it can change around. For example\n",
    "\n",
    "* Yes: `(a+b) * (a-b)`\n",
    "* No: `(a + b) * (a - b)`\n",
    "\n",
    "Here $(a+b)$ and $(a-b)$ have higher priority than the multiplication, so we only put spaces on each side of the multiplication.\n",
    "\n",
    "There are not *strict* rules on how to use spaces when doing math, so use your own best judgment. However, not that you shouldn't add more than 1 space around operators, and always put a space on each side of a binary operator.\n",
    "\n",
    "\n",
    "\n",
    "\n",
    "In Project 1 we have given you a real tricky mathematical formula to type in, and you should strive to use the correct white space, as it will make it a lot easier for you to avoid mistakes!\n",
    "\n",
    "## Line Length and breaking lines\n",
    "\n",
    "PEP8 states that no lines should go beyond 79 characters. This 80-width character limit in code is very common rule in code style guides, across many languages. Historically, some languages simply couldn't go above 80 characters, as they were made to work with [punch cards](https://en.wikipedia.org/wiki/Punched_card), which had limited physical space.\n",
    "\n",
    "In modern times, there are no physical limits to line lengths, and we could in theory use whatever line lengths we want. However, keeping lines from becoming to long helps with readability, as long lines can be tricky to read. There is a reason newspapers and magazines stick to multiple narrow columns instead of very long lines. Another important point is that we have no control over what tools others use to read or write code. They might be working on a small laptop display, or using multiple columns of code on their screen simultaneously. If we write our code with a 130-character width, and they display it in an 80-character editor, many lines will overflow and break at arbitrary places, leading to messy and hard to read code.\n",
    "\n",
    "It should be mentioned that the PEP8 guide of 79 characters is a bit on the short side, and many style guides allow for 100 or even 120 characters. The important point is not the specific number of characters, but rather that there should be a (reasonable) maximum line width, and we should manually break the lines when we go over this limit.\n",
    "\n",
    "\n",
    "If we get lines that become longer than 79 characters, we need to break the line over several lines, the best way to do this is parentheses, as expressions inside parentheses can be split over multiple lines in Python without any other formatting needed. As it's mostly long mathematical expressions or function definitions/calls that get very long, parentheses are often already present.\n",
    "\n",
    "When splitting a mathematical expression over multiple lines, the natural thing to do is split the lines at the operators, so that different lines contain the different terms.\n",
    "\n",
    "Let us return to an example from earlier, where we split the line as follows"
   ]
  },
  {
   "cell_type": "code",
   "execution_count": 12,
   "id": "7ab6eb1c",
   "metadata": {},
   "outputs": [
    {
     "ename": "NameError",
     "evalue": "name 'gross_wages' is not defined",
     "output_type": "error",
     "traceback": [
      "\u001b[0;31m---------------------------------------------------------------------------\u001b[0m",
      "\u001b[0;31mNameError\u001b[0m                                 Traceback (most recent call last)",
      "Input \u001b[0;32mIn [12]\u001b[0m, in \u001b[0;36m<cell line: 2>\u001b[0;34m()\u001b[0m\n\u001b[1;32m      1\u001b[0m income \u001b[38;5;241m=\u001b[39m (\n\u001b[0;32m----> 2\u001b[0m     \u001b[43mgross_wages\u001b[49m\n\u001b[1;32m      3\u001b[0m     \u001b[38;5;241m+\u001b[39m taxable_interest\n\u001b[1;32m      4\u001b[0m     \u001b[38;5;241m+\u001b[39m (dividends \u001b[38;5;241m-\u001b[39m qualified_dividends)\n\u001b[1;32m      5\u001b[0m     \u001b[38;5;241m-\u001b[39m ira_deduction\n\u001b[1;32m      6\u001b[0m     \u001b[38;5;241m-\u001b[39m student_loan_interest\n\u001b[1;32m      7\u001b[0m )\n",
      "\u001b[0;31mNameError\u001b[0m: name 'gross_wages' is not defined"
     ]
    }
   ],
   "source": [
    "income = (\n",
    "    gross_wages\n",
    "    + taxable_interest\n",
    "    + (dividends - qualified_dividends)\n",
    "    - ira_deduction\n",
    "    - student_loan_interest\n",
    ")"
   ]
  },
  {
   "cell_type": "markdown",
   "id": "79913d3e",
   "metadata": {},
   "source": [
    "Note that we split the expression cleanly between two terms, also place the operator for the next term on the following line. This is easier to illustrate if we split it up further so we have one term per line as follows:\n",
    "\n",
    "**Yes**-This code is structured, and it is easy to match operator and operand\n",
    "```Python\n",
    "income = (gross_wages\n",
    "          + taxable_interest\n",
    "          + (dividends - qualified_dividends)\n",
    "          - ira_deduction\n",
    "          - student_loan_interest)\n",
    "```\n",
    "\n",
    "**No**—operators sit far away from their operands (what is added and what is subtracted?)\n",
    "```Python\n",
    "income = (gross_wages +\n",
    "          taxable_interest +\n",
    "          (dividends - qualified_dividends) -\n",
    "          ira_deduction -\n",
    "          student_loan_interest)\n",
    "```\n",
    "\n",
    "Note also in these examples that we indent the following terms so that they all line up. This is very important for readability.\n",
    "\n",
    "**No**-Continued lines start have no indent and are confused for code lines\n",
    "```Python\n",
    "income = (gross_wages\n",
    "+ taxable_interest\n",
    "+ (dividends - qualified_dividends)\n",
    "- ira_deduction\n",
    "- student_loan_interest)\n",
    "```\n",
    "\n",
    "Similarly, if we have a long function call, we should indent the arguments which we move down to the following line. Just make sure they are indented *further* than the following code line so that they are easier to distinguish!\n",
    "\n",
    "**Yes** - Args follow from function definition\n",
    "```Python\n",
    "def long_function_name(\n",
    "        long_var_one, long_var_two,\n",
    "        long_var_three, long_var_four):\n",
    "    assert long_var_one > 0\n",
    "    ...\n",
    "```\n",
    "\n",
    "**Yes** - Args are hard to distinguish from function body\n",
    "```Python\n",
    "def long_function_name(\n",
    "    long_var_one, long_var_two,\n",
    "    long_var_three, long_var_four):\n",
    "    assert long_var_one > 0\n",
    "    ...\n",
    "```\n",
    "\n",
    "## How to use comments in code\n",
    "\n",
    "Comments are a good tool that can make your code easier to understand. However, they can also be *overused*, in which case they might clutter your code more than they actually help. PEP8 gives some useful advice to how comments should and shouldn't be used.\n",
    "\n",
    "### Comments that contradict the code are worse than no comments\n",
    "\n",
    "Comments are meant to describe and explain the code they are written in. For this to be the case it is important that they are actually correct. Therefore, it is vital that you update comments if you change your code.\n",
    "\n",
    "### Comments should be complete sentences\n",
    "\n",
    "It is best for comments to be complete sentences. If a comment is a single word, they are in fact rarely needed.\n",
    "\n",
    "### Use inline comments sparingly\n",
    "\n",
    "*Inline* comments are comments that are placed on the same line as actual code, i.e., the comment appears at the end of the line. Such comments often add clutter, and are rarely needed. One case they can be useful is to state physical units when working in science, but comments explaining code is usually better to place on its own separate line.\n",
    "\n",
    "Also, a comment should not state the obvious, or explain *what* the code is doing. The code itself is already explaining what it is doing, and you can assume your reader knows enough Python to understand that. Instead, a comment should explain *why* you are doing something. For example\n",
    "\n",
    "Don't do this"
   ]
  },
  {
   "cell_type": "code",
   "execution_count": 13,
   "id": "f391c3fd",
   "metadata": {},
   "outputs": [
    {
     "ename": "NameError",
     "evalue": "name 'width' is not defined",
     "output_type": "error",
     "traceback": [
      "\u001b[0;31m---------------------------------------------------------------------------\u001b[0m",
      "\u001b[0;31mNameError\u001b[0m                                 Traceback (most recent call last)",
      "Input \u001b[0;32mIn [13]\u001b[0m, in \u001b[0;36m<cell line: 2>\u001b[0;34m()\u001b[0m\n\u001b[1;32m      1\u001b[0m \u001b[38;5;66;03m# Increment width\u001b[39;00m\n\u001b[0;32m----> 2\u001b[0m width \u001b[38;5;241m=\u001b[39m \u001b[43mwidth\u001b[49m \u001b[38;5;241m+\u001b[39m \u001b[38;5;241m1\u001b[39m\n",
      "\u001b[0;31mNameError\u001b[0m: name 'width' is not defined"
     ]
    }
   ],
   "source": [
    "# Increment width\n",
    "width = width + 1"
   ]
  },
  {
   "cell_type": "markdown",
   "id": "4a1fa0dc",
   "metadata": {},
   "source": [
    "But this could be useful"
   ]
  },
  {
   "cell_type": "code",
   "execution_count": 14,
   "id": "8e168b87",
   "metadata": {},
   "outputs": [
    {
     "ename": "NameError",
     "evalue": "name 'width' is not defined",
     "output_type": "error",
     "traceback": [
      "\u001b[0;31m---------------------------------------------------------------------------\u001b[0m",
      "\u001b[0;31mNameError\u001b[0m                                 Traceback (most recent call last)",
      "Input \u001b[0;32mIn [14]\u001b[0m, in \u001b[0;36m<cell line: 2>\u001b[0;34m()\u001b[0m\n\u001b[1;32m      1\u001b[0m \u001b[38;5;66;03m# Compensate for border\u001b[39;00m\n\u001b[0;32m----> 2\u001b[0m width \u001b[38;5;241m=\u001b[39m \u001b[43mwidth\u001b[49m \u001b[38;5;241m+\u001b[39m \u001b[38;5;241m1\u001b[39m\n",
      "\u001b[0;31mNameError\u001b[0m: name 'width' is not defined"
     ]
    }
   ],
   "source": [
    "# Compensate for border\n",
    "width = width + 1"
   ]
  },
  {
   "cell_type": "markdown",
   "id": "b93a5549",
   "metadata": {},
   "source": [
    "As a general comment, if you feel you need to write many comments to explain what your code is doing, it might often be better to simply structure your code differently to make it more easier to understand in the first place. Or as explained by Martin Fowler:\n",
    "\n",
    "> “When you feel the need to write a comment, first try to refactor the code so that any comment becomes superfluous” - Martin Fowler\n",
    "\n",
    "*Refactoring* code is the activity of changing it without changing its function. So for example changing variable names, moving code into functions or classes, etc.\n",
    "\n",
    "\n",
    "## Some if-test conventions\n",
    "\n",
    "PEP8 also has some recommendations for making easy to understand `if`-tests.\n",
    "\n",
    "When checking if a variable is or is not `None` (as is very common to do with keyword arguments), do so explicitly with `is`:\n",
    "\n",
    "* Yes: `if foo is None:`\n",
    "* Yes: `if foo is not None:`\n",
    "\n",
    "* No: `if foo == None:`\n",
    "* No: `if foo != None:`\n",
    "* No: `if not foo is None:`\n",
    "\n",
    "Note also that checking if something is `None` is more strict than checking true/false. The following prints only if `foo`is *exactly* `None`:"
   ]
  },
  {
   "cell_type": "code",
   "execution_count": 15,
   "id": "c831e4ff",
   "metadata": {},
   "outputs": [
    {
     "ename": "NameError",
     "evalue": "name 'foo' is not defined",
     "output_type": "error",
     "traceback": [
      "\u001b[0;31m---------------------------------------------------------------------------\u001b[0m",
      "\u001b[0;31mNameError\u001b[0m                                 Traceback (most recent call last)",
      "Input \u001b[0;32mIn [15]\u001b[0m, in \u001b[0;36m<cell line: 1>\u001b[0;34m()\u001b[0m\n\u001b[0;32m----> 1\u001b[0m \u001b[38;5;28;01mif\u001b[39;00m \u001b[43mfoo\u001b[49m \u001b[38;5;129;01mis\u001b[39;00m \u001b[38;5;129;01mnot\u001b[39;00m \u001b[38;5;28;01mNone\u001b[39;00m:\n\u001b[1;32m      2\u001b[0m     \u001b[38;5;28mprint\u001b[39m(\u001b[38;5;124m\"\u001b[39m\u001b[38;5;124m***\u001b[39m\u001b[38;5;124m\"\u001b[39m)\n",
      "\u001b[0;31mNameError\u001b[0m: name 'foo' is not defined"
     ]
    }
   ],
   "source": [
    "if foo is not None:\n",
    "    print(\"***\")"
   ]
  },
  {
   "cell_type": "markdown",
   "id": "c532228a",
   "metadata": {},
   "source": [
    "The following test however, prints if `foo` is `None`, `False`, 0, `[]`, `''`, etc.:"
   ]
  },
  {
   "cell_type": "code",
   "execution_count": 16,
   "id": "9994f5ed",
   "metadata": {},
   "outputs": [
    {
     "ename": "NameError",
     "evalue": "name 'foo' is not defined",
     "output_type": "error",
     "traceback": [
      "\u001b[0;31m---------------------------------------------------------------------------\u001b[0m",
      "\u001b[0;31mNameError\u001b[0m                                 Traceback (most recent call last)",
      "Input \u001b[0;32mIn [16]\u001b[0m, in \u001b[0;36m<cell line: 1>\u001b[0;34m()\u001b[0m\n\u001b[0;32m----> 1\u001b[0m \u001b[38;5;28;01mif\u001b[39;00m \u001b[43mfoo\u001b[49m:\n\u001b[1;32m      2\u001b[0m     \u001b[38;5;28mprint\u001b[39m(\u001b[38;5;124m\"\u001b[39m\u001b[38;5;124m***\u001b[39m\u001b[38;5;124m\"\u001b[39m)\n",
      "\u001b[0;31mNameError\u001b[0m: name 'foo' is not defined"
     ]
    }
   ],
   "source": [
    "if foo:\n",
    "    print(\"***\")"
   ]
  },
  {
   "cell_type": "markdown",
   "id": "50ca119e",
   "metadata": {},
   "source": [
    "If you want to compare two variables using `is`, then these two tests are equivalent\n",
    "\n",
    "* `if a is not b:`\n",
    "* `if not a is b:`\n",
    "\n",
    "Both of these work, but the first is much easier to read and understand, is therefore understandable.\n",
    "\n",
    "If you are checking a boolean variable, don't compare it directly to `True` or `False`:\n",
    "\n",
    "* Yes: `if is_prime(n):`\n",
    "* No: `if is_prime(n) == True:`\n",
    "* No: `if is_prime(n) is True:`\n",
    "\n",
    "\n",
    "## Final rule: Avoid Foolish Consistency\n",
    "\n",
    "As a final note on PEP8, it actually starts of by stating:\n",
    "> A Foolish Consistency is the Hobgoblin of Little Minds\n",
    "\n",
    "The goal of a style guide is to improve readability and consistency, but there will always be times were one should break with the rules. This is especially the case when strict adherence to the rule would *limit* readability.\n",
    "\n",
    "In the end, good code is much more than good style. There is a great talk by Raymond Hettinger from PyCon2015 that goes into this:\n",
    "\n",
    "* *[Beyond PEP 8 -- Best practices for beautiful intelligible code](https://youtu.be/wf-BqAjZb8M)*\n",
    "\n",
    "This talk is well worth a watch to understand how to think about writing good and elegant Python code, and points out how focusing too much on code style might make you get lost in unimportant details rather than focus on how to actually design your code in a better way.\n",
    "\n",
    "\n",
    "## Auto-formatting tools and *linters*\n",
    "\n",
    "We have now talked a lot about code style, and as you can see there are many details to consider, and in many cases it might be hard to remember all these little details, especially when working on challenging problems where your focus is on other things!\n",
    "\n",
    "Here software developers often rely on tools called [*linters*](https://en.wikipedia.org/wiki/Lint_(software)). Such tools can automatically look over your source code and find errors in errors, code that looks weird or inefficient or double check that you are sticking to your desired code style.\n",
    "\n",
    "Some linters will simply tell you if code is breaking your desired style, while others are made to *auto-format* your code for you. Some examples of such tools for Python are\n",
    "* [black](https://github.com/python/black)\n",
    "* [flake8](http://flake8.pycqa.org/en/latest/)\n",
    "* [autopep8](https://github.com/hhatto/autopep8)\n",
    "* [pylama](https://github.com/klen/pylama)\n",
    "\n",
    "Take for example *Black*. This is an auto-formatting code tool which you can run on any Python-script, and it will change the code to follow a consistent code style. Black doesn't follow the PEP8 style guide, but its own defined guide (which does resemble PEP8 quite closely).\n",
    "\n",
    "Black can be run through the command line on a given file, e.g.,\n",
    "```\n",
    "~$ black vector.py\n",
    "reformatted vector.py\n",
    "All done! ✨ 🍰 ✨\n",
    "1 file reformatted.\n",
    "```\n",
    "\n",
    "But if you want to use a tool like Black, it is more common to configure your chosen code editor so that it is run automatically for you when you save your file for example. Another option is to configure `git` so that it is run automatically every time you commit your code. In some larger teams, auto-formatters in `git` might be a very nice tool, as it ensures everyone commits code into the project code-base with the same, consistent code style.\n",
    "\n",
    "\n",
    "## The Zen of Python\n",
    "\n",
    "Another PEP that might be useful to know about, in addition to PEP8 (which is the code style), is PEP20, also known as the \"Zen of Python\". This is simply a collection of 19 simple \"rules\" or principles one typically want to follow to write good Python code. You can print the Zen of Python in its entirety by writing `import this`."
   ]
  },
  {
   "cell_type": "code",
   "execution_count": 17,
   "id": "f9e77b01",
   "metadata": {},
   "outputs": [
    {
     "name": "stdout",
     "output_type": "stream",
     "text": [
      "The Zen of Python, by Tim Peters\n",
      "\n",
      "Beautiful is better than ugly.\n",
      "Explicit is better than implicit.\n",
      "Simple is better than complex.\n",
      "Complex is better than complicated.\n",
      "Flat is better than nested.\n",
      "Sparse is better than dense.\n",
      "Readability counts.\n",
      "Special cases aren't special enough to break the rules.\n",
      "Although practicality beats purity.\n",
      "Errors should never pass silently.\n",
      "Unless explicitly silenced.\n",
      "In the face of ambiguity, refuse the temptation to guess.\n",
      "There should be one-- and preferably only one --obvious way to do it.\n",
      "Although that way may not be obvious at first unless you're Dutch.\n",
      "Now is better than never.\n",
      "Although never is often better than *right* now.\n",
      "If the implementation is hard to explain, it's a bad idea.\n",
      "If the implementation is easy to explain, it may be a good idea.\n",
      "Namespaces are one honking great idea -- let's do more of those!\n"
     ]
    }
   ],
   "source": [
    "import this"
   ]
  },
  {
   "cell_type": "markdown",
   "id": "70a1a985",
   "metadata": {},
   "source": [
    "# Documentation\n",
    "\n",
    "Software documentation is a guide that describe how a piece of software is structured, how it works, and how to use and maintain it. Good documentation helps people understand a piece of software, and well documented code can therefore easily be picked up by others for use or extending it. Poorly documented code however, is often usable only by its author, and it is hard for others to help develop, maintain or use it.\n",
    "\n",
    "Poorly documented code is sadly quite common in the scientific field, and its a problem when many people who write and develop software are only in temporary positions. Code developed by master students, PhD's or post-docs will often be used or further developed long after that scientists leaves the group, and so should be well documented. Imagine starting in a lab and being given software consisting of many thousands of lines of code. The person who wrote it is gone, there is no documentation, and you have to figure out how to implement some new feature your advisor. This will lead to frustration and inefficient software development.\n",
    "\n",
    "\n",
    "\n",
    "## Document Design and Purpose, not mechanics\n",
    "\n",
    "In a perfect world, we would have time to develop extensive and perfect documentation of all software projects. However, in the real world, there is often not much time to devote to documentation. It is therefore important to spend your documentation time effectively, focus on the parts somebody *needs* to understand, namely the design and purpose of the code, as well as its inputs, outputs and adjustable parameters.\n",
    "\n",
    "Also remember that people can always read the source code itself. So the documentation doesn't need to cover what is actually happening in the code down to the smallest detail. What they need is the big-picture view of the project, some tips on how the code is used and helpful pointers on what assumptions or restrictions the code might have.\n",
    "\n",
    "## Have a good README file\n",
    "\n",
    "The first tip we have for good documentation, is to have a proper README file in your projects code file. If you are using `git` for example, having a `README.md` file in your git repository will fulfill several important roles\n",
    "\n",
    "* Anyone you share the code with should start by reading your README and get an overview of your code\n",
    "* Your README can contain information about requirements of the code, how it is installed or run and how to interpret or use the results\n",
    "* Having a `README.md` file in your repo will also automatically create a nice landing page if you have you repo on GitHub. This means it is easy to set up a nice web page to share your code with others if you need to do so.\n",
    "\n",
    "A good starting point for writing a README file i <https://readme.so/editor>. This page provides a template README file with several suggested sections.\n",
    "\n",
    "## Embed documentation within the software itself\n",
    "\n",
    "When we think of documentation, it might be common to think of a separate user manual, text document or a website explaining the code, such as the README-file just mentioned. However, developing the documentation separate from the code itself is not generally recommended. For one thing, when someone updates the code, it is important the documentation is updated as well. It is more likely that this happens if the two are contained in the same piece of software. This way, we are also guaranteed somebody that gets the code gets the documentation. Because of these points, it is generally better to embed the documentation of the code directly into that code. This might sound a bit weird, but in Python there is a standard way to do this, which we will cover now.\n",
    "\n",
    "\n",
    "## Documentation Strings\n",
    "\n",
    "In Python, the most important thing to have good documentation is to write good *docstrings*. Docstrings are string literals you put as the first thing in modules or function definitions. For example:"
   ]
  },
  {
   "cell_type": "code",
   "execution_count": 18,
   "id": "7f9b024b",
   "metadata": {},
   "outputs": [],
   "source": [
    "def factor(n):\n",
    "    \"\"\"Return the prime factorization of an integer.\"\"\"\n",
    "    if n == 1:\n",
    "        return [1]\n",
    "\n",
    "    factors = []\n",
    "    while n > 1:\n",
    "        for i in range(2, n + 1):\n",
    "            if n % i == 0:\n",
    "                factors.append(i)\n",
    "                n = int(n / i)\n",
    "    return factors"
   ]
  },
  {
   "cell_type": "markdown",
   "id": "62a2182b",
   "metadata": {},
   "source": [
    "In this example code, the second line is the *docstring* of the function. It sort of acts like a comment, but note that it is not a comment line, as we do not use the comment symbol (`#`). It is instead a *string* which is written directly into the code (not saved to a variable). Docstrings are always placed where they are relevant, in this case immediately after a function (or method) definition. They are also common to put in the top of a module. When placed like this, they give the reader a good understanding of what the purpose is of a given module, class, function or method.\n",
    "\n",
    "\n",
    "As mentioned. Docstrings are *not* comments, but strings. They do fulfill the same role as a comment, but they will also be automatically stored as a special attribute on the object called `__doc__`. For example:"
   ]
  },
  {
   "cell_type": "code",
   "execution_count": 19,
   "id": "6e5cc092",
   "metadata": {},
   "outputs": [
    {
     "name": "stdout",
     "output_type": "stream",
     "text": [
      "Return the prime factorization of an integer.\n"
     ]
    }
   ],
   "source": [
    "print(factor.__doc__)"
   ]
  },
  {
   "cell_type": "markdown",
   "id": "4e9e4d0e",
   "metadata": {},
   "source": [
    "Similarly, when we place a docstring at the top of a module (a file), and we then import that module as a package in Python, the string will be stored as a `__doc__` attribute:"
   ]
  },
  {
   "cell_type": "code",
   "execution_count": 20,
   "id": "e0c0e9f1",
   "metadata": {},
   "outputs": [
    {
     "ename": "ModuleNotFoundError",
     "evalue": "No module named 'vector'",
     "output_type": "error",
     "traceback": [
      "\u001b[0;31m---------------------------------------------------------------------------\u001b[0m",
      "\u001b[0;31mModuleNotFoundError\u001b[0m                       Traceback (most recent call last)",
      "Input \u001b[0;32mIn [20]\u001b[0m, in \u001b[0;36m<cell line: 1>\u001b[0;34m()\u001b[0m\n\u001b[0;32m----> 1\u001b[0m \u001b[38;5;28;01mimport\u001b[39;00m \u001b[38;5;21;01mvector\u001b[39;00m\n\u001b[1;32m      2\u001b[0m \u001b[38;5;28mprint\u001b[39m(vector\u001b[38;5;241m.\u001b[39m\u001b[38;5;18m__doc__\u001b[39m)\n",
      "\u001b[0;31mModuleNotFoundError\u001b[0m: No module named 'vector'"
     ]
    }
   ],
   "source": [
    "import vector\n",
    "print(vector.__doc__)"
   ]
  },
  {
   "cell_type": "markdown",
   "id": "5ad5e9cc",
   "metadata": {},
   "source": [
    "The fact that docstrings can be accessed directly as attributes means it is very easy for editors and other tools to use *code introspection* to give us more information. For example in an iPython shell, we can use `help()` or write `??` immediately behind a function or class method to read that methods docstring. Similarly, in Jupyter you can also call `help`, or press `Shift+Tab` to read the docstring of the variable your cursor is located."
   ]
  },
  {
   "cell_type": "code",
   "execution_count": 21,
   "id": "dfa03926",
   "metadata": {},
   "outputs": [
    {
     "ename": "NameError",
     "evalue": "name 'vector' is not defined",
     "output_type": "error",
     "traceback": [
      "\u001b[0;31m---------------------------------------------------------------------------\u001b[0m",
      "\u001b[0;31mNameError\u001b[0m                                 Traceback (most recent call last)",
      "Input \u001b[0;32mIn [21]\u001b[0m, in \u001b[0;36m<cell line: 1>\u001b[0;34m()\u001b[0m\n\u001b[0;32m----> 1\u001b[0m u \u001b[38;5;241m=\u001b[39m \u001b[43mvector\u001b[49m\u001b[38;5;241m.\u001b[39mVector3D(\u001b[38;5;241m0\u001b[39m, \u001b[38;5;241m4\u001b[39m, \u001b[38;5;241m4\u001b[39m)\n\u001b[1;32m      3\u001b[0m help(u\u001b[38;5;241m.\u001b[39munit)\n",
      "\u001b[0;31mNameError\u001b[0m: name 'vector' is not defined"
     ]
    }
   ],
   "source": [
    "u = vector.Vector3D(0, 4, 4)\n",
    "\n",
    "help(u.unit)"
   ]
  },
  {
   "cell_type": "markdown",
   "id": "58680b80",
   "metadata": {},
   "source": [
    "In the same way that there is a `help` function that can be used to access the docstrings of code, there are tools that go through entire codes and compile automatic documentation. We will get back to this at the end of the lecture. For now, let us focus how these docstrings should be written.\n",
    "\n",
    "\n",
    "### Writing good docstrings\n",
    "\n",
    "There is a segment in [PEP8](https://www.python.org/dev/peps/pep-0008/) on docstrings, but there is an even more important PEP here:\n",
    "* [PEP257—Docstring Conventions](https://www.python.org/dev/peps/pep-0257/)\n",
    "\n",
    "This PEP is very short, and it will take you a few minutes to read. In your project work, we expect you to try to follow PEP8 and PEP257.\n",
    "\n",
    "We now go through and show some of the important points of good docstring conventions.\n",
    "\n",
    "\n",
    "#### Docstring Conventions\n",
    "\n",
    "Always use triple double quotes (`\"\"\"This is an example.\"\"\"`) to define your docstrings, even if they are single lines. This is both to give them a consistent style in your code, but also to make it easy to extend them to multiple lines later.\n",
    "\n",
    "Docstrings should always be full sentences, starting with a capital letter and ending with a period. For simple functions or obvious cases, docstrings can be kept short and put on a single line.\n",
    "```Python\n",
    "def is_prime(n):\n",
    "    \"\"\"Check if an integer is a prime number.\"\"\"\n",
    "```\n",
    "We put everything on single line, even the quotes. Don't leave blank lines above or below docstrings, they aren't needed. Also note that the docstring should prescribe the function or method's effect as a command (\"Do this\", \"Calculate the gradient\", \"Return the ...\"). Not as a description; e.g. don't write \"Returns the pathname\", \"Computes the derivative...\", and so on.\n",
    "\n",
    "For simpler functions or methods, a single line docstring is great. For more complicated cases, we might want to write a longer docstring. As the string literal is already marked in triple quotes, you can easily split the string over multiple lines. Here, the convention is that you should still have the single sentence describing the function at the top - after this you put a blank line, then you can have a more extensive description spanning multiple lines. This longer comment can describe more in detail how the function works, and you can also write in what arguments and optional arguments the function takes.\n",
    "\n",
    "Here is an example taken and considerably simplified from `numpy.gradient`\n",
    "```Python\n",
    "def gradient(f):\n",
    "    \"\"\"Return the gradient of an N-dimensional array.\n",
    "\n",
    "    The gradient is computed using second order accurate central differences\n",
    "    in the interior points and either first or second order accurate one-sides\n",
    "    (forward or backwards) differences at the boundaries.\n",
    "    The returned gradient hence has the same shape as the input array.\n",
    "    \"\"\"\n",
    "```\n",
    "Note that if the docstring spans multiple lines, we put the opening quotes on the same line as the summarizing sentence, but the ending quotes are put on a separate line.\n",
    "\n",
    "Useful information for a docstring to contain\n",
    "* summarize behavior of a function or method\n",
    "* what argument it takes\n",
    "* what output(s) it returns\n",
    "* side effects\n",
    "* what exceptions might be raised\n",
    "* any restrictions on when it can be called\n",
    "* optional keyword arguments should be indicated and explained\n",
    "\n",
    "Just like for code style, there exists different *docstring styles*, you can find some examples [here](https://sphinxcontrib-napoleon.readthedocs.io/en/latest/). Personally I like the [Numpy style](https://numpydoc.readthedocs.io/en/latest/format.html), but there are also many other good ones. In IN1910 we don't expect you to follow a specific style like this to the letter, but reading [PEP257](https://www.python.org/dev/peps/pep-0257/) is a very good idea.\n",
    "\n",
    "\n",
    "## Building automatic stand-alone documentation through code introspection\n",
    "\n",
    "One very nice detail about defining good docstrings is that there are plenty of tools that will parse complete codebases and compile the docstrings into nice-looking, indexable and searchable documentation in the form of a PDF, a website or similar.\n",
    "\n",
    "One of the most popular tools for doing this in Python is [Sphinx](http://www.sphinx-doc.org/en/master/), which was originally made to be used on Python's own documentation, and is thus used by all packages in the standard library and the scipy stack. So if you are looking up documentation of `numpy`, `matplotlib` or `scipy`, you are actually reading automatically compiled documentation based on the actual source code of these packages. In C++ there is an alternative tool that is possible to do the same as Sphinx, called Doxygen.\n",
    "\n",
    "Setting up [Sphinx](http://www.sphinx-doc.org/en/master/) takes a little work, and makes the most sense for larger projects, so we do not expect you to do this in IN1910, but it can be a very nice little project to test out for yourself.\n",
    "\n",
    "To get an understanding of how powerful such automatic documentation is, take a look at the numpy reference pages, for example the reference for [numpy.gradient](https://docs.scipy.org/doc/numpy/reference/generated/numpy.gradient.html). This is an example of good reference documentation. It shows what the function does, lists what inputs and optional inputs it takes, lists references and shows example. All of this documentation is automatically generated by Sphinx based on the the function's docstring, you can check this yourself by clicking the \"Source\" button in the top right, which gives you the source code of `numpy.gradient` where you can see directly the docstring. Note that in this case, the documentation is very extensive, because `numpy` is a standard library that is very well documented. When you make docstrings, they rarely have to be this extensive.\n",
    "\n",
    "As with other tools, we can also integrate Sphinx with our Git repository. One example of this is the website [readthedocs.org](https://readthedocs.org/). You can create a user on this site, and set up so that it automatically pulls from your Git repository every time you make changes, and readthedocs then re-compiles the autogenerated documentation through Sphinx and hosts it. This way anyone who wants to use the code you share through git can find up-to-date documentation in a searchable, indexable manner. But you don't have to do anything other than write good docstrings to update this documentation."
   ]
  }
 ],
 "metadata": {
  "jupytext": {
   "formats": "md:myst",
   "text_representation": {
    "extension": ".md",
    "format_name": "myst"
   }
  },
  "kernelspec": {
   "display_name": "Python 3",
   "language": "python",
   "name": "python3"
  },
  "language_info": {
   "codemirror_mode": {
    "name": "ipython",
    "version": 3
   },
   "file_extension": ".py",
   "mimetype": "text/x-python",
   "name": "python",
   "nbconvert_exporter": "python",
   "pygments_lexer": "ipython3",
   "version": "3.10.4"
  },
  "source_map": [
   11,
   76,
   85,
   101,
   109,
   115,
   123,
   125,
   131,
   145,
   154,
   163,
   165,
   167,
   171,
   173,
   175,
   196,
   198,
   268,
   271,
   273,
   276,
   306,
   314,
   386,
   389,
   393,
   396,
   419,
   422,
   424,
   427,
   486,
   488,
   523,
   536,
   543,
   545,
   549,
   552,
   556,
   560
  ]
 },
 "nbformat": 4,
 "nbformat_minor": 5
}