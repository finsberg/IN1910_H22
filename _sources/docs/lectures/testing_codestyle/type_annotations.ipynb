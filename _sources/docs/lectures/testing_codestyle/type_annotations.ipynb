{
 "cells": [
  {
   "cell_type": "markdown",
   "id": "2958311e",
   "metadata": {},
   "source": [
    "# Type annotations\n",
    "\n",
    "\n",
    "## Dynamic vs static typing\n",
    "\n",
    "In python everything has is an object, however you probably have at this point a clear model of some of the types in python, e.g integers, floats, strings, lists, dictionaries and so on. In python you can check the type of a variable by use the `type` function"
   ]
  },
  {
   "cell_type": "code",
   "execution_count": 1,
   "id": "f7607257",
   "metadata": {},
   "outputs": [
    {
     "name": "stdout",
     "output_type": "stream",
     "text": [
      "type(x) = <class 'int'>\n",
      "type(y) = <class 'str'>\n"
     ]
    }
   ],
   "source": [
    "x = 42\n",
    "y = \"42\"\n",
    "print(f\"{type(x) = }\")\n",
    "print(f\"{type(y) = }\")"
   ]
  },
  {
   "cell_type": "markdown",
   "id": "4c4cffeb",
   "metadata": {},
   "source": [
    "You can also check that if a instance is of a certain type using `isinstance`"
   ]
  },
  {
   "cell_type": "code",
   "execution_count": 2,
   "id": "d3deab05",
   "metadata": {},
   "outputs": [
    {
     "name": "stdout",
     "output_type": "stream",
     "text": [
      "isinstance(x, int) = True\n",
      "isinstance(x, str) = False\n"
     ]
    }
   ],
   "source": [
    "print(f\"{isinstance(x, int) = }\")\n",
    "print(f\"{isinstance(x, str) = }\")"
   ]
  },
  {
   "cell_type": "markdown",
   "id": "2f76f952",
   "metadata": {},
   "source": [
    "You can also check for several types by passing in a tuple of types as the second argument ot `isinstance`. The return value will be true if any of the types matches"
   ]
  },
  {
   "cell_type": "code",
   "execution_count": 3,
   "id": "30f01326",
   "metadata": {},
   "outputs": [
    {
     "name": "stdout",
     "output_type": "stream",
     "text": [
      "isinstance(x, (str, int)) = True\n"
     ]
    }
   ],
   "source": [
    "print(f\"{isinstance(x, (str, int)) = }\")"
   ]
  },
  {
   "cell_type": "markdown",
   "id": "1d7e651e",
   "metadata": {},
   "source": [
    "This information about the types are known when the program runs, i.e at runtime. In many other programming languages, such as C++, we need to know this information before the program run, i.e at compile time. Such languages typically use a compiler to translate the source code (i.e the code you write) into machine instructions which is stored in some binary file that you can run. Languages where you need to specify the type before the program runs are called statically typed languages. Static here refers to that once you have declared a variable to have a certain type then it is in general not allowed to change the type. In python, on the other hand there is nothing preventing you from doing this. For example the following code runs without problem"
   ]
  },
  {
   "cell_type": "code",
   "execution_count": 4,
   "id": "364de31b",
   "metadata": {},
   "outputs": [],
   "source": [
    "x = \"Hello\"\n",
    "x = 42\n",
    "x += 1"
   ]
  },
  {
   "cell_type": "markdown",
   "id": "beba5fc0",
   "metadata": {},
   "source": [
    "Python is what is called a dynamically typed language, meaning that the variables can change type during a programs lifetime\n",
    "\n",
    "## Introducing type annotations\n",
    "In [PEP484](https://peps.python.org/pep-0484/) type hits were introduced to the python language (starting at python version 3.5) allowing developers to add type information to python code. Here is one example\n",
    "\n",
    "```\n",
    "pi: float = 3.142\n",
    "\n",
    "def circumference(radius: float) -> float:\n",
    "    return 2 * pi * radius\n",
    "```\n",
    "\n",
    "\n",
    "## Why do we want types?\n",
    "\n",
    "\n",
    "## Static type checking with `mypy`"
   ]
  }
 ],
 "metadata": {
  "jupytext": {
   "formats": "md:myst",
   "text_representation": {
    "extension": ".md",
    "format_name": "myst"
   }
  },
  "kernelspec": {
   "display_name": "Python 3",
   "language": "python",
   "name": "python3"
  },
  "language_info": {
   "codemirror_mode": {
    "name": "ipython",
    "version": 3
   },
   "file_extension": ".py",
   "mimetype": "text/x-python",
   "name": "python",
   "nbconvert_exporter": "python",
   "pygments_lexer": "ipython3",
   "version": "3.10.4"
  },
  "source_map": [
   11,
   19,
   24,
   26,
   29,
   31,
   33,
   35,
   39
  ]
 },
 "nbformat": 4,
 "nbformat_minor": 5
}